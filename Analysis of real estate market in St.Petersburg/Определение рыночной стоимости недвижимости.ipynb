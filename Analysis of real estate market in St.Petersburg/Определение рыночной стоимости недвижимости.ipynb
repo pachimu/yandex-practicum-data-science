{
 "cells": [
  {
   "cell_type": "markdown",
   "metadata": {},
   "source": [
    "# Исследование объявлений о продаже квартир\n",
    "\n",
    "В вашем распоряжении данные сервиса Яндекс.Недвижимость — архив объявлений о продаже квартир в Санкт-Петербурге и соседних населённых пунктов за несколько лет. Нужно научиться определять рыночную стоимость объектов недвижимости. Ваша задача — установить параметры. Это позволит построить автоматизированную систему: она отследит аномалии и мошенническую деятельность. \n",
    "\n",
    "По каждой квартире на продажу доступны два вида данных. Первые вписаны пользователем, вторые — получены автоматически на основе картографических данных. Например, расстояние до центра, аэропорта, ближайшего парка и водоёма. "
   ]
  },
  {
   "cell_type": "code",
   "execution_count": 150,
   "metadata": {},
   "outputs": [],
   "source": [
    "import seaborn as sb #для графика с линией линейной регрессией\n",
    "import numpy as np \n",
    "import matplotlib.pyplot as plt #для функции show\n",
    "import matplotlib.dates as mdates\n",
    "from scipy import stats #чтобы подсчитать p-value корреляций Пирсона"
   ]
  },
  {
   "cell_type": "markdown",
   "metadata": {},
   "source": [
    "## Откройте файл с данными и изучите общую информацию. "
   ]
  },
  {
   "cell_type": "code",
   "execution_count": 15,
   "metadata": {},
   "outputs": [],
   "source": [
    "import pandas as pd\n",
    "\n",
    "try:\n",
    "    data = pd.read_csv('/datasets/real_estate_data.csv', sep = '\\t')"
   ]
  },
  {
   "cell_type": "code",
   "execution_count": 16,
   "metadata": {},
   "outputs": [
    {
     "data": {
      "text/html": [
       "<div>\n",
       "<style scoped>\n",
       "    .dataframe tbody tr th:only-of-type {\n",
       "        vertical-align: middle;\n",
       "    }\n",
       "\n",
       "    .dataframe tbody tr th {\n",
       "        vertical-align: top;\n",
       "    }\n",
       "\n",
       "    .dataframe thead th {\n",
       "        text-align: right;\n",
       "    }\n",
       "</style>\n",
       "<table border=\"1\" class=\"dataframe\">\n",
       "  <thead>\n",
       "    <tr style=\"text-align: right;\">\n",
       "      <th></th>\n",
       "      <th>total_images</th>\n",
       "      <th>last_price</th>\n",
       "      <th>total_area</th>\n",
       "      <th>first_day_exposition</th>\n",
       "      <th>rooms</th>\n",
       "      <th>ceiling_height</th>\n",
       "      <th>floors_total</th>\n",
       "      <th>living_area</th>\n",
       "      <th>floor</th>\n",
       "      <th>is_apartment</th>\n",
       "      <th>...</th>\n",
       "      <th>kitchen_area</th>\n",
       "      <th>balcony</th>\n",
       "      <th>locality_name</th>\n",
       "      <th>airports_nearest</th>\n",
       "      <th>cityCenters_nearest</th>\n",
       "      <th>parks_around3000</th>\n",
       "      <th>parks_nearest</th>\n",
       "      <th>ponds_around3000</th>\n",
       "      <th>ponds_nearest</th>\n",
       "      <th>days_exposition</th>\n",
       "    </tr>\n",
       "  </thead>\n",
       "  <tbody>\n",
       "    <tr>\n",
       "      <th>0</th>\n",
       "      <td>20</td>\n",
       "      <td>13000000.0</td>\n",
       "      <td>108.00</td>\n",
       "      <td>2019-03-07T00:00:00</td>\n",
       "      <td>3</td>\n",
       "      <td>2.70</td>\n",
       "      <td>16.0</td>\n",
       "      <td>51.00</td>\n",
       "      <td>8</td>\n",
       "      <td>NaN</td>\n",
       "      <td>...</td>\n",
       "      <td>25.00</td>\n",
       "      <td>NaN</td>\n",
       "      <td>Санкт-Петербург</td>\n",
       "      <td>18863.0</td>\n",
       "      <td>16028.0</td>\n",
       "      <td>1.0</td>\n",
       "      <td>482.0</td>\n",
       "      <td>2.0</td>\n",
       "      <td>755.0</td>\n",
       "      <td>NaN</td>\n",
       "    </tr>\n",
       "    <tr>\n",
       "      <th>1</th>\n",
       "      <td>7</td>\n",
       "      <td>3350000.0</td>\n",
       "      <td>40.40</td>\n",
       "      <td>2018-12-04T00:00:00</td>\n",
       "      <td>1</td>\n",
       "      <td>NaN</td>\n",
       "      <td>11.0</td>\n",
       "      <td>18.60</td>\n",
       "      <td>1</td>\n",
       "      <td>NaN</td>\n",
       "      <td>...</td>\n",
       "      <td>11.00</td>\n",
       "      <td>2.0</td>\n",
       "      <td>посёлок Шушары</td>\n",
       "      <td>12817.0</td>\n",
       "      <td>18603.0</td>\n",
       "      <td>0.0</td>\n",
       "      <td>NaN</td>\n",
       "      <td>0.0</td>\n",
       "      <td>NaN</td>\n",
       "      <td>81.0</td>\n",
       "    </tr>\n",
       "    <tr>\n",
       "      <th>2</th>\n",
       "      <td>10</td>\n",
       "      <td>5196000.0</td>\n",
       "      <td>56.00</td>\n",
       "      <td>2015-08-20T00:00:00</td>\n",
       "      <td>2</td>\n",
       "      <td>NaN</td>\n",
       "      <td>5.0</td>\n",
       "      <td>34.30</td>\n",
       "      <td>4</td>\n",
       "      <td>NaN</td>\n",
       "      <td>...</td>\n",
       "      <td>8.30</td>\n",
       "      <td>0.0</td>\n",
       "      <td>Санкт-Петербург</td>\n",
       "      <td>21741.0</td>\n",
       "      <td>13933.0</td>\n",
       "      <td>1.0</td>\n",
       "      <td>90.0</td>\n",
       "      <td>2.0</td>\n",
       "      <td>574.0</td>\n",
       "      <td>558.0</td>\n",
       "    </tr>\n",
       "    <tr>\n",
       "      <th>3</th>\n",
       "      <td>0</td>\n",
       "      <td>64900000.0</td>\n",
       "      <td>159.00</td>\n",
       "      <td>2015-07-24T00:00:00</td>\n",
       "      <td>3</td>\n",
       "      <td>NaN</td>\n",
       "      <td>14.0</td>\n",
       "      <td>NaN</td>\n",
       "      <td>9</td>\n",
       "      <td>NaN</td>\n",
       "      <td>...</td>\n",
       "      <td>NaN</td>\n",
       "      <td>0.0</td>\n",
       "      <td>Санкт-Петербург</td>\n",
       "      <td>28098.0</td>\n",
       "      <td>6800.0</td>\n",
       "      <td>2.0</td>\n",
       "      <td>84.0</td>\n",
       "      <td>3.0</td>\n",
       "      <td>234.0</td>\n",
       "      <td>424.0</td>\n",
       "    </tr>\n",
       "    <tr>\n",
       "      <th>4</th>\n",
       "      <td>2</td>\n",
       "      <td>10000000.0</td>\n",
       "      <td>100.00</td>\n",
       "      <td>2018-06-19T00:00:00</td>\n",
       "      <td>2</td>\n",
       "      <td>3.03</td>\n",
       "      <td>14.0</td>\n",
       "      <td>32.00</td>\n",
       "      <td>13</td>\n",
       "      <td>NaN</td>\n",
       "      <td>...</td>\n",
       "      <td>41.00</td>\n",
       "      <td>NaN</td>\n",
       "      <td>Санкт-Петербург</td>\n",
       "      <td>31856.0</td>\n",
       "      <td>8098.0</td>\n",
       "      <td>2.0</td>\n",
       "      <td>112.0</td>\n",
       "      <td>1.0</td>\n",
       "      <td>48.0</td>\n",
       "      <td>121.0</td>\n",
       "    </tr>\n",
       "    <tr>\n",
       "      <th>5</th>\n",
       "      <td>10</td>\n",
       "      <td>2890000.0</td>\n",
       "      <td>30.40</td>\n",
       "      <td>2018-09-10T00:00:00</td>\n",
       "      <td>1</td>\n",
       "      <td>NaN</td>\n",
       "      <td>12.0</td>\n",
       "      <td>14.40</td>\n",
       "      <td>5</td>\n",
       "      <td>NaN</td>\n",
       "      <td>...</td>\n",
       "      <td>9.10</td>\n",
       "      <td>NaN</td>\n",
       "      <td>городской посёлок Янино-1</td>\n",
       "      <td>NaN</td>\n",
       "      <td>NaN</td>\n",
       "      <td>NaN</td>\n",
       "      <td>NaN</td>\n",
       "      <td>NaN</td>\n",
       "      <td>NaN</td>\n",
       "      <td>55.0</td>\n",
       "    </tr>\n",
       "    <tr>\n",
       "      <th>6</th>\n",
       "      <td>6</td>\n",
       "      <td>3700000.0</td>\n",
       "      <td>37.30</td>\n",
       "      <td>2017-11-02T00:00:00</td>\n",
       "      <td>1</td>\n",
       "      <td>NaN</td>\n",
       "      <td>26.0</td>\n",
       "      <td>10.60</td>\n",
       "      <td>6</td>\n",
       "      <td>NaN</td>\n",
       "      <td>...</td>\n",
       "      <td>14.40</td>\n",
       "      <td>1.0</td>\n",
       "      <td>посёлок Парголово</td>\n",
       "      <td>52996.0</td>\n",
       "      <td>19143.0</td>\n",
       "      <td>0.0</td>\n",
       "      <td>NaN</td>\n",
       "      <td>0.0</td>\n",
       "      <td>NaN</td>\n",
       "      <td>155.0</td>\n",
       "    </tr>\n",
       "    <tr>\n",
       "      <th>7</th>\n",
       "      <td>5</td>\n",
       "      <td>7915000.0</td>\n",
       "      <td>71.60</td>\n",
       "      <td>2019-04-18T00:00:00</td>\n",
       "      <td>2</td>\n",
       "      <td>NaN</td>\n",
       "      <td>24.0</td>\n",
       "      <td>NaN</td>\n",
       "      <td>22</td>\n",
       "      <td>NaN</td>\n",
       "      <td>...</td>\n",
       "      <td>18.90</td>\n",
       "      <td>2.0</td>\n",
       "      <td>Санкт-Петербург</td>\n",
       "      <td>23982.0</td>\n",
       "      <td>11634.0</td>\n",
       "      <td>0.0</td>\n",
       "      <td>NaN</td>\n",
       "      <td>0.0</td>\n",
       "      <td>NaN</td>\n",
       "      <td>NaN</td>\n",
       "    </tr>\n",
       "    <tr>\n",
       "      <th>8</th>\n",
       "      <td>20</td>\n",
       "      <td>2900000.0</td>\n",
       "      <td>33.16</td>\n",
       "      <td>2018-05-23T00:00:00</td>\n",
       "      <td>1</td>\n",
       "      <td>NaN</td>\n",
       "      <td>27.0</td>\n",
       "      <td>15.43</td>\n",
       "      <td>26</td>\n",
       "      <td>NaN</td>\n",
       "      <td>...</td>\n",
       "      <td>8.81</td>\n",
       "      <td>NaN</td>\n",
       "      <td>посёлок Мурино</td>\n",
       "      <td>NaN</td>\n",
       "      <td>NaN</td>\n",
       "      <td>NaN</td>\n",
       "      <td>NaN</td>\n",
       "      <td>NaN</td>\n",
       "      <td>NaN</td>\n",
       "      <td>189.0</td>\n",
       "    </tr>\n",
       "    <tr>\n",
       "      <th>9</th>\n",
       "      <td>18</td>\n",
       "      <td>5400000.0</td>\n",
       "      <td>61.00</td>\n",
       "      <td>2017-02-26T00:00:00</td>\n",
       "      <td>3</td>\n",
       "      <td>2.50</td>\n",
       "      <td>9.0</td>\n",
       "      <td>43.60</td>\n",
       "      <td>7</td>\n",
       "      <td>NaN</td>\n",
       "      <td>...</td>\n",
       "      <td>6.50</td>\n",
       "      <td>2.0</td>\n",
       "      <td>Санкт-Петербург</td>\n",
       "      <td>50898.0</td>\n",
       "      <td>15008.0</td>\n",
       "      <td>0.0</td>\n",
       "      <td>NaN</td>\n",
       "      <td>0.0</td>\n",
       "      <td>NaN</td>\n",
       "      <td>289.0</td>\n",
       "    </tr>\n",
       "  </tbody>\n",
       "</table>\n",
       "<p>10 rows × 22 columns</p>\n",
       "</div>"
      ],
      "text/plain": [
       "   total_images  last_price  total_area first_day_exposition  rooms  \\\n",
       "0            20  13000000.0      108.00  2019-03-07T00:00:00      3   \n",
       "1             7   3350000.0       40.40  2018-12-04T00:00:00      1   \n",
       "2            10   5196000.0       56.00  2015-08-20T00:00:00      2   \n",
       "3             0  64900000.0      159.00  2015-07-24T00:00:00      3   \n",
       "4             2  10000000.0      100.00  2018-06-19T00:00:00      2   \n",
       "5            10   2890000.0       30.40  2018-09-10T00:00:00      1   \n",
       "6             6   3700000.0       37.30  2017-11-02T00:00:00      1   \n",
       "7             5   7915000.0       71.60  2019-04-18T00:00:00      2   \n",
       "8            20   2900000.0       33.16  2018-05-23T00:00:00      1   \n",
       "9            18   5400000.0       61.00  2017-02-26T00:00:00      3   \n",
       "\n",
       "   ceiling_height  floors_total  living_area  floor is_apartment  ...  \\\n",
       "0            2.70          16.0        51.00      8          NaN  ...   \n",
       "1             NaN          11.0        18.60      1          NaN  ...   \n",
       "2             NaN           5.0        34.30      4          NaN  ...   \n",
       "3             NaN          14.0          NaN      9          NaN  ...   \n",
       "4            3.03          14.0        32.00     13          NaN  ...   \n",
       "5             NaN          12.0        14.40      5          NaN  ...   \n",
       "6             NaN          26.0        10.60      6          NaN  ...   \n",
       "7             NaN          24.0          NaN     22          NaN  ...   \n",
       "8             NaN          27.0        15.43     26          NaN  ...   \n",
       "9            2.50           9.0        43.60      7          NaN  ...   \n",
       "\n",
       "   kitchen_area  balcony              locality_name  airports_nearest  \\\n",
       "0         25.00      NaN            Санкт-Петербург           18863.0   \n",
       "1         11.00      2.0             посёлок Шушары           12817.0   \n",
       "2          8.30      0.0            Санкт-Петербург           21741.0   \n",
       "3           NaN      0.0            Санкт-Петербург           28098.0   \n",
       "4         41.00      NaN            Санкт-Петербург           31856.0   \n",
       "5          9.10      NaN  городской посёлок Янино-1               NaN   \n",
       "6         14.40      1.0          посёлок Парголово           52996.0   \n",
       "7         18.90      2.0            Санкт-Петербург           23982.0   \n",
       "8          8.81      NaN             посёлок Мурино               NaN   \n",
       "9          6.50      2.0            Санкт-Петербург           50898.0   \n",
       "\n",
       "  cityCenters_nearest  parks_around3000  parks_nearest  ponds_around3000  \\\n",
       "0             16028.0               1.0          482.0               2.0   \n",
       "1             18603.0               0.0            NaN               0.0   \n",
       "2             13933.0               1.0           90.0               2.0   \n",
       "3              6800.0               2.0           84.0               3.0   \n",
       "4              8098.0               2.0          112.0               1.0   \n",
       "5                 NaN               NaN            NaN               NaN   \n",
       "6             19143.0               0.0            NaN               0.0   \n",
       "7             11634.0               0.0            NaN               0.0   \n",
       "8                 NaN               NaN            NaN               NaN   \n",
       "9             15008.0               0.0            NaN               0.0   \n",
       "\n",
       "   ponds_nearest  days_exposition  \n",
       "0          755.0              NaN  \n",
       "1            NaN             81.0  \n",
       "2          574.0            558.0  \n",
       "3          234.0            424.0  \n",
       "4           48.0            121.0  \n",
       "5            NaN             55.0  \n",
       "6            NaN            155.0  \n",
       "7            NaN              NaN  \n",
       "8            NaN            189.0  \n",
       "9            NaN            289.0  \n",
       "\n",
       "[10 rows x 22 columns]"
      ]
     },
     "execution_count": 16,
     "metadata": {},
     "output_type": "execute_result"
    }
   ],
   "source": [
    "data.head(10)"
   ]
  },
  {
   "cell_type": "code",
   "execution_count": 17,
   "metadata": {},
   "outputs": [
    {
     "name": "stdout",
     "output_type": "stream",
     "text": [
      "<class 'pandas.core.frame.DataFrame'>\n",
      "RangeIndex: 23699 entries, 0 to 23698\n",
      "Data columns (total 22 columns):\n",
      " #   Column                Non-Null Count  Dtype  \n",
      "---  ------                --------------  -----  \n",
      " 0   total_images          23699 non-null  int64  \n",
      " 1   last_price            23699 non-null  float64\n",
      " 2   total_area            23699 non-null  float64\n",
      " 3   first_day_exposition  23699 non-null  object \n",
      " 4   rooms                 23699 non-null  int64  \n",
      " 5   ceiling_height        14504 non-null  float64\n",
      " 6   floors_total          23613 non-null  float64\n",
      " 7   living_area           21796 non-null  float64\n",
      " 8   floor                 23699 non-null  int64  \n",
      " 9   is_apartment          2775 non-null   object \n",
      " 10  studio                23699 non-null  bool   \n",
      " 11  open_plan             23699 non-null  bool   \n",
      " 12  kitchen_area          21421 non-null  float64\n",
      " 13  balcony               12180 non-null  float64\n",
      " 14  locality_name         23650 non-null  object \n",
      " 15  airports_nearest      18157 non-null  float64\n",
      " 16  cityCenters_nearest   18180 non-null  float64\n",
      " 17  parks_around3000      18181 non-null  float64\n",
      " 18  parks_nearest         8079 non-null   float64\n",
      " 19  ponds_around3000      18181 non-null  float64\n",
      " 20  ponds_nearest         9110 non-null   float64\n",
      " 21  days_exposition       20518 non-null  float64\n",
      "dtypes: bool(2), float64(14), int64(3), object(3)\n",
      "memory usage: 3.7+ MB\n"
     ]
    }
   ],
   "source": [
    "data.info()"
   ]
  },
  {
   "cell_type": "code",
   "execution_count": 18,
   "metadata": {},
   "outputs": [
    {
     "data": {
      "text/plain": [
       "0"
      ]
     },
     "execution_count": 18,
     "metadata": {},
     "output_type": "execute_result"
    }
   ],
   "source": [
    "#Смотрим, есть ли тут дубликаты\n",
    "data.duplicated().sum()\n",
    "# Дубликатов нет!"
   ]
  },
  {
   "cell_type": "code",
   "execution_count": 19,
   "metadata": {},
   "outputs": [
    {
     "data": {
      "text/plain": [
       "array([[<AxesSubplot:title={'center':'total_images'}>,\n",
       "        <AxesSubplot:title={'center':'last_price'}>,\n",
       "        <AxesSubplot:title={'center':'total_area'}>,\n",
       "        <AxesSubplot:title={'center':'rooms'}>],\n",
       "       [<AxesSubplot:title={'center':'ceiling_height'}>,\n",
       "        <AxesSubplot:title={'center':'floors_total'}>,\n",
       "        <AxesSubplot:title={'center':'living_area'}>,\n",
       "        <AxesSubplot:title={'center':'floor'}>],\n",
       "       [<AxesSubplot:title={'center':'kitchen_area'}>,\n",
       "        <AxesSubplot:title={'center':'balcony'}>,\n",
       "        <AxesSubplot:title={'center':'airports_nearest'}>,\n",
       "        <AxesSubplot:title={'center':'cityCenters_nearest'}>],\n",
       "       [<AxesSubplot:title={'center':'parks_around3000'}>,\n",
       "        <AxesSubplot:title={'center':'parks_nearest'}>,\n",
       "        <AxesSubplot:title={'center':'ponds_around3000'}>,\n",
       "        <AxesSubplot:title={'center':'ponds_nearest'}>],\n",
       "       [<AxesSubplot:title={'center':'days_exposition'}>, <AxesSubplot:>,\n",
       "        <AxesSubplot:>, <AxesSubplot:>]], dtype=object)"
      ]
     },
     "execution_count": 19,
     "metadata": {},
     "output_type": "execute_result"
    },
    {
     "data": {
      "image/png": "[encoded data removed]",
      "text/plain": [
       "<Figure size 1080x1440 with 20 Axes>"
      ]
     },
     "metadata": {
      "needs_background": "light"
     },
     "output_type": "display_data"
    }
   ],
   "source": [
    "data.hist(figsize=(15, 20))"
   ]
  },
  {
   "cell_type": "markdown",
   "metadata": {},
   "source": [
    "1) Пропусков много, возможно, они скашивают часть распределений\n",
    "\n",
    "2) В last_price значения слишком большие, можно попробовать логарифмировать значения в этой колонке, чтобы что-то увидеть)\n",
    "\n",
    "3) Парки и пруды в радиусе 3000 принимают значения от 0 до 3\n",
    "\n",
    "4) В total_area, living_area похоже не хватает bins, чтобы что-то увидеть"
   ]
  },
  {
   "cell_type": "markdown",
   "metadata": {},
   "source": [
    "## Предобработка данных"
   ]
  },
  {
   "cell_type": "markdown",
   "metadata": {},
   "source": [
    "### ***Найдите и изучите пропущенные значения в столбцах:***\n"
   ]
  },
  {
   "cell_type": "code",
   "execution_count": 20,
   "metadata": {
    "scrolled": true
   },
   "outputs": [
    {
     "data": {
      "text/plain": [
       "total_images                0\n",
       "last_price                  0\n",
       "total_area                  0\n",
       "first_day_exposition        0\n",
       "rooms                       0\n",
       "ceiling_height           9195\n",
       "floors_total               86\n",
       "living_area              1903\n",
       "floor                       0\n",
       "is_apartment            20924\n",
       "studio                      0\n",
       "open_plan                   0\n",
       "kitchen_area             2278\n",
       "balcony                 11519\n",
       "locality_name              49\n",
       "airports_nearest         5542\n",
       "cityCenters_nearest      5519\n",
       "parks_around3000         5518\n",
       "parks_nearest           15620\n",
       "ponds_around3000         5518\n",
       "ponds_nearest           14589\n",
       "days_exposition          3181\n",
       "dtype: int64"
      ]
     },
     "execution_count": 20,
     "metadata": {},
     "output_type": "execute_result"
    }
   ],
   "source": [
    "data.isna().sum() #посмотрим, сколько у нас пропусков и где они"
   ]
  },
  {
   "cell_type": "markdown",
   "metadata": {},
   "source": [
    "Пропуски есть в столбцах:\n",
    "\n",
    "+ ceiling_height - 9195\n",
    "+ floors_total - 86\n",
    "+ living_area - 1903\n",
    "+ is_apartment - 20964\n",
    "+ kitchen_area - 2278\n",
    "+ balcony - 11519\n",
    "+ airports_nearest - 5542\n",
    "+ cityCenters_nearest - 5519\n",
    "+ parks_around3000 - 5518\n",
    "+ parks_nearest - 15620\n",
    "+ ponds_around3000 - 5518\n",
    "+ ponds_nearest - 14589\n",
    "+ days_exposition - 3181\n",
    "+ locality_name - 49"
   ]
  },
  {
   "cell_type": "code",
   "execution_count": 21,
   "metadata": {},
   "outputs": [
    {
     "data": {
      "text/plain": [
       "0.5696442887885564"
      ]
     },
     "execution_count": 21,
     "metadata": {},
     "output_type": "execute_result"
    }
   ],
   "source": [
    "((86+49)/23699)*100"
   ]
  },
  {
   "cell_type": "markdown",
   "metadata": {},
   "source": [
    "В столбцах locality_name и floors_total суммарно всего 135 пропусков, что составляет 0.5% от всех данных. Так как время на выполнение проекта ограничено, оставим эти пропуски как есть.\n",
    "\n",
    "Далее смотрим на столбец balcony. Логика в примере из задания кажется рабочей, поэтому предположим, что пропуски в этом столбце означают, что балкона в квартире нет."
   ]
  },
  {
   "cell_type": "code",
   "execution_count": 22,
   "metadata": {},
   "outputs": [
    {
     "data": {
      "text/plain": [
       "0"
      ]
     },
     "execution_count": 22,
     "metadata": {},
     "output_type": "execute_result"
    }
   ],
   "source": [
    "data.loc[data['balcony'].isna(), 'balcony'] = 0 #заменяем пропуски на 0\n",
    "data['balcony'].isna().sum() #проверяем, что пропусков не осталось"
   ]
  },
  {
   "cell_type": "markdown",
   "metadata": {},
   "source": [
    "***\n",
    "Дальше посмотрим на столбец с самым большим числом пропусков - is_apartment. Столбец указывает, является ли помещение апартаментами."
   ]
  },
  {
   "cell_type": "code",
   "execution_count": 23,
   "metadata": {},
   "outputs": [
    {
     "data": {
      "text/plain": [
       "array([nan, False, True], dtype=object)"
      ]
     },
     "execution_count": 23,
     "metadata": {},
     "output_type": "execute_result"
    }
   ],
   "source": [
    "data['is_apartment'].unique()"
   ]
  },
  {
   "cell_type": "code",
   "execution_count": 24,
   "metadata": {},
   "outputs": [
    {
     "name": "stdout",
     "output_type": "stream",
     "text": [
      "is_apartment\n",
      "False    2725\n",
      "True       50\n",
      "Name: is_apartment, dtype: int64\n"
     ]
    },
    {
     "name": "stderr",
     "output_type": "stream",
     "text": [
      "C:\\Users\\User\\anaconda3\\lib\\site-packages\\pandas\\core\\indexing.py:1667: SettingWithCopyWarning: \n",
      "A value is trying to be set on a copy of a slice from a DataFrame.\n",
      "Try using .loc[row_indexer,col_indexer] = value instead\n",
      "\n",
      "See the caveats in the documentation: https://pandas.pydata.org/pandas-docs/stable/user_guide/indexing.html#returning-a-view-versus-a-copy\n",
      "  self.obj[key] = value\n"
     ]
    },
    {
     "data": {
      "text/html": [
       "<div>\n",
       "<style scoped>\n",
       "    .dataframe tbody tr th:only-of-type {\n",
       "        vertical-align: middle;\n",
       "    }\n",
       "\n",
       "    .dataframe tbody tr th {\n",
       "        vertical-align: top;\n",
       "    }\n",
       "\n",
       "    .dataframe thead tr th {\n",
       "        text-align: left;\n",
       "    }\n",
       "\n",
       "    .dataframe thead tr:last-of-type th {\n",
       "        text-align: right;\n",
       "    }\n",
       "</style>\n",
       "<table border=\"1\" class=\"dataframe\">\n",
       "  <thead>\n",
       "    <tr>\n",
       "      <th></th>\n",
       "      <th>count</th>\n",
       "      <th>mean</th>\n",
       "      <th>median</th>\n",
       "    </tr>\n",
       "    <tr>\n",
       "      <th></th>\n",
       "      <th>price_per_m</th>\n",
       "      <th>price_per_m</th>\n",
       "      <th>price_per_m</th>\n",
       "    </tr>\n",
       "    <tr>\n",
       "      <th>is_apartment</th>\n",
       "      <th></th>\n",
       "      <th></th>\n",
       "      <th></th>\n",
       "    </tr>\n",
       "  </thead>\n",
       "  <tbody>\n",
       "    <tr>\n",
       "      <th>False</th>\n",
       "      <td>2725</td>\n",
       "      <td>98527.587107</td>\n",
       "      <td>93333.333333</td>\n",
       "    </tr>\n",
       "    <tr>\n",
       "      <th>True</th>\n",
       "      <td>50</td>\n",
       "      <td>148353.726856</td>\n",
       "      <td>113866.503298</td>\n",
       "    </tr>\n",
       "  </tbody>\n",
       "</table>\n",
       "</div>"
      ],
      "text/plain": [
       "                   count           mean         median\n",
       "             price_per_m    price_per_m    price_per_m\n",
       "is_apartment                                          \n",
       "False               2725   98527.587107   93333.333333\n",
       "True                  50  148353.726856  113866.503298"
      ]
     },
     "execution_count": 24,
     "metadata": {},
     "output_type": "execute_result"
    },
    {
     "data": {
      "image/png": "[encoded data removed]",
      "text/plain": [
       "<Figure size 432x288 with 2 Axes>"
      ]
     },
     "metadata": {
      "needs_background": "light"
     },
     "output_type": "display_data"
    }
   ],
   "source": [
    "#посмотрим, в каких объявлениях указаны значения True и False\n",
    "is_app =data[~data['is_apartment'].isna()]\n",
    "is_app.loc[:, 'price_per_m'] = is_app['last_price']/is_app['total_area'] #подсчитаем цену за м2\n",
    "is_app.hist(column = 'price_per_m', by = 'is_apartment', bins = 30) #посмотрим на распределение цен\n",
    "print(is_app.groupby('is_apartment')['is_apartment'].count())#подсчитаем, сколько вообще апартаментов\n",
    "is_app.query('is_apartment == True').head(50)#посмотрим на все апартаменты, попробуем прикинуть отличия на глаз\n",
    "is_app.pivot_table(index = 'is_apartment', values = 'price_per_m',\n",
    "                   aggfunc = ['count', 'mean', 'median'])"
   ]
  },
  {
   "cell_type": "markdown",
   "metadata": {},
   "source": [
    "**Итог по пропускам в статусе помещения апартаменты/не апартаменты:**\n",
    "Похоже, иногда пользователи просто не указывают его. Возможно, это связано с тем, что с владением апартаментами связано гораздо больше сложностей, поэтому так продавцы надеются привлечь больше потенциальных покупателей. \n",
    "\n",
    "Так как это важная характеристика помещения для покупателя, было бы полезно заполнить пропуски. Единственная характеристика, по которой можно было бы достоверно отличить апартаменты от жилых помещений - снижение цены за метр квадратный на 15-20% (согласно текущей статистике). К сожалению, в данной выборке представлено только 50 квартир с установленным статусом \"апартаменты\", поэтому подсчет средней и медианной цены показывает, что цена на апартаменты, наоборот, выше, чем на жилые квартиры. Так как в дальнейшим для анализа этот показатель использоваться не будет, оставим пока эту колонку в изначальном виде."
   ]
  },
  {
   "cell_type": "markdown",
   "metadata": {},
   "source": [
    "***\n",
    "Дальше посмотрим на колонки park_nearest и pond_nearest, где также большая доля пропусков. Эти колонки связаны с ponds_around3000 и parks_around3000, при этом в последних пропусков в три раза меньше.\n",
    "\n",
    "Гипотеза: пропуски и 0 в ponds_around3000 и parks_around3000 совпадают с пропусками в park_nearest и pond_nearest "
   ]
  },
  {
   "cell_type": "code",
   "execution_count": 25,
   "metadata": {},
   "outputs": [
    {
     "name": "stdout",
     "output_type": "stream",
     "text": [
      "True\n"
     ]
    }
   ],
   "source": [
    "no_ponds = data[(data['ponds_around3000'].isna()) | (data['ponds_around3000'] == 0)]\n",
    "print(len(no_ponds['last_price']) == no_ponds['ponds_nearest'].isna().sum())"
   ]
  },
  {
   "cell_type": "markdown",
   "metadata": {},
   "source": [
    "В случае с прудами гипотеза подтвердилась - если в ponds_around3000 пропуск или 0, в pond_nearest пропуск. \n",
    "Кажется правдоподобно, что если в колонке ponds_around3000 пропуск, пруда рядом нет. \n",
    "\n",
    "Заменим пропуски в ponds_around3000 на 0. Пропуски в pond_nearest оставим как есть - они показывают, что пруда рядом нет. Если заменить их на 0 или другое число, это может сбить дальнейший анализ связи цены и близости пруда для тех квартир, у которых рядом есть водоем."
   ]
  },
  {
   "cell_type": "code",
   "execution_count": 26,
   "metadata": {},
   "outputs": [
    {
     "name": "stdout",
     "output_type": "stream",
     "text": [
      "False\n",
      "15624\n",
      "15620\n"
     ]
    },
    {
     "data": {
      "text/html": [
       "<div>\n",
       "<style scoped>\n",
       "    .dataframe tbody tr th:only-of-type {\n",
       "        vertical-align: middle;\n",
       "    }\n",
       "\n",
       "    .dataframe tbody tr th {\n",
       "        vertical-align: top;\n",
       "    }\n",
       "\n",
       "    .dataframe thead th {\n",
       "        text-align: right;\n",
       "    }\n",
       "</style>\n",
       "<table border=\"1\" class=\"dataframe\">\n",
       "  <thead>\n",
       "    <tr style=\"text-align: right;\">\n",
       "      <th></th>\n",
       "      <th>total_images</th>\n",
       "      <th>last_price</th>\n",
       "      <th>total_area</th>\n",
       "      <th>first_day_exposition</th>\n",
       "      <th>rooms</th>\n",
       "      <th>ceiling_height</th>\n",
       "      <th>floors_total</th>\n",
       "      <th>living_area</th>\n",
       "      <th>floor</th>\n",
       "      <th>is_apartment</th>\n",
       "      <th>...</th>\n",
       "      <th>kitchen_area</th>\n",
       "      <th>balcony</th>\n",
       "      <th>locality_name</th>\n",
       "      <th>airports_nearest</th>\n",
       "      <th>cityCenters_nearest</th>\n",
       "      <th>parks_around3000</th>\n",
       "      <th>parks_nearest</th>\n",
       "      <th>ponds_around3000</th>\n",
       "      <th>ponds_nearest</th>\n",
       "      <th>days_exposition</th>\n",
       "    </tr>\n",
       "  </thead>\n",
       "  <tbody>\n",
       "    <tr>\n",
       "      <th>1590</th>\n",
       "      <td>3</td>\n",
       "      <td>7500000.0</td>\n",
       "      <td>70.0</td>\n",
       "      <td>2017-07-11T00:00:00</td>\n",
       "      <td>2</td>\n",
       "      <td>NaN</td>\n",
       "      <td>18.0</td>\n",
       "      <td>37.0</td>\n",
       "      <td>13</td>\n",
       "      <td>NaN</td>\n",
       "      <td>...</td>\n",
       "      <td>10.0</td>\n",
       "      <td>0.0</td>\n",
       "      <td>Санкт-Петербург</td>\n",
       "      <td>14878.0</td>\n",
       "      <td>9791.0</td>\n",
       "      <td>0.0</td>\n",
       "      <td>3064.0</td>\n",
       "      <td>1.0</td>\n",
       "      <td>264.0</td>\n",
       "      <td>4.0</td>\n",
       "    </tr>\n",
       "    <tr>\n",
       "      <th>10959</th>\n",
       "      <td>9</td>\n",
       "      <td>3000000.0</td>\n",
       "      <td>31.1</td>\n",
       "      <td>2017-03-21T00:00:00</td>\n",
       "      <td>1</td>\n",
       "      <td>NaN</td>\n",
       "      <td>5.0</td>\n",
       "      <td>17.7</td>\n",
       "      <td>2</td>\n",
       "      <td>NaN</td>\n",
       "      <td>...</td>\n",
       "      <td>5.5</td>\n",
       "      <td>0.0</td>\n",
       "      <td>Санкт-Петербург</td>\n",
       "      <td>14821.0</td>\n",
       "      <td>9734.0</td>\n",
       "      <td>0.0</td>\n",
       "      <td>3190.0</td>\n",
       "      <td>1.0</td>\n",
       "      <td>431.0</td>\n",
       "      <td>234.0</td>\n",
       "    </tr>\n",
       "    <tr>\n",
       "      <th>19208</th>\n",
       "      <td>17</td>\n",
       "      <td>14950000.0</td>\n",
       "      <td>187.0</td>\n",
       "      <td>2017-10-12T00:00:00</td>\n",
       "      <td>5</td>\n",
       "      <td>3.0</td>\n",
       "      <td>2.0</td>\n",
       "      <td>80.0</td>\n",
       "      <td>2</td>\n",
       "      <td>NaN</td>\n",
       "      <td>...</td>\n",
       "      <td>17.0</td>\n",
       "      <td>1.0</td>\n",
       "      <td>Санкт-Петербург</td>\n",
       "      <td>36805.0</td>\n",
       "      <td>8656.0</td>\n",
       "      <td>0.0</td>\n",
       "      <td>3013.0</td>\n",
       "      <td>3.0</td>\n",
       "      <td>537.0</td>\n",
       "      <td>49.0</td>\n",
       "    </tr>\n",
       "    <tr>\n",
       "      <th>19430</th>\n",
       "      <td>9</td>\n",
       "      <td>3900000.0</td>\n",
       "      <td>30.5</td>\n",
       "      <td>2018-02-22T00:00:00</td>\n",
       "      <td>1</td>\n",
       "      <td>2.6</td>\n",
       "      <td>5.0</td>\n",
       "      <td>16.5</td>\n",
       "      <td>1</td>\n",
       "      <td>NaN</td>\n",
       "      <td>...</td>\n",
       "      <td>5.5</td>\n",
       "      <td>0.0</td>\n",
       "      <td>Санкт-Петербург</td>\n",
       "      <td>14821.0</td>\n",
       "      <td>9734.0</td>\n",
       "      <td>0.0</td>\n",
       "      <td>3190.0</td>\n",
       "      <td>1.0</td>\n",
       "      <td>431.0</td>\n",
       "      <td>176.0</td>\n",
       "    </tr>\n",
       "  </tbody>\n",
       "</table>\n",
       "<p>4 rows × 22 columns</p>\n",
       "</div>"
      ],
      "text/plain": [
       "       total_images  last_price  total_area first_day_exposition  rooms  \\\n",
       "1590              3   7500000.0        70.0  2017-07-11T00:00:00      2   \n",
       "10959             9   3000000.0        31.1  2017-03-21T00:00:00      1   \n",
       "19208            17  14950000.0       187.0  2017-10-12T00:00:00      5   \n",
       "19430             9   3900000.0        30.5  2018-02-22T00:00:00      1   \n",
       "\n",
       "       ceiling_height  floors_total  living_area  floor is_apartment  ...  \\\n",
       "1590              NaN          18.0         37.0     13          NaN  ...   \n",
       "10959             NaN           5.0         17.7      2          NaN  ...   \n",
       "19208             3.0           2.0         80.0      2          NaN  ...   \n",
       "19430             2.6           5.0         16.5      1          NaN  ...   \n",
       "\n",
       "       kitchen_area  balcony    locality_name  airports_nearest  \\\n",
       "1590           10.0      0.0  Санкт-Петербург           14878.0   \n",
       "10959           5.5      0.0  Санкт-Петербург           14821.0   \n",
       "19208          17.0      1.0  Санкт-Петербург           36805.0   \n",
       "19430           5.5      0.0  Санкт-Петербург           14821.0   \n",
       "\n",
       "      cityCenters_nearest  parks_around3000  parks_nearest  ponds_around3000  \\\n",
       "1590               9791.0               0.0         3064.0               1.0   \n",
       "10959              9734.0               0.0         3190.0               1.0   \n",
       "19208              8656.0               0.0         3013.0               3.0   \n",
       "19430              9734.0               0.0         3190.0               1.0   \n",
       "\n",
       "       ponds_nearest  days_exposition  \n",
       "1590           264.0              4.0  \n",
       "10959          431.0            234.0  \n",
       "19208          537.0             49.0  \n",
       "19430          431.0            176.0  \n",
       "\n",
       "[4 rows x 22 columns]"
      ]
     },
     "execution_count": 26,
     "metadata": {},
     "output_type": "execute_result"
    }
   ],
   "source": [
    "no_parks = data[(data['parks_around3000'].isna()) | (data['parks_around3000'] == 0)]\n",
    "print(len(no_parks['last_price']) == no_parks['parks_nearest'].isna().sum())\n",
    "print(len(no_parks['last_price']))\n",
    "print(no_parks['parks_nearest'].isna().sum())\n",
    "no_parks[~no_parks['parks_nearest'].isna()]"
   ]
  },
  {
   "cell_type": "markdown",
   "metadata": {},
   "source": [
    "В случае с парками нашлись четыре квартиры, где нет парков в радиусе 3км, но есть ну-почти в радиусе 3км, для них указаны эти ну-почти значения. Во всех остальных случаях, у таких квартир в park_nearest пропуски. Как и в случае с прудами, заменим пропуски в parks_around3000 на 0, а пропуски в park_nearest оставим без изменений с учетом будущего анализа."
   ]
  },
  {
   "cell_type": "code",
   "execution_count": 27,
   "metadata": {},
   "outputs": [
    {
     "name": "stdout",
     "output_type": "stream",
     "text": [
      "0\n"
     ]
    },
    {
     "data": {
      "text/plain": [
       "0"
      ]
     },
     "execution_count": 27,
     "metadata": {},
     "output_type": "execute_result"
    }
   ],
   "source": [
    "data.loc[data['ponds_around3000'].isna(), 'ponds_around3000'] = 0 #заменяем пропуски в прудах на 0\n",
    "data.loc[data['parks_around3000'].isna(), 'parks_around3000'] = 0 #заменяем пропуски в парках на 0\n",
    "print(data['ponds_around3000'].isna().sum())\n",
    "data['parks_around3000'].isna().sum()"
   ]
  },
  {
   "cell_type": "code",
   "execution_count": 28,
   "metadata": {},
   "outputs": [
    {
     "name": "stdout",
     "output_type": "stream",
     "text": [
      "13.0\n"
     ]
    },
    {
     "data": {
      "text/plain": [
       "1.0"
      ]
     },
     "execution_count": 28,
     "metadata": {},
     "output_type": "execute_result"
    }
   ],
   "source": [
    "data['ponds_nearest'].max() \n",
    "data['parks_nearest'].max()\n",
    "print(data['ponds_nearest'].min())\n",
    "data['parks_nearest'].min()\n",
    "#проверяем, есть ли парки и пруды дальше 3км в полных данных"
   ]
  },
  {
   "cell_type": "markdown",
   "metadata": {},
   "source": [
    "**Итог по пропускам в столбцах ponds_around3000, ponds_nearest, parks_around3000 и parks_nearest:**\n",
    "Мы предположили, что пропуски в ponds_around3000 и parks_around3000 означают, что парков и прудов в радиусе 3км нет. На это также косвенно указывает и то, что в данных только 4 квартиры, у которых указано расстояние parks_nearest больше 3км (и они очень близко к 3км), а для водоемов таких квартир нет вообще. Мы заменили пропуски в ponds_around3000 и parks_around3000 на 0.\n",
    "\n",
    "Пропуски в parks_nearest и ponds_nearest пока оставлены без изменений, так как замена на медианное/среднее значение здесь искажает данные, как и замена на 0. В дальнейшем анализе эти квартиры попадут к категорию \"парка рядом нет\" или \"водоема рядом нет\", а замена пропусков на строковые значения может осложнить анализ численных значений в столбце."
   ]
  },
  {
   "cell_type": "markdown",
   "metadata": {},
   "source": [
    "***\n",
    "Дальше попробуем разобраться с пропусками в столбцах airports_nearest и cityCenters_nearest.\n",
    "\n",
    "Гипотеза: эти значения пропущены для мест типа поселок, село и т.п.\n",
    "\n",
    "(Всего пропусков в столцах:\n",
    "airports_nearest      -   5542,\n",
    "cityCenters_nearest   -   5519)"
   ]
  },
  {
   "cell_type": "code",
   "execution_count": 29,
   "metadata": {},
   "outputs": [
    {
     "name": "stdout",
     "output_type": "stream",
     "text": [
      "0.23389172538925693\n",
      "346\n"
     ]
    },
    {
     "data": {
      "text/html": [
       "<div>\n",
       "<style scoped>\n",
       "    .dataframe tbody tr th:only-of-type {\n",
       "        vertical-align: middle;\n",
       "    }\n",
       "\n",
       "    .dataframe tbody tr th {\n",
       "        vertical-align: top;\n",
       "    }\n",
       "\n",
       "    .dataframe thead th {\n",
       "        text-align: right;\n",
       "    }\n",
       "</style>\n",
       "<table border=\"1\" class=\"dataframe\">\n",
       "  <thead>\n",
       "    <tr style=\"text-align: right;\">\n",
       "      <th></th>\n",
       "      <th>total_images</th>\n",
       "      <th>last_price</th>\n",
       "      <th>total_area</th>\n",
       "      <th>first_day_exposition</th>\n",
       "      <th>rooms</th>\n",
       "      <th>ceiling_height</th>\n",
       "      <th>floors_total</th>\n",
       "      <th>living_area</th>\n",
       "      <th>floor</th>\n",
       "      <th>is_apartment</th>\n",
       "      <th>...</th>\n",
       "      <th>kitchen_area</th>\n",
       "      <th>balcony</th>\n",
       "      <th>locality_name</th>\n",
       "      <th>airports_nearest</th>\n",
       "      <th>cityCenters_nearest</th>\n",
       "      <th>parks_around3000</th>\n",
       "      <th>parks_nearest</th>\n",
       "      <th>ponds_around3000</th>\n",
       "      <th>ponds_nearest</th>\n",
       "      <th>days_exposition</th>\n",
       "    </tr>\n",
       "  </thead>\n",
       "  <tbody>\n",
       "    <tr>\n",
       "      <th>81</th>\n",
       "      <td>9</td>\n",
       "      <td>10949000.0</td>\n",
       "      <td>68.00</td>\n",
       "      <td>2018-12-27T00:00:00</td>\n",
       "      <td>1</td>\n",
       "      <td>NaN</td>\n",
       "      <td>10.0</td>\n",
       "      <td>NaN</td>\n",
       "      <td>6</td>\n",
       "      <td>NaN</td>\n",
       "      <td>...</td>\n",
       "      <td>NaN</td>\n",
       "      <td>0.0</td>\n",
       "      <td>Санкт-Петербург</td>\n",
       "      <td>NaN</td>\n",
       "      <td>NaN</td>\n",
       "      <td>0.0</td>\n",
       "      <td>NaN</td>\n",
       "      <td>0.0</td>\n",
       "      <td>NaN</td>\n",
       "      <td>NaN</td>\n",
       "    </tr>\n",
       "    <tr>\n",
       "      <th>593</th>\n",
       "      <td>20</td>\n",
       "      <td>4200000.0</td>\n",
       "      <td>38.30</td>\n",
       "      <td>2019-04-16T00:00:00</td>\n",
       "      <td>1</td>\n",
       "      <td>2.60</td>\n",
       "      <td>16.0</td>\n",
       "      <td>19.8</td>\n",
       "      <td>10</td>\n",
       "      <td>NaN</td>\n",
       "      <td>...</td>\n",
       "      <td>10.1</td>\n",
       "      <td>2.0</td>\n",
       "      <td>Санкт-Петербург</td>\n",
       "      <td>NaN</td>\n",
       "      <td>NaN</td>\n",
       "      <td>0.0</td>\n",
       "      <td>NaN</td>\n",
       "      <td>0.0</td>\n",
       "      <td>NaN</td>\n",
       "      <td>NaN</td>\n",
       "    </tr>\n",
       "    <tr>\n",
       "      <th>604</th>\n",
       "      <td>11</td>\n",
       "      <td>9899000.0</td>\n",
       "      <td>101.00</td>\n",
       "      <td>2018-12-12T00:00:00</td>\n",
       "      <td>3</td>\n",
       "      <td>3.00</td>\n",
       "      <td>5.0</td>\n",
       "      <td>62.0</td>\n",
       "      <td>3</td>\n",
       "      <td>NaN</td>\n",
       "      <td>...</td>\n",
       "      <td>15.0</td>\n",
       "      <td>0.0</td>\n",
       "      <td>Санкт-Петербург</td>\n",
       "      <td>NaN</td>\n",
       "      <td>NaN</td>\n",
       "      <td>0.0</td>\n",
       "      <td>NaN</td>\n",
       "      <td>0.0</td>\n",
       "      <td>NaN</td>\n",
       "      <td>NaN</td>\n",
       "    </tr>\n",
       "    <tr>\n",
       "      <th>733</th>\n",
       "      <td>18</td>\n",
       "      <td>18700000.0</td>\n",
       "      <td>109.70</td>\n",
       "      <td>2018-02-03T00:00:00</td>\n",
       "      <td>3</td>\n",
       "      <td>2.75</td>\n",
       "      <td>21.0</td>\n",
       "      <td>57.2</td>\n",
       "      <td>13</td>\n",
       "      <td>NaN</td>\n",
       "      <td>...</td>\n",
       "      <td>15.3</td>\n",
       "      <td>1.0</td>\n",
       "      <td>Санкт-Петербург</td>\n",
       "      <td>NaN</td>\n",
       "      <td>13355.0</td>\n",
       "      <td>1.0</td>\n",
       "      <td>735.0</td>\n",
       "      <td>0.0</td>\n",
       "      <td>NaN</td>\n",
       "      <td>112.0</td>\n",
       "    </tr>\n",
       "    <tr>\n",
       "      <th>742</th>\n",
       "      <td>7</td>\n",
       "      <td>37000000.0</td>\n",
       "      <td>161.00</td>\n",
       "      <td>2016-05-22T00:00:00</td>\n",
       "      <td>3</td>\n",
       "      <td>NaN</td>\n",
       "      <td>9.0</td>\n",
       "      <td>84.0</td>\n",
       "      <td>8</td>\n",
       "      <td>NaN</td>\n",
       "      <td>...</td>\n",
       "      <td>NaN</td>\n",
       "      <td>0.0</td>\n",
       "      <td>Санкт-Петербург</td>\n",
       "      <td>NaN</td>\n",
       "      <td>NaN</td>\n",
       "      <td>0.0</td>\n",
       "      <td>NaN</td>\n",
       "      <td>0.0</td>\n",
       "      <td>NaN</td>\n",
       "      <td>402.0</td>\n",
       "    </tr>\n",
       "    <tr>\n",
       "      <th>...</th>\n",
       "      <td>...</td>\n",
       "      <td>...</td>\n",
       "      <td>...</td>\n",
       "      <td>...</td>\n",
       "      <td>...</td>\n",
       "      <td>...</td>\n",
       "      <td>...</td>\n",
       "      <td>...</td>\n",
       "      <td>...</td>\n",
       "      <td>...</td>\n",
       "      <td>...</td>\n",
       "      <td>...</td>\n",
       "      <td>...</td>\n",
       "      <td>...</td>\n",
       "      <td>...</td>\n",
       "      <td>...</td>\n",
       "      <td>...</td>\n",
       "      <td>...</td>\n",
       "      <td>...</td>\n",
       "      <td>...</td>\n",
       "      <td>...</td>\n",
       "    </tr>\n",
       "    <tr>\n",
       "      <th>21955</th>\n",
       "      <td>19</td>\n",
       "      <td>130000000.0</td>\n",
       "      <td>431.00</td>\n",
       "      <td>2017-10-02T00:00:00</td>\n",
       "      <td>7</td>\n",
       "      <td>3.70</td>\n",
       "      <td>8.0</td>\n",
       "      <td>220.0</td>\n",
       "      <td>5</td>\n",
       "      <td>NaN</td>\n",
       "      <td>...</td>\n",
       "      <td>20.0</td>\n",
       "      <td>5.0</td>\n",
       "      <td>Санкт-Петербург</td>\n",
       "      <td>NaN</td>\n",
       "      <td>NaN</td>\n",
       "      <td>0.0</td>\n",
       "      <td>NaN</td>\n",
       "      <td>0.0</td>\n",
       "      <td>NaN</td>\n",
       "      <td>161.0</td>\n",
       "    </tr>\n",
       "    <tr>\n",
       "      <th>22554</th>\n",
       "      <td>5</td>\n",
       "      <td>3415000.0</td>\n",
       "      <td>31.65</td>\n",
       "      <td>2019-04-16T00:00:00</td>\n",
       "      <td>1</td>\n",
       "      <td>NaN</td>\n",
       "      <td>24.0</td>\n",
       "      <td>NaN</td>\n",
       "      <td>14</td>\n",
       "      <td>NaN</td>\n",
       "      <td>...</td>\n",
       "      <td>8.7</td>\n",
       "      <td>2.0</td>\n",
       "      <td>Санкт-Петербург</td>\n",
       "      <td>NaN</td>\n",
       "      <td>NaN</td>\n",
       "      <td>0.0</td>\n",
       "      <td>NaN</td>\n",
       "      <td>0.0</td>\n",
       "      <td>NaN</td>\n",
       "      <td>NaN</td>\n",
       "    </tr>\n",
       "    <tr>\n",
       "      <th>22628</th>\n",
       "      <td>8</td>\n",
       "      <td>8600000.0</td>\n",
       "      <td>74.90</td>\n",
       "      <td>2019-03-14T00:00:00</td>\n",
       "      <td>3</td>\n",
       "      <td>3.00</td>\n",
       "      <td>5.0</td>\n",
       "      <td>53.2</td>\n",
       "      <td>4</td>\n",
       "      <td>NaN</td>\n",
       "      <td>...</td>\n",
       "      <td>8.0</td>\n",
       "      <td>1.0</td>\n",
       "      <td>Санкт-Петербург</td>\n",
       "      <td>NaN</td>\n",
       "      <td>NaN</td>\n",
       "      <td>0.0</td>\n",
       "      <td>NaN</td>\n",
       "      <td>0.0</td>\n",
       "      <td>NaN</td>\n",
       "      <td>NaN</td>\n",
       "    </tr>\n",
       "    <tr>\n",
       "      <th>22790</th>\n",
       "      <td>8</td>\n",
       "      <td>5600000.0</td>\n",
       "      <td>47.00</td>\n",
       "      <td>2017-09-27T00:00:00</td>\n",
       "      <td>1</td>\n",
       "      <td>NaN</td>\n",
       "      <td>23.0</td>\n",
       "      <td>21.0</td>\n",
       "      <td>7</td>\n",
       "      <td>NaN</td>\n",
       "      <td>...</td>\n",
       "      <td>11.0</td>\n",
       "      <td>1.0</td>\n",
       "      <td>Санкт-Петербург</td>\n",
       "      <td>NaN</td>\n",
       "      <td>13355.0</td>\n",
       "      <td>1.0</td>\n",
       "      <td>735.0</td>\n",
       "      <td>0.0</td>\n",
       "      <td>NaN</td>\n",
       "      <td>10.0</td>\n",
       "    </tr>\n",
       "    <tr>\n",
       "      <th>23124</th>\n",
       "      <td>0</td>\n",
       "      <td>3500000.0</td>\n",
       "      <td>41.30</td>\n",
       "      <td>2018-01-11T00:00:00</td>\n",
       "      <td>3</td>\n",
       "      <td>2.55</td>\n",
       "      <td>5.0</td>\n",
       "      <td>29.5</td>\n",
       "      <td>1</td>\n",
       "      <td>NaN</td>\n",
       "      <td>...</td>\n",
       "      <td>6.0</td>\n",
       "      <td>0.0</td>\n",
       "      <td>Санкт-Петербург</td>\n",
       "      <td>NaN</td>\n",
       "      <td>11246.0</td>\n",
       "      <td>0.0</td>\n",
       "      <td>NaN</td>\n",
       "      <td>0.0</td>\n",
       "      <td>NaN</td>\n",
       "      <td>23.0</td>\n",
       "    </tr>\n",
       "  </tbody>\n",
       "</table>\n",
       "<p>85 rows × 22 columns</p>\n",
       "</div>"
      ],
      "text/plain": [
       "       total_images   last_price  total_area first_day_exposition  rooms  \\\n",
       "81                9   10949000.0       68.00  2018-12-27T00:00:00      1   \n",
       "593              20    4200000.0       38.30  2019-04-16T00:00:00      1   \n",
       "604              11    9899000.0      101.00  2018-12-12T00:00:00      3   \n",
       "733              18   18700000.0      109.70  2018-02-03T00:00:00      3   \n",
       "742               7   37000000.0      161.00  2016-05-22T00:00:00      3   \n",
       "...             ...          ...         ...                  ...    ...   \n",
       "21955            19  130000000.0      431.00  2017-10-02T00:00:00      7   \n",
       "22554             5    3415000.0       31.65  2019-04-16T00:00:00      1   \n",
       "22628             8    8600000.0       74.90  2019-03-14T00:00:00      3   \n",
       "22790             8    5600000.0       47.00  2017-09-27T00:00:00      1   \n",
       "23124             0    3500000.0       41.30  2018-01-11T00:00:00      3   \n",
       "\n",
       "       ceiling_height  floors_total  living_area  floor is_apartment  ...  \\\n",
       "81                NaN          10.0          NaN      6          NaN  ...   \n",
       "593              2.60          16.0         19.8     10          NaN  ...   \n",
       "604              3.00           5.0         62.0      3          NaN  ...   \n",
       "733              2.75          21.0         57.2     13          NaN  ...   \n",
       "742               NaN           9.0         84.0      8          NaN  ...   \n",
       "...               ...           ...          ...    ...          ...  ...   \n",
       "21955            3.70           8.0        220.0      5          NaN  ...   \n",
       "22554             NaN          24.0          NaN     14          NaN  ...   \n",
       "22628            3.00           5.0         53.2      4          NaN  ...   \n",
       "22790             NaN          23.0         21.0      7          NaN  ...   \n",
       "23124            2.55           5.0         29.5      1          NaN  ...   \n",
       "\n",
       "       kitchen_area  balcony    locality_name  airports_nearest  \\\n",
       "81              NaN      0.0  Санкт-Петербург               NaN   \n",
       "593            10.1      2.0  Санкт-Петербург               NaN   \n",
       "604            15.0      0.0  Санкт-Петербург               NaN   \n",
       "733            15.3      1.0  Санкт-Петербург               NaN   \n",
       "742             NaN      0.0  Санкт-Петербург               NaN   \n",
       "...             ...      ...              ...               ...   \n",
       "21955          20.0      5.0  Санкт-Петербург               NaN   \n",
       "22554           8.7      2.0  Санкт-Петербург               NaN   \n",
       "22628           8.0      1.0  Санкт-Петербург               NaN   \n",
       "22790          11.0      1.0  Санкт-Петербург               NaN   \n",
       "23124           6.0      0.0  Санкт-Петербург               NaN   \n",
       "\n",
       "      cityCenters_nearest  parks_around3000  parks_nearest  ponds_around3000  \\\n",
       "81                    NaN               0.0            NaN               0.0   \n",
       "593                   NaN               0.0            NaN               0.0   \n",
       "604                   NaN               0.0            NaN               0.0   \n",
       "733               13355.0               1.0          735.0               0.0   \n",
       "742                   NaN               0.0            NaN               0.0   \n",
       "...                   ...               ...            ...               ...   \n",
       "21955                 NaN               0.0            NaN               0.0   \n",
       "22554                 NaN               0.0            NaN               0.0   \n",
       "22628                 NaN               0.0            NaN               0.0   \n",
       "22790             13355.0               1.0          735.0               0.0   \n",
       "23124             11246.0               0.0            NaN               0.0   \n",
       "\n",
       "       ponds_nearest  days_exposition  \n",
       "81               NaN              NaN  \n",
       "593              NaN              NaN  \n",
       "604              NaN              NaN  \n",
       "733              NaN            112.0  \n",
       "742              NaN            402.0  \n",
       "...              ...              ...  \n",
       "21955            NaN            161.0  \n",
       "22554            NaN              NaN  \n",
       "22628            NaN              NaN  \n",
       "22790            NaN             10.0  \n",
       "23124            NaN             23.0  \n",
       "\n",
       "[85 rows x 22 columns]"
      ]
     },
     "execution_count": 29,
     "metadata": {},
     "output_type": "execute_result"
    }
   ],
   "source": [
    "#для удобства выделим эти строки в отдельный датафрейм\n",
    "air_city = data[(data['airports_nearest'].isna()) | (data['cityCenters_nearest'].isna())] \n",
    "#print(air_city.count())\n",
    "#заодно подсчитаем, какую часть данных составляют строки с пропусками\n",
    "print(len(air_city['last_price'])/len(data['last_price'])) \n",
    "print(len(air_city['locality_name'].unique()))\n",
    "air_city['locality_name'].unique()\n",
    "#посмотрим на названия мест. В основном поселки, но также затесался Санкт-Петербург\n",
    "air_city[air_city['locality_name'] == 'Санкт-Петербург']\n",
    "#В Санкт-Петербурге есть 85 квартир с пропусками в расстоянии до центра или аэропорта."
   ]
  },
  {
   "cell_type": "markdown",
   "metadata": {},
   "source": [
    "Гипотеза подвердилась, расстояние до центра города и/или аэропорта в основном отсуствует для квартир в местах типа:\n",
    "\n",
    "    - городской посёлок\n",
    "    - поселок\n",
    "    - деревня\n",
    "    - коттеджный поселок\n",
    "    - садовое товарищество\n",
    "    - поселок городского типа\n",
    "    - село\n",
    "\n",
    "Квартиры с пропусками в этих столбцах составляют 23% всех данных, то есть достаточно существенную часть. Также вполне возможно, что часть этих пунктов находятся на самом деле ближе к аэропорту, чем квартиры в Санкт-Петербурге. То же самое можно сказать и о центре города, если поселок находится рядом с городом, то он может быть ближе к центру, чем некоторые квартиры в отдаленных районах. \n",
    "\n",
    "Попробуем заполнить пропуски средними значениями по населенному пункту. "
   ]
  },
  {
   "cell_type": "code",
   "execution_count": 30,
   "metadata": {},
   "outputs": [],
   "source": [
    "for i in data['locality_name'].unique():\n",
    "    data.loc[(data['locality_name'] == i) & (data['airports_nearest'].isna()), 'airports_nearest'] = \\\n",
    "    data.loc[(data['locality_name'] == i), 'airports_nearest'].mean()"
   ]
  },
  {
   "cell_type": "code",
   "execution_count": 31,
   "metadata": {},
   "outputs": [
    {
     "data": {
      "text/plain": [
       "5394"
      ]
     },
     "execution_count": 31,
     "metadata": {},
     "output_type": "execute_result"
    }
   ],
   "source": [
    "data['airports_nearest'].isna().sum()\n",
    "#Число пропусков уменьшилось с 5524 до 5394, \n",
    "#похоже, у большинства квартир в этих пунктах пропущено расстояние до аэропорта во всех объявлениях."
   ]
  },
  {
   "cell_type": "code",
   "execution_count": 32,
   "metadata": {},
   "outputs": [],
   "source": [
    "for i in data['locality_name'].unique():\n",
    "    data.loc[(data['locality_name'] == i) & (data['cityCenters_nearest'].isna()), 'cityCenters_nearest'] = \\\n",
    "    data.loc[(data['locality_name'] == i), 'cityCenters_nearest'].mean()"
   ]
  },
  {
   "cell_type": "code",
   "execution_count": 33,
   "metadata": {},
   "outputs": [
    {
     "data": {
      "text/plain": [
       "5394"
      ]
     },
     "execution_count": 33,
     "metadata": {},
     "output_type": "execute_result"
    }
   ],
   "source": [
    "data['cityCenters_nearest'].isna().sum()\n",
    "#Здесь число пропусков тоже уменьшилось с 5519 до 5394."
   ]
  },
  {
   "cell_type": "code",
   "execution_count": 34,
   "metadata": {},
   "outputs": [
    {
     "name": "stdout",
     "output_type": "stream",
     "text": [
      "337\n"
     ]
    },
    {
     "data": {
      "text/plain": [
       "337"
      ]
     },
     "execution_count": 34,
     "metadata": {},
     "output_type": "execute_result"
    }
   ],
   "source": [
    "#посмотрим, сколько населенных пунктов \"нашлись\"\n",
    "air_city = data[(data['airports_nearest'].isna()) | (data['cityCenters_nearest'].isna())] \n",
    "print(len(air_city['locality_name'].unique()))\n",
    "len(air_city['locality_name'].unique())\n",
    "#346-337 = 9\n",
    "#мы заполнили пропуски для 9 населенных пунктов."
   ]
  },
  {
   "cell_type": "markdown",
   "metadata": {},
   "source": [
    "**Итог по пропускам в значениях airports_nearest и cityCenters_nearest:**\n",
    "Средними значениями по населенному пункту удалось заполнить пропуски только для 9 из них, у большинства из них расстояние до аэропорта и до центра города не указано ни для одной квартиры. Дальнейшим шагом можно было бы найти оставшиеся поселки на карте и заполнить расстояния внучную. Однако это довольно трудоемкий шаг, поэтому мы попробуем пока обойтись без него. Оставим пропуски без изменений и выделим эти поселки в отдельную группу при дальнейшем анализе."
   ]
  },
  {
   "cell_type": "markdown",
   "metadata": {},
   "source": [
    "***\n",
    "Далее посмотрим на пропуски в столбцах living_area и kitchen_area. \n",
    "\n",
    "Жилая площадь должна быть связана с общей площадью. Попробуем разделить квартиры на категории по общей площади и заполнить пропуски living_area по медианным значениям этих категорий (здесь используем медиану, чтобы подстраховаться от возможных выбросов)."
   ]
  },
  {
   "cell_type": "code",
   "execution_count": 35,
   "metadata": {},
   "outputs": [
    {
     "data": {
      "text/plain": [
       "564"
      ]
     },
     "execution_count": 35,
     "metadata": {},
     "output_type": "execute_result"
    },
    {
     "data": {
      "image/png": "[encoded data removed]",
      "text/plain": [
       "<Figure size 432x288 with 1 Axes>"
      ]
     },
     "metadata": {
      "needs_background": "light"
     },
     "output_type": "display_data"
    }
   ],
   "source": [
    "data['total_area'].hist(bins = 30) #посмотрим на распределение\n",
    "\n",
    "#сделаем 10 категорий с примерно одинаковой общей площадью\n",
    "len(data.query('total_area > 150'))\n",
    "\n",
    "#квартиры с площадью больше 150 м2 составляют очень небольшую чатсь данных, \n",
    "#однако для этих квартир жилая площадь будет сильно отличаться от квартир меньшего размера. \n",
    "\n",
    "#Выделим их в отдельную группу"
   ]
  },
  {
   "cell_type": "code",
   "execution_count": 36,
   "metadata": {},
   "outputs": [],
   "source": [
    "def categ_area(area):\n",
    "    try:\n",
    "        if 11.999 <= area <= 37.6:\n",
    "            return '1'\n",
    "        elif 37.6 <= area <= 46.030001:\n",
    "            return '2'\n",
    "        elif 46.0 <= area <= 58.0:\n",
    "            return '3'\n",
    "        elif 58.0 <= area <= 68.0:\n",
    "            return '4'\n",
    "        elif 68.1 <= area <= 78.0:\n",
    "            return '5'\n",
    "        elif 68.1 <= area <= 78.0:    \n",
    "            return '6'\n",
    "        elif 78.1 <= area <= 88.0:    \n",
    "            return '7'\n",
    "        elif 88.1 <= area <= 98.0:    \n",
    "            return '8'\n",
    "        elif 98.1 <= area <= 150.0:    \n",
    "            return '9'\n",
    "        else:\n",
    "            return '10'\n",
    "    except:\n",
    "        pass"
   ]
  },
  {
   "cell_type": "code",
   "execution_count": 37,
   "metadata": {},
   "outputs": [],
   "source": [
    "data['total_area_category'] = data['total_area'].apply(categ_area)"
   ]
  },
  {
   "cell_type": "code",
   "execution_count": 38,
   "metadata": {},
   "outputs": [],
   "source": [
    "for i in data['total_area_category'].unique():\n",
    "    data.loc[(data['total_area_category'] == i) & (data['living_area'].isna()), 'living_area'] = \\\n",
    "    data.loc[(data['total_area_category'] == i), 'living_area'].median()"
   ]
  },
  {
   "cell_type": "code",
   "execution_count": 39,
   "metadata": {},
   "outputs": [
    {
     "data": {
      "text/plain": [
       "0"
      ]
     },
     "execution_count": 39,
     "metadata": {},
     "output_type": "execute_result"
    }
   ],
   "source": [
    "data['living_area'].isna().sum()"
   ]
  },
  {
   "cell_type": "markdown",
   "metadata": {},
   "source": [
    "Дальше заполним пропуски в kitchen_area. Можно было бы просто вычесть жилую площадь и общей площадь, однако в квартирах обычно есть также нежилая И некухонная площадь, так что результат может быть искажен.\n",
    "\n",
    "Попробуем снова заполнить пропуски их медианами по категориям total_area."
   ]
  },
  {
   "cell_type": "code",
   "execution_count": 40,
   "metadata": {},
   "outputs": [],
   "source": [
    "for i in data['total_area_category'].unique():\n",
    "    data.loc[(data['total_area_category'] == i) & (data['kitchen_area'].isna()), 'kitchen_area'] = \\\n",
    "    data.loc[(data['total_area_category'] == i), 'kitchen_area'].median()"
   ]
  },
  {
   "cell_type": "code",
   "execution_count": 41,
   "metadata": {},
   "outputs": [
    {
     "data": {
      "text/plain": [
       "0"
      ]
     },
     "execution_count": 41,
     "metadata": {},
     "output_type": "execute_result"
    }
   ],
   "source": [
    "data['kitchen_area'].isna().sum()"
   ]
  },
  {
   "cell_type": "code",
   "execution_count": 42,
   "metadata": {},
   "outputs": [
    {
     "name": "stdout",
     "output_type": "stream",
     "text": [
      "-3.792713776951673\n"
     ]
    },
    {
     "name": "stderr",
     "output_type": "stream",
     "text": [
      "C:\\Users\\User\\anaconda3\\lib\\site-packages\\pandas\\core\\indexing.py:1667: SettingWithCopyWarning: \n",
      "A value is trying to be set on a copy of a slice from a DataFrame.\n",
      "Try using .loc[row_indexer,col_indexer] = value instead\n",
      "\n",
      "See the caveats in the documentation: https://pandas.pydata.org/pandas-docs/stable/user_guide/indexing.html#returning-a-view-versus-a-copy\n",
      "  self.obj[key] = value\n"
     ]
    },
    {
     "data": {
      "text/plain": [
       "-2.5"
      ]
     },
     "execution_count": 42,
     "metadata": {},
     "output_type": "execute_result"
    }
   ],
   "source": [
    "#посмотрим, как total_area сходится с суммой living_area и kitchen_area\n",
    "data['living_kitchen'] = data['living_area'] + data['kitchen_area']\n",
    "anomaly_area = data.query('(total_area - living_kitchen) < 0')\n",
    "anomaly_area.loc[:, 'extra_area'] = anomaly_area['total_area'] - anomaly_area['living_kitchen']\n",
    "print(anomaly_area['extra_area'].mean())\n",
    "anomaly_area['extra_area'].median()\n",
    "#пострадали от аномальных метров всего 269 строк \n",
    "#среди них среднее отклонение составляет -3.8 м, а медиана -2.5\n"
   ]
  },
  {
   "cell_type": "markdown",
   "metadata": {},
   "source": [
    "**Итог по пропускам значений в living_area и kitchen_area:**\n",
    "\n",
    "Мы разделили квартиры на категории по общей площади (total_area) и заполнили пропуски living_area и kitchen_area по медианным значениям этих столбцов для каждой категории. Здесь мы использовали медиану, чтобы подстраховаться от эффекта выбросов на среднее. "
   ]
  },
  {
   "cell_type": "markdown",
   "metadata": {},
   "source": [
    "***\n",
    "Далее посмотрим на столбец ceiling_height"
   ]
  },
  {
   "cell_type": "code",
   "execution_count": 43,
   "metadata": {},
   "outputs": [
    {
     "name": "stdout",
     "output_type": "stream",
     "text": [
      "0          (2.65, 2.8]\n",
      "1                  NaN\n",
      "2                  NaN\n",
      "3                  NaN\n",
      "4         (2.8, 100.0]\n",
      "             ...      \n",
      "23694     (2.8, 100.0]\n",
      "23695              NaN\n",
      "23696              NaN\n",
      "23697     (2.8, 100.0]\n",
      "23698    (0.999, 2.52]\n",
      "Name: ceiling_height, Length: 23699, dtype: category\n",
      "Categories (4, interval[float64, right]): [(0.999, 2.52] < (2.52, 2.65] < (2.65, 2.8] < (2.8, 100.0]]\n"
     ]
    },
    {
     "data": {
      "text/plain": [
       "<AxesSubplot:xlabel='cityCenters_nearest', ylabel='ceiling_height'>"
      ]
     },
     "execution_count": 43,
     "metadata": {},
     "output_type": "execute_result"
    },
    {
     "data": {
      "image/png": "[encoded data removed]",
      "text/plain": [
       "<Figure size 432x288 with 1 Axes>"
      ]
     },
     "metadata": {
      "needs_background": "light"
     },
     "output_type": "display_data"
    },
    {
     "data": {
      "image/png": "[encoded data removed]",
      "text/plain": [
       "<Figure size 432x288 with 1 Axes>"
      ]
     },
     "metadata": {
      "needs_background": "light"
     },
     "output_type": "display_data"
    },
    {
     "data": {
      "image/png": "[encoded data removed]",
      "text/plain": [
       "<Figure size 432x288 with 1 Axes>"
      ]
     },
     "metadata": {
      "needs_background": "light"
     },
     "output_type": "display_data"
    },
    {
     "data": {
      "image/png": "[encoded data removed]",
      "text/plain": [
       "<Figure size 432x288 with 1 Axes>"
      ]
     },
     "metadata": {
      "needs_background": "light"
     },
     "output_type": "display_data"
    }
   ],
   "source": [
    "#data['ceiling_height'].hist(bins = 50)\n",
    "data.query('ceiling_height < 6')['ceiling_height'].hist(bins = 50)\n",
    "data['ceiling_height'].median()\n",
    "\n",
    "#поделим значения на четыре равные группы\n",
    "print(pd.qcut(data['ceiling_height'], 4))\n",
    "#видим, что 50% значений попадают в размах 2.52-2.8м\n",
    "\n",
    "#Возможно, с высотой потолка связаны другие параметры: \n",
    "# число этажей в доме (например, в старых малоэтажных домах потолки выше)\n",
    "# общая площадь квартиры (может быть, в больших квартирах потолки выше)\n",
    "# место (дальше от центра/ближе могут быть различия)\n",
    "\n",
    "data.plot(kind = 'scatter', x = 'total_area', y = 'ceiling_height', ylim = [0,11], xlim = [0,400])\n",
    "data.plot(kind = 'scatter', x = 'floors_total', y = 'ceiling_height', ylim = [0,11])\n",
    "data.plot(kind = 'scatter', x = 'cityCenters_nearest', y = 'ceiling_height', ylim = [0,11])\n",
    "\n",
    "#эх, никаких закономерностей не видно."
   ]
  },
  {
   "cell_type": "code",
   "execution_count": 44,
   "metadata": {},
   "outputs": [
    {
     "data": {
      "text/plain": [
       "0"
      ]
     },
     "execution_count": 44,
     "metadata": {},
     "output_type": "execute_result"
    }
   ],
   "source": [
    "#Заменим пропуски на медианные значения\n",
    "data.loc[data['ceiling_height'].isna(), 'ceiling_height'] = data['ceiling_height'].median() #заменяем пропуски\n",
    "data['ceiling_height'].isna().sum() #проверяем, что пропусков не осталось\n"
   ]
  },
  {
   "cell_type": "markdown",
   "metadata": {},
   "source": [
    "***\n",
    "Остался последний столбец с пропусками - days_exposition, то есть сколько дней было размещено объявление (от публикации до снятия).\n",
    "\n",
    "Гипотеза: пропуски связаны с тем, что на момент выгрузки датасета объявление еще не было снято.\n",
    "\n",
    "Предположим, что чаще это будут недавние объявления. Для начала выделим год объявления."
   ]
  },
  {
   "cell_type": "code",
   "execution_count": 45,
   "metadata": {},
   "outputs": [
    {
     "name": "stdout",
     "output_type": "stream",
     "text": [
      "0        2019-03-07T00:00:00\n",
      "1        2018-12-04T00:00:00\n",
      "2        2015-08-20T00:00:00\n",
      "3        2015-07-24T00:00:00\n",
      "4        2018-06-19T00:00:00\n",
      "                ...         \n",
      "23694    2017-03-21T00:00:00\n",
      "23695    2018-01-15T00:00:00\n",
      "23696    2018-02-11T00:00:00\n",
      "23697    2017-03-28T00:00:00\n",
      "23698    2017-07-21T00:00:00\n",
      "Name: first_day_exposition, Length: 23699, dtype: object\n",
      "\n",
      "2019 год: 1796\n",
      "2018 год: 959\n",
      "2015 год: 70\n",
      "2017 год: 271\n",
      "2016 год: 67\n",
      "2014 год: 18\n",
      "\n",
      "Пропуски 2019 года составляют от всех пропусков: 0.5646023263124803\n",
      "Пропуски 2018 года составляют от всех пропусков: 0.30147752279157497\n"
     ]
    }
   ],
   "source": [
    "print(data['first_day_exposition'])\n",
    "print()\n",
    "#пока даты в формате строк, так что просто отрежем первые 4 символа\n",
    "data['year'] = data['first_day_exposition'].str[:4]\n",
    "#а теперь подсчитаем пропуски в days_exposition по годам\n",
    "for year in data['year'].unique():\n",
    "    print(year, 'год:', data.query('year == @year')['days_exposition'].isna().sum())\n",
    "\n",
    "print()\n",
    "print('Пропуски 2019 года составляют от всех пропусков:',1796/data['days_exposition'].isna().sum())\n",
    "print('Пропуски 2018 года составляют от всех пропусков:',959/data['days_exposition'].isna().sum())"
   ]
  },
  {
   "cell_type": "markdown",
   "metadata": {},
   "source": [
    "Действительно, большая часть квартир (86%) с пропусками в days_exposition были размещены в 2019 и 2018 году, что соотвествует нашей гипотезе - скорее всего, пропуски показывают, что объявление о продаже квартиры все еще не было снято, когда был выгружен датасет. \n",
    "\n",
    "Можно было бы подсчитать примерно дату выгрузки датасета и вычесть из нее дату выставления квартиры на продажу, однако на наш вгляд лучше оставить пропуски, так как по факту выведенная цифра не будет отражать, сколько квартира на самом деле \"висела\" до продажи (или снятия с сайта)."
   ]
  },
  {
   "cell_type": "markdown",
   "metadata": {},
   "source": [
    "### ***Работа с типами данных, уникальными значениями и редкими значениями:***\n",
    "\n",
    "Найдем столбцы, в которых нужно изменить тип данных. Преобразуем тип данных в выбранных столбцах. В ячейке с типом markdown поясним, почему нужно изменить тип данных.\n"
   ]
  },
  {
   "cell_type": "code",
   "execution_count": 46,
   "metadata": {},
   "outputs": [
    {
     "name": "stdout",
     "output_type": "stream",
     "text": [
      "<class 'pandas.core.frame.DataFrame'>\n",
      "RangeIndex: 23699 entries, 0 to 23698\n",
      "Data columns (total 25 columns):\n",
      " #   Column                Non-Null Count  Dtype  \n",
      "---  ------                --------------  -----  \n",
      " 0   total_images          23699 non-null  int64  \n",
      " 1   last_price            23699 non-null  float64\n",
      " 2   total_area            23699 non-null  float64\n",
      " 3   first_day_exposition  23699 non-null  object \n",
      " 4   rooms                 23699 non-null  int64  \n",
      " 5   ceiling_height        23699 non-null  float64\n",
      " 6   floors_total          23613 non-null  float64\n",
      " 7   living_area           23699 non-null  float64\n",
      " 8   floor                 23699 non-null  int64  \n",
      " 9   is_apartment          2775 non-null   object \n",
      " 10  studio                23699 non-null  bool   \n",
      " 11  open_plan             23699 non-null  bool   \n",
      " 12  kitchen_area          23699 non-null  float64\n",
      " 13  balcony               23699 non-null  float64\n",
      " 14  locality_name         23650 non-null  object \n",
      " 15  airports_nearest      18305 non-null  float64\n",
      " 16  cityCenters_nearest   18305 non-null  float64\n",
      " 17  parks_around3000      23699 non-null  float64\n",
      " 18  parks_nearest         8079 non-null   float64\n",
      " 19  ponds_around3000      23699 non-null  float64\n",
      " 20  ponds_nearest         9110 non-null   float64\n",
      " 21  days_exposition       20518 non-null  float64\n",
      " 22  total_area_category   23699 non-null  object \n",
      " 23  living_kitchen        23699 non-null  float64\n",
      " 24  year                  23699 non-null  object \n",
      "dtypes: bool(2), float64(15), int64(3), object(5)\n",
      "memory usage: 4.2+ MB\n"
     ]
    }
   ],
   "source": [
    "# Сначала посмотрим на типы данных\n",
    "data.info()"
   ]
  },
  {
   "cell_type": "markdown",
   "metadata": {},
   "source": [
    "***\n",
    "\n",
    " \n",
    " - Столбец first_day_exposition, который является датой, сейчас имеет тип object, заменим его на datetime для удобства\n",
    " - Is apartment сейчас имеет тип object, хотя принимает значения True и False, заменим на bool\n",
    " - Столбцы parks_around3000, ponds_around3000 и balcony имеют тип float64, хотя по идее все значения в этих столбцах должны быть целыми числами - проверим, в чем дело, заменим на int.\n",
    " (Это также относится к столбцам floors_total и  days_exposition, но в них мы оставили NaN, которые не могут быть int)"
   ]
  },
  {
   "cell_type": "code",
   "execution_count": 47,
   "metadata": {},
   "outputs": [
    {
     "data": {
      "text/plain": [
       "0   2019-03-07\n",
       "1   2018-12-04\n",
       "Name: first_day_exposition, dtype: datetime64[ns]"
      ]
     },
     "execution_count": 47,
     "metadata": {},
     "output_type": "execute_result"
    }
   ],
   "source": [
    "data['first_day_exposition'] =  pd.to_datetime(data['first_day_exposition'], format='%Y%m%dT%H:%M:%S')\n",
    "data['first_day_exposition'].head(2)\n",
    "#Заменили тип на datetime"
   ]
  },
  {
   "cell_type": "code",
   "execution_count": 48,
   "metadata": {},
   "outputs": [],
   "source": [
    "data.loc[data['is_apartment'] == 'True', 'is_apartment'] = True"
   ]
  },
  {
   "cell_type": "code",
   "execution_count": 49,
   "metadata": {},
   "outputs": [],
   "source": [
    "data.loc[data['is_apartment'] == 'False', 'is_apartment'] = False"
   ]
  },
  {
   "cell_type": "markdown",
   "metadata": {},
   "source": [
    "Если менять тип данных в столбце с помощью astype('bool'), пропуски принимают значение True.\n",
    "Тип столбца остался object, но значения в нем теперь булевые"
   ]
  },
  {
   "cell_type": "code",
   "execution_count": 50,
   "metadata": {},
   "outputs": [
    {
     "name": "stdout",
     "output_type": "stream",
     "text": [
      "[1. 0. 2. 3.]\n"
     ]
    },
    {
     "data": {
      "text/plain": [
       "array([1, 0, 2, 3], dtype=int64)"
      ]
     },
     "execution_count": 50,
     "metadata": {},
     "output_type": "execute_result"
    }
   ],
   "source": [
    "print(data['parks_around3000'].unique())\n",
    "#Все целые числа, можно переводить в int\n",
    "data['parks_around3000'] = data['parks_around3000'].astype('int64')\n",
    "data['parks_around3000'].unique()"
   ]
  },
  {
   "cell_type": "code",
   "execution_count": 51,
   "metadata": {},
   "outputs": [
    {
     "name": "stdout",
     "output_type": "stream",
     "text": [
      "[2. 0. 3. 1.]\n"
     ]
    },
    {
     "data": {
      "text/plain": [
       "array([2, 0, 3, 1], dtype=int64)"
      ]
     },
     "execution_count": 51,
     "metadata": {},
     "output_type": "execute_result"
    }
   ],
   "source": [
    "print(data['ponds_around3000'].unique())\n",
    "#Проделаем то же самое с водоемами\n",
    "data['ponds_around3000'] = data['ponds_around3000'].astype('int64')\n",
    "data['ponds_around3000'].unique()"
   ]
  },
  {
   "cell_type": "code",
   "execution_count": 52,
   "metadata": {},
   "outputs": [
    {
     "name": "stdout",
     "output_type": "stream",
     "text": [
      "[0. 2. 1. 5. 4. 3.]\n"
     ]
    },
    {
     "data": {
      "text/plain": [
       "array([0, 2, 1, 5, 4, 3], dtype=int64)"
      ]
     },
     "execution_count": 52,
     "metadata": {},
     "output_type": "execute_result"
    }
   ],
   "source": [
    "print(data['balcony'].unique())\n",
    "data['balcony'] = data['balcony'].astype('int64')\n",
    "data['balcony'].unique()"
   ]
  },
  {
   "cell_type": "code",
   "execution_count": 53,
   "metadata": {},
   "outputs": [
    {
     "name": "stdout",
     "output_type": "stream",
     "text": [
      "365\n"
     ]
    },
    {
     "data": {
      "text/plain": [
       "323"
      ]
     },
     "execution_count": 53,
     "metadata": {},
     "output_type": "execute_result"
    }
   ],
   "source": [
    "# Дальше займемся дубликатами в столбце locality_name\n",
    "import numpy as np\n",
    "print(len(data['locality_name'].unique()))\n",
    "\n",
    "data['correct_locality'] = data['locality_name'].str.lower()\n",
    "data['correct_locality'] = data['correct_locality'].str.replace('ё', 'е')\n",
    "data['correct_locality'] = data['correct_locality'].str.replace(' городского типа', '')\n",
    "data['correct_locality'] = data['correct_locality'].str.replace('городской ', '')\n",
    "data['correct_locality'] = data['correct_locality'].str.strip()\n",
    "\n",
    "len(data['correct_locality'].unique())\n",
    "#Число уникальных значений в столбце с названиями мест сократилось с 365 до 323"
   ]
  },
  {
   "cell_type": "code",
   "execution_count": 54,
   "metadata": {},
   "outputs": [],
   "source": [
    "# data['correct_locality'].unique()\n",
    "#Отлично, похоже все найденные дубликаты сократились."
   ]
  },
  {
   "cell_type": "code",
   "execution_count": 55,
   "metadata": {},
   "outputs": [],
   "source": [
    "#попробуем еще раз заполнить пропуски в airport_nearest и cityCenters_nearest с учетом выброшенных дубликатов\n",
    "for i in data['correct_locality'].unique():\n",
    "    data.loc[(data['correct_locality'] == i) & (data['airports_nearest'].isna()), 'airports_nearest'] = \\\n",
    "    data.loc[(data['correct_locality'] == i), 'airports_nearest'].mean()\n",
    "\n",
    "for i in data['locality_name'].unique():\n",
    "    data.loc[(data['locality_name'] == i) & (data['cityCenters_nearest'].isna()), 'cityCenters_nearest'] = \\\n",
    "    data.loc[(data['locality_name'] == i), 'cityCenters_nearest'].mean()"
   ]
  },
  {
   "cell_type": "code",
   "execution_count": 56,
   "metadata": {},
   "outputs": [
    {
     "name": "stdout",
     "output_type": "stream",
     "text": [
      "пропусков в расстоянии до аэропорта: 4872\n",
      "пропусков в расстоянии до центра города: 5394\n"
     ]
    }
   ],
   "source": [
    "print('пропусков в расстоянии до аэропорта:', data['airports_nearest'].isna().sum())\n",
    "print('пропусков в расстоянии до центра города:', data['cityCenters_nearest'].isna().sum())\n",
    "\n",
    "# Ура! Удалось еще и сократить число пропусков в столбце airport_nearest"
   ]
  },
  {
   "cell_type": "code",
   "execution_count": 57,
   "metadata": {},
   "outputs": [
    {
     "data": {
      "text/html": [
       "<div>\n",
       "<style scoped>\n",
       "    .dataframe tbody tr th:only-of-type {\n",
       "        vertical-align: middle;\n",
       "    }\n",
       "\n",
       "    .dataframe tbody tr th {\n",
       "        vertical-align: top;\n",
       "    }\n",
       "\n",
       "    .dataframe thead th {\n",
       "        text-align: right;\n",
       "    }\n",
       "</style>\n",
       "<table border=\"1\" class=\"dataframe\">\n",
       "  <thead>\n",
       "    <tr style=\"text-align: right;\">\n",
       "      <th></th>\n",
       "      <th>total_images</th>\n",
       "      <th>last_price</th>\n",
       "      <th>total_area</th>\n",
       "      <th>first_day_exposition</th>\n",
       "      <th>rooms</th>\n",
       "      <th>ceiling_height</th>\n",
       "      <th>floors_total</th>\n",
       "      <th>living_area</th>\n",
       "      <th>floor</th>\n",
       "      <th>is_apartment</th>\n",
       "      <th>...</th>\n",
       "      <th>cityCenters_nearest</th>\n",
       "      <th>parks_around3000</th>\n",
       "      <th>parks_nearest</th>\n",
       "      <th>ponds_around3000</th>\n",
       "      <th>ponds_nearest</th>\n",
       "      <th>days_exposition</th>\n",
       "      <th>total_area_category</th>\n",
       "      <th>living_kitchen</th>\n",
       "      <th>year</th>\n",
       "      <th>correct_locality</th>\n",
       "    </tr>\n",
       "  </thead>\n",
       "  <tbody>\n",
       "  </tbody>\n",
       "</table>\n",
       "<p>0 rows × 26 columns</p>\n",
       "</div>"
      ],
      "text/plain": [
       "Empty DataFrame\n",
       "Columns: [total_images, last_price, total_area, first_day_exposition, rooms, ceiling_height, floors_total, living_area, floor, is_apartment, studio, open_plan, kitchen_area, balcony, locality_name, airports_nearest, cityCenters_nearest, parks_around3000, parks_nearest, ponds_around3000, ponds_nearest, days_exposition, total_area_category, living_kitchen, year, correct_locality]\n",
       "Index: []\n",
       "\n",
       "[0 rows x 26 columns]"
      ]
     },
     "execution_count": 57,
     "metadata": {},
     "output_type": "execute_result"
    }
   ],
   "source": [
    "#Начнем со столбца ceiling_height\n",
    "data.loc[data['ceiling_height'] > 10, 'ceiling_height'] = data.query('ceiling_height > 10')['ceiling_height']/10\n",
    "data.query('ceiling_height >= 10 | ceiling_height < 2') \n",
    "\n",
    "#Так у нас остался один потолок высоток 10 метров и немного потолков высотой меньше 2 метров.\n",
    "#Квартира с такой высотой потолков кажется скорее выбросом, удалим эти строки.\n",
    "\n",
    "data = data[~(data['ceiling_height'] >= 10)]\n",
    "data = data[~(data['ceiling_height'] < 2)]\n",
    "\n",
    "data.query('ceiling_height >= 10 | ceiling_height < 2')\n",
    "#Потолки приведены в норму, идем дальше."
   ]
  },
  {
   "cell_type": "code",
   "execution_count": 58,
   "metadata": {},
   "outputs": [
    {
     "data": {
      "text/plain": [
       "<AxesSubplot:>"
      ]
     },
     "execution_count": 58,
     "metadata": {},
     "output_type": "execute_result"
    },
    {
     "data": {
      "image/png": "[encoded data removed]",
      "text/plain": [
       "<Figure size 432x288 with 1 Axes>"
      ]
     },
     "metadata": {
      "needs_background": "light"
     },
     "output_type": "display_data"
    }
   ],
   "source": [
    "#Посмотрим на площадь и цену - построим боксплоты!\n",
    "data['log_price'] = np.log(data['last_price']) #логарифмируем цены, чтобы стала понянее форма распределения\n",
    "data.boxplot(column = 'log_price')\n"
   ]
  },
  {
   "cell_type": "code",
   "execution_count": 59,
   "metadata": {},
   "outputs": [
    {
     "name": "stdout",
     "output_type": "stream",
     "text": [
      "3.895665386401047\n"
     ]
    },
    {
     "data": {
      "text/plain": [
       "<AxesSubplot:>"
      ]
     },
     "execution_count": 59,
     "metadata": {},
     "output_type": "execute_result"
    },
    {
     "data": {
      "image/png": "[encoded data removed]",
      "text/plain": [
       "<Figure size 432x288 with 1 Axes>"
      ]
     },
     "metadata": {
      "needs_background": "light"
     },
     "output_type": "display_data"
    }
   ],
   "source": [
    "#Посмотрим, сколько данных отвалится, если удалить все строки вне \"усов\"\n",
    "print(len(data.query('log_price < 14 | log_price > 17'))/len(data['total_area'])*100)\n",
    "#Выбросы за усами составляют всего 4 процента данных, отбросим их.\n",
    "data = data.query('~(log_price < 14 | log_price > 17)')\n",
    "data.boxplot(column = 'last_price')"
   ]
  },
  {
   "cell_type": "code",
   "execution_count": 60,
   "metadata": {},
   "outputs": [
    {
     "name": "stdout",
     "output_type": "stream",
     "text": [
      "4.084321475625823\n"
     ]
    },
    {
     "data": {
      "image/png": "[encoded data removed]",
      "text/plain": [
       "<Figure size 432x288 with 1 Axes>"
      ]
     },
     "metadata": {
      "needs_background": "light"
     },
     "output_type": "display_data"
    }
   ],
   "source": [
    "#Посмотрим на боксплот площади\n",
    "data.boxplot(column = 'total_area')\n",
    "print(len(data.query('total_area > 110')['total_area'])/len(data['total_area'])*100)\n",
    "\n",
    "#huge_flats = data.query('total_area > 110')\n",
    "#data = data.query('~(total_area > 110)')"
   ]
  },
  {
   "cell_type": "markdown",
   "metadata": {},
   "source": [
    "Итак, квартиры с общей площадью больше 110 m2 составляют 4% всех квартир. \n",
    "Такой объем данных разрешимо отбросить - с учетом отброшенных ранее квартир с редкими ценами, мы отбросим 8% всех данных. Сохраним их на всякий случай в отдельный запасной датасет."
   ]
  },
  {
   "cell_type": "code",
   "execution_count": 61,
   "metadata": {},
   "outputs": [
    {
     "data": {
      "text/plain": [
       "<AxesSubplot:>"
      ]
     },
     "execution_count": 61,
     "metadata": {},
     "output_type": "execute_result"
    },
    {
     "data": {
      "image/png": "[encoded data removed]",
      "text/plain": [
       "<Figure size 432x288 with 1 Axes>"
      ]
     },
     "metadata": {
      "needs_background": "light"
     },
     "output_type": "display_data"
    }
   ],
   "source": [
    "huge_flats = data.query('total_area > 110')\n",
    "data = data.query('~(total_area > 110)')\n",
    "data.boxplot(column = 'total_area')"
   ]
  },
  {
   "cell_type": "code",
   "execution_count": 62,
   "metadata": {},
   "outputs": [
    {
     "data": {
      "text/plain": [
       "<AxesSubplot:>"
      ]
     },
     "execution_count": 62,
     "metadata": {},
     "output_type": "execute_result"
    },
    {
     "data": {
      "image/png": "[encoded data removed]",
      "text/plain": [
       "<Figure size 432x288 with 1 Axes>"
      ]
     },
     "metadata": {
      "needs_background": "light"
     },
     "output_type": "display_data"
    }
   ],
   "source": [
    "#посмотрим на этажи\n",
    "data[data['floors_total'] < data['floor']] #проверим, нет ли тут \"вылезающих\" этажей\n",
    "#таких аномалий не обнаружено\n",
    "\n",
    "data.boxplot(column = 'floor')\n",
    "#нет нулевых этажей, все значения выглядят правдоподобно, редких значений немного"
   ]
  },
  {
   "cell_type": "code",
   "execution_count": 63,
   "metadata": {},
   "outputs": [
    {
     "data": {
      "image/png": "[encoded data removed]",
      "text/plain": [
       "<Figure size 432x288 with 1 Axes>"
      ]
     },
     "metadata": {
      "needs_background": "light"
     },
     "output_type": "display_data"
    }
   ],
   "source": [
    "#проверим, что с количеством этажей\n",
    "data.boxplot(column = 'floors_total') \n",
    "#теоретически, могут быть дома больше 50 этажей, но подозрительно. Посмотрим на них\n",
    "data.query('floors_total > 50')\n",
    "#первый случай похож на опечатку (т.е. на самом деле этажей в доме 6)\n",
    "#объяснения для второго придумать не удалось - похоже, это действительно дом с 52 этажами.\n",
    "data.loc[data['floors_total'] == 60, 'floors_total'] = 6"
   ]
  },
  {
   "cell_type": "code",
   "execution_count": 64,
   "metadata": {},
   "outputs": [
    {
     "data": {
      "text/plain": [
       "<AxesSubplot:>"
      ]
     },
     "execution_count": 64,
     "metadata": {},
     "output_type": "execute_result"
    },
    {
     "data": {
      "image/png": "[encoded data removed]",
      "text/plain": [
       "<Figure size 432x288 with 1 Axes>"
      ]
     },
     "metadata": {
      "needs_background": "light"
     },
     "output_type": "display_data"
    }
   ],
   "source": [
    "#посмотрим на количество комнат\n",
    "data.boxplot(column = 'rooms') \n",
    "#тут все в порядке"
   ]
  },
  {
   "cell_type": "markdown",
   "metadata": {},
   "source": [
    "**Обнаруженные особенности в данных:** \n",
    "\n",
    "1. В некоторых строках были допущены опечатки в столбце ceiling_height, что привело к появлению аномально высоких потолков. Так как природа аномалии была понятна, мы исправили эти значения. Также обнаружились квартиры с высотой потолка ниже 2 метров, которые представляют собой редкие значения - эти строки были удалены из датасета.\n",
    "\n",
    "2. Очень дорогие и/или очень большие квартиры (ценой больше 18 миллионов и площадью больше 110 метров), хоть и не являются аномалиями (т.е. такие квартиры, скорее всего, реально существуют), все-таки являются редкими в датасете (суммарно они составляли около 8% всех данных) и искажают среднее и распределение важных нам показателей. Строки с такими значениями были удалены из датасета.\n",
    "\n",
    "3. В датасете нашлись две квартиры в домах, где больше 50 этажей. В случае одной из квартир (на 4 этаже в доме с 60 этажами и вне большого города) мы посчитали это опечаткой и заменили значение на 6. В случае с другой квартирой (дом с 52 этажами в Санкт-Петербурге) опечатка кажется менее вероятной, строка была оставлена в датасете несмотря на аномальность значения.\n",
    "\n"
   ]
  },
  {
   "cell_type": "markdown",
   "metadata": {},
   "source": [
    "## Посчитайте и добавьте в таблицу новые столбцы"
   ]
  },
  {
   "cell_type": "code",
   "execution_count": 65,
   "metadata": {},
   "outputs": [],
   "source": [
    "#цена одного квадратного метра\n",
    "data['price_per_m'] = data['last_price']/data['total_area']"
   ]
  },
  {
   "cell_type": "code",
   "execution_count": 66,
   "metadata": {},
   "outputs": [],
   "source": [
    "#день недели публикации объявления (0 — понедельник, 1 — вторник и так далее);\n",
    "data['day_of_week'] = data['first_day_exposition'].dt.dayofweek #day_name() - для проверки с названиями"
   ]
  },
  {
   "cell_type": "code",
   "execution_count": 67,
   "metadata": {},
   "outputs": [],
   "source": [
    "#месяц публикации объявления\n",
    "data['month'] = data['first_day_exposition'].dt.month"
   ]
  },
  {
   "cell_type": "code",
   "execution_count": 68,
   "metadata": {},
   "outputs": [],
   "source": [
    "#год публикации объявления;\n",
    "data['year'] = data['first_day_exposition'].dt.year"
   ]
  },
  {
   "cell_type": "code",
   "execution_count": 69,
   "metadata": {},
   "outputs": [],
   "source": [
    "#тип этажа квартиры (значения — «первый», «последний», «другой»)\n",
    "for i in data.index:\n",
    "    if data.loc[i,'floor'] == data.loc[i,'floors_total']:\n",
    "        data.loc[i,'type_floor'] = 'последний'\n",
    "    elif data.loc[i,'floor'] == 1:\n",
    "        data.loc[i,'type_floor'] = 'первый'\n",
    "    else:\n",
    "        data.loc[i,'type_floor'] = 'другой'"
   ]
  },
  {
   "cell_type": "code",
   "execution_count": 70,
   "metadata": {},
   "outputs": [],
   "source": [
    "#расстояние до центра города в километрах (переведите из м в км и округлите до целых значений)\n",
    "data['center_nearest_km'] = data['cityCenters_nearest']/1000\n",
    "data['center_nearest_km'] = data['center_nearest_km'].round(2)"
   ]
  },
  {
   "cell_type": "markdown",
   "metadata": {},
   "source": [
    "## Проведите исследовательский анализ данных"
   ]
  },
  {
   "cell_type": "markdown",
   "metadata": {},
   "source": [
    "***\n",
    "Изучим следующие параметры объектов:\n",
    "- общая площадь;\n",
    "- жилая площадь;\n",
    "- площадь кухни;\n",
    "- цена объекта;\n",
    "- количество комнат;\n",
    "- высота потолков;\n",
    "- этаж квартиры;\n",
    "- тип этажа квартиры («первый», «последний», «другой»);\n",
    "- общее количество этажей в доме;\n",
    "- расстояние до центра города в метрах;\n",
    "- расстояние до ближайшего аэропорта;\n",
    "- расстояние до ближайшего парка;\n",
    "- день и месяц публикации объявления.\n",
    "\n",
    "Построим отдельные гистограммы для каждого из этих параметров. Опишим все ваши наблюдения по параметрам."
   ]
  },
  {
   "cell_type": "code",
   "execution_count": 71,
   "metadata": {},
   "outputs": [
    {
     "data": {
      "text/plain": [
       "[Text(0, 0, '16220'), Text(0, 0, '2938'), Text(0, 0, '2682')]"
      ]
     },
     "execution_count": 71,
     "metadata": {},
     "output_type": "execute_result"
    },
    {
     "data": {
      "image/png": "[encoded data removed]",
      "text/plain": [
       "<Figure size 432x288 with 1 Axes>"
      ]
     },
     "metadata": {
      "needs_background": "light"
     },
     "output_type": "display_data"
    }
   ],
   "source": [
    "ax = data['type_floor'].value_counts().plot.bar()\n",
    "ax.bar_label(ax.containers[0])"
   ]
  },
  {
   "cell_type": "code",
   "execution_count": 72,
   "metadata": {},
   "outputs": [
    {
     "name": "stdout",
     "output_type": "stream",
     "text": [
      "total_area\n",
      "медиана: 50.2 ; среднее: 54.12810027472518 ; максимум: 110.0 ; минимум: 12.0 ; мода: 0    45.0\n",
      "dtype: float64\n"
     ]
    },
    {
     "data": {
      "image/png": "[encoded data removed]",
      "text/plain": [
       "<Figure size 432x288 with 1 Axes>"
      ]
     },
     "metadata": {
      "needs_background": "light"
     },
     "output_type": "display_data"
    },
    {
     "name": "stdout",
     "output_type": "stream",
     "text": [
      "living_area\n",
      "медиана: 30.0 ; среднее: 30.89643138804906 ; максимум: 101.0 ; минимум: 2.0 ; мода: 0    17.0\n",
      "dtype: float64\n"
     ]
    },
    {
     "data": {
      "image/png": "[encoded data removed]",
      "text/plain": [
       "<Figure size 432x288 with 1 Axes>"
      ]
     },
     "metadata": {
      "needs_background": "light"
     },
     "output_type": "display_data"
    },
    {
     "name": "stdout",
     "output_type": "stream",
     "text": [
      "kitchen_area\n",
      "медиана: 9.0 ; среднее: 9.807778846153813 ; максимум: 55.7 ; минимум: 1.3 ; мода: 0    8.0\n",
      "dtype: float64\n"
     ]
    },
    {
     "data": {
      "image/png": "[encoded data removed]",
      "text/plain": [
       "<Figure size 432x288 with 1 Axes>"
      ]
     },
     "metadata": {
      "needs_background": "light"
     },
     "output_type": "display_data"
    },
    {
     "name": "stdout",
     "output_type": "stream",
     "text": [
      "last_price\n",
      "медиана: 4500000.0 ; среднее: 5249730.903159341 ; максимум: 24000000.0 ; минимум: 1220000.0 ; мода: 0    4500000.0\n",
      "dtype: float64\n"
     ]
    },
    {
     "data": {
      "image/png": "[encoded data removed]",
      "text/plain": [
       "<Figure size 432x288 with 1 Axes>"
      ]
     },
     "metadata": {
      "needs_background": "light"
     },
     "output_type": "display_data"
    },
    {
     "name": "stdout",
     "output_type": "stream",
     "text": [
      "rooms\n",
      "медиана: 2.0 ; среднее: 1.9433150183150183 ; максимум: 7 ; минимум: 0 ; мода: 0    1\n",
      "dtype: int64\n"
     ]
    },
    {
     "data": {
      "image/png": "[encoded data removed]",
      "text/plain": [
       "<Figure size 432x288 with 1 Axes>"
      ]
     },
     "metadata": {
      "needs_background": "light"
     },
     "output_type": "display_data"
    },
    {
     "name": "stdout",
     "output_type": "stream",
     "text": [
      "ceiling_height\n",
      "медиана: 2.65 ; среднее: 2.6804574175827605 ; максимум: 8.3 ; минимум: 2.0 ; мода: 0    2.65\n",
      "dtype: float64\n"
     ]
    },
    {
     "data": {
      "image/png": "[encoded data removed]",
      "text/plain": [
       "<Figure size 432x288 with 1 Axes>"
      ]
     },
     "metadata": {
      "needs_background": "light"
     },
     "output_type": "display_data"
    },
    {
     "name": "stdout",
     "output_type": "stream",
     "text": [
      "floor\n",
      "медиана: 4.0 ; среднее: 5.979578754578754 ; максимум: 33 ; минимум: 1 ; мода: 0    2\n",
      "dtype: int64\n"
     ]
    },
    {
     "data": {
      "image/png": "[encoded data removed]",
      "text/plain": [
       "<Figure size 432x288 with 1 Axes>"
      ]
     },
     "metadata": {
      "needs_background": "light"
     },
     "output_type": "display_data"
    },
    {
     "name": "stdout",
     "output_type": "stream",
     "text": [
      "floors_total\n",
      "медиана: 9.0 ; среднее: 10.9217407288268 ; максимум: 52.0 ; минимум: 1.0 ; мода: 0    5.0\n",
      "dtype: float64\n"
     ]
    },
    {
     "data": {
      "image/png": "[encoded data removed]",
      "text/plain": [
       "<Figure size 432x288 with 1 Axes>"
      ]
     },
     "metadata": {
      "needs_background": "light"
     },
     "output_type": "display_data"
    },
    {
     "name": "stdout",
     "output_type": "stream",
     "text": [
      "airports_nearest\n",
      "медиана: 27767.0 ; среднее: 29650.126677010598 ; максимум: 84869.0 ; минимум: 0.0 ; мода: 0    51553.0\n",
      "dtype: float64\n"
     ]
    },
    {
     "data": {
      "image/png": "[encoded data removed]",
      "text/plain": [
       "<Figure size 432x288 with 1 Axes>"
      ]
     },
     "metadata": {
      "needs_background": "light"
     },
     "output_type": "display_data"
    },
    {
     "name": "stdout",
     "output_type": "stream",
     "text": [
      "cityCenters_nearest\n",
      "медиана: 13407.0 ; среднее: 14747.56008064524 ; максимум: 65968.0 ; минимум: 208.0 ; мода: 0    11601.291571\n",
      "dtype: float64\n"
     ]
    },
    {
     "data": {
      "image/png": "[encoded data removed]",
      "text/plain": [
       "<Figure size 432x288 with 1 Axes>"
      ]
     },
     "metadata": {
      "needs_background": "light"
     },
     "output_type": "display_data"
    },
    {
     "name": "stdout",
     "output_type": "stream",
     "text": [
      "parks_nearest\n",
      "медиана: 458.0 ; среднее: 494.28599412340844 ; максимум: 3190.0 ; минимум: 1.0 ; мода: 0    441.0\n",
      "dtype: float64\n"
     ]
    },
    {
     "data": {
      "image/png": "[encoded data removed]",
      "text/plain": [
       "<Figure size 432x288 with 1 Axes>"
      ]
     },
     "metadata": {
      "needs_background": "light"
     },
     "output_type": "display_data"
    },
    {
     "name": "stdout",
     "output_type": "stream",
     "text": [
      "day_of_week\n",
      "медиана: 3.0 ; среднее: 2.5690476190476192 ; максимум: 6 ; минимум: 0 ; мода: 0    3\n",
      "dtype: int64\n"
     ]
    },
    {
     "data": {
      "image/png": "[encoded data removed]",
      "text/plain": [
       "<Figure size 432x288 with 1 Axes>"
      ]
     },
     "metadata": {
      "needs_background": "light"
     },
     "output_type": "display_data"
    },
    {
     "name": "stdout",
     "output_type": "stream",
     "text": [
      "month\n",
      "медиана: 6.0 ; среднее: 6.3968406593406595 ; максимум: 12 ; минимум: 1 ; мода: 0    2\n",
      "dtype: int64\n"
     ]
    },
    {
     "data": {
      "image/png": "[encoded data removed]",
      "text/plain": [
       "<Figure size 432x288 with 1 Axes>"
      ]
     },
     "metadata": {
      "needs_background": "light"
     },
     "output_type": "display_data"
    }
   ],
   "source": [
    "# 'type_floor' будет отдельно барплотом\n",
    "analyze_cols = ['total_area', 'living_area','kitchen_area', 'last_price', 'rooms', \n",
    "                'ceiling_height','floor', 'floors_total', 'airports_nearest',\n",
    "               'cityCenters_nearest', 'parks_nearest', 'day_of_week', 'month']\n",
    "for col in analyze_cols:\n",
    "    print(col)\n",
    "    print('медиана:',data[col].median(),';','среднее:',data[col].mean(),';',\n",
    "          'максимум:', data[col].max(),';','минимум:', data[col].min(), ';', 'мода:',data[col].mode())\n",
    "    data[col].hist(bins = 30)\n",
    "    plt.show()"
   ]
  },
  {
   "cell_type": "markdown",
   "metadata": {},
   "source": [
    "### Наблюдения\n",
    "***\n",
    "\n",
    "**Общая площадь**: медиана: 50.2 ; среднее: 54.12810027472518 ; максимум: 110.0 ; минимум: 12.0. Распредление общей площади близко к нормальному, но имеет два пика - в области медианы и в области 45 м2.\n",
    "\n",
    "**Жилая площадь**: медиана: 30.0 ; среднее: 30.89643138804906 ; максимум: 101.0 ; минимум: 2.0. Распределение по форме напоминает распределение общей площади, что довольно логично, однако в нем гораздо более выраженны два пика. Распредление как будто состоит из двух частей: первой с пиком в районе 17 м2 и второй в области медианы и среднего, около 30 м2. \"Второе\" распредление по форме скорее напоминает распределение Пуассона.\n",
    "\n",
    "**Площадь кухни**: медиана: 9.0 ; среднее: 9.807778846153813 ; максимум: 55.7 ; минимум: 1.3. Распределение скорее ближе к распр. Пуассона, чем к нормальному, мы видим явный пик в области 8 м2, значительная часть значений сконцентрирована очень близко к среднему, к \"хвостам\" относится совсем мало значений, при этом \"хвост\" в сторону увеличения более длинный и пологий.\n",
    "\n",
    "**Цена:** медиана: 4500000.0 ; среднее: 5249730.903159341 ; максимум: 24000000.0 ; минимум 1220000.0. По форме распределение цен похоже на распределение Пуассона, с пиком в медиане (равной моде) и длинным пологим \"хвостом\" справа.\n",
    "\n",
    "**Комнаты:** медиана: 2.0 ; среднее: 1.9433150183150183 ; максимум: 7 ; минимум: 0. Больше всего в выборке квартир с 1-2 комнатами, дальше идут 3-комнатные квартиры. Квартиры с более 4 комнат и студии (0 комнат) составляют небольшую часть выборки.\n",
    "\n",
    "**Высота потолков:** медиана: 2.65 ; среднее: 2.6804574175827605 ; максимум: 8.3 ; минимум: 2.0. Большая часть квартир имеют высоту потолков 2.65 метров (мода и медиана), что примерно соотвествует стандартной высоте потолков в большинстве современных домов. Такие квартиры составляют больше половины всех значений, еще четверть составляют квартиры с потолков 2.5 метров, все остальные варианты высоты потолков приходятся на оставшиеся 25% выборки.\n",
    "\n",
    "**Этаж:** медиана: 4.0 ; среднее: 5.979578754578754 ; максимум: 33 ; минимум: 1. Здесь мы видим распределение Пуассона, чаще всего квартиры в выборке находятся на 2 этаже (возможно, это связано с тем, что меньше покупателей выбирают квартиры на 1 этаже и продавцы слегка искажают реальность при написании объявления). Большая часть квартир находятся на этажах в диапазоне с 2 по 5.\n",
    "\n",
    "**Тип этажа:** Ожидаемо, больше 16 тысяч квартир из датасета не находятся ни на первом, ни на последнем этаже. Квартир на первом и последнем этаже примерно поровну (2.6 и 2.9 тысяч)\n",
    "\n",
    "**Всего этажей:** медиана: 9.0 ; среднее: 10.9217407288268 ; максимум: 52.0 ; минимум: 1.0 ; мода: 5.0. Большинство квартир находятся в домах с 5 или 9 этажами, то есть в классических 5- и 9-этажках советской застройки. Также в выборке есть многооэтажные новостройки и малоэтажные дома.\n",
    "\n",
    "**Расстояние до аэропорта:** медиана: 27767.0 ; среднее: 29650.126677010598 ; максимум: 84869.0 ; минимум: 0.0 ; мода: 51553.0. Квартиры в выборке находятся на расстоянии от 3км (если не считать одну уникальную квартиру со значением 0) до 85км, при этом в распредлении видно 3 отчетливых пика, которые могут быть связаны с опредленными населенными пунктами, в которых находится значительная часть квартир. Эту гипотезу мы проверим в дальнейшем анализе.\n",
    "\n",
    "**Расстояние до центра города:** медиана: 13407.0 ; среднее: 14747.56008064524 ; максимум: 65968.0 ; минимум: 208.0 ; мода: 11601.291571. Здесь мы также не видим нормальное распредление, квартиры расположены на расстоянии от 208 метров до 65 км от центра города. Чаще всего квартиры находятся на расстоянии 11 км от центра.\n",
    "\n",
    "**Растояние до парка:** медиана: 458.0 ; среднее: 494.28599412340844 ; максимум: 3190.0 ; минимум: 1.0 ; мода: 441.0. Среднее, медиана и мода здесь практически совпадают, основная часть квартир, рядом с которыми вообще есть парк, находится на расстоянии 400-1000 метров от ближайшего парка.\n",
    "\n",
    "**День недели:** В основном объявления публикуют в будние дни, гораздо реже в выходные. При этом в будние дни каждый день публиковали примерно одинаковое число объявлений, но чаще всего во вторник и в четверг.\n",
    "\n",
    "**Месяц публикации:** Больше всего объявлений опубликованы в феврале-апреле, меньше всего в месяцы праздников и национальных выходных - декабрь, январь и май. Летом объявлений публикуется меньше, и число объявлений постепенно растет с августа по ноябрь (и потом падает в декабре)."
   ]
  },
  {
   "cell_type": "markdown",
   "metadata": {},
   "source": [
    "***\n",
    "Изучим, как быстро продавались квартиры (столбец days_exposition). Этот параметр показывает, сколько дней было размещено каждое объявление.* \n",
    " \n",
    "Построим гистограмму. Посчитаем среднее и медиану.\n",
    "В ячейке типа markdown опишем, сколько времени обычно занимает продажа. Какие продажи можно считать быстрыми, а какие — необычно долгими?"
   ]
  },
  {
   "cell_type": "code",
   "execution_count": 73,
   "metadata": {},
   "outputs": [
    {
     "name": "stdout",
     "output_type": "stream",
     "text": [
      "days_exposition\n",
      "медиана: 92.0 ; среднее: 174.3601109482939 ; максимум: 1580.0 ; минимум: 1.0 ; мода: 0    45.0\n",
      "dtype: float64\n"
     ]
    },
    {
     "data": {
      "image/png": "[encoded data removed]",
      "text/plain": [
       "<Figure size 432x288 with 1 Axes>"
      ]
     },
     "metadata": {
      "needs_background": "light"
     },
     "output_type": "display_data"
    }
   ],
   "source": [
    "col = 'days_exposition'\n",
    "print(col)\n",
    "print('медиана:',data[col].median(),';','среднее:',data[col].mean(),';',\n",
    "          'максимум:', data[col].max(),';','минимум:', data[col].min(), ';', 'мода:',data[col].mode())\n",
    "data[col].hist(bins = 30)\n",
    "plt.show()"
   ]
  },
  {
   "cell_type": "markdown",
   "metadata": {},
   "source": [
    "**Выводы:** Распределение не является нормальным, поэтому среднее и медиана не так достоверно говорят нам о том, как \"обычно\" проходят продажи. Мода показывает, что чаще всего продажа занимает 1.5 месяца (45 дней). Судя по форме распредления, можно сказать, что квартира \"висит\" необычно долго, если продажа не происходит в течении 200 дней. 45-92 дня (1.5-3 месяца) - нормальный срок продажи квартиры. Минимальный срок продажи - 1 день, кажется слишком быстрым, вполне возможно, что это была не продажа, и хозяин просто по какой-то причине решил снять объявление раньше (передумал продавать, хотел внести изменения и не разобрался с системой и т.п.).\n",
    "    "
   ]
  },
  {
   "cell_type": "markdown",
   "metadata": {},
   "source": [
    "***\n",
    "Какие факторы больше всего влияют на общую (полную) стоимость объекта?\n",
    "Изучим, зависит ли цена от:\n",
    "общей площади;\n",
    "жилой площади;\n",
    "площади кухни;\n",
    "количества комнат;\n",
    "этажа, на котором расположена квартира (первый, последний, другой);\n",
    "даты размещения (день недели, месяц, год).\n",
    "\n",
    "Построим графики, которые покажут зависимость цены от указанных выше параметров.\n"
   ]
  },
  {
   "cell_type": "code",
   "execution_count": 74,
   "metadata": {},
   "outputs": [],
   "source": [
    "price_effect_categ = ['rooms','type_floor', 'day_of_week', 'month', 'year'] #категории\n",
    "price_effect_num = ['total_area', 'living_area', 'kitchen_area'] #количественные переменные"
   ]
  },
  {
   "cell_type": "code",
   "execution_count": 75,
   "metadata": {},
   "outputs": [
    {
     "name": "stdout",
     "output_type": "stream",
     "text": [
      "total_area\n"
     ]
    },
    {
     "data": {
      "image/png": "[encoded data removed]",
      "text/plain": [
       "<Figure size 360x360 with 1 Axes>"
      ]
     },
     "metadata": {
      "needs_background": "light"
     },
     "output_type": "display_data"
    },
    {
     "name": "stdout",
     "output_type": "stream",
     "text": [
      "Корреляция Пирсона и p-value: (0.7170443520258527, 0.0)\n",
      "-------------------------------------------\n",
      "\n",
      "living_area\n"
     ]
    },
    {
     "data": {
      "image/png": "[encoded data removed]",
      "text/plain": [
       "<Figure size 360x360 with 1 Axes>"
      ]
     },
     "metadata": {
      "needs_background": "light"
     },
     "output_type": "display_data"
    },
    {
     "name": "stdout",
     "output_type": "stream",
     "text": [
      "Корреляция Пирсона и p-value: (0.5824717780958408, 0.0)\n",
      "-------------------------------------------\n",
      "\n",
      "kitchen_area\n"
     ]
    },
    {
     "data": {
      "image/png": "[encoded data removed]",
      "text/plain": [
       "<Figure size 360x360 with 1 Axes>"
      ]
     },
     "metadata": {
      "needs_background": "light"
     },
     "output_type": "display_data"
    },
    {
     "name": "stdout",
     "output_type": "stream",
     "text": [
      "Корреляция Пирсона и p-value: (0.527712214030765, 0.0)\n",
      "-------------------------------------------\n",
      "\n"
     ]
    }
   ],
   "source": [
    "for num in price_effect_num:\n",
    "    print(num)\n",
    "    sb.lmplot(data = data, x = num, y = 'last_price')\n",
    "    plt.show()\n",
    "    print('Корреляция Пирсона и p-value:',stats.pearsonr(data['last_price'], data[num]))\n",
    "    print('-------------------------------------------')\n",
    "    print('')"
   ]
  },
  {
   "cell_type": "markdown",
   "metadata": {},
   "source": [
    "**Выводы по связи цены с количественными переменными (площадью):**\n",
    "\n",
    "Мы видим высокую корреляцию между площадью квартиры и ее ценой - 0.71, что вполне ожидаемо, за большую площадь обычно ставят цену выше. С жилой площадью и площадью кухни корреляция меньше, хотя все еще довольно внушительная - 0.58 и 0.52 соотвественно. \n",
    "\n",
    "(p-value во всех случаях стремится к нулю, что скорее всего связано просто с тем, что у нас очень много наблюдений)\n",
    "***"
   ]
  },
  {
   "cell_type": "code",
   "execution_count": 76,
   "metadata": {},
   "outputs": [
    {
     "name": "stdout",
     "output_type": "stream",
     "text": [
      "         last_price\n",
      "rooms              \n",
      "0      3.012814e+06\n",
      "1      3.870252e+06\n",
      "2      5.448398e+06\n",
      "3      6.761797e+06\n",
      "4      7.286987e+06\n",
      "5      7.713750e+06\n",
      "6      1.154438e+07\n",
      "7      1.349000e+07\n"
     ]
    },
    {
     "data": {
      "image/png": "[encoded data removed]",
      "text/plain": [
       "<Figure size 432x288 with 1 Axes>"
      ]
     },
     "metadata": {
      "needs_background": "light"
     },
     "output_type": "display_data"
    },
    {
     "name": "stdout",
     "output_type": "stream",
     "text": [
      "-------------------------------------------\n",
      "\n",
      "              last_price\n",
      "type_floor              \n",
      "другой      5.451604e+06\n",
      "первый      4.392263e+06\n",
      "последний   4.917991e+06\n"
     ]
    },
    {
     "data": {
      "image/png": "[encoded data removed]",
      "text/plain": [
       "<Figure size 432x288 with 1 Axes>"
      ]
     },
     "metadata": {
      "needs_background": "light"
     },
     "output_type": "display_data"
    },
    {
     "name": "stdout",
     "output_type": "stream",
     "text": [
      "-------------------------------------------\n",
      "\n",
      "               last_price\n",
      "day_of_week              \n",
      "0            5.287949e+06\n",
      "1            5.295125e+06\n",
      "2            5.255254e+06\n",
      "3            5.274031e+06\n",
      "4            5.206289e+06\n",
      "5            5.163907e+06\n",
      "6            5.183508e+06\n"
     ]
    },
    {
     "data": {
      "image/png": "[encoded data removed]",
      "text/plain": [
       "<Figure size 432x288 with 1 Axes>"
      ]
     },
     "metadata": {
      "needs_background": "light"
     },
     "output_type": "display_data"
    },
    {
     "name": "stdout",
     "output_type": "stream",
     "text": [
      "-------------------------------------------\n",
      "\n",
      "         last_price\n",
      "month              \n",
      "1      5.302781e+06\n",
      "2      5.249070e+06\n",
      "3      5.222509e+06\n",
      "4      5.385362e+06\n",
      "5      5.159326e+06\n",
      "6      5.118072e+06\n",
      "7      5.228406e+06\n",
      "8      5.236049e+06\n",
      "9      5.381371e+06\n",
      "10     5.199619e+06\n",
      "11     5.254980e+06\n",
      "12     5.193492e+06\n"
     ]
    },
    {
     "data": {
      "image/png": "[encoded data removed]",
      "text/plain": [
       "<Figure size 432x288 with 1 Axes>"
      ]
     },
     "metadata": {
      "needs_background": "light"
     },
     "output_type": "display_data"
    },
    {
     "name": "stdout",
     "output_type": "stream",
     "text": [
      "-------------------------------------------\n",
      "\n",
      "        last_price\n",
      "year              \n",
      "2014  7.039063e+06\n",
      "2015  5.705302e+06\n",
      "2016  5.174226e+06\n",
      "2017  5.138511e+06\n",
      "2018  5.174248e+06\n",
      "2019  5.618693e+06\n"
     ]
    },
    {
     "data": {
      "image/png": "[encoded data removed]",
      "text/plain": [
       "<Figure size 432x288 with 1 Axes>"
      ]
     },
     "metadata": {
      "needs_background": "light"
     },
     "output_type": "display_data"
    },
    {
     "name": "stdout",
     "output_type": "stream",
     "text": [
      "-------------------------------------------\n",
      "\n"
     ]
    }
   ],
   "source": [
    "for categ in price_effect_categ:\n",
    "    piv = data.pivot_table(index = categ, values = 'last_price')\n",
    "    print(piv)\n",
    "    piv.plot(kind = 'bar')\n",
    "    plt.show()\n",
    "    print('-------------------------------------------')\n",
    "    print('')"
   ]
  },
  {
   "cell_type": "markdown",
   "metadata": {},
   "source": [
    "**Выводы по связи категориальных переменных и цены:**\n",
    "\n",
    "- Чем больше комнат, тем больше средняя цена квартиры.\n",
    "- Квартиры на первом этаже в среднем дешевле, чем квартиры на последнем этаже и на других этажах, при этом квартиры на последнем этаже дешевле квартир на других этажах.\n",
    "- Цена не зависела от дня и месяца публикации.\n",
    "- В 2014 году средние цены были выше, чем в последующие годы. В 2016-2018 годах средняя цена оставалась примерно на одном уровне, в 2019 мы видим небольшое повышение средней цены на квартиру."
   ]
  },
  {
   "cell_type": "markdown",
   "metadata": {},
   "source": [
    "***\n",
    "Посчитаем среднюю цену одного квадратного метра в 10 населённых пунктах с наибольшим числом объявлений. Выделим населённые пункты с самой высокой и низкой стоимостью квадратного метра. Эти данные можно найти по имени в столбце locality_name."
   ]
  },
  {
   "cell_type": "code",
   "execution_count": 77,
   "metadata": {},
   "outputs": [
    {
     "name": "stdout",
     "output_type": "stream",
     "text": [
      "Index(['санкт-петербург', 'поселок мурино', 'поселок шушары', 'всеволожск',\n",
      "       'пушкин', 'колпино', 'поселок парголово', 'гатчина', 'деревня кудрово',\n",
      "       'выборг'],\n",
      "      dtype='object', name='correct_locality')\n"
     ]
    }
   ],
   "source": [
    "pop_locality = data.groupby('correct_locality')['last_price'].count().sort_values(ascending = False)[0:10]\n",
    "print(pop_locality.index)"
   ]
  },
  {
   "cell_type": "code",
   "execution_count": 78,
   "metadata": {},
   "outputs": [],
   "source": [
    "#сделаем датасет для самых популярных населенных пунктов\n",
    "pop_locality = data.query('correct_locality in @pop_locality.index') "
   ]
  },
  {
   "cell_type": "code",
   "execution_count": 79,
   "metadata": {},
   "outputs": [
    {
     "data": {
      "text/html": [
       "<div>\n",
       "<style scoped>\n",
       "    .dataframe tbody tr th:only-of-type {\n",
       "        vertical-align: middle;\n",
       "    }\n",
       "\n",
       "    .dataframe tbody tr th {\n",
       "        vertical-align: top;\n",
       "    }\n",
       "\n",
       "    .dataframe thead th {\n",
       "        text-align: right;\n",
       "    }\n",
       "</style>\n",
       "<table border=\"1\" class=\"dataframe\">\n",
       "  <thead>\n",
       "    <tr style=\"text-align: right;\">\n",
       "      <th></th>\n",
       "      <th>price_per_m</th>\n",
       "    </tr>\n",
       "    <tr>\n",
       "      <th>correct_locality</th>\n",
       "      <th></th>\n",
       "    </tr>\n",
       "  </thead>\n",
       "  <tbody>\n",
       "    <tr>\n",
       "      <th>выборг</th>\n",
       "      <td>58984.701422</td>\n",
       "    </tr>\n",
       "    <tr>\n",
       "      <th>всеволожск</th>\n",
       "      <td>67309.220512</td>\n",
       "    </tr>\n",
       "    <tr>\n",
       "      <th>гатчина</th>\n",
       "      <td>69416.321082</td>\n",
       "    </tr>\n",
       "    <tr>\n",
       "      <th>колпино</th>\n",
       "      <td>75370.025473</td>\n",
       "    </tr>\n",
       "    <tr>\n",
       "      <th>поселок шушары</th>\n",
       "      <td>78713.666565</td>\n",
       "    </tr>\n",
       "    <tr>\n",
       "      <th>поселок мурино</th>\n",
       "      <td>85681.762601</td>\n",
       "    </tr>\n",
       "    <tr>\n",
       "      <th>поселок парголово</th>\n",
       "      <td>90332.263023</td>\n",
       "    </tr>\n",
       "    <tr>\n",
       "      <th>деревня кудрово</th>\n",
       "      <td>92409.726322</td>\n",
       "    </tr>\n",
       "    <tr>\n",
       "      <th>пушкин</th>\n",
       "      <td>101879.079761</td>\n",
       "    </tr>\n",
       "    <tr>\n",
       "      <th>санкт-петербург</th>\n",
       "      <td>109362.254564</td>\n",
       "    </tr>\n",
       "  </tbody>\n",
       "</table>\n",
       "</div>"
      ],
      "text/plain": [
       "                     price_per_m\n",
       "correct_locality                \n",
       "выборг              58984.701422\n",
       "всеволожск          67309.220512\n",
       "гатчина             69416.321082\n",
       "колпино             75370.025473\n",
       "поселок шушары      78713.666565\n",
       "поселок мурино      85681.762601\n",
       "поселок парголово   90332.263023\n",
       "деревня кудрово     92409.726322\n",
       "пушкин             101879.079761\n",
       "санкт-петербург    109362.254564"
      ]
     },
     "execution_count": 79,
     "metadata": {},
     "output_type": "execute_result"
    }
   ],
   "source": [
    "pop_locality.pivot_table(index = 'correct_locality', values = 'price_per_m').sort_values(by ='price_per_m')"
   ]
  },
  {
   "cell_type": "markdown",
   "metadata": {},
   "source": [
    "**Выводы по самым популярным населенным пунктам и ценам за м2:**\n",
    "\n",
    "- В число 10 самых популярных населенных пунктов попали: Санкт-Петербург, поселок Мурино, поселок Шушары, Всеволожск, Пушкин, Колпино, поселок Парголово, Гатчина, деревня Кудрово и Выборг.\n",
    "- Самые высокие цены за м2 в Санкт-Петербурге (109362 рублей), а самые низкие в Выборге (58984 рублей)."
   ]
  },
  {
   "cell_type": "markdown",
   "metadata": {},
   "source": [
    "***\n",
    "\n",
    "\n",
    "Выделим квартиры в Санкт-Петербурге с помощью столбца locality_name и вычислите среднюю цену каждого километра. Опишем, как стоимость объектов зависит от расстояния до центра города."
   ]
  },
  {
   "cell_type": "code",
   "execution_count": 145,
   "metadata": {},
   "outputs": [
    {
     "data": {
      "text/plain": [
       "<AxesSubplot:xlabel='center_nearest_km', ylabel='last_price'>"
      ]
     },
     "execution_count": 145,
     "metadata": {},
     "output_type": "execute_result"
    },
    {
     "data": {
      "image/png": "[encoded data removed]",
      "text/plain": [
       "<Figure size 432x288 with 1 Axes>"
      ]
     },
     "metadata": {
      "needs_background": "light"
     },
     "output_type": "display_data"
    }
   ],
   "source": [
    "peter = data.query('correct_locality == \"санкт-петербург\"')\n",
    "peter.plot(kind = 'scatter', x = 'center_nearest_km', y = 'last_price')\n"
   ]
  },
  {
   "cell_type": "code",
   "execution_count": 141,
   "metadata": {},
   "outputs": [
    {
     "name": "stdout",
     "output_type": "stream",
     "text": [
      "     total_images  last_price  total_area first_day_exposition  rooms  \\\n",
      "748            13  14350000.0        74.0           2017-11-28      2   \n",
      "\n",
      "     ceiling_height  floors_total  living_area  floor is_apartment  ...  \\\n",
      "748            3.13           5.0         30.0      3          NaN  ...   \n",
      "\n",
      "     total_area_category  living_kitchen  year  correct_locality  log_price  \\\n",
      "748                    5            55.0  2017   санкт-петербург  16.479261   \n",
      "\n",
      "       price_per_m  day_of_week  month  type_floor  center_nearest_km  \n",
      "748  193918.918919            1     11      другой              27.31  \n",
      "\n",
      "[1 rows x 32 columns]\n"
     ]
    },
    {
     "data": {
      "text/html": [
       "<div>\n",
       "<style scoped>\n",
       "    .dataframe tbody tr th:only-of-type {\n",
       "        vertical-align: middle;\n",
       "    }\n",
       "\n",
       "    .dataframe tbody tr th {\n",
       "        vertical-align: top;\n",
       "    }\n",
       "\n",
       "    .dataframe thead th {\n",
       "        text-align: right;\n",
       "    }\n",
       "</style>\n",
       "<table border=\"1\" class=\"dataframe\">\n",
       "  <thead>\n",
       "    <tr style=\"text-align: right;\">\n",
       "      <th></th>\n",
       "      <th>total_images</th>\n",
       "      <th>last_price</th>\n",
       "      <th>total_area</th>\n",
       "      <th>first_day_exposition</th>\n",
       "      <th>rooms</th>\n",
       "      <th>ceiling_height</th>\n",
       "      <th>floors_total</th>\n",
       "      <th>living_area</th>\n",
       "      <th>floor</th>\n",
       "      <th>is_apartment</th>\n",
       "      <th>...</th>\n",
       "      <th>total_area_category</th>\n",
       "      <th>living_kitchen</th>\n",
       "      <th>year</th>\n",
       "      <th>correct_locality</th>\n",
       "      <th>log_price</th>\n",
       "      <th>price_per_m</th>\n",
       "      <th>day_of_week</th>\n",
       "      <th>month</th>\n",
       "      <th>type_floor</th>\n",
       "      <th>center_nearest_km</th>\n",
       "    </tr>\n",
       "  </thead>\n",
       "  <tbody>\n",
       "  </tbody>\n",
       "</table>\n",
       "<p>0 rows × 32 columns</p>\n",
       "</div>"
      ],
      "text/plain": [
       "Empty DataFrame\n",
       "Columns: [total_images, last_price, total_area, first_day_exposition, rooms, ceiling_height, floors_total, living_area, floor, is_apartment, studio, open_plan, kitchen_area, balcony, locality_name, airports_nearest, cityCenters_nearest, parks_around3000, parks_nearest, ponds_around3000, ponds_nearest, days_exposition, total_area_category, living_kitchen, year, correct_locality, log_price, price_per_m, day_of_week, month, type_floor, center_nearest_km]\n",
       "Index: []\n",
       "\n",
       "[0 rows x 32 columns]"
      ]
     },
     "execution_count": 141,
     "metadata": {},
     "output_type": "execute_result"
    }
   ],
   "source": [
    "#Виден один выброс в районе 28 километра, который точно потом собьет статистику. \n",
    "#Найдем его и выкинем\n",
    "print(peter.query('last_price > 10000000 & center_nearest_km > 25')) #индекс 748\n",
    "peter = peter.drop(748)\n",
    "peter.query('last_price > 10000000 & center_nearest_km > 25')\n",
    "\n",
    "#отлично, аномалия удалена"
   ]
  },
  {
   "cell_type": "code",
   "execution_count": 142,
   "metadata": {},
   "outputs": [],
   "source": [
    "#Чтобы отпределить цены за каждый километр, попробуем найти среднюю ценю для \n",
    "#квартир на каждом километре от центра\n",
    "peter['km_rounded'] = peter['center_nearest_km'].round(0)\n",
    "peter_km = peter.pivot_table(index = 'km_rounded', values = 'last_price')"
   ]
  },
  {
   "cell_type": "code",
   "execution_count": 158,
   "metadata": {},
   "outputs": [
    {
     "data": {
      "text/plain": [
       "<AxesSubplot:xlabel='km_rounded', ylabel='last_price'>"
      ]
     },
     "execution_count": 158,
     "metadata": {},
     "output_type": "execute_result"
    },
    {
     "data": {
      "image/png": "[encoded data removed]",
      "text/plain": [
       "<Figure size 432x288 with 1 Axes>"
      ]
     },
     "metadata": {
      "needs_background": "light"
     },
     "output_type": "display_data"
    }
   ],
   "source": [
    "peter_km.plot(kind = 'scatter', x = 'km_rounded' ,y = 'last_price')"
   ]
  },
  {
   "cell_type": "markdown",
   "metadata": {},
   "source": [
    "На графике мы видим, что средняя цена дейсвительно в целом снижается с отдалением от центра, хотя в радиусе 5 километров от центра картина не такая однозначная - тут это происходит нелинейно. Также мы видим интересное повышение цены с 18 по 20 километр, после которого она снова линейно снижается."
   ]
  },
  {
   "cell_type": "markdown",
   "metadata": {},
   "source": [
    "***\n",
    "Теперь подсчитаем разницу между средней ценой квартир для каждого километра.\n",
    "У нас получится колонка, где напротив каждого километра стоит число, показывающее разницу в средней цене квартир на этом километре и на километр дальше от центра\n",
    "\n",
    "Условно, сколько в среднем придется \"доплатить\", чтобы быть на **этот** километр ближе к центру."
   ]
  },
  {
   "cell_type": "code",
   "execution_count": 146,
   "metadata": {},
   "outputs": [
    {
     "name": "stdout",
     "output_type": "stream",
     "text": [
      "это был последний километр\n"
     ]
    }
   ],
   "source": [
    "for index in peter_km.index:\n",
    "    try:\n",
    "        peter_km.loc[index,'delta_price'] = peter_km.loc[index,'last_price'] - peter_km.loc[index+1,'last_price']\n",
    "    except:\n",
    "        print('это был последний километр')"
   ]
  },
  {
   "cell_type": "code",
   "execution_count": 161,
   "metadata": {},
   "outputs": [
    {
     "data": {
      "text/plain": [
       "<matplotlib.lines.Line2D at 0x1937d5c3070>"
      ]
     },
     "execution_count": 161,
     "metadata": {},
     "output_type": "execute_result"
    },
    {
     "data": {
      "image/png": "[encoded data removed]",
      "text/plain": [
       "<Figure size 432x288 with 1 Axes>"
      ]
     },
     "metadata": {
      "needs_background": "light"
     },
     "output_type": "display_data"
    }
   ],
   "source": [
    "peter_km['km'] = peter_km.index\n",
    "peter_km.plot(kind = 'scatter', x = 'km', y = 'delta_price').axhline(y=0, color='r', linestyle='-')"
   ]
  },
  {
   "cell_type": "markdown",
   "metadata": {},
   "source": []
  },
  {
   "cell_type": "markdown",
   "metadata": {},
   "source": [
    "**Выводы по зависимоти цены квартиры в Санкт-Петербурге от расстояния до центра:**\n",
    "\n",
    "- Cредняя цена на квартиру в целом снижается с отдалением от центра, хотя в радиусе 5 километров от центра картина не такая однозначная - тут это происходит нелинейно. Также мы видим интересное повышение цены с 18 по 20 километр, после которого она снова линейно снижается. Возможно, на этом расстоянии расположено что-то, что немного повышает привлекательность жилья, например, удобная кольцевая дорога или популярный парк.\n",
    "- График дельт для каждого последующего километра показывает, что дейсвительно в самых центральных километрах (5 км от центра) более \"центральные\" квратиры могут стоит дешевле. Возможно это связано с формой центра Санкт-Петербурга, который представлет собой не круг, а группу островов с разной привлекательностью жилья. \n",
    "- В целом можно сказать, что снижение цены на квартиры с отдалением от центра происходит равномерно (прктически все дельты попадают в интервал от 0 до 1.5 миллионов)"
   ]
  },
  {
   "cell_type": "markdown",
   "metadata": {},
   "source": [
    "## Общий вывод"
   ]
  },
  {
   "cell_type": "markdown",
   "metadata": {},
   "source": [
    "Нами были изучены данные по продаже квартир с 2014 по 2019 год в Санкт-Петербурге и соседних населенных пунктах. Можно представить следующие выводы:\n",
    "\n",
    "- Мы обнаружили тесную связь цен на квартиры с общей площадью квартиры (корреляция = 0.7), а также с площадью жилого простраства и кухни (корреляции 0.6 и 0.5 соотественно)\n",
    "- Цена на квартиры на первом и последнем этажах в среднем ниже, чем на квартиры на других этажах\n",
    "- Выше всего средняя цена за метр квадратный в Санкт-Петербурге (около 109 тысяч рублей), ниже всего - в Выборге (около 58 тысяч)\n",
    "- Большая часть квартир продается в Санкт-Петербурге\n",
    "- Большая часть квартир продается в советском жилом фонде 5 и 9-этажек\n",
    "- В основном объявления публикуют в будние дни, гораздо реже в выходные. При этом в будние дни каждый день публиковали примерно одинаковое число объявлений, но чаще всего во вторник и в четверг.Больше всего объявлений опубликованы в феврале-апреле, меньше всего в месяцы праздников и национальных выходных - декабрь, январь и май. Летом объявлений публикуется меньше, и число объявлений постепенно растет с августа по ноябрь (и потом падает в декабре). При этом цена не зависела ни от дня, ни от месяца публикации.\n",
    "- В 2014 году средние цены были выше, чем в последующие годы. В 2016-2018 годах средняя цена оставалась примерно на одном уровне, в 2019 мы видим небольшое повышение средней цены на квартиру.\n",
    "- Чаще всего продажа квартиры занимала 1.5 месяца (45 дней). Можно сказать, что квартира \"висит\" необычно долго, если продажа не происходит в течении 200 дней. 45-92 дня (1.5-3 месяца) - нормальный срок продажи квартиры. "
   ]
  }
 ],
 "metadata": {
  "kernelspec": {
   "display_name": "Python 3 (ipykernel)",
   "language": "python",
   "name": "python3"
  },
  "language_info": {
   "codemirror_mode": {
    "name": "ipython",
    "version": 3
   },
   "file_extension": ".py",
   "mimetype": "text/x-python",
   "name": "python",
   "nbconvert_exporter": "python",
   "pygments_lexer": "ipython3",
   "version": "3.9.7"
  },
  "toc": {
   "base_numbering": 1,
   "nav_menu": {},
   "number_sections": true,
   "sideBar": true,
   "skip_h1_title": true,
   "title_cell": "Table of Contents",
   "title_sidebar": "Contents",
   "toc_cell": false,
   "toc_position": {},
   "toc_section_display": true,
   "toc_window_display": false
  }
 },
 "nbformat": 4,
 "nbformat_minor": 2
}
