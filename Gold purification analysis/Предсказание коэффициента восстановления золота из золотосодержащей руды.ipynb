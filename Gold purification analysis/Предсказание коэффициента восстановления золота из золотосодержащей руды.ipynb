{
 "cells": [
  {
   "cell_type": "markdown",
   "metadata": {
    "toc": true
   },
   "source": [
    "<h1>Содержание<span class=\"tocSkip\"></span></h1>\n",
    "<div class=\"toc\"><ul class=\"toc-item\"><li><span><a href=\"#Подготовка-данных\" data-toc-modified-id=\"Подготовка-данных-1\"><span class=\"toc-item-num\">1&nbsp;&nbsp;</span>Подготовка данных</a></span></li><li><span><a href=\"#Анализ-данных\" data-toc-modified-id=\"Анализ-данных-2\"><span class=\"toc-item-num\">2&nbsp;&nbsp;</span>Анализ данных</a></span></li><li><span><a href=\"#Модель\" data-toc-modified-id=\"Модель-3\"><span class=\"toc-item-num\">3&nbsp;&nbsp;</span>Модель</a></span><ul class=\"toc-item\"><li><span><a href=\"#Модель-1:-Дерево-решений\" data-toc-modified-id=\"Модель-1:-Дерево-решений-3.1\"><span class=\"toc-item-num\">3.1&nbsp;&nbsp;</span>Модель 1: Дерево решений</a></span></li><li><span><a href=\"#Модель-2:-Случайный-лес\" data-toc-modified-id=\"Модель-2:-Случайный-лес-3.2\"><span class=\"toc-item-num\">3.2&nbsp;&nbsp;</span>Модель 2: Случайный лес</a></span></li><li><span><a href=\"#&quot;Глупая&quot;-модель\" data-toc-modified-id=\"&quot;Глупая&quot;-модель-3.3\"><span class=\"toc-item-num\">3.3&nbsp;&nbsp;</span>\"Глупая\" модель</a></span></li></ul></li><li><span><a href=\"#Проверка-качества-модели-на-тестовой-выборке\" data-toc-modified-id=\"Проверка-качества-модели-на-тестовой-выборке-4\"><span class=\"toc-item-num\">4&nbsp;&nbsp;</span>Проверка качества модели на тестовой выборке</a></span></li></ul></div>"
   ]
  },
  {
   "cell_type": "markdown",
   "metadata": {},
   "source": [
    "# Восстановление золота из руды"
   ]
  },
  {
   "cell_type": "markdown",
   "metadata": {},
   "source": [
    "Подготовьте прототип модели машинного обучения для «Цифры». Компания разрабатывает решения для эффективной работы промышленных предприятий.\n",
    "\n",
    "Модель должна предсказать **коэффициент** восстановления золота из золотосодержащей руды. Используйте данные с параметрами добычи и очистки. \n",
    "\n",
    "Модель поможет оптимизировать производство, чтобы не запускать предприятие с убыточными характеристиками.\n",
    "\n",
    "Нужно:\n",
    "\n",
    "1. Подготовить данные;\n",
    "2. Провести исследовательский анализ данных;\n",
    "3. Построить и обучить модель.\n",
    "\n",
    "Чтобы выполнить проект, обращайтесь к библиотекам *pandas*, *matplotlib* и *sklearn.* Вам поможет их документация."
   ]
  },
  {
   "cell_type": "code",
   "execution_count": 48,
   "metadata": {},
   "outputs": [],
   "source": [
    "#загружаем все необходимые библиотеки функции\n",
    "import numpy as np\n",
    "import pandas as pd\n",
    "import matplotlib.pyplot as plt\n",
    "import ggplot as gg"
   ]
  },
  {
   "cell_type": "code",
   "execution_count": 87,
   "metadata": {},
   "outputs": [],
   "source": [
    "from ggplot import aes\n",
    "from ggplot import geom_boxplot\n",
    "from ggplot import facet_wrap\n",
    "from ggplot import facet_grid"
   ]
  },
  {
   "cell_type": "code",
   "execution_count": 49,
   "metadata": {},
   "outputs": [],
   "source": [
    "from sklearn.metrics import mean_absolute_error, mean_absolute_percentage_error, make_scorer\n",
    "from sklearn.utils import shuffle\n",
    "from sklearn.model_selection import train_test_split, cross_val_score\n",
    "from sklearn.preprocessing import StandardScaler\n",
    "\n",
    "from sklearn import linear_model\n",
    "from sklearn.tree import DecisionTreeRegressor\n",
    "from sklearn.ensemble import RandomForestRegressor\n",
    "from sklearn.dummy import DummyRegressor\n",
    "\n",
    "#import sklearn.metrics\n",
    "#from sklearn import"
   ]
  },
  {
   "cell_type": "code",
   "execution_count": 50,
   "metadata": {},
   "outputs": [],
   "source": [
    "train = pd.read_csv('/datasets/gold_recovery_train_new.csv')\n"
   ]
  },
  {
   "cell_type": "code",
   "execution_count": 51,
   "metadata": {},
   "outputs": [],
   "source": [
    "test = pd.read_csv('/datasets/gold_recovery_test_new.csv')\n"
   ]
  },
  {
   "cell_type": "code",
   "execution_count": 52,
   "metadata": {},
   "outputs": [],
   "source": [
    "full = pd.read_csv('/datasets/gold_recovery_full_new.csv')\n"
   ]
  },
  {
   "cell_type": "markdown",
   "metadata": {},
   "source": [
    "## Подготовка данных"
   ]
  },
  {
   "cell_type": "code",
   "execution_count": 1,
   "metadata": {},
   "outputs": [],
   "source": [
    "#Посмотрим на данные\n",
    "\n",
    "data = [train, test, full]\n",
    "\n",
    "for df in data:\n",
    "    display(df.head())\n",
    "    display(df.shape)\n",
    "    display(df.info())\n",
    "    print()\n",
    "    print(\"Пропуски:\", df.isna().sum())\n",
    "    print()\n",
    "    print(\"Явные дубликаты:\", df.duplicated().sum())\n",
    "    print()"
   ]
  },
  {
   "cell_type": "markdown",
   "metadata": {},
   "source": [
    "------\n",
    "**Проверим формулу вычисления эффективности обогащения**"
   ]
  },
  {
   "cell_type": "markdown",
   "metadata": {},
   "source": [
    "Нам нужно смоделировать процесс восстановления золота из золотосодержащей руды. \n",
    "\n",
    "Формула рассчета эффективности обогащения: recovery = ((C * (F - T)) / (F * (C - T))) * 100 \n",
    "\n",
    "Где <br>\n",
    "- С — доля золота в концентрате после флотации/очистки - Final Au\n",
    "- F — доля золота в сырье/концентрате до флотации/очистки - Rougher Au\n",
    "- T — доля золота в отвальных хвостах после флотации/очистки - Rougher tails\n",
    "\n",
    "Для прогноза коэффициента нужно найти долю золота в концентратах и хвостах. Причём важен не только финальный продукт, но и черновой концентрат.\n"
   ]
  },
  {
   "cell_type": "markdown",
   "metadata": {},
   "source": [
    "**Релевантные колонки**\n",
    "\n",
    "final.output.concentrate_au <br>\n",
    "final.output.tail_au <br>\n",
    "\n",
    "primary_cleaner.output.concentrate_au <br>\n",
    "primary_cleaner.output.tail_au <br>\n",
    "secondary_cleaner.output.tail_au <br>\n",
    "\n",
    "rougher.input.feed_au <br>\n",
    "rougher.output.concentrate_au <br>\n",
    "rougher.output.tail_au <br>"
   ]
  },
  {
   "cell_type": "markdown",
   "metadata": {},
   "source": [
    "Проверим, что эффективность обогащения рассчитана правильно. \n",
    "Вычислим её на обучающей выборке для признака rougher.output.recovery. \n"
   ]
  },
  {
   "cell_type": "code",
   "execution_count": 54,
   "metadata": {},
   "outputs": [],
   "source": [
    "def recovery(C, F, T):\n",
    "    recovery = ((C * (F - T)) / (F * (C - T)))*100\n",
    "    return recovery"
   ]
  },
  {
   "cell_type": "code",
   "execution_count": 55,
   "metadata": {},
   "outputs": [
    {
     "name": "stdout",
     "output_type": "stream",
     "text": [
      "82.70450164550269\n"
     ]
    },
    {
     "data": {
      "text/plain": [
       "82.70450164550267"
      ]
     },
     "execution_count": 55,
     "metadata": {},
     "output_type": "execute_result"
    }
   ],
   "source": [
    "rougher_recovery = recovery(train['rougher.output.concentrate_au'],train['rougher.input.feed_au']\\\n",
    "                            ,train['rougher.output.tail_au'])\n",
    "\n",
    "print(rougher_recovery.mean())\n",
    "train['rougher.output.recovery'].mean()"
   ]
  },
  {
   "cell_type": "markdown",
   "metadata": {},
   "source": [
    "Найдем MAE между вашими расчётами и значением признака."
   ]
  },
  {
   "cell_type": "code",
   "execution_count": 56,
   "metadata": {},
   "outputs": [
    {
     "name": "stdout",
     "output_type": "stream",
     "text": [
      "9.73512347450521e-15\n",
      "1.1598012478556472e-16\n"
     ]
    }
   ],
   "source": [
    "rougher_mae = mean_absolute_error(train['rougher.output.recovery'],rougher_recovery)\n",
    "print(rougher_mae)\n",
    "rougher_mape = mean_absolute_percentage_error(train['rougher.output.recovery'],rougher_recovery)\n",
    "print(rougher_mape)"
   ]
  },
  {
   "cell_type": "markdown",
   "metadata": {},
   "source": [
    "**Выводы**: Ура, средние почти одинаковые, а MAE близка к нулю. Похоже, эффективность обогащения рассчитана правильно!"
   ]
  },
  {
   "cell_type": "markdown",
   "metadata": {},
   "source": [
    "------\n",
    "**Проанализируем признаки, недоступные в тестовой выборке**\n",
    "\n",
    "Первым делом посмотрим, какими признаками различаются train и test"
   ]
  },
  {
   "cell_type": "code",
   "execution_count": 57,
   "metadata": {},
   "outputs": [],
   "source": [
    "missing_cols = []\n",
    "same_cols = []\n",
    "new_cols = []\n",
    "\n",
    "for col in train.columns:\n",
    "    if col in test.columns:\n",
    "        same_cols.append(col)\n",
    "    else:\n",
    "        missing_cols.append(col)\n",
    "        \n",
    "for col in test.columns:\n",
    "    if col not in train.columns:\n",
    "        new_cols.append(col)"
   ]
  },
  {
   "cell_type": "code",
   "execution_count": 58,
   "metadata": {},
   "outputs": [
    {
     "name": "stdout",
     "output_type": "stream",
     "text": [
      "Признаки недоступны в тестовой выборке\n"
     ]
    },
    {
     "data": {
      "text/plain": [
       "['final.output.concentrate_ag',\n",
       " 'final.output.concentrate_pb',\n",
       " 'final.output.concentrate_sol',\n",
       " 'final.output.concentrate_au',\n",
       " 'final.output.recovery',\n",
       " 'final.output.tail_ag',\n",
       " 'final.output.tail_pb',\n",
       " 'final.output.tail_sol',\n",
       " 'final.output.tail_au',\n",
       " 'primary_cleaner.output.concentrate_ag',\n",
       " 'primary_cleaner.output.concentrate_pb',\n",
       " 'primary_cleaner.output.concentrate_sol',\n",
       " 'primary_cleaner.output.concentrate_au',\n",
       " 'primary_cleaner.output.tail_ag',\n",
       " 'primary_cleaner.output.tail_pb',\n",
       " 'primary_cleaner.output.tail_sol',\n",
       " 'primary_cleaner.output.tail_au',\n",
       " 'rougher.calculation.sulfate_to_au_concentrate',\n",
       " 'rougher.calculation.floatbank10_sulfate_to_au_feed',\n",
       " 'rougher.calculation.floatbank11_sulfate_to_au_feed',\n",
       " 'rougher.calculation.au_pb_ratio',\n",
       " 'rougher.output.concentrate_ag',\n",
       " 'rougher.output.concentrate_pb',\n",
       " 'rougher.output.concentrate_sol',\n",
       " 'rougher.output.concentrate_au',\n",
       " 'rougher.output.recovery',\n",
       " 'rougher.output.tail_ag',\n",
       " 'rougher.output.tail_pb',\n",
       " 'rougher.output.tail_sol',\n",
       " 'rougher.output.tail_au',\n",
       " 'secondary_cleaner.output.tail_ag',\n",
       " 'secondary_cleaner.output.tail_pb',\n",
       " 'secondary_cleaner.output.tail_sol',\n",
       " 'secondary_cleaner.output.tail_au']"
      ]
     },
     "metadata": {},
     "output_type": "display_data"
    },
    {
     "name": "stdout",
     "output_type": "stream",
     "text": [
      "Новые признаки в тестовой выборке\n",
      "[]\n"
     ]
    }
   ],
   "source": [
    "print(\"Признаки недоступны в тестовой выборке\")\n",
    "display(missing_cols)\n",
    "\n",
    "print(\"Новые признаки в тестовой выборке\")\n",
    "print(new_cols)"
   ]
  },
  {
   "cell_type": "markdown",
   "metadata": {},
   "source": [
    "**Выводы:**\n",
    "\n",
    "Параметры, которых нет в тестовой выборке (типы output и calculation) - это замеры концентраций разных элементов (золота и примесей) в продукте и в хвостах **после** проведения флотации и очистки, а также коэффициенты эффективности обогащения после каждого этапа. Логично, как раз эти параметры нам и требуется предсказать исходя из стартовых концентратов и параметров самой процедуры очистки.\n",
    "\n",
    "Имеет смысл отбросить эти признаки из обучающей выборке, чтобы \"не подглядывать\" таким образом в целевой признак."
   ]
  },
  {
   "cell_type": "markdown",
   "metadata": {},
   "source": [
    "------\n",
    "**Проведем предобработку данных**"
   ]
  },
  {
   "cell_type": "code",
   "execution_count": 59,
   "metadata": {},
   "outputs": [
    {
     "data": {
      "text/html": [
       "<div>\n",
       "<style scoped>\n",
       "    .dataframe tbody tr th:only-of-type {\n",
       "        vertical-align: middle;\n",
       "    }\n",
       "\n",
       "    .dataframe tbody tr th {\n",
       "        vertical-align: top;\n",
       "    }\n",
       "\n",
       "    .dataframe thead th {\n",
       "        text-align: right;\n",
       "    }\n",
       "</style>\n",
       "<table border=\"1\" class=\"dataframe\">\n",
       "  <thead>\n",
       "    <tr style=\"text-align: right;\">\n",
       "      <th></th>\n",
       "      <th>date</th>\n",
       "      <th>primary_cleaner.input.sulfate</th>\n",
       "      <th>primary_cleaner.input.depressant</th>\n",
       "      <th>primary_cleaner.input.feed_size</th>\n",
       "      <th>primary_cleaner.input.xanthate</th>\n",
       "      <th>primary_cleaner.state.floatbank8_a_air</th>\n",
       "      <th>primary_cleaner.state.floatbank8_a_level</th>\n",
       "      <th>primary_cleaner.state.floatbank8_b_air</th>\n",
       "      <th>primary_cleaner.state.floatbank8_b_level</th>\n",
       "      <th>primary_cleaner.state.floatbank8_c_air</th>\n",
       "      <th>...</th>\n",
       "      <th>secondary_cleaner.state.floatbank4_a_air</th>\n",
       "      <th>secondary_cleaner.state.floatbank4_a_level</th>\n",
       "      <th>secondary_cleaner.state.floatbank4_b_air</th>\n",
       "      <th>secondary_cleaner.state.floatbank4_b_level</th>\n",
       "      <th>secondary_cleaner.state.floatbank5_a_air</th>\n",
       "      <th>secondary_cleaner.state.floatbank5_a_level</th>\n",
       "      <th>secondary_cleaner.state.floatbank5_b_air</th>\n",
       "      <th>secondary_cleaner.state.floatbank5_b_level</th>\n",
       "      <th>secondary_cleaner.state.floatbank6_a_air</th>\n",
       "      <th>secondary_cleaner.state.floatbank6_a_level</th>\n",
       "    </tr>\n",
       "  </thead>\n",
       "  <tbody>\n",
       "    <tr>\n",
       "      <th>0</th>\n",
       "      <td>2016-09-01 00:59:59</td>\n",
       "      <td>210.800909</td>\n",
       "      <td>14.993118</td>\n",
       "      <td>8.080000</td>\n",
       "      <td>1.005021</td>\n",
       "      <td>1398.981301</td>\n",
       "      <td>-500.225577</td>\n",
       "      <td>1399.144926</td>\n",
       "      <td>-499.919735</td>\n",
       "      <td>1400.102998</td>\n",
       "      <td>...</td>\n",
       "      <td>12.023554</td>\n",
       "      <td>-497.795834</td>\n",
       "      <td>8.016656</td>\n",
       "      <td>-501.289139</td>\n",
       "      <td>7.946562</td>\n",
       "      <td>-432.317850</td>\n",
       "      <td>4.872511</td>\n",
       "      <td>-500.037437</td>\n",
       "      <td>26.705889</td>\n",
       "      <td>-499.709414</td>\n",
       "    </tr>\n",
       "    <tr>\n",
       "      <th>1</th>\n",
       "      <td>2016-09-01 01:59:59</td>\n",
       "      <td>215.392455</td>\n",
       "      <td>14.987471</td>\n",
       "      <td>8.080000</td>\n",
       "      <td>0.990469</td>\n",
       "      <td>1398.777912</td>\n",
       "      <td>-500.057435</td>\n",
       "      <td>1398.055362</td>\n",
       "      <td>-499.778182</td>\n",
       "      <td>1396.151033</td>\n",
       "      <td>...</td>\n",
       "      <td>12.058140</td>\n",
       "      <td>-498.695773</td>\n",
       "      <td>8.130979</td>\n",
       "      <td>-499.634209</td>\n",
       "      <td>7.958270</td>\n",
       "      <td>-525.839648</td>\n",
       "      <td>4.878850</td>\n",
       "      <td>-500.162375</td>\n",
       "      <td>25.019940</td>\n",
       "      <td>-499.819438</td>\n",
       "    </tr>\n",
       "    <tr>\n",
       "      <th>2</th>\n",
       "      <td>2016-09-01 02:59:59</td>\n",
       "      <td>215.259946</td>\n",
       "      <td>12.884934</td>\n",
       "      <td>7.786667</td>\n",
       "      <td>0.996043</td>\n",
       "      <td>1398.493666</td>\n",
       "      <td>-500.868360</td>\n",
       "      <td>1398.860436</td>\n",
       "      <td>-499.764529</td>\n",
       "      <td>1398.075709</td>\n",
       "      <td>...</td>\n",
       "      <td>11.962366</td>\n",
       "      <td>-498.767484</td>\n",
       "      <td>8.096893</td>\n",
       "      <td>-500.827423</td>\n",
       "      <td>8.071056</td>\n",
       "      <td>-500.801673</td>\n",
       "      <td>4.905125</td>\n",
       "      <td>-499.828510</td>\n",
       "      <td>24.994862</td>\n",
       "      <td>-500.622559</td>\n",
       "    </tr>\n",
       "    <tr>\n",
       "      <th>3</th>\n",
       "      <td>2016-09-01 03:59:59</td>\n",
       "      <td>215.336236</td>\n",
       "      <td>12.006805</td>\n",
       "      <td>7.640000</td>\n",
       "      <td>0.863514</td>\n",
       "      <td>1399.618111</td>\n",
       "      <td>-498.863574</td>\n",
       "      <td>1397.440120</td>\n",
       "      <td>-499.211024</td>\n",
       "      <td>1400.129303</td>\n",
       "      <td>...</td>\n",
       "      <td>12.033091</td>\n",
       "      <td>-498.350935</td>\n",
       "      <td>8.074946</td>\n",
       "      <td>-499.474407</td>\n",
       "      <td>7.897085</td>\n",
       "      <td>-500.868509</td>\n",
       "      <td>4.931400</td>\n",
       "      <td>-499.963623</td>\n",
       "      <td>24.948919</td>\n",
       "      <td>-498.709987</td>\n",
       "    </tr>\n",
       "    <tr>\n",
       "      <th>4</th>\n",
       "      <td>2016-09-01 04:59:59</td>\n",
       "      <td>199.099327</td>\n",
       "      <td>10.682530</td>\n",
       "      <td>7.530000</td>\n",
       "      <td>0.805575</td>\n",
       "      <td>1401.268123</td>\n",
       "      <td>-500.808305</td>\n",
       "      <td>1398.128818</td>\n",
       "      <td>-499.504543</td>\n",
       "      <td>1402.172226</td>\n",
       "      <td>...</td>\n",
       "      <td>12.025367</td>\n",
       "      <td>-500.786497</td>\n",
       "      <td>8.054678</td>\n",
       "      <td>-500.397500</td>\n",
       "      <td>8.107890</td>\n",
       "      <td>-509.526725</td>\n",
       "      <td>4.957674</td>\n",
       "      <td>-500.360026</td>\n",
       "      <td>25.003331</td>\n",
       "      <td>-500.856333</td>\n",
       "    </tr>\n",
       "  </tbody>\n",
       "</table>\n",
       "<p>5 rows × 53 columns</p>\n",
       "</div>"
      ],
      "text/plain": [
       "                  date  primary_cleaner.input.sulfate  \\\n",
       "0  2016-09-01 00:59:59                     210.800909   \n",
       "1  2016-09-01 01:59:59                     215.392455   \n",
       "2  2016-09-01 02:59:59                     215.259946   \n",
       "3  2016-09-01 03:59:59                     215.336236   \n",
       "4  2016-09-01 04:59:59                     199.099327   \n",
       "\n",
       "   primary_cleaner.input.depressant  primary_cleaner.input.feed_size  \\\n",
       "0                         14.993118                         8.080000   \n",
       "1                         14.987471                         8.080000   \n",
       "2                         12.884934                         7.786667   \n",
       "3                         12.006805                         7.640000   \n",
       "4                         10.682530                         7.530000   \n",
       "\n",
       "   primary_cleaner.input.xanthate  primary_cleaner.state.floatbank8_a_air  \\\n",
       "0                        1.005021                             1398.981301   \n",
       "1                        0.990469                             1398.777912   \n",
       "2                        0.996043                             1398.493666   \n",
       "3                        0.863514                             1399.618111   \n",
       "4                        0.805575                             1401.268123   \n",
       "\n",
       "   primary_cleaner.state.floatbank8_a_level  \\\n",
       "0                               -500.225577   \n",
       "1                               -500.057435   \n",
       "2                               -500.868360   \n",
       "3                               -498.863574   \n",
       "4                               -500.808305   \n",
       "\n",
       "   primary_cleaner.state.floatbank8_b_air  \\\n",
       "0                             1399.144926   \n",
       "1                             1398.055362   \n",
       "2                             1398.860436   \n",
       "3                             1397.440120   \n",
       "4                             1398.128818   \n",
       "\n",
       "   primary_cleaner.state.floatbank8_b_level  \\\n",
       "0                               -499.919735   \n",
       "1                               -499.778182   \n",
       "2                               -499.764529   \n",
       "3                               -499.211024   \n",
       "4                               -499.504543   \n",
       "\n",
       "   primary_cleaner.state.floatbank8_c_air  ...  \\\n",
       "0                             1400.102998  ...   \n",
       "1                             1396.151033  ...   \n",
       "2                             1398.075709  ...   \n",
       "3                             1400.129303  ...   \n",
       "4                             1402.172226  ...   \n",
       "\n",
       "   secondary_cleaner.state.floatbank4_a_air  \\\n",
       "0                                 12.023554   \n",
       "1                                 12.058140   \n",
       "2                                 11.962366   \n",
       "3                                 12.033091   \n",
       "4                                 12.025367   \n",
       "\n",
       "   secondary_cleaner.state.floatbank4_a_level  \\\n",
       "0                                 -497.795834   \n",
       "1                                 -498.695773   \n",
       "2                                 -498.767484   \n",
       "3                                 -498.350935   \n",
       "4                                 -500.786497   \n",
       "\n",
       "   secondary_cleaner.state.floatbank4_b_air  \\\n",
       "0                                  8.016656   \n",
       "1                                  8.130979   \n",
       "2                                  8.096893   \n",
       "3                                  8.074946   \n",
       "4                                  8.054678   \n",
       "\n",
       "   secondary_cleaner.state.floatbank4_b_level  \\\n",
       "0                                 -501.289139   \n",
       "1                                 -499.634209   \n",
       "2                                 -500.827423   \n",
       "3                                 -499.474407   \n",
       "4                                 -500.397500   \n",
       "\n",
       "   secondary_cleaner.state.floatbank5_a_air  \\\n",
       "0                                  7.946562   \n",
       "1                                  7.958270   \n",
       "2                                  8.071056   \n",
       "3                                  7.897085   \n",
       "4                                  8.107890   \n",
       "\n",
       "   secondary_cleaner.state.floatbank5_a_level  \\\n",
       "0                                 -432.317850   \n",
       "1                                 -525.839648   \n",
       "2                                 -500.801673   \n",
       "3                                 -500.868509   \n",
       "4                                 -509.526725   \n",
       "\n",
       "   secondary_cleaner.state.floatbank5_b_air  \\\n",
       "0                                  4.872511   \n",
       "1                                  4.878850   \n",
       "2                                  4.905125   \n",
       "3                                  4.931400   \n",
       "4                                  4.957674   \n",
       "\n",
       "   secondary_cleaner.state.floatbank5_b_level  \\\n",
       "0                                 -500.037437   \n",
       "1                                 -500.162375   \n",
       "2                                 -499.828510   \n",
       "3                                 -499.963623   \n",
       "4                                 -500.360026   \n",
       "\n",
       "   secondary_cleaner.state.floatbank6_a_air  \\\n",
       "0                                 26.705889   \n",
       "1                                 25.019940   \n",
       "2                                 24.994862   \n",
       "3                                 24.948919   \n",
       "4                                 25.003331   \n",
       "\n",
       "   secondary_cleaner.state.floatbank6_a_level  \n",
       "0                                 -499.709414  \n",
       "1                                 -499.819438  \n",
       "2                                 -500.622559  \n",
       "3                                 -498.709987  \n",
       "4                                 -500.856333  \n",
       "\n",
       "[5 rows x 53 columns]"
      ]
     },
     "execution_count": 59,
     "metadata": {},
     "output_type": "execute_result"
    }
   ],
   "source": [
    "#сразу отбросим пропуски в тестовом датасете, их немного, а заменять их было бы некорректно\n",
    "test.dropna(inplace = True)\n",
    "test.isna().sum().sum()\n",
    "test.head()"
   ]
  },
  {
   "cell_type": "code",
   "execution_count": 60,
   "metadata": {},
   "outputs": [],
   "source": [
    "#В обучающей выборки иногда попадаются нули, которые больше похожи на ошибки, чем на реальные данные\n",
    "#Первым шагом заменим их на пропуски\n",
    "\n",
    "train = train.replace({'0':np.nan, 0:np.nan})"
   ]
  },
  {
   "cell_type": "markdown",
   "metadata": {},
   "source": [
    "Так как нам известно, что данные индексируются датой и временем получения информации (признак date) и соседние по времени параметры часто похожи, заполним пропуски в обучающей выборке с помощью интерполяции."
   ]
  },
  {
   "cell_type": "code",
   "execution_count": 61,
   "metadata": {},
   "outputs": [],
   "source": [
    "train = train.interpolate()"
   ]
  },
  {
   "cell_type": "code",
   "execution_count": 62,
   "metadata": {},
   "outputs": [
    {
     "name": "stdout",
     "output_type": "stream",
     "text": [
      "0\n"
     ]
    },
    {
     "data": {
      "text/plain": [
       "0.0"
      ]
     },
     "execution_count": 62,
     "metadata": {},
     "output_type": "execute_result"
    }
   ],
   "source": [
    "print(train.isna().sum().sum())\n",
    "train[train == 0].sum().sum()"
   ]
  },
  {
   "cell_type": "markdown",
   "metadata": {},
   "source": [
    "Дальше отбросим из обучающей выборки лишние признаки."
   ]
  },
  {
   "cell_type": "code",
   "execution_count": 63,
   "metadata": {},
   "outputs": [
    {
     "data": {
      "text/plain": [
       "(14149, 52)"
      ]
     },
     "execution_count": 63,
     "metadata": {},
     "output_type": "execute_result"
    }
   ],
   "source": [
    "features_train = train[same_cols]\n",
    "features_train.set_index('date', drop = True, inplace = True)\n",
    "features_train.shape"
   ]
  },
  {
   "cell_type": "code",
   "execution_count": 64,
   "metadata": {},
   "outputs": [],
   "source": [
    "#Масштабируем не-целевые признаки по обучающей выборке на обучающей и тестовой выборке\n",
    "\n",
    "scaler = StandardScaler()\n",
    "\n",
    "scaler.fit(features_train) #fitting scaler to train features\n",
    "\n",
    "features_train = pd.DataFrame(scaler.transform(features_train),\\\n",
    "                              columns = features_train.columns, index = features_train.index)"
   ]
  },
  {
   "cell_type": "code",
   "execution_count": 65,
   "metadata": {},
   "outputs": [],
   "source": [
    "features_test = test[same_cols]\n",
    "features_test.set_index('date', drop = True, inplace = True) #сохраним индекc\n",
    "features_test = pd.DataFrame(scaler.transform(features_test),\\\n",
    "                             columns = features_test.columns, index = features_test.index)"
   ]
  },
  {
   "cell_type": "markdown",
   "metadata": {},
   "source": [
    "По логике вещей параметры первой и второй очистки не могут влиять на эффективность обогащения чернового концентрата, как как происходят после его получения. Разделим признаки на две части для двух предсказаний - чернового и финального концетрата."
   ]
  },
  {
   "cell_type": "code",
   "execution_count": 20,
   "metadata": {},
   "outputs": [],
   "source": [
    "rougher_cols = features_train.columns[features_train.columns.str.contains('rougher')]\n",
    "features_train_rougher = features_train[rougher_cols] #для обучающей выборки"
   ]
  },
  {
   "cell_type": "code",
   "execution_count": 66,
   "metadata": {},
   "outputs": [],
   "source": [
    "features_test_rougher = features_test[rougher_cols] #для тестовой выборки"
   ]
  },
  {
   "cell_type": "markdown",
   "metadata": {},
   "source": [
    "Создадим датасеты с целевым признаком для чернового и итогового концетрата для обучающей и тестовой выборок"
   ]
  },
  {
   "cell_type": "code",
   "execution_count": 67,
   "metadata": {},
   "outputs": [],
   "source": [
    "target_rougher_train = train['rougher.output.recovery']\n",
    "target_final_train = train['final.output.recovery']"
   ]
  },
  {
   "cell_type": "code",
   "execution_count": 68,
   "metadata": {},
   "outputs": [],
   "source": [
    "full_date_index = full.set_index('date', drop = True)"
   ]
  },
  {
   "cell_type": "code",
   "execution_count": 69,
   "metadata": {},
   "outputs": [],
   "source": [
    "target_rougher_test = full_date_index.loc[features_test.index]['rougher.output.recovery']\n",
    "target_final_test = full_date_index.loc[features_test.index]['final.output.recovery']"
   ]
  },
  {
   "cell_type": "markdown",
   "metadata": {},
   "source": [
    "Теперь у нас есть:\n",
    "\n",
    "Параметры для **обучающей** выборки для чернового концентрата - features_train_rougher <br>\n",
    "Целевой признак для обучающей выборки для чернового концентрата- target_rougher_train\n",
    "\n",
    "Параметры для обучающей выборки для финального концентрата - features_train <br>\n",
    "Целевой признак для обучающей выборки для финального концентрата- target_final_train\n",
    "\n",
    "Параметры для **тестовой** выборки для чернового концентрата - features_test_rougher <br>\n",
    "Целевой признак для тестовой выборки для чернового концентрата- target_rougher_test\n",
    "\n",
    "Параметры для **тестовой** выборки для финального концентрата - features_test <br>\n",
    "Целевой признак для тестовой выборки для финального концентрата- target_final_test\n",
    "\n",
    "----\n",
    "Нужно будет обучить две модели - для чернового и для финального концентрата на обучающей выборке, а затем подсчитать sMAPE на данных тестовой выборки для этих двух моделей."
   ]
  },
  {
   "cell_type": "markdown",
   "metadata": {},
   "source": [
    "## Анализ данных"
   ]
  },
  {
   "cell_type": "markdown",
   "metadata": {},
   "source": [
    "Посмотрим, как меняется концентрация металлов (Au, Ag, Pb) на различных этапах очистки."
   ]
  },
  {
   "cell_type": "code",
   "execution_count": 25,
   "metadata": {},
   "outputs": [
    {
     "name": "stderr",
     "output_type": "stream",
     "text": [
      "C:\\Users\\User\\anaconda3\\lib\\site-packages\\pandas\\util\\_decorators.py:311: SettingWithCopyWarning: \n",
      "A value is trying to be set on a copy of a slice from a DataFrame\n",
      "\n",
      "See the caveats in the documentation: https://pandas.pydata.org/pandas-docs/stable/user_guide/indexing.html#returning-a-view-versus-a-copy\n",
      "  return func(*args, **kwargs)\n"
     ]
    }
   ],
   "source": [
    "#Возьмем концетрации металлов из полного датасета (full) \n",
    "#Построим боксплоты\n",
    "output_strings = ['output.concentrate_au','output.concentrate_pb','output.concentrate_ag',\\\n",
    "                  'rougher.input.feed_au', 'rougher.input.feed_pb', 'rougher.input.feed_ag']\n",
    "\n",
    "metall_cols = []\n",
    "for string in output_strings:\n",
    "    for col in full.columns:\n",
    "        if string in col:\n",
    "            metall_cols.append(col)\n",
    "\n",
    "metalls_df = full[metall_cols]\n",
    "metalls_df.dropna(inplace = True)\n",
    "metalls_df.reset_index(inplace = True)\n",
    "\n",
    "metalls_df_long = metalls_df.melt(id_vars = 'index', var_name = 'stage_metall'\\\n",
    "                                          , value_name = 'concentrate', value_vars=\\\n",
    "                                          metalls_df.columns[1:])\n",
    "metalls_df_long[['stage', 'metall']] = metalls_df_long['stage_metall'].str.rsplit('_', 1, expand=True)\n",
    "metalls_df_long = metalls_df_long.drop(['stage_metall', 'index'], axis = 1)\n",
    "\n",
    "di = {'final.output.concentrate': 3,\n",
    "     'rougher.input.feed': 0,\n",
    "     'rougher.output.concentrate': 1,\n",
    "     'primary_cleaner.output.concentrate': 2}\n",
    "\n",
    "metalls_df_long['stage'].replace(di, inplace=True)\n",
    "\n",
    "#так, теперь превратим стадии обратно в колонки\n",
    "metalls_df_wide_metalls = metalls_df_long['metall']\n",
    "metalls_df_wide = metalls_df_long.drop('metall', axis = 1)\n",
    "metalls_df_wide = metalls_df_long.pivot(columns = 'stage', values = ['concentrate'])\n",
    "metalls_df_wide['metall'] = metalls_df_wide_metalls\n"
   ]
  },
  {
   "cell_type": "code",
   "execution_count": 26,
   "metadata": {},
   "outputs": [
    {
     "data": {
      "text/plain": [
       "ag         AxesSubplot(0.1,0.15;0.235294x0.75)\n",
       "au    AxesSubplot(0.382353,0.15;0.235294x0.75)\n",
       "pb    AxesSubplot(0.664706,0.15;0.235294x0.75)\n",
       "dtype: object"
      ]
     },
     "execution_count": 26,
     "metadata": {},
     "output_type": "execute_result"
    },
    {
     "data": {
      "image/png": "[encoded data removed]",
      "text/plain": [
       "<Figure size 720x360 with 3 Axes>"
      ]
     },
     "metadata": {
      "needs_background": "light"
     },
     "output_type": "display_data"
    }
   ],
   "source": [
    "metalls_df_wide.groupby('metall')['concentrate'].boxplot(rot=90, fontsize=10, figsize = (10,5),subplots=True, layout = (1, 3))"
   ]
  },
  {
   "cell_type": "markdown",
   "metadata": {},
   "source": [
    "**Выводы:** Видно, что в среднем концетрация золота (au) растет с каждым этапом, концентрация серебра (ag) вырастает после флотации, но затем падает, а концетрация свинца (pb) слегка вырастает после флотации и после первой очистки, а затем остается примерно на одном уровне.\n",
    "\n",
    "----"
   ]
  },
  {
   "cell_type": "code",
   "execution_count": 90,
   "metadata": {},
   "outputs": [],
   "source": [
    "p10 = (\n",
    "    gg.ggplot(metalls_df_long, aes(\"stage\", \"concentrate\"))\n",
    "    + facet_grid('metall')\n",
    "    + geom_boxplot()\n",
    "    + gg.xlab(\"Stage\")\n",
    "    + gg.ylab(\"Concentration\")\n",
    ")"
   ]
  },
  {
   "cell_type": "code",
   "execution_count": 91,
   "metadata": {},
   "outputs": [
    {
     "data": {
      "image/png": "[encoded data removed]",
      "text/plain": [
       "<Figure size 792x576 with 3 Axes>"
      ]
     },
     "metadata": {},
     "output_type": "display_data"
    },
    {
     "data": {
      "text/plain": [
       "<ggplot: (135072903629)>"
      ]
     },
     "execution_count": 91,
     "metadata": {},
     "output_type": "execute_result"
    }
   ],
   "source": [
    "p10"
   ]
  },
  {
   "cell_type": "markdown",
   "metadata": {},
   "source": [
    "Сравним распределения размеров гранул сырья на обучающей и тестовой выборках. \n",
    "Если распределения сильно отличаются друг от друга, оценка модели будет неправильной."
   ]
  },
  {
   "cell_type": "code",
   "execution_count": 27,
   "metadata": {},
   "outputs": [
    {
     "name": "stderr",
     "output_type": "stream",
     "text": [
      "C:\\Users\\User\\AppData\\Local\\Temp/ipykernel_3576/871465379.py:4: SettingWithCopyWarning: \n",
      "A value is trying to be set on a copy of a slice from a DataFrame.\n",
      "Try using .loc[row_indexer,col_indexer] = value instead\n",
      "\n",
      "See the caveats in the documentation: https://pandas.pydata.org/pandas-docs/stable/user_guide/indexing.html#returning-a-view-versus-a-copy\n",
      "  feed_size_train['sample'] = 'train'\n",
      "C:\\Users\\User\\AppData\\Local\\Temp/ipykernel_3576/871465379.py:5: SettingWithCopyWarning: \n",
      "A value is trying to be set on a copy of a slice from a DataFrame.\n",
      "Try using .loc[row_indexer,col_indexer] = value instead\n",
      "\n",
      "See the caveats in the documentation: https://pandas.pydata.org/pandas-docs/stable/user_guide/indexing.html#returning-a-view-versus-a-copy\n",
      "  feed_size_test['sample'] = 'test'\n"
     ]
    },
    {
     "data": {
      "text/html": [
       "<div>\n",
       "<style scoped>\n",
       "    .dataframe tbody tr th:only-of-type {\n",
       "        vertical-align: middle;\n",
       "    }\n",
       "\n",
       "    .dataframe tbody tr th {\n",
       "        vertical-align: top;\n",
       "    }\n",
       "\n",
       "    .dataframe thead th {\n",
       "        text-align: right;\n",
       "    }\n",
       "</style>\n",
       "<table border=\"1\" class=\"dataframe\">\n",
       "  <thead>\n",
       "    <tr style=\"text-align: right;\">\n",
       "      <th></th>\n",
       "      <th>primary_cleaner.input.feed_size</th>\n",
       "      <th>rougher.input.feed_size</th>\n",
       "      <th>sample</th>\n",
       "    </tr>\n",
       "  </thead>\n",
       "  <tbody>\n",
       "    <tr>\n",
       "      <th>0</th>\n",
       "      <td>7.25</td>\n",
       "      <td>55.486599</td>\n",
       "      <td>train</td>\n",
       "    </tr>\n",
       "    <tr>\n",
       "      <th>1</th>\n",
       "      <td>7.25</td>\n",
       "      <td>57.278666</td>\n",
       "      <td>train</td>\n",
       "    </tr>\n",
       "    <tr>\n",
       "      <th>2</th>\n",
       "      <td>7.25</td>\n",
       "      <td>57.510649</td>\n",
       "      <td>train</td>\n",
       "    </tr>\n",
       "    <tr>\n",
       "      <th>3</th>\n",
       "      <td>7.25</td>\n",
       "      <td>57.792734</td>\n",
       "      <td>train</td>\n",
       "    </tr>\n",
       "    <tr>\n",
       "      <th>4</th>\n",
       "      <td>7.25</td>\n",
       "      <td>56.047189</td>\n",
       "      <td>train</td>\n",
       "    </tr>\n",
       "  </tbody>\n",
       "</table>\n",
       "</div>"
      ],
      "text/plain": [
       "   primary_cleaner.input.feed_size  rougher.input.feed_size sample\n",
       "0                             7.25                55.486599  train\n",
       "1                             7.25                57.278666  train\n",
       "2                             7.25                57.510649  train\n",
       "3                             7.25                57.792734  train\n",
       "4                             7.25                56.047189  train"
      ]
     },
     "execution_count": 27,
     "metadata": {},
     "output_type": "execute_result"
    }
   ],
   "source": [
    "col_list = full.columns[full.columns.str.contains('feed_size')]\n",
    "feed_size_train = train[col_list]\n",
    "feed_size_test = test[col_list]\n",
    "feed_size_train['sample'] = 'train'\n",
    "feed_size_test['sample'] = 'test'\n",
    "feed_size = pd.concat([feed_size_train, feed_size_test])\n",
    "feed_size.head()"
   ]
  },
  {
   "cell_type": "code",
   "execution_count": 28,
   "metadata": {},
   "outputs": [
    {
     "data": {
      "image/png": "[encoded data removed]",
      "text/plain": [
       "<Figure size 720x360 with 1 Axes>"
      ]
     },
     "metadata": {
      "needs_background": "light"
     },
     "output_type": "display_data"
    }
   ],
   "source": [
    "feed_size.query('sample == \"train\"')['rougher.input.feed_size']\\\n",
    ".hist(bins = 100,figsize = (10,5))\n",
    "feed_size.query('sample == \"test\"')['rougher.input.feed_size']\\\n",
    ".hist(bins = 100)\n",
    "plt.xticks(rotation=90)\n",
    "plt.title(\"Размер гранул в изначальном материале\")\n",
    "plt.show()"
   ]
  },
  {
   "cell_type": "code",
   "execution_count": 29,
   "metadata": {},
   "outputs": [
    {
     "data": {
      "image/png": "[encoded data removed]",
      "text/plain": [
       "<Figure size 720x360 with 1 Axes>"
      ]
     },
     "metadata": {
      "needs_background": "light"
     },
     "output_type": "display_data"
    }
   ],
   "source": [
    "feed_size.query('sample == \"train\"')['primary_cleaner.input.feed_size']\\\n",
    ".hist(bins = 100,figsize = (10,5))\n",
    "feed_size.query('sample == \"test\"')['primary_cleaner.input.feed_size']\\\n",
    ".hist(bins = 100)\n",
    "plt.xticks(rotation=90)\n",
    "plt.title('Размер гранул после флотации')\n",
    "plt.show()"
   ]
  },
  {
   "cell_type": "markdown",
   "metadata": {},
   "source": [
    "**Выводы:** В целом мы видим, что распределение размера гранул сырья на этапе после флотации похожи (зрительно слегка сбивают выбросы в обучающей выборке), большинство значений попадает в интервал между 6 и 9. Распределения размера гранул до флотации сильнее отличаются на тестовой и обучающей выборке. Значения остаются примерно в одном диапазоне, однако в распределении тестовой выборки мы видим два пика, а также скошенность вправо, относительно распределения обучающей выборки.\n",
    "\n",
    "----    "
   ]
  },
  {
   "cell_type": "markdown",
   "metadata": {},
   "source": [
    "Исследуем суммарную концентрацию всех веществ на разных стадиях: в сырье, в черновом и финальном концентратах. "
   ]
  },
  {
   "cell_type": "code",
   "execution_count": 30,
   "metadata": {},
   "outputs": [
    {
     "name": "stderr",
     "output_type": "stream",
     "text": [
      "C:\\Users\\User\\anaconda3\\lib\\site-packages\\pandas\\util\\_decorators.py:311: SettingWithCopyWarning: \n",
      "A value is trying to be set on a copy of a slice from a DataFrame\n",
      "\n",
      "See the caveats in the documentation: https://pandas.pydata.org/pandas-docs/stable/user_guide/indexing.html#returning-a-view-versus-a-copy\n",
      "  return func(*args, **kwargs)\n"
     ]
    }
   ],
   "source": [
    "#Возьмем полный датасет \n",
    "\n",
    "#нам нужно по четыре колонки (четыре вещества) для каждого из трех этапов. \n",
    "#Соберем их в отдельный датасет\n",
    "\n",
    "concentrate_strings = ['final.output.concentrate','rougher.output.concentrate',\\\n",
    "                    'rougher.input.feed_ag', 'rougher.input.feed_au', 'rougher.input.feed_sol',\\\n",
    "                   'rougher.input.feed_pb']\n",
    "concentrate_cols = []\n",
    "for string in concentrate_strings:\n",
    "    for col in full.columns:\n",
    "        if string in col:\n",
    "            concentrate_cols.append(col)\n",
    "\n",
    "concentrate_df = full[concentrate_cols]\n",
    "concentrate_df.dropna(inplace = True)\n",
    "concentrate_df.reset_index(inplace = True)"
   ]
  },
  {
   "cell_type": "code",
   "execution_count": 31,
   "metadata": {},
   "outputs": [],
   "source": [
    "#Сделаем табличку со всеми концентрациями, сгруппированными по материалу и этапу\n",
    "\n",
    "concentrate_df_long = concentrate_df.melt(id_vars = 'index', var_name = 'metall'\\\n",
    "                                          , value_name = 'concentrate', value_vars=\\\n",
    "                                          concentrate_df.columns[1:13])\n",
    "concentrate_df_long[['stage', 'material']] = concentrate_df_long['metall'].str.split('_', 1, expand=True)\n",
    "concentrate_df_long = concentrate_df_long.drop(['metall', 'index'], axis = 1)"
   ]
  },
  {
   "cell_type": "code",
   "execution_count": 32,
   "metadata": {},
   "outputs": [],
   "source": [
    "#Подсчитаем суммарные концентрации для всех материалов по стадиям\n",
    "concentration_summed = pd.pivot_table(concentrate_df_long, values='concentrate',\n",
    "                       columns=['stage'], aggfunc=np.sum, dropna = False).transpose()\n",
    "concentration_summed.reset_index(inplace = True)"
   ]
  },
  {
   "cell_type": "code",
   "execution_count": 33,
   "metadata": {},
   "outputs": [],
   "source": [
    "di = {'final.output.concentrate': 2,\n",
    "     'rougher.input.feed': 0,\n",
    "     'rougher.output.concentrate': 1}\n",
    "\n",
    "concentration_summed['stage'].replace(di, inplace=True)"
   ]
  },
  {
   "cell_type": "code",
   "execution_count": 34,
   "metadata": {},
   "outputs": [
    {
     "data": {
      "text/plain": [
       "Text(0.5, 1.0, 'Суммарные концентрации всех материалов для каждой стадии')"
      ]
     },
     "execution_count": 34,
     "metadata": {},
     "output_type": "execute_result"
    },
    {
     "data": {
      "image/png": "[encoded data removed]",
      "text/plain": [
       "<Figure size 432x288 with 1 Axes>"
      ]
     },
     "metadata": {
      "needs_background": "light"
     },
     "output_type": "display_data"
    }
   ],
   "source": [
    "#построим графики, чтобы посмотреть на изменения\n",
    "concentration_summed.sort_values(by = 'stage').plot.bar(x = 'stage', y = 'concentrate')\n",
    "plt.title('Суммарные концентрации всех материалов для каждой стадии')"
   ]
  },
  {
   "cell_type": "markdown",
   "metadata": {},
   "source": [
    "**Выводы**: Мы видим, что суммарная концентрация материалов возрастает после флотации, но почти не меняется после очистки."
   ]
  },
  {
   "cell_type": "markdown",
   "metadata": {},
   "source": [
    "## Модель"
   ]
  },
  {
   "cell_type": "markdown",
   "metadata": {},
   "source": [
    "У нас есть:\n",
    "\n",
    "Параметры для **обучающей** выборки для чернового концентрата - features_train_rougher <br>\n",
    "Целевой признак для обучающей выборки для чернового концентрата- target_rougher_train\n",
    "\n",
    "Параметры для **обучающей** выборки для финального концентрата - features_train <br>\n",
    "Целевой признак для обучающей выборки для финального концентрата- target_final_train\n",
    "\n",
    "Параметры для **тестовой** выборки для чернового концентрата - features_test_rougher <br>\n",
    "Целевой признак для тестовой выборки для чернового концентрата- target_rougher_test\n",
    "\n",
    "Параметры для **тестовой** выборки для финального концентрата - features_test <br>\n",
    "Целевой признак для тестовой выборки для финального концентрата- target_final_test\n",
    "\n",
    "----\n",
    "Нужно обучить две модели - для чернового и для финального концентрата на обучающей выборке, а затем подсчитать sMAPE на данных тестовой выборки для этих двух моделей.\n",
    "\n",
    "Итоговое sMAPE = 0.25*sMAPE_rougher + 0.75*sMAPE_final<br>\n",
    "sMAPE = mean(abs(predicted - true)/((abs(predicted) + abs(true))/2))*100"
   ]
  },
  {
   "cell_type": "code",
   "execution_count": 35,
   "metadata": {},
   "outputs": [],
   "source": [
    "#Напишем функцию для вычисления итогового sMAPE, нам понадобятся:\n",
    "#Две модели (черновая и итоговая)\n",
    "#Две тестовые выборки фичей (черновая и итоговая)\n",
    "#Два тестовых таргета (черновой и итоговый)\n",
    "\n",
    "#Сначала напишем просто фукнцию sMAPE (для скора в кросс-валидации)\n",
    "def smape(y_true, y_predicted):\n",
    "    sMAPE = np.mean(abs(y_predicted - y_true)\\\n",
    "                         /((abs(y_predicted)+ abs(y_true))/2))*100\n",
    "    return sMAPE"
   ]
  },
  {
   "cell_type": "code",
   "execution_count": 36,
   "metadata": {},
   "outputs": [],
   "source": [
    "def smape_final(model_rougher, model_final, features_rougher,\\\n",
    "                features_final, target_rougher, target_final):\n",
    "    \n",
    "    predict_rougher = model_rougher.predict(features_rougher)\n",
    "    sMAPE_rougher = smape(target_rougher, predict_rougher)\n",
    "    \n",
    "    predict_final = model_final.predict(features_final)\n",
    "    sMAPE_final = smape(target_final,predict_final)\n",
    "    \n",
    "    sMAPE = 0.25*sMAPE_rougher + 0.75*sMAPE_final\n",
    "    return sMAPE"
   ]
  },
  {
   "cell_type": "code",
   "execution_count": 37,
   "metadata": {},
   "outputs": [],
   "source": [
    "#Создадим scorer для кросс-валидации на основе sMAPE\n",
    "smape_scorer = make_scorer(smape, greater_is_better = False)"
   ]
  },
  {
   "cell_type": "markdown",
   "metadata": {},
   "source": [
    "Теперь обучим и проверим несколько моделей\n"
   ]
  },
  {
   "cell_type": "markdown",
   "metadata": {},
   "source": [
    "В обучении будут использоваться только эти четыре выборки:\n",
    "    \n",
    "    Параметры для обучающей выборки для чернового концентрата - features_train_rougher\n",
    "    Целевой признак для обучающей выборки для чернового концентрата- target_rougher_train\n",
    "\n",
    "    Параметры для обучающей выборки для финального концентрата - features_train\n",
    "    Целевой признак для обучающей выборки для финального концентрата- target_final_train\n",
    "\n",
    "Мы дополнительно разделим их на обучающую и валидационную"
   ]
  },
  {
   "cell_type": "markdown",
   "metadata": {},
   "source": [
    "### Модель 1: Дерево решений"
   ]
  },
  {
   "cell_type": "code",
   "execution_count": 38,
   "metadata": {},
   "outputs": [],
   "source": [
    "def run_tree(features, target):\n",
    "    best_tree_model = None\n",
    "    best_tree_result = 1000\n",
    "    best_tree_depth = 0\n",
    "    for depth in range(1, 10):\n",
    "        model = DecisionTreeRegressor(random_state=12345, max_depth=depth) #опробуем разную глубину\n",
    "        scores = cross_val_score(estimator = model, X = features, y = target, scoring = smape_scorer, cv=5)\n",
    "        result = scores.mean()\n",
    "        if result < best_tree_result:\n",
    "            best_tree_model = model\n",
    "            best_tree_depth = depth\n",
    "            best_tree_result = result\n",
    "    return best_tree_model, best_tree_depth, best_tree_result"
   ]
  },
  {
   "cell_type": "code",
   "execution_count": 39,
   "metadata": {},
   "outputs": [
    {
     "name": "stdout",
     "output_type": "stream",
     "text": [
      "sMAPE лучшей модели дерева решений на валидационной выборке после кросс-валидации (черновой): 9.202459923497806 , с глубиной 9\n"
     ]
    }
   ],
   "source": [
    "best_tree_model, best_tree_depth, best_tree_result = run_tree(features_train_rougher,target_rougher_train)\n",
    "print(\"sMAPE лучшей модели дерева решений на валидационной выборке после кросс-валидации (черновой):\", abs(best_tree_result), \", с глубиной\", best_tree_depth)"
   ]
  },
  {
   "cell_type": "code",
   "execution_count": 40,
   "metadata": {},
   "outputs": [
    {
     "name": "stdout",
     "output_type": "stream",
     "text": [
      "sMAPE лучшей модели дерева решений на валидационной выборке (финальный): 12.38804121180016 , с глубиной 9\n"
     ]
    }
   ],
   "source": [
    "best_tree_model_final, best_tree_depth_final, best_tree_result_final = run_tree(features_train, target_final_train)\n",
    "print(\"sMAPE лучшей модели дерева решений на валидационной выборке (финальный):\", abs(best_tree_result_final), \", с глубиной\", best_tree_depth_final)"
   ]
  },
  {
   "cell_type": "markdown",
   "metadata": {},
   "source": [
    "### Модель 2: Случайный лес"
   ]
  },
  {
   "cell_type": "code",
   "execution_count": 41,
   "metadata": {},
   "outputs": [],
   "source": [
    "def run_forest(features, target):\n",
    "    best_forest_model = None\n",
    "    best_forest_result = 1000\n",
    "    best_forest_depth = 0\n",
    "    for est in range(10, 31, 10):\n",
    "        for depth in range (1, 10):\n",
    "            model = RandomForestRegressor(random_state=12345, n_estimators=est,max_depth=depth)\n",
    "            scores = cross_val_score(estimator = model, X = features, y = target, scoring = smape_scorer, cv=5)\n",
    "            result = scores.mean()\n",
    "            if result < best_forest_result:\n",
    "                best_forest_model = model\n",
    "                best_forest_depth = depth\n",
    "                best_forest_result = result\n",
    "                best_forest_est = est\n",
    "    return best_forest_model, best_forest_depth, best_forest_result, best_forest_est"
   ]
  },
  {
   "cell_type": "code",
   "execution_count": 42,
   "metadata": {},
   "outputs": [
    {
     "name": "stdout",
     "output_type": "stream",
     "text": [
      "\n",
      "sMAPE лучшей модели случайного леса на валидационной выборке после кросс-валидации (черновой): 7.766629428658544\n"
     ]
    }
   ],
   "source": [
    "best_forest_model, best_forest_depth, best_forest_result, best_forest_est = run_forest(features_train_rougher,target_rougher_train )\n",
    "print()        \n",
    "print(\"sMAPE лучшей модели случайного леса на валидационной выборке после кросс-валидации (черновой):\", abs(best_forest_result))"
   ]
  },
  {
   "cell_type": "code",
   "execution_count": 43,
   "metadata": {},
   "outputs": [
    {
     "name": "stdout",
     "output_type": "stream",
     "text": [
      "\n",
      "sMAPE лучшей модели случайного леса на валидационной выборке после кросс-валидации (финальный): 10.113733076579999\n"
     ]
    }
   ],
   "source": [
    "best_forest_model_final, best_forest_depth_final, best_forest_result_final, best_forest_est_final = run_forest(features_train,target_final_train )\n",
    "print()        \n",
    "print(\"sMAPE лучшей модели случайного леса на валидационной выборке после кросс-валидации (финальный):\", abs(best_forest_result_final))"
   ]
  },
  {
   "cell_type": "markdown",
   "metadata": {},
   "source": [
    "### \"Глупая\" модель\n",
    "\n",
    "Обучим глупую модель для сравнения с нашей итоговой моделью.\n",
    "Предсказываем сразу на данных тестововой выборки."
   ]
  },
  {
   "cell_type": "code",
   "execution_count": 44,
   "metadata": {},
   "outputs": [],
   "source": [
    "dummy_rougher = DummyRegressor(strategy=\"median\")\n",
    "dummy_final = DummyRegressor(strategy=\"median\")"
   ]
  },
  {
   "cell_type": "code",
   "execution_count": 45,
   "metadata": {},
   "outputs": [
    {
     "name": "stdout",
     "output_type": "stream",
     "text": [
      "Итогововая метрика sMAPE dummy-модели на тестовой выборке: 9.019033667420885\n"
     ]
    }
   ],
   "source": [
    "dummy_rougher.fit(features_train_rougher, target_rougher_train)\n",
    "dummy_final.fit(features_train, target_final_train)\n",
    "smape_dummy = smape_final(dummy_rougher, dummy_final, features_test_rougher,\\\n",
    "                features_test, target_rougher_test, target_final_test)\n",
    "print('Итогововая метрика sMAPE dummy-модели на тестовой выборке:',smape_dummy )"
   ]
  },
  {
   "cell_type": "markdown",
   "metadata": {},
   "source": [
    "## Проверка качества модели на тестовой выборке"
   ]
  },
  {
   "cell_type": "code",
   "execution_count": 46,
   "metadata": {},
   "outputs": [
    {
     "data": {
      "text/plain": [
       "RandomForestRegressor(max_depth=9, n_estimators=10, random_state=12345)"
      ]
     },
     "execution_count": 46,
     "metadata": {},
     "output_type": "execute_result"
    }
   ],
   "source": [
    "#Обучаем модели с выделенными лучшими гиперпараметрами\n",
    "\n",
    "best_forest_model_rougher = RandomForestRegressor(random_state=12345, n_estimators=best_forest_est\\\n",
    "                                          ,max_depth=best_forest_depth)\n",
    "best_forest_model_rougher.fit(features_train_rougher, target_rougher_train)\n",
    "\n",
    "best_forest_model_final = RandomForestRegressor(random_state=12345, n_estimators=best_forest_est_final\\\n",
    "                                          ,max_depth=best_forest_depth_final)\n",
    "best_forest_model_final.fit(features_train, target_final_train)"
   ]
  },
  {
   "cell_type": "code",
   "execution_count": 47,
   "metadata": {},
   "outputs": [
    {
     "data": {
      "text/plain": [
       "9.364463458837937"
      ]
     },
     "execution_count": 47,
     "metadata": {},
     "output_type": "execute_result"
    }
   ],
   "source": [
    "smape_final(best_forest_model_rougher, best_forest_model_final, features_test_rougher,\\\n",
    "                features_test, target_rougher_test, target_final_test)"
   ]
  },
  {
   "cell_type": "markdown",
   "metadata": {},
   "source": [
    "Итогововая метрика sMAPE dummy-модели на тестовой выборке: 9.019033667420885 <br>\n",
    "Итогововая метрика нашей модели на тестовой выборке: 9.364463458837937\n"
   ]
  }
 ],
 "metadata": {
  "ExecuteTimeLog": [
   {
    "duration": 943,
    "start_time": "2023-05-04T09:12:16.053Z"
   },
   {
    "duration": 1239,
    "start_time": "2023-05-04T09:12:16.998Z"
   },
   {
    "duration": 1334,
    "start_time": "2023-05-04T09:12:18.239Z"
   },
   {
    "duration": 237,
    "start_time": "2023-05-04T09:12:19.575Z"
   },
   {
    "duration": 737,
    "start_time": "2023-05-04T09:12:19.815Z"
   },
   {
    "duration": 429,
    "start_time": "2023-05-04T09:12:20.554Z"
   },
   {
    "duration": 3,
    "start_time": "2023-05-04T09:12:20.985Z"
   },
   {
    "duration": 19,
    "start_time": "2023-05-04T09:12:20.990Z"
   },
   {
    "duration": 49,
    "start_time": "2023-05-04T09:12:21.012Z"
   },
   {
    "duration": 4,
    "start_time": "2023-05-04T09:12:21.954Z"
   },
   {
    "duration": 5,
    "start_time": "2023-05-04T09:12:22.915Z"
   },
   {
    "duration": 6,
    "start_time": "2023-05-04T09:12:23.043Z"
   },
   {
    "duration": 33,
    "start_time": "2023-05-04T09:12:23.774Z"
   },
   {
    "duration": 19,
    "start_time": "2023-05-04T09:12:24.081Z"
   },
   {
    "duration": 62,
    "start_time": "2023-05-04T09:12:24.543Z"
   },
   {
    "duration": 34,
    "start_time": "2023-05-04T09:12:24.703Z"
   },
   {
    "duration": 11,
    "start_time": "2023-05-04T09:12:25.352Z"
   },
   {
    "duration": 21,
    "start_time": "2023-05-04T09:12:25.653Z"
   },
   {
    "duration": 10,
    "start_time": "2023-05-04T09:12:25.993Z"
   },
   {
    "duration": 5,
    "start_time": "2023-05-04T09:12:26.633Z"
   },
   {
    "duration": 4,
    "start_time": "2023-05-04T09:12:26.774Z"
   },
   {
    "duration": 2,
    "start_time": "2023-05-04T09:12:27.253Z"
   },
   {
    "duration": 15,
    "start_time": "2023-05-04T09:12:27.755Z"
   },
   {
    "duration": 16,
    "start_time": "2023-05-04T09:12:27.865Z"
   },
   {
    "duration": 601,
    "start_time": "2023-05-04T09:12:28.513Z"
   },
   {
    "duration": 1298,
    "start_time": "2023-05-04T09:12:29.153Z"
   },
   {
    "duration": 16,
    "start_time": "2023-05-04T09:12:30.453Z"
   },
   {
    "duration": 56,
    "start_time": "2023-05-04T09:12:30.471Z"
   },
   {
    "duration": 683,
    "start_time": "2023-05-04T09:12:30.529Z"
   },
   {
    "duration": 65,
    "start_time": "2023-05-04T09:12:31.214Z"
   },
   {
    "duration": 13,
    "start_time": "2023-05-04T09:12:31.281Z"
   },
   {
    "duration": 720,
    "start_time": "2023-05-04T09:12:31.295Z"
   },
   {
    "duration": 6,
    "start_time": "2023-05-04T09:12:32.575Z"
   }
  ],
  "kernelspec": {
   "display_name": "Python 3 (ipykernel)",
   "language": "python",
   "name": "python3"
  },
  "language_info": {
   "codemirror_mode": {
    "name": "ipython",
    "version": 3
   },
   "file_extension": ".py",
   "mimetype": "text/x-python",
   "name": "python",
   "nbconvert_exporter": "python",
   "pygments_lexer": "ipython3",
   "version": "3.9.7"
  },
  "toc": {
   "base_numbering": 1,
   "nav_menu": {},
   "number_sections": true,
   "sideBar": true,
   "skip_h1_title": true,
   "title_cell": "Содержание",
   "title_sidebar": "Contents",
   "toc_cell": true,
   "toc_position": {},
   "toc_section_display": true,
   "toc_window_display": true
  }
 },
 "nbformat": 4,
 "nbformat_minor": 2
}
