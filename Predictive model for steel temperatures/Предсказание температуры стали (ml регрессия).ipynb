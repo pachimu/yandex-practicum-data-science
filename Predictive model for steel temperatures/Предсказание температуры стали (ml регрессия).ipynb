{
 "cells": [
  {
   "cell_type": "markdown",
   "id": "bc42f858",
   "metadata": {},
   "source": [
    "## Описание проекта: промышленность\n",
    "\n",
    "Чтобы оптимизировать производственные расходы, металлургический комбинат ООО «Так закаляем сталь» решил уменьшить потребление электроэнергии на этапе обработки стали. Предстоит построить модель, которая предскажет **температуру стали**."
   ]
  },
  {
   "cell_type": "markdown",
   "id": "84180e6f",
   "metadata": {},
   "source": [
    "## Исследовательский анализ данных. \n"
   ]
  },
  {
   "cell_type": "code",
   "execution_count": 1,
   "id": "c679ef76",
   "metadata": {},
   "outputs": [],
   "source": [
    "import pandas as pd\n",
    "import numpy as np\n",
    "import matplotlib.pyplot as plt\n",
    "import seaborn as sns\n",
    "%matplotlib inline"
   ]
  },
  {
   "cell_type": "code",
   "execution_count": 2,
   "id": "ad2a523b",
   "metadata": {},
   "outputs": [],
   "source": [
    "from sklearn.metrics import mean_absolute_error, r2_score\n",
    "from sklearn.model_selection import train_test_split, cross_val_score, GridSearchCV, TimeSeriesSplit\n",
    "from sklearn import linear_model\n",
    "from sklearn.pipeline import Pipeline\n",
    "from sklearn.tree import DecisionTreeRegressor\n",
    "from sklearn.ensemble import RandomForestRegressor\n",
    "from sklearn.preprocessing import StandardScaler\n",
    "from sklearn.dummy import DummyRegressor\n",
    "from sklearn.inspection import permutation_importance"
   ]
  },
  {
   "cell_type": "code",
   "execution_count": 3,
   "id": "cb878768",
   "metadata": {},
   "outputs": [],
   "source": [
    "import lightgbm as lgbm"
   ]
  },
  {
   "cell_type": "code",
   "execution_count": 4,
   "id": "bb4bf874",
   "metadata": {},
   "outputs": [],
   "source": [
    "random_state  = 110923"
   ]
  },
  {
   "cell_type": "markdown",
   "id": "83c5e18c",
   "metadata": {},
   "source": [
    "### Задача\n",
    "\n",
    "- Объект моделирования - один ковш\n",
    "- Его определяет уникальный ключ (столбец key)\n",
    "\n",
    "Целевая переменная - **последняя температура по всей партии**\n",
    "\n",
    "Целевая метрика - MAE (не больше 6.8 на тесте)"
   ]
  },
  {
   "cell_type": "markdown",
   "id": "ddd254db",
   "metadata": {},
   "source": [
    "- data_arc_new.csv\n",
    "- data_bulk_new.csv\n",
    "- data_bulk_time_new.csv\n",
    "- data_gas_new.csv\n",
    "- data_temp_new.csv\n",
    "- data_wire_new.csv\n",
    "- data_wire_time_new.csv"
   ]
  },
  {
   "cell_type": "markdown",
   "id": "52cf24d2",
   "metadata": {},
   "source": [
    "### Цель:\n",
    "\n",
    "Научиться предсказывать последнюю температуру по всей партии, чтобы снизить затраты на электричество и обслуживание.\n"
   ]
  },
  {
   "cell_type": "code",
   "execution_count": 6,
   "id": "c4a4b390",
   "metadata": {},
   "outputs": [],
   "source": [
    "#Загрузим данные\n",
    "\n",
    "arc = pd.read_csv('/datasets/data_arc_new.csv')\n",
    "bulk = pd.read_csv('/datasets/data_bulk_new.csv')\n",
    "bulk_time = pd.read_csv('/datasets/data_bulk_time_new.csv')\n",
    "gas = pd.read_csv('/datasets/data_gas_new.csv')\n",
    "temp = pd.read_csv('/datasets/data_temp_new.csv')\n",
    "wire = pd.read_csv('/datasets/data_wire_new.csv')\n",
    "wire_time = pd.read_csv('/datasets/data_wire_time_new.csv')\n"
   ]
  },
  {
   "cell_type": "code",
   "execution_count": 7,
   "id": "5150ca37",
   "metadata": {},
   "outputs": [],
   "source": [
    "def data_overview(data):\n",
    "    display(data.head())\n",
    "    display(data.info())\n",
    "    display(data.describe())\n",
    "    print(\"Пропуски:\", data.isna().sum())\n",
    "    print(\"Явные дубликаты:\", data.duplicated().sum())\n",
    "    print('')\n",
    "    colnames = data.select_dtypes('number').columns\n",
    "    for name in colnames:\n",
    "            data[name].plot.hist(bins = 100)\n",
    "            plt.title(name)\n",
    "            plt.show()"
   ]
  },
  {
   "cell_type": "code",
   "execution_count": 8,
   "id": "64e0aaf5",
   "metadata": {},
   "outputs": [
    {
     "data": {
      "text/html": [
       "<div>\n",
       "<style scoped>\n",
       "    .dataframe tbody tr th:only-of-type {\n",
       "        vertical-align: middle;\n",
       "    }\n",
       "\n",
       "    .dataframe tbody tr th {\n",
       "        vertical-align: top;\n",
       "    }\n",
       "\n",
       "    .dataframe thead th {\n",
       "        text-align: right;\n",
       "    }\n",
       "</style>\n",
       "<table border=\"1\" class=\"dataframe\">\n",
       "  <thead>\n",
       "    <tr style=\"text-align: right;\">\n",
       "      <th></th>\n",
       "      <th>key</th>\n",
       "      <th>Начало нагрева дугой</th>\n",
       "      <th>Конец нагрева дугой</th>\n",
       "      <th>Активная мощность</th>\n",
       "      <th>Реактивная мощность</th>\n",
       "    </tr>\n",
       "  </thead>\n",
       "  <tbody>\n",
       "    <tr>\n",
       "      <th>0</th>\n",
       "      <td>1</td>\n",
       "      <td>2019-05-03 11:02:14</td>\n",
       "      <td>2019-05-03 11:06:02</td>\n",
       "      <td>0.305130</td>\n",
       "      <td>0.211253</td>\n",
       "    </tr>\n",
       "    <tr>\n",
       "      <th>1</th>\n",
       "      <td>1</td>\n",
       "      <td>2019-05-03 11:07:28</td>\n",
       "      <td>2019-05-03 11:10:33</td>\n",
       "      <td>0.765658</td>\n",
       "      <td>0.477438</td>\n",
       "    </tr>\n",
       "    <tr>\n",
       "      <th>2</th>\n",
       "      <td>1</td>\n",
       "      <td>2019-05-03 11:11:44</td>\n",
       "      <td>2019-05-03 11:14:36</td>\n",
       "      <td>0.580313</td>\n",
       "      <td>0.430460</td>\n",
       "    </tr>\n",
       "    <tr>\n",
       "      <th>3</th>\n",
       "      <td>1</td>\n",
       "      <td>2019-05-03 11:18:14</td>\n",
       "      <td>2019-05-03 11:24:19</td>\n",
       "      <td>0.518496</td>\n",
       "      <td>0.379979</td>\n",
       "    </tr>\n",
       "    <tr>\n",
       "      <th>4</th>\n",
       "      <td>1</td>\n",
       "      <td>2019-05-03 11:26:09</td>\n",
       "      <td>2019-05-03 11:28:37</td>\n",
       "      <td>0.867133</td>\n",
       "      <td>0.643691</td>\n",
       "    </tr>\n",
       "  </tbody>\n",
       "</table>\n",
       "</div>"
      ],
      "text/plain": [
       "   key Начало нагрева дугой  Конец нагрева дугой  Активная мощность  \\\n",
       "0    1  2019-05-03 11:02:14  2019-05-03 11:06:02           0.305130   \n",
       "1    1  2019-05-03 11:07:28  2019-05-03 11:10:33           0.765658   \n",
       "2    1  2019-05-03 11:11:44  2019-05-03 11:14:36           0.580313   \n",
       "3    1  2019-05-03 11:18:14  2019-05-03 11:24:19           0.518496   \n",
       "4    1  2019-05-03 11:26:09  2019-05-03 11:28:37           0.867133   \n",
       "\n",
       "   Реактивная мощность  \n",
       "0             0.211253  \n",
       "1             0.477438  \n",
       "2             0.430460  \n",
       "3             0.379979  \n",
       "4             0.643691  "
      ]
     },
     "metadata": {},
     "output_type": "display_data"
    },
    {
     "name": "stdout",
     "output_type": "stream",
     "text": [
      "<class 'pandas.core.frame.DataFrame'>\n",
      "RangeIndex: 14876 entries, 0 to 14875\n",
      "Data columns (total 5 columns):\n",
      " #   Column                Non-Null Count  Dtype  \n",
      "---  ------                --------------  -----  \n",
      " 0   key                   14876 non-null  int64  \n",
      " 1   Начало нагрева дугой  14876 non-null  object \n",
      " 2   Конец нагрева дугой   14876 non-null  object \n",
      " 3   Активная мощность     14876 non-null  float64\n",
      " 4   Реактивная мощность   14876 non-null  float64\n",
      "dtypes: float64(2), int64(1), object(2)\n",
      "memory usage: 581.2+ KB\n"
     ]
    },
    {
     "data": {
      "text/plain": [
       "None"
      ]
     },
     "metadata": {},
     "output_type": "display_data"
    },
    {
     "data": {
      "text/html": [
       "<div>\n",
       "<style scoped>\n",
       "    .dataframe tbody tr th:only-of-type {\n",
       "        vertical-align: middle;\n",
       "    }\n",
       "\n",
       "    .dataframe tbody tr th {\n",
       "        vertical-align: top;\n",
       "    }\n",
       "\n",
       "    .dataframe thead th {\n",
       "        text-align: right;\n",
       "    }\n",
       "</style>\n",
       "<table border=\"1\" class=\"dataframe\">\n",
       "  <thead>\n",
       "    <tr style=\"text-align: right;\">\n",
       "      <th></th>\n",
       "      <th>key</th>\n",
       "      <th>Активная мощность</th>\n",
       "      <th>Реактивная мощность</th>\n",
       "    </tr>\n",
       "  </thead>\n",
       "  <tbody>\n",
       "    <tr>\n",
       "      <th>count</th>\n",
       "      <td>14876.000000</td>\n",
       "      <td>14876.000000</td>\n",
       "      <td>14876.000000</td>\n",
       "    </tr>\n",
       "    <tr>\n",
       "      <th>mean</th>\n",
       "      <td>1615.220422</td>\n",
       "      <td>0.662752</td>\n",
       "      <td>0.438986</td>\n",
       "    </tr>\n",
       "    <tr>\n",
       "      <th>std</th>\n",
       "      <td>934.571502</td>\n",
       "      <td>0.258885</td>\n",
       "      <td>5.873485</td>\n",
       "    </tr>\n",
       "    <tr>\n",
       "      <th>min</th>\n",
       "      <td>1.000000</td>\n",
       "      <td>0.223120</td>\n",
       "      <td>-715.479924</td>\n",
       "    </tr>\n",
       "    <tr>\n",
       "      <th>25%</th>\n",
       "      <td>806.000000</td>\n",
       "      <td>0.467115</td>\n",
       "      <td>0.337175</td>\n",
       "    </tr>\n",
       "    <tr>\n",
       "      <th>50%</th>\n",
       "      <td>1617.000000</td>\n",
       "      <td>0.599587</td>\n",
       "      <td>0.441639</td>\n",
       "    </tr>\n",
       "    <tr>\n",
       "      <th>75%</th>\n",
       "      <td>2429.000000</td>\n",
       "      <td>0.830070</td>\n",
       "      <td>0.608201</td>\n",
       "    </tr>\n",
       "    <tr>\n",
       "      <th>max</th>\n",
       "      <td>3241.000000</td>\n",
       "      <td>1.463773</td>\n",
       "      <td>1.270284</td>\n",
       "    </tr>\n",
       "  </tbody>\n",
       "</table>\n",
       "</div>"
      ],
      "text/plain": [
       "                key  Активная мощность  Реактивная мощность\n",
       "count  14876.000000       14876.000000         14876.000000\n",
       "mean    1615.220422           0.662752             0.438986\n",
       "std      934.571502           0.258885             5.873485\n",
       "min        1.000000           0.223120          -715.479924\n",
       "25%      806.000000           0.467115             0.337175\n",
       "50%     1617.000000           0.599587             0.441639\n",
       "75%     2429.000000           0.830070             0.608201\n",
       "max     3241.000000           1.463773             1.270284"
      ]
     },
     "metadata": {},
     "output_type": "display_data"
    },
    {
     "name": "stdout",
     "output_type": "stream",
     "text": [
      "Пропуски: key                     0\n",
      "Начало нагрева дугой    0\n",
      "Конец нагрева дугой     0\n",
      "Активная мощность       0\n",
      "Реактивная мощность     0\n",
      "dtype: int64\n",
      "Явные дубликаты: 0\n",
      "\n"
     ]
    },
    {
     "data": {
      "image/png": "[encoded data removed]",
      "text/plain": [
       "<Figure size 432x288 with 1 Axes>"
      ]
     },
     "metadata": {
      "needs_background": "light"
     },
     "output_type": "display_data"
    },
    {
     "data": {
      "image/png": "[encoded data removed]",
      "text/plain": [
       "<Figure size 432x288 with 1 Axes>"
      ]
     },
     "metadata": {
      "needs_background": "light"
     },
     "output_type": "display_data"
    },
    {
     "data": {
      "image/png": "[encoded data removed]",
      "text/plain": [
       "<Figure size 432x288 with 1 Axes>"
      ]
     },
     "metadata": {
      "needs_background": "light"
     },
     "output_type": "display_data"
    }
   ],
   "source": [
    "data_overview(arc)"
   ]
  },
  {
   "cell_type": "code",
   "execution_count": 9,
   "id": "ac4e8a44",
   "metadata": {},
   "outputs": [
    {
     "data": {
      "text/html": [
       "<div>\n",
       "<style scoped>\n",
       "    .dataframe tbody tr th:only-of-type {\n",
       "        vertical-align: middle;\n",
       "    }\n",
       "\n",
       "    .dataframe tbody tr th {\n",
       "        vertical-align: top;\n",
       "    }\n",
       "\n",
       "    .dataframe thead th {\n",
       "        text-align: right;\n",
       "    }\n",
       "</style>\n",
       "<table border=\"1\" class=\"dataframe\">\n",
       "  <thead>\n",
       "    <tr style=\"text-align: right;\">\n",
       "      <th></th>\n",
       "      <th>key</th>\n",
       "      <th>Bulk 1</th>\n",
       "      <th>Bulk 2</th>\n",
       "      <th>Bulk 3</th>\n",
       "      <th>Bulk 4</th>\n",
       "      <th>Bulk 5</th>\n",
       "      <th>Bulk 6</th>\n",
       "      <th>Bulk 7</th>\n",
       "      <th>Bulk 8</th>\n",
       "      <th>Bulk 9</th>\n",
       "      <th>Bulk 10</th>\n",
       "      <th>Bulk 11</th>\n",
       "      <th>Bulk 12</th>\n",
       "      <th>Bulk 13</th>\n",
       "      <th>Bulk 14</th>\n",
       "      <th>Bulk 15</th>\n",
       "    </tr>\n",
       "  </thead>\n",
       "  <tbody>\n",
       "    <tr>\n",
       "      <th>0</th>\n",
       "      <td>1</td>\n",
       "      <td>NaN</td>\n",
       "      <td>NaN</td>\n",
       "      <td>NaN</td>\n",
       "      <td>43.0</td>\n",
       "      <td>NaN</td>\n",
       "      <td>NaN</td>\n",
       "      <td>NaN</td>\n",
       "      <td>NaN</td>\n",
       "      <td>NaN</td>\n",
       "      <td>NaN</td>\n",
       "      <td>NaN</td>\n",
       "      <td>206.0</td>\n",
       "      <td>NaN</td>\n",
       "      <td>150.0</td>\n",
       "      <td>154.0</td>\n",
       "    </tr>\n",
       "    <tr>\n",
       "      <th>1</th>\n",
       "      <td>2</td>\n",
       "      <td>NaN</td>\n",
       "      <td>NaN</td>\n",
       "      <td>NaN</td>\n",
       "      <td>73.0</td>\n",
       "      <td>NaN</td>\n",
       "      <td>NaN</td>\n",
       "      <td>NaN</td>\n",
       "      <td>NaN</td>\n",
       "      <td>NaN</td>\n",
       "      <td>NaN</td>\n",
       "      <td>NaN</td>\n",
       "      <td>206.0</td>\n",
       "      <td>NaN</td>\n",
       "      <td>149.0</td>\n",
       "      <td>154.0</td>\n",
       "    </tr>\n",
       "    <tr>\n",
       "      <th>2</th>\n",
       "      <td>3</td>\n",
       "      <td>NaN</td>\n",
       "      <td>NaN</td>\n",
       "      <td>NaN</td>\n",
       "      <td>34.0</td>\n",
       "      <td>NaN</td>\n",
       "      <td>NaN</td>\n",
       "      <td>NaN</td>\n",
       "      <td>NaN</td>\n",
       "      <td>NaN</td>\n",
       "      <td>NaN</td>\n",
       "      <td>NaN</td>\n",
       "      <td>205.0</td>\n",
       "      <td>NaN</td>\n",
       "      <td>152.0</td>\n",
       "      <td>153.0</td>\n",
       "    </tr>\n",
       "    <tr>\n",
       "      <th>3</th>\n",
       "      <td>4</td>\n",
       "      <td>NaN</td>\n",
       "      <td>NaN</td>\n",
       "      <td>NaN</td>\n",
       "      <td>81.0</td>\n",
       "      <td>NaN</td>\n",
       "      <td>NaN</td>\n",
       "      <td>NaN</td>\n",
       "      <td>NaN</td>\n",
       "      <td>NaN</td>\n",
       "      <td>NaN</td>\n",
       "      <td>NaN</td>\n",
       "      <td>207.0</td>\n",
       "      <td>NaN</td>\n",
       "      <td>153.0</td>\n",
       "      <td>154.0</td>\n",
       "    </tr>\n",
       "    <tr>\n",
       "      <th>4</th>\n",
       "      <td>5</td>\n",
       "      <td>NaN</td>\n",
       "      <td>NaN</td>\n",
       "      <td>NaN</td>\n",
       "      <td>78.0</td>\n",
       "      <td>NaN</td>\n",
       "      <td>NaN</td>\n",
       "      <td>NaN</td>\n",
       "      <td>NaN</td>\n",
       "      <td>NaN</td>\n",
       "      <td>NaN</td>\n",
       "      <td>NaN</td>\n",
       "      <td>203.0</td>\n",
       "      <td>NaN</td>\n",
       "      <td>151.0</td>\n",
       "      <td>152.0</td>\n",
       "    </tr>\n",
       "  </tbody>\n",
       "</table>\n",
       "</div>"
      ],
      "text/plain": [
       "   key  Bulk 1  Bulk 2  Bulk 3  Bulk 4  Bulk 5  Bulk 6  Bulk 7  Bulk 8  \\\n",
       "0    1     NaN     NaN     NaN    43.0     NaN     NaN     NaN     NaN   \n",
       "1    2     NaN     NaN     NaN    73.0     NaN     NaN     NaN     NaN   \n",
       "2    3     NaN     NaN     NaN    34.0     NaN     NaN     NaN     NaN   \n",
       "3    4     NaN     NaN     NaN    81.0     NaN     NaN     NaN     NaN   \n",
       "4    5     NaN     NaN     NaN    78.0     NaN     NaN     NaN     NaN   \n",
       "\n",
       "   Bulk 9  Bulk 10  Bulk 11  Bulk 12  Bulk 13  Bulk 14  Bulk 15  \n",
       "0     NaN      NaN      NaN    206.0      NaN    150.0    154.0  \n",
       "1     NaN      NaN      NaN    206.0      NaN    149.0    154.0  \n",
       "2     NaN      NaN      NaN    205.0      NaN    152.0    153.0  \n",
       "3     NaN      NaN      NaN    207.0      NaN    153.0    154.0  \n",
       "4     NaN      NaN      NaN    203.0      NaN    151.0    152.0  "
      ]
     },
     "metadata": {},
     "output_type": "display_data"
    },
    {
     "name": "stdout",
     "output_type": "stream",
     "text": [
      "<class 'pandas.core.frame.DataFrame'>\n",
      "RangeIndex: 3129 entries, 0 to 3128\n",
      "Data columns (total 16 columns):\n",
      " #   Column   Non-Null Count  Dtype  \n",
      "---  ------   --------------  -----  \n",
      " 0   key      3129 non-null   int64  \n",
      " 1   Bulk 1   252 non-null    float64\n",
      " 2   Bulk 2   22 non-null     float64\n",
      " 3   Bulk 3   1298 non-null   float64\n",
      " 4   Bulk 4   1014 non-null   float64\n",
      " 5   Bulk 5   77 non-null     float64\n",
      " 6   Bulk 6   576 non-null    float64\n",
      " 7   Bulk 7   25 non-null     float64\n",
      " 8   Bulk 8   1 non-null      float64\n",
      " 9   Bulk 9   19 non-null     float64\n",
      " 10  Bulk 10  176 non-null    float64\n",
      " 11  Bulk 11  177 non-null    float64\n",
      " 12  Bulk 12  2450 non-null   float64\n",
      " 13  Bulk 13  18 non-null     float64\n",
      " 14  Bulk 14  2806 non-null   float64\n",
      " 15  Bulk 15  2248 non-null   float64\n",
      "dtypes: float64(15), int64(1)\n",
      "memory usage: 391.2 KB\n"
     ]
    },
    {
     "data": {
      "text/plain": [
       "None"
      ]
     },
     "metadata": {},
     "output_type": "display_data"
    },
    {
     "data": {
      "text/html": [
       "<div>\n",
       "<style scoped>\n",
       "    .dataframe tbody tr th:only-of-type {\n",
       "        vertical-align: middle;\n",
       "    }\n",
       "\n",
       "    .dataframe tbody tr th {\n",
       "        vertical-align: top;\n",
       "    }\n",
       "\n",
       "    .dataframe thead th {\n",
       "        text-align: right;\n",
       "    }\n",
       "</style>\n",
       "<table border=\"1\" class=\"dataframe\">\n",
       "  <thead>\n",
       "    <tr style=\"text-align: right;\">\n",
       "      <th></th>\n",
       "      <th>key</th>\n",
       "      <th>Bulk 1</th>\n",
       "      <th>Bulk 2</th>\n",
       "      <th>Bulk 3</th>\n",
       "      <th>Bulk 4</th>\n",
       "      <th>Bulk 5</th>\n",
       "      <th>Bulk 6</th>\n",
       "      <th>Bulk 7</th>\n",
       "      <th>Bulk 8</th>\n",
       "      <th>Bulk 9</th>\n",
       "      <th>Bulk 10</th>\n",
       "      <th>Bulk 11</th>\n",
       "      <th>Bulk 12</th>\n",
       "      <th>Bulk 13</th>\n",
       "      <th>Bulk 14</th>\n",
       "      <th>Bulk 15</th>\n",
       "    </tr>\n",
       "  </thead>\n",
       "  <tbody>\n",
       "    <tr>\n",
       "      <th>count</th>\n",
       "      <td>3129.000000</td>\n",
       "      <td>252.000000</td>\n",
       "      <td>22.000000</td>\n",
       "      <td>1298.000000</td>\n",
       "      <td>1014.000000</td>\n",
       "      <td>77.000000</td>\n",
       "      <td>576.000000</td>\n",
       "      <td>25.000000</td>\n",
       "      <td>1.0</td>\n",
       "      <td>19.000000</td>\n",
       "      <td>176.000000</td>\n",
       "      <td>177.000000</td>\n",
       "      <td>2450.000000</td>\n",
       "      <td>18.000000</td>\n",
       "      <td>2806.000000</td>\n",
       "      <td>2248.000000</td>\n",
       "    </tr>\n",
       "    <tr>\n",
       "      <th>mean</th>\n",
       "      <td>1624.383509</td>\n",
       "      <td>39.242063</td>\n",
       "      <td>253.045455</td>\n",
       "      <td>113.879045</td>\n",
       "      <td>104.394477</td>\n",
       "      <td>107.025974</td>\n",
       "      <td>118.925347</td>\n",
       "      <td>305.600000</td>\n",
       "      <td>49.0</td>\n",
       "      <td>76.315789</td>\n",
       "      <td>83.284091</td>\n",
       "      <td>76.819209</td>\n",
       "      <td>260.471020</td>\n",
       "      <td>181.111111</td>\n",
       "      <td>170.284747</td>\n",
       "      <td>160.513345</td>\n",
       "    </tr>\n",
       "    <tr>\n",
       "      <th>std</th>\n",
       "      <td>933.337642</td>\n",
       "      <td>18.277654</td>\n",
       "      <td>21.180578</td>\n",
       "      <td>75.483494</td>\n",
       "      <td>48.184126</td>\n",
       "      <td>81.790646</td>\n",
       "      <td>72.057776</td>\n",
       "      <td>191.022904</td>\n",
       "      <td>NaN</td>\n",
       "      <td>21.720581</td>\n",
       "      <td>26.060347</td>\n",
       "      <td>59.655365</td>\n",
       "      <td>120.649269</td>\n",
       "      <td>46.088009</td>\n",
       "      <td>65.868652</td>\n",
       "      <td>51.765319</td>\n",
       "    </tr>\n",
       "    <tr>\n",
       "      <th>min</th>\n",
       "      <td>1.000000</td>\n",
       "      <td>10.000000</td>\n",
       "      <td>228.000000</td>\n",
       "      <td>6.000000</td>\n",
       "      <td>12.000000</td>\n",
       "      <td>11.000000</td>\n",
       "      <td>17.000000</td>\n",
       "      <td>47.000000</td>\n",
       "      <td>49.0</td>\n",
       "      <td>63.000000</td>\n",
       "      <td>24.000000</td>\n",
       "      <td>8.000000</td>\n",
       "      <td>53.000000</td>\n",
       "      <td>151.000000</td>\n",
       "      <td>16.000000</td>\n",
       "      <td>1.000000</td>\n",
       "    </tr>\n",
       "    <tr>\n",
       "      <th>25%</th>\n",
       "      <td>816.000000</td>\n",
       "      <td>27.000000</td>\n",
       "      <td>242.000000</td>\n",
       "      <td>58.000000</td>\n",
       "      <td>72.000000</td>\n",
       "      <td>70.000000</td>\n",
       "      <td>69.750000</td>\n",
       "      <td>155.000000</td>\n",
       "      <td>49.0</td>\n",
       "      <td>66.000000</td>\n",
       "      <td>64.000000</td>\n",
       "      <td>25.000000</td>\n",
       "      <td>204.000000</td>\n",
       "      <td>153.250000</td>\n",
       "      <td>119.000000</td>\n",
       "      <td>105.000000</td>\n",
       "    </tr>\n",
       "    <tr>\n",
       "      <th>50%</th>\n",
       "      <td>1622.000000</td>\n",
       "      <td>31.000000</td>\n",
       "      <td>251.500000</td>\n",
       "      <td>97.500000</td>\n",
       "      <td>102.000000</td>\n",
       "      <td>86.000000</td>\n",
       "      <td>100.000000</td>\n",
       "      <td>298.000000</td>\n",
       "      <td>49.0</td>\n",
       "      <td>68.000000</td>\n",
       "      <td>86.500000</td>\n",
       "      <td>64.000000</td>\n",
       "      <td>208.000000</td>\n",
       "      <td>155.500000</td>\n",
       "      <td>151.000000</td>\n",
       "      <td>160.000000</td>\n",
       "    </tr>\n",
       "    <tr>\n",
       "      <th>75%</th>\n",
       "      <td>2431.000000</td>\n",
       "      <td>46.000000</td>\n",
       "      <td>257.750000</td>\n",
       "      <td>152.000000</td>\n",
       "      <td>133.000000</td>\n",
       "      <td>132.000000</td>\n",
       "      <td>157.000000</td>\n",
       "      <td>406.000000</td>\n",
       "      <td>49.0</td>\n",
       "      <td>70.500000</td>\n",
       "      <td>102.000000</td>\n",
       "      <td>106.000000</td>\n",
       "      <td>316.000000</td>\n",
       "      <td>203.500000</td>\n",
       "      <td>205.750000</td>\n",
       "      <td>205.000000</td>\n",
       "    </tr>\n",
       "    <tr>\n",
       "      <th>max</th>\n",
       "      <td>3241.000000</td>\n",
       "      <td>185.000000</td>\n",
       "      <td>325.000000</td>\n",
       "      <td>454.000000</td>\n",
       "      <td>281.000000</td>\n",
       "      <td>603.000000</td>\n",
       "      <td>503.000000</td>\n",
       "      <td>772.000000</td>\n",
       "      <td>49.0</td>\n",
       "      <td>147.000000</td>\n",
       "      <td>159.000000</td>\n",
       "      <td>313.000000</td>\n",
       "      <td>1849.000000</td>\n",
       "      <td>305.000000</td>\n",
       "      <td>636.000000</td>\n",
       "      <td>405.000000</td>\n",
       "    </tr>\n",
       "  </tbody>\n",
       "</table>\n",
       "</div>"
      ],
      "text/plain": [
       "               key      Bulk 1      Bulk 2       Bulk 3       Bulk 4  \\\n",
       "count  3129.000000  252.000000   22.000000  1298.000000  1014.000000   \n",
       "mean   1624.383509   39.242063  253.045455   113.879045   104.394477   \n",
       "std     933.337642   18.277654   21.180578    75.483494    48.184126   \n",
       "min       1.000000   10.000000  228.000000     6.000000    12.000000   \n",
       "25%     816.000000   27.000000  242.000000    58.000000    72.000000   \n",
       "50%    1622.000000   31.000000  251.500000    97.500000   102.000000   \n",
       "75%    2431.000000   46.000000  257.750000   152.000000   133.000000   \n",
       "max    3241.000000  185.000000  325.000000   454.000000   281.000000   \n",
       "\n",
       "           Bulk 5      Bulk 6      Bulk 7  Bulk 8      Bulk 9     Bulk 10  \\\n",
       "count   77.000000  576.000000   25.000000     1.0   19.000000  176.000000   \n",
       "mean   107.025974  118.925347  305.600000    49.0   76.315789   83.284091   \n",
       "std     81.790646   72.057776  191.022904     NaN   21.720581   26.060347   \n",
       "min     11.000000   17.000000   47.000000    49.0   63.000000   24.000000   \n",
       "25%     70.000000   69.750000  155.000000    49.0   66.000000   64.000000   \n",
       "50%     86.000000  100.000000  298.000000    49.0   68.000000   86.500000   \n",
       "75%    132.000000  157.000000  406.000000    49.0   70.500000  102.000000   \n",
       "max    603.000000  503.000000  772.000000    49.0  147.000000  159.000000   \n",
       "\n",
       "          Bulk 11      Bulk 12     Bulk 13      Bulk 14      Bulk 15  \n",
       "count  177.000000  2450.000000   18.000000  2806.000000  2248.000000  \n",
       "mean    76.819209   260.471020  181.111111   170.284747   160.513345  \n",
       "std     59.655365   120.649269   46.088009    65.868652    51.765319  \n",
       "min      8.000000    53.000000  151.000000    16.000000     1.000000  \n",
       "25%     25.000000   204.000000  153.250000   119.000000   105.000000  \n",
       "50%     64.000000   208.000000  155.500000   151.000000   160.000000  \n",
       "75%    106.000000   316.000000  203.500000   205.750000   205.000000  \n",
       "max    313.000000  1849.000000  305.000000   636.000000   405.000000  "
      ]
     },
     "metadata": {},
     "output_type": "display_data"
    },
    {
     "name": "stdout",
     "output_type": "stream",
     "text": [
      "Пропуски: key           0\n",
      "Bulk 1     2877\n",
      "Bulk 2     3107\n",
      "Bulk 3     1831\n",
      "Bulk 4     2115\n",
      "Bulk 5     3052\n",
      "Bulk 6     2553\n",
      "Bulk 7     3104\n",
      "Bulk 8     3128\n",
      "Bulk 9     3110\n",
      "Bulk 10    2953\n",
      "Bulk 11    2952\n",
      "Bulk 12     679\n",
      "Bulk 13    3111\n",
      "Bulk 14     323\n",
      "Bulk 15     881\n",
      "dtype: int64\n",
      "Явные дубликаты: 0\n",
      "\n"
     ]
    },
    {
     "data": {
      "image/png": "[encoded data removed]",
      "text/plain": [
       "<Figure size 432x288 with 1 Axes>"
      ]
     },
     "metadata": {
      "needs_background": "light"
     },
     "output_type": "display_data"
    },
    {
     "data": {
      "image/png": "[encoded data removed]",
      "text/plain": [
       "<Figure size 432x288 with 1 Axes>"
      ]
     },
     "metadata": {
      "needs_background": "light"
     },
     "output_type": "display_data"
    },
    {
     "data": {
      "image/png": "[encoded data removed]",
      "text/plain": [
       "<Figure size 432x288 with 1 Axes>"
      ]
     },
     "metadata": {
      "needs_background": "light"
     },
     "output_type": "display_data"
    },
    {
     "data": {
      "image/png": "[encoded data removed]",
      "text/plain": [
       "<Figure size 432x288 with 1 Axes>"
      ]
     },
     "metadata": {
      "needs_background": "light"
     },
     "output_type": "display_data"
    },
    {
     "data": {
      "image/png": "[encoded data removed]",
      "text/plain": [
       "<Figure size 432x288 with 1 Axes>"
      ]
     },
     "metadata": {
      "needs_background": "light"
     },
     "output_type": "display_data"
    },
    {
     "data": {
      "image/png": "[encoded data removed]",
      "text/plain": [
       "<Figure size 432x288 with 1 Axes>"
      ]
     },
     "metadata": {
      "needs_background": "light"
     },
     "output_type": "display_data"
    },
    {
     "data": {
      "image/png": "[encoded data removed]",
      "text/plain": [
       "<Figure size 432x288 with 1 Axes>"
      ]
     },
     "metadata": {
      "needs_background": "light"
     },
     "output_type": "display_data"
    },
    {
     "data": {
      "image/png": "[encoded data removed]",
      "text/plain": [
       "<Figure size 432x288 with 1 Axes>"
      ]
     },
     "metadata": {
      "needs_background": "light"
     },
     "output_type": "display_data"
    },
    {
     "data": {
      "image/png": "[encoded data removed]",
      "text/plain": [
       "<Figure size 432x288 with 1 Axes>"
      ]
     },
     "metadata": {
      "needs_background": "light"
     },
     "output_type": "display_data"
    },
    {
     "data": {
      "image/png": "[encoded data removed]",
      "text/plain": [
       "<Figure size 432x288 with 1 Axes>"
      ]
     },
     "metadata": {
      "needs_background": "light"
     },
     "output_type": "display_data"
    },
    {
     "data": {
      "image/png": "[encoded data removed]",
      "text/plain": [
       "<Figure size 432x288 with 1 Axes>"
      ]
     },
     "metadata": {
      "needs_background": "light"
     },
     "output_type": "display_data"
    },
    {
     "data": {
      "image/png": "[encoded data removed]",
      "text/plain": [
       "<Figure size 432x288 with 1 Axes>"
      ]
     },
     "metadata": {
      "needs_background": "light"
     },
     "output_type": "display_data"
    },
    {
     "data": {
      "image/png": "[encoded data removed]",
      "text/plain": [
       "<Figure size 432x288 with 1 Axes>"
      ]
     },
     "metadata": {
      "needs_background": "light"
     },
     "output_type": "display_data"
    },
    {
     "data": {
      "image/png": "[encoded data removed]",
      "text/plain": [
       "<Figure size 432x288 with 1 Axes>"
      ]
     },
     "metadata": {
      "needs_background": "light"
     },
     "output_type": "display_data"
    },
    {
     "data": {
      "image/png": "[encoded data removed]",
      "text/plain": [
       "<Figure size 432x288 with 1 Axes>"
      ]
     },
     "metadata": {
      "needs_background": "light"
     },
     "output_type": "display_data"
    },
    {
     "data": {
      "image/png": "[encoded data removed]",
      "text/plain": [
       "<Figure size 432x288 with 1 Axes>"
      ]
     },
     "metadata": {
      "needs_background": "light"
     },
     "output_type": "display_data"
    }
   ],
   "source": [
    "data_overview(bulk)"
   ]
  },
  {
   "cell_type": "code",
   "execution_count": 10,
   "id": "b482c515",
   "metadata": {},
   "outputs": [
    {
     "data": {
      "text/html": [
       "<div>\n",
       "<style scoped>\n",
       "    .dataframe tbody tr th:only-of-type {\n",
       "        vertical-align: middle;\n",
       "    }\n",
       "\n",
       "    .dataframe tbody tr th {\n",
       "        vertical-align: top;\n",
       "    }\n",
       "\n",
       "    .dataframe thead th {\n",
       "        text-align: right;\n",
       "    }\n",
       "</style>\n",
       "<table border=\"1\" class=\"dataframe\">\n",
       "  <thead>\n",
       "    <tr style=\"text-align: right;\">\n",
       "      <th></th>\n",
       "      <th>key</th>\n",
       "      <th>Bulk 1</th>\n",
       "      <th>Bulk 2</th>\n",
       "      <th>Bulk 3</th>\n",
       "      <th>Bulk 4</th>\n",
       "      <th>Bulk 5</th>\n",
       "      <th>Bulk 6</th>\n",
       "      <th>Bulk 7</th>\n",
       "      <th>Bulk 8</th>\n",
       "      <th>Bulk 9</th>\n",
       "      <th>Bulk 10</th>\n",
       "      <th>Bulk 11</th>\n",
       "      <th>Bulk 12</th>\n",
       "      <th>Bulk 13</th>\n",
       "      <th>Bulk 14</th>\n",
       "      <th>Bulk 15</th>\n",
       "    </tr>\n",
       "  </thead>\n",
       "  <tbody>\n",
       "    <tr>\n",
       "      <th>0</th>\n",
       "      <td>1</td>\n",
       "      <td>NaN</td>\n",
       "      <td>NaN</td>\n",
       "      <td>NaN</td>\n",
       "      <td>2019-05-03 11:28:48</td>\n",
       "      <td>NaN</td>\n",
       "      <td>NaN</td>\n",
       "      <td>NaN</td>\n",
       "      <td>NaN</td>\n",
       "      <td>NaN</td>\n",
       "      <td>NaN</td>\n",
       "      <td>NaN</td>\n",
       "      <td>2019-05-03 11:24:31</td>\n",
       "      <td>NaN</td>\n",
       "      <td>2019-05-03 11:14:50</td>\n",
       "      <td>2019-05-03 11:10:43</td>\n",
       "    </tr>\n",
       "    <tr>\n",
       "      <th>1</th>\n",
       "      <td>2</td>\n",
       "      <td>NaN</td>\n",
       "      <td>NaN</td>\n",
       "      <td>NaN</td>\n",
       "      <td>2019-05-03 11:36:50</td>\n",
       "      <td>NaN</td>\n",
       "      <td>NaN</td>\n",
       "      <td>NaN</td>\n",
       "      <td>NaN</td>\n",
       "      <td>NaN</td>\n",
       "      <td>NaN</td>\n",
       "      <td>NaN</td>\n",
       "      <td>2019-05-03 11:53:30</td>\n",
       "      <td>NaN</td>\n",
       "      <td>2019-05-03 11:48:37</td>\n",
       "      <td>2019-05-03 11:44:39</td>\n",
       "    </tr>\n",
       "    <tr>\n",
       "      <th>2</th>\n",
       "      <td>3</td>\n",
       "      <td>NaN</td>\n",
       "      <td>NaN</td>\n",
       "      <td>NaN</td>\n",
       "      <td>2019-05-03 12:32:39</td>\n",
       "      <td>NaN</td>\n",
       "      <td>NaN</td>\n",
       "      <td>NaN</td>\n",
       "      <td>NaN</td>\n",
       "      <td>NaN</td>\n",
       "      <td>NaN</td>\n",
       "      <td>NaN</td>\n",
       "      <td>2019-05-03 12:27:13</td>\n",
       "      <td>NaN</td>\n",
       "      <td>2019-05-03 12:21:01</td>\n",
       "      <td>2019-05-03 12:16:16</td>\n",
       "    </tr>\n",
       "    <tr>\n",
       "      <th>3</th>\n",
       "      <td>4</td>\n",
       "      <td>NaN</td>\n",
       "      <td>NaN</td>\n",
       "      <td>NaN</td>\n",
       "      <td>2019-05-03 12:43:22</td>\n",
       "      <td>NaN</td>\n",
       "      <td>NaN</td>\n",
       "      <td>NaN</td>\n",
       "      <td>NaN</td>\n",
       "      <td>NaN</td>\n",
       "      <td>NaN</td>\n",
       "      <td>NaN</td>\n",
       "      <td>2019-05-03 12:58:00</td>\n",
       "      <td>NaN</td>\n",
       "      <td>2019-05-03 12:51:11</td>\n",
       "      <td>2019-05-03 12:46:36</td>\n",
       "    </tr>\n",
       "    <tr>\n",
       "      <th>4</th>\n",
       "      <td>5</td>\n",
       "      <td>NaN</td>\n",
       "      <td>NaN</td>\n",
       "      <td>NaN</td>\n",
       "      <td>2019-05-03 13:30:47</td>\n",
       "      <td>NaN</td>\n",
       "      <td>NaN</td>\n",
       "      <td>NaN</td>\n",
       "      <td>NaN</td>\n",
       "      <td>NaN</td>\n",
       "      <td>NaN</td>\n",
       "      <td>NaN</td>\n",
       "      <td>2019-05-03 13:30:47</td>\n",
       "      <td>NaN</td>\n",
       "      <td>2019-05-03 13:34:12</td>\n",
       "      <td>2019-05-03 13:30:47</td>\n",
       "    </tr>\n",
       "  </tbody>\n",
       "</table>\n",
       "</div>"
      ],
      "text/plain": [
       "   key Bulk 1 Bulk 2 Bulk 3               Bulk 4 Bulk 5 Bulk 6 Bulk 7 Bulk 8  \\\n",
       "0    1    NaN    NaN    NaN  2019-05-03 11:28:48    NaN    NaN    NaN    NaN   \n",
       "1    2    NaN    NaN    NaN  2019-05-03 11:36:50    NaN    NaN    NaN    NaN   \n",
       "2    3    NaN    NaN    NaN  2019-05-03 12:32:39    NaN    NaN    NaN    NaN   \n",
       "3    4    NaN    NaN    NaN  2019-05-03 12:43:22    NaN    NaN    NaN    NaN   \n",
       "4    5    NaN    NaN    NaN  2019-05-03 13:30:47    NaN    NaN    NaN    NaN   \n",
       "\n",
       "  Bulk 9 Bulk 10 Bulk 11              Bulk 12 Bulk 13              Bulk 14  \\\n",
       "0    NaN     NaN     NaN  2019-05-03 11:24:31     NaN  2019-05-03 11:14:50   \n",
       "1    NaN     NaN     NaN  2019-05-03 11:53:30     NaN  2019-05-03 11:48:37   \n",
       "2    NaN     NaN     NaN  2019-05-03 12:27:13     NaN  2019-05-03 12:21:01   \n",
       "3    NaN     NaN     NaN  2019-05-03 12:58:00     NaN  2019-05-03 12:51:11   \n",
       "4    NaN     NaN     NaN  2019-05-03 13:30:47     NaN  2019-05-03 13:34:12   \n",
       "\n",
       "               Bulk 15  \n",
       "0  2019-05-03 11:10:43  \n",
       "1  2019-05-03 11:44:39  \n",
       "2  2019-05-03 12:16:16  \n",
       "3  2019-05-03 12:46:36  \n",
       "4  2019-05-03 13:30:47  "
      ]
     },
     "metadata": {},
     "output_type": "display_data"
    },
    {
     "name": "stdout",
     "output_type": "stream",
     "text": [
      "<class 'pandas.core.frame.DataFrame'>\n",
      "RangeIndex: 3129 entries, 0 to 3128\n",
      "Data columns (total 16 columns):\n",
      " #   Column   Non-Null Count  Dtype \n",
      "---  ------   --------------  ----- \n",
      " 0   key      3129 non-null   int64 \n",
      " 1   Bulk 1   252 non-null    object\n",
      " 2   Bulk 2   22 non-null     object\n",
      " 3   Bulk 3   1298 non-null   object\n",
      " 4   Bulk 4   1014 non-null   object\n",
      " 5   Bulk 5   77 non-null     object\n",
      " 6   Bulk 6   576 non-null    object\n",
      " 7   Bulk 7   25 non-null     object\n",
      " 8   Bulk 8   1 non-null      object\n",
      " 9   Bulk 9   19 non-null     object\n",
      " 10  Bulk 10  176 non-null    object\n",
      " 11  Bulk 11  177 non-null    object\n",
      " 12  Bulk 12  2450 non-null   object\n",
      " 13  Bulk 13  18 non-null     object\n",
      " 14  Bulk 14  2806 non-null   object\n",
      " 15  Bulk 15  2248 non-null   object\n",
      "dtypes: int64(1), object(15)\n",
      "memory usage: 391.2+ KB\n"
     ]
    },
    {
     "data": {
      "text/plain": [
       "None"
      ]
     },
     "metadata": {},
     "output_type": "display_data"
    },
    {
     "data": {
      "text/html": [
       "<div>\n",
       "<style scoped>\n",
       "    .dataframe tbody tr th:only-of-type {\n",
       "        vertical-align: middle;\n",
       "    }\n",
       "\n",
       "    .dataframe tbody tr th {\n",
       "        vertical-align: top;\n",
       "    }\n",
       "\n",
       "    .dataframe thead th {\n",
       "        text-align: right;\n",
       "    }\n",
       "</style>\n",
       "<table border=\"1\" class=\"dataframe\">\n",
       "  <thead>\n",
       "    <tr style=\"text-align: right;\">\n",
       "      <th></th>\n",
       "      <th>key</th>\n",
       "    </tr>\n",
       "  </thead>\n",
       "  <tbody>\n",
       "    <tr>\n",
       "      <th>count</th>\n",
       "      <td>3129.000000</td>\n",
       "    </tr>\n",
       "    <tr>\n",
       "      <th>mean</th>\n",
       "      <td>1624.383509</td>\n",
       "    </tr>\n",
       "    <tr>\n",
       "      <th>std</th>\n",
       "      <td>933.337642</td>\n",
       "    </tr>\n",
       "    <tr>\n",
       "      <th>min</th>\n",
       "      <td>1.000000</td>\n",
       "    </tr>\n",
       "    <tr>\n",
       "      <th>25%</th>\n",
       "      <td>816.000000</td>\n",
       "    </tr>\n",
       "    <tr>\n",
       "      <th>50%</th>\n",
       "      <td>1622.000000</td>\n",
       "    </tr>\n",
       "    <tr>\n",
       "      <th>75%</th>\n",
       "      <td>2431.000000</td>\n",
       "    </tr>\n",
       "    <tr>\n",
       "      <th>max</th>\n",
       "      <td>3241.000000</td>\n",
       "    </tr>\n",
       "  </tbody>\n",
       "</table>\n",
       "</div>"
      ],
      "text/plain": [
       "               key\n",
       "count  3129.000000\n",
       "mean   1624.383509\n",
       "std     933.337642\n",
       "min       1.000000\n",
       "25%     816.000000\n",
       "50%    1622.000000\n",
       "75%    2431.000000\n",
       "max    3241.000000"
      ]
     },
     "metadata": {},
     "output_type": "display_data"
    },
    {
     "name": "stdout",
     "output_type": "stream",
     "text": [
      "Пропуски: key           0\n",
      "Bulk 1     2877\n",
      "Bulk 2     3107\n",
      "Bulk 3     1831\n",
      "Bulk 4     2115\n",
      "Bulk 5     3052\n",
      "Bulk 6     2553\n",
      "Bulk 7     3104\n",
      "Bulk 8     3128\n",
      "Bulk 9     3110\n",
      "Bulk 10    2953\n",
      "Bulk 11    2952\n",
      "Bulk 12     679\n",
      "Bulk 13    3111\n",
      "Bulk 14     323\n",
      "Bulk 15     881\n",
      "dtype: int64\n",
      "Явные дубликаты: 0\n",
      "\n"
     ]
    },
    {
     "data": {
      "image/png": "[encoded data removed]",
      "text/plain": [
       "<Figure size 432x288 with 1 Axes>"
      ]
     },
     "metadata": {
      "needs_background": "light"
     },
     "output_type": "display_data"
    }
   ],
   "source": [
    "data_overview(bulk_time)"
   ]
  },
  {
   "cell_type": "code",
   "execution_count": 11,
   "id": "dff74516",
   "metadata": {},
   "outputs": [
    {
     "data": {
      "text/html": [
       "<div>\n",
       "<style scoped>\n",
       "    .dataframe tbody tr th:only-of-type {\n",
       "        vertical-align: middle;\n",
       "    }\n",
       "\n",
       "    .dataframe tbody tr th {\n",
       "        vertical-align: top;\n",
       "    }\n",
       "\n",
       "    .dataframe thead th {\n",
       "        text-align: right;\n",
       "    }\n",
       "</style>\n",
       "<table border=\"1\" class=\"dataframe\">\n",
       "  <thead>\n",
       "    <tr style=\"text-align: right;\">\n",
       "      <th></th>\n",
       "      <th>key</th>\n",
       "      <th>Газ 1</th>\n",
       "    </tr>\n",
       "  </thead>\n",
       "  <tbody>\n",
       "    <tr>\n",
       "      <th>0</th>\n",
       "      <td>1</td>\n",
       "      <td>29.749986</td>\n",
       "    </tr>\n",
       "    <tr>\n",
       "      <th>1</th>\n",
       "      <td>2</td>\n",
       "      <td>12.555561</td>\n",
       "    </tr>\n",
       "    <tr>\n",
       "      <th>2</th>\n",
       "      <td>3</td>\n",
       "      <td>28.554793</td>\n",
       "    </tr>\n",
       "    <tr>\n",
       "      <th>3</th>\n",
       "      <td>4</td>\n",
       "      <td>18.841219</td>\n",
       "    </tr>\n",
       "    <tr>\n",
       "      <th>4</th>\n",
       "      <td>5</td>\n",
       "      <td>5.413692</td>\n",
       "    </tr>\n",
       "  </tbody>\n",
       "</table>\n",
       "</div>"
      ],
      "text/plain": [
       "   key      Газ 1\n",
       "0    1  29.749986\n",
       "1    2  12.555561\n",
       "2    3  28.554793\n",
       "3    4  18.841219\n",
       "4    5   5.413692"
      ]
     },
     "metadata": {},
     "output_type": "display_data"
    },
    {
     "name": "stdout",
     "output_type": "stream",
     "text": [
      "<class 'pandas.core.frame.DataFrame'>\n",
      "RangeIndex: 3239 entries, 0 to 3238\n",
      "Data columns (total 2 columns):\n",
      " #   Column  Non-Null Count  Dtype  \n",
      "---  ------  --------------  -----  \n",
      " 0   key     3239 non-null   int64  \n",
      " 1   Газ 1   3239 non-null   float64\n",
      "dtypes: float64(1), int64(1)\n",
      "memory usage: 50.7 KB\n"
     ]
    },
    {
     "data": {
      "text/plain": [
       "None"
      ]
     },
     "metadata": {},
     "output_type": "display_data"
    },
    {
     "data": {
      "text/html": [
       "<div>\n",
       "<style scoped>\n",
       "    .dataframe tbody tr th:only-of-type {\n",
       "        vertical-align: middle;\n",
       "    }\n",
       "\n",
       "    .dataframe tbody tr th {\n",
       "        vertical-align: top;\n",
       "    }\n",
       "\n",
       "    .dataframe thead th {\n",
       "        text-align: right;\n",
       "    }\n",
       "</style>\n",
       "<table border=\"1\" class=\"dataframe\">\n",
       "  <thead>\n",
       "    <tr style=\"text-align: right;\">\n",
       "      <th></th>\n",
       "      <th>key</th>\n",
       "      <th>Газ 1</th>\n",
       "    </tr>\n",
       "  </thead>\n",
       "  <tbody>\n",
       "    <tr>\n",
       "      <th>count</th>\n",
       "      <td>3239.000000</td>\n",
       "      <td>3239.000000</td>\n",
       "    </tr>\n",
       "    <tr>\n",
       "      <th>mean</th>\n",
       "      <td>1621.861377</td>\n",
       "      <td>11.002062</td>\n",
       "    </tr>\n",
       "    <tr>\n",
       "      <th>std</th>\n",
       "      <td>935.386334</td>\n",
       "      <td>6.220327</td>\n",
       "    </tr>\n",
       "    <tr>\n",
       "      <th>min</th>\n",
       "      <td>1.000000</td>\n",
       "      <td>0.008399</td>\n",
       "    </tr>\n",
       "    <tr>\n",
       "      <th>25%</th>\n",
       "      <td>812.500000</td>\n",
       "      <td>7.043089</td>\n",
       "    </tr>\n",
       "    <tr>\n",
       "      <th>50%</th>\n",
       "      <td>1622.000000</td>\n",
       "      <td>9.836267</td>\n",
       "    </tr>\n",
       "    <tr>\n",
       "      <th>75%</th>\n",
       "      <td>2431.500000</td>\n",
       "      <td>13.769915</td>\n",
       "    </tr>\n",
       "    <tr>\n",
       "      <th>max</th>\n",
       "      <td>3241.000000</td>\n",
       "      <td>77.995040</td>\n",
       "    </tr>\n",
       "  </tbody>\n",
       "</table>\n",
       "</div>"
      ],
      "text/plain": [
       "               key        Газ 1\n",
       "count  3239.000000  3239.000000\n",
       "mean   1621.861377    11.002062\n",
       "std     935.386334     6.220327\n",
       "min       1.000000     0.008399\n",
       "25%     812.500000     7.043089\n",
       "50%    1622.000000     9.836267\n",
       "75%    2431.500000    13.769915\n",
       "max    3241.000000    77.995040"
      ]
     },
     "metadata": {},
     "output_type": "display_data"
    },
    {
     "name": "stdout",
     "output_type": "stream",
     "text": [
      "Пропуски: key      0\n",
      "Газ 1    0\n",
      "dtype: int64\n",
      "Явные дубликаты: 0\n",
      "\n"
     ]
    },
    {
     "data": {
      "image/png": "[encoded data removed]",
      "text/plain": [
       "<Figure size 432x288 with 1 Axes>"
      ]
     },
     "metadata": {
      "needs_background": "light"
     },
     "output_type": "display_data"
    },
    {
     "data": {
      "image/png": "[encoded data removed]",
      "text/plain": [
       "<Figure size 432x288 with 1 Axes>"
      ]
     },
     "metadata": {
      "needs_background": "light"
     },
     "output_type": "display_data"
    }
   ],
   "source": [
    "data_overview(gas)"
   ]
  },
  {
   "cell_type": "code",
   "execution_count": 12,
   "id": "ce181a94",
   "metadata": {},
   "outputs": [
    {
     "data": {
      "text/html": [
       "<div>\n",
       "<style scoped>\n",
       "    .dataframe tbody tr th:only-of-type {\n",
       "        vertical-align: middle;\n",
       "    }\n",
       "\n",
       "    .dataframe tbody tr th {\n",
       "        vertical-align: top;\n",
       "    }\n",
       "\n",
       "    .dataframe thead th {\n",
       "        text-align: right;\n",
       "    }\n",
       "</style>\n",
       "<table border=\"1\" class=\"dataframe\">\n",
       "  <thead>\n",
       "    <tr style=\"text-align: right;\">\n",
       "      <th></th>\n",
       "      <th>key</th>\n",
       "      <th>Время замера</th>\n",
       "      <th>Температура</th>\n",
       "    </tr>\n",
       "  </thead>\n",
       "  <tbody>\n",
       "    <tr>\n",
       "      <th>0</th>\n",
       "      <td>1</td>\n",
       "      <td>2019-05-03 11:02:04</td>\n",
       "      <td>1571.0</td>\n",
       "    </tr>\n",
       "    <tr>\n",
       "      <th>1</th>\n",
       "      <td>1</td>\n",
       "      <td>2019-05-03 11:07:18</td>\n",
       "      <td>1604.0</td>\n",
       "    </tr>\n",
       "    <tr>\n",
       "      <th>2</th>\n",
       "      <td>1</td>\n",
       "      <td>2019-05-03 11:11:34</td>\n",
       "      <td>1618.0</td>\n",
       "    </tr>\n",
       "    <tr>\n",
       "      <th>3</th>\n",
       "      <td>1</td>\n",
       "      <td>2019-05-03 11:18:04</td>\n",
       "      <td>1601.0</td>\n",
       "    </tr>\n",
       "    <tr>\n",
       "      <th>4</th>\n",
       "      <td>1</td>\n",
       "      <td>2019-05-03 11:25:59</td>\n",
       "      <td>1606.0</td>\n",
       "    </tr>\n",
       "  </tbody>\n",
       "</table>\n",
       "</div>"
      ],
      "text/plain": [
       "   key         Время замера  Температура\n",
       "0    1  2019-05-03 11:02:04       1571.0\n",
       "1    1  2019-05-03 11:07:18       1604.0\n",
       "2    1  2019-05-03 11:11:34       1618.0\n",
       "3    1  2019-05-03 11:18:04       1601.0\n",
       "4    1  2019-05-03 11:25:59       1606.0"
      ]
     },
     "metadata": {},
     "output_type": "display_data"
    },
    {
     "name": "stdout",
     "output_type": "stream",
     "text": [
      "<class 'pandas.core.frame.DataFrame'>\n",
      "RangeIndex: 18092 entries, 0 to 18091\n",
      "Data columns (total 3 columns):\n",
      " #   Column        Non-Null Count  Dtype  \n",
      "---  ------        --------------  -----  \n",
      " 0   key           18092 non-null  int64  \n",
      " 1   Время замера  18092 non-null  object \n",
      " 2   Температура   14665 non-null  float64\n",
      "dtypes: float64(1), int64(1), object(1)\n",
      "memory usage: 424.2+ KB\n"
     ]
    },
    {
     "data": {
      "text/plain": [
       "None"
      ]
     },
     "metadata": {},
     "output_type": "display_data"
    },
    {
     "data": {
      "text/html": [
       "<div>\n",
       "<style scoped>\n",
       "    .dataframe tbody tr th:only-of-type {\n",
       "        vertical-align: middle;\n",
       "    }\n",
       "\n",
       "    .dataframe tbody tr th {\n",
       "        vertical-align: top;\n",
       "    }\n",
       "\n",
       "    .dataframe thead th {\n",
       "        text-align: right;\n",
       "    }\n",
       "</style>\n",
       "<table border=\"1\" class=\"dataframe\">\n",
       "  <thead>\n",
       "    <tr style=\"text-align: right;\">\n",
       "      <th></th>\n",
       "      <th>key</th>\n",
       "      <th>Температура</th>\n",
       "    </tr>\n",
       "  </thead>\n",
       "  <tbody>\n",
       "    <tr>\n",
       "      <th>count</th>\n",
       "      <td>18092.000000</td>\n",
       "      <td>14665.000000</td>\n",
       "    </tr>\n",
       "    <tr>\n",
       "      <th>mean</th>\n",
       "      <td>1616.460977</td>\n",
       "      <td>1590.722741</td>\n",
       "    </tr>\n",
       "    <tr>\n",
       "      <th>std</th>\n",
       "      <td>934.641385</td>\n",
       "      <td>20.394381</td>\n",
       "    </tr>\n",
       "    <tr>\n",
       "      <th>min</th>\n",
       "      <td>1.000000</td>\n",
       "      <td>1191.000000</td>\n",
       "    </tr>\n",
       "    <tr>\n",
       "      <th>25%</th>\n",
       "      <td>807.750000</td>\n",
       "      <td>1580.000000</td>\n",
       "    </tr>\n",
       "    <tr>\n",
       "      <th>50%</th>\n",
       "      <td>1618.000000</td>\n",
       "      <td>1590.000000</td>\n",
       "    </tr>\n",
       "    <tr>\n",
       "      <th>75%</th>\n",
       "      <td>2429.000000</td>\n",
       "      <td>1599.000000</td>\n",
       "    </tr>\n",
       "    <tr>\n",
       "      <th>max</th>\n",
       "      <td>3241.000000</td>\n",
       "      <td>1705.000000</td>\n",
       "    </tr>\n",
       "  </tbody>\n",
       "</table>\n",
       "</div>"
      ],
      "text/plain": [
       "                key   Температура\n",
       "count  18092.000000  14665.000000\n",
       "mean    1616.460977   1590.722741\n",
       "std      934.641385     20.394381\n",
       "min        1.000000   1191.000000\n",
       "25%      807.750000   1580.000000\n",
       "50%     1618.000000   1590.000000\n",
       "75%     2429.000000   1599.000000\n",
       "max     3241.000000   1705.000000"
      ]
     },
     "metadata": {},
     "output_type": "display_data"
    },
    {
     "name": "stdout",
     "output_type": "stream",
     "text": [
      "Пропуски: key                0\n",
      "Время замера       0\n",
      "Температура     3427\n",
      "dtype: int64\n",
      "Явные дубликаты: 0\n",
      "\n"
     ]
    },
    {
     "data": {
      "image/png": "[encoded data removed]",
      "text/plain": [
       "<Figure size 432x288 with 1 Axes>"
      ]
     },
     "metadata": {
      "needs_background": "light"
     },
     "output_type": "display_data"
    },
    {
     "data": {
      "image/png": "[encoded data removed]",
      "text/plain": [
       "<Figure size 432x288 with 1 Axes>"
      ]
     },
     "metadata": {
      "needs_background": "light"
     },
     "output_type": "display_data"
    }
   ],
   "source": [
    "data_overview(temp)"
   ]
  },
  {
   "cell_type": "code",
   "execution_count": 13,
   "id": "879502a2",
   "metadata": {},
   "outputs": [
    {
     "data": {
      "text/html": [
       "<div>\n",
       "<style scoped>\n",
       "    .dataframe tbody tr th:only-of-type {\n",
       "        vertical-align: middle;\n",
       "    }\n",
       "\n",
       "    .dataframe tbody tr th {\n",
       "        vertical-align: top;\n",
       "    }\n",
       "\n",
       "    .dataframe thead th {\n",
       "        text-align: right;\n",
       "    }\n",
       "</style>\n",
       "<table border=\"1\" class=\"dataframe\">\n",
       "  <thead>\n",
       "    <tr style=\"text-align: right;\">\n",
       "      <th></th>\n",
       "      <th>key</th>\n",
       "      <th>Wire 1</th>\n",
       "      <th>Wire 2</th>\n",
       "      <th>Wire 3</th>\n",
       "      <th>Wire 4</th>\n",
       "      <th>Wire 5</th>\n",
       "      <th>Wire 6</th>\n",
       "      <th>Wire 7</th>\n",
       "      <th>Wire 8</th>\n",
       "      <th>Wire 9</th>\n",
       "    </tr>\n",
       "  </thead>\n",
       "  <tbody>\n",
       "    <tr>\n",
       "      <th>0</th>\n",
       "      <td>1</td>\n",
       "      <td>60.059998</td>\n",
       "      <td>NaN</td>\n",
       "      <td>NaN</td>\n",
       "      <td>NaN</td>\n",
       "      <td>NaN</td>\n",
       "      <td>NaN</td>\n",
       "      <td>NaN</td>\n",
       "      <td>NaN</td>\n",
       "      <td>NaN</td>\n",
       "    </tr>\n",
       "    <tr>\n",
       "      <th>1</th>\n",
       "      <td>2</td>\n",
       "      <td>96.052315</td>\n",
       "      <td>NaN</td>\n",
       "      <td>NaN</td>\n",
       "      <td>NaN</td>\n",
       "      <td>NaN</td>\n",
       "      <td>NaN</td>\n",
       "      <td>NaN</td>\n",
       "      <td>NaN</td>\n",
       "      <td>NaN</td>\n",
       "    </tr>\n",
       "    <tr>\n",
       "      <th>2</th>\n",
       "      <td>3</td>\n",
       "      <td>91.160157</td>\n",
       "      <td>NaN</td>\n",
       "      <td>NaN</td>\n",
       "      <td>NaN</td>\n",
       "      <td>NaN</td>\n",
       "      <td>NaN</td>\n",
       "      <td>NaN</td>\n",
       "      <td>NaN</td>\n",
       "      <td>NaN</td>\n",
       "    </tr>\n",
       "    <tr>\n",
       "      <th>3</th>\n",
       "      <td>4</td>\n",
       "      <td>89.063515</td>\n",
       "      <td>NaN</td>\n",
       "      <td>NaN</td>\n",
       "      <td>NaN</td>\n",
       "      <td>NaN</td>\n",
       "      <td>NaN</td>\n",
       "      <td>NaN</td>\n",
       "      <td>NaN</td>\n",
       "      <td>NaN</td>\n",
       "    </tr>\n",
       "    <tr>\n",
       "      <th>4</th>\n",
       "      <td>5</td>\n",
       "      <td>89.238236</td>\n",
       "      <td>9.11456</td>\n",
       "      <td>NaN</td>\n",
       "      <td>NaN</td>\n",
       "      <td>NaN</td>\n",
       "      <td>NaN</td>\n",
       "      <td>NaN</td>\n",
       "      <td>NaN</td>\n",
       "      <td>NaN</td>\n",
       "    </tr>\n",
       "  </tbody>\n",
       "</table>\n",
       "</div>"
      ],
      "text/plain": [
       "   key     Wire 1   Wire 2  Wire 3  Wire 4  Wire 5  Wire 6  Wire 7  Wire 8  \\\n",
       "0    1  60.059998      NaN     NaN     NaN     NaN     NaN     NaN     NaN   \n",
       "1    2  96.052315      NaN     NaN     NaN     NaN     NaN     NaN     NaN   \n",
       "2    3  91.160157      NaN     NaN     NaN     NaN     NaN     NaN     NaN   \n",
       "3    4  89.063515      NaN     NaN     NaN     NaN     NaN     NaN     NaN   \n",
       "4    5  89.238236  9.11456     NaN     NaN     NaN     NaN     NaN     NaN   \n",
       "\n",
       "   Wire 9  \n",
       "0     NaN  \n",
       "1     NaN  \n",
       "2     NaN  \n",
       "3     NaN  \n",
       "4     NaN  "
      ]
     },
     "metadata": {},
     "output_type": "display_data"
    },
    {
     "name": "stdout",
     "output_type": "stream",
     "text": [
      "<class 'pandas.core.frame.DataFrame'>\n",
      "RangeIndex: 3081 entries, 0 to 3080\n",
      "Data columns (total 10 columns):\n",
      " #   Column  Non-Null Count  Dtype  \n",
      "---  ------  --------------  -----  \n",
      " 0   key     3081 non-null   int64  \n",
      " 1   Wire 1  3055 non-null   float64\n",
      " 2   Wire 2  1079 non-null   float64\n",
      " 3   Wire 3  63 non-null     float64\n",
      " 4   Wire 4  14 non-null     float64\n",
      " 5   Wire 5  1 non-null      float64\n",
      " 6   Wire 6  73 non-null     float64\n",
      " 7   Wire 7  11 non-null     float64\n",
      " 8   Wire 8  19 non-null     float64\n",
      " 9   Wire 9  29 non-null     float64\n",
      "dtypes: float64(9), int64(1)\n",
      "memory usage: 240.8 KB\n"
     ]
    },
    {
     "data": {
      "text/plain": [
       "None"
      ]
     },
     "metadata": {},
     "output_type": "display_data"
    },
    {
     "data": {
      "text/html": [
       "<div>\n",
       "<style scoped>\n",
       "    .dataframe tbody tr th:only-of-type {\n",
       "        vertical-align: middle;\n",
       "    }\n",
       "\n",
       "    .dataframe tbody tr th {\n",
       "        vertical-align: top;\n",
       "    }\n",
       "\n",
       "    .dataframe thead th {\n",
       "        text-align: right;\n",
       "    }\n",
       "</style>\n",
       "<table border=\"1\" class=\"dataframe\">\n",
       "  <thead>\n",
       "    <tr style=\"text-align: right;\">\n",
       "      <th></th>\n",
       "      <th>key</th>\n",
       "      <th>Wire 1</th>\n",
       "      <th>Wire 2</th>\n",
       "      <th>Wire 3</th>\n",
       "      <th>Wire 4</th>\n",
       "      <th>Wire 5</th>\n",
       "      <th>Wire 6</th>\n",
       "      <th>Wire 7</th>\n",
       "      <th>Wire 8</th>\n",
       "      <th>Wire 9</th>\n",
       "    </tr>\n",
       "  </thead>\n",
       "  <tbody>\n",
       "    <tr>\n",
       "      <th>count</th>\n",
       "      <td>3081.000000</td>\n",
       "      <td>3055.000000</td>\n",
       "      <td>1079.000000</td>\n",
       "      <td>63.000000</td>\n",
       "      <td>14.000000</td>\n",
       "      <td>1.000</td>\n",
       "      <td>73.000000</td>\n",
       "      <td>11.000000</td>\n",
       "      <td>19.000000</td>\n",
       "      <td>29.000000</td>\n",
       "    </tr>\n",
       "    <tr>\n",
       "      <th>mean</th>\n",
       "      <td>1623.426485</td>\n",
       "      <td>100.895853</td>\n",
       "      <td>50.577323</td>\n",
       "      <td>189.482681</td>\n",
       "      <td>57.442841</td>\n",
       "      <td>15.132</td>\n",
       "      <td>48.016974</td>\n",
       "      <td>10.039007</td>\n",
       "      <td>53.625193</td>\n",
       "      <td>34.155752</td>\n",
       "    </tr>\n",
       "    <tr>\n",
       "      <th>std</th>\n",
       "      <td>932.996726</td>\n",
       "      <td>42.012518</td>\n",
       "      <td>39.320216</td>\n",
       "      <td>99.513444</td>\n",
       "      <td>28.824667</td>\n",
       "      <td>NaN</td>\n",
       "      <td>33.919845</td>\n",
       "      <td>8.610584</td>\n",
       "      <td>16.881728</td>\n",
       "      <td>19.931616</td>\n",
       "    </tr>\n",
       "    <tr>\n",
       "      <th>min</th>\n",
       "      <td>1.000000</td>\n",
       "      <td>1.918800</td>\n",
       "      <td>0.030160</td>\n",
       "      <td>0.144144</td>\n",
       "      <td>24.148801</td>\n",
       "      <td>15.132</td>\n",
       "      <td>0.034320</td>\n",
       "      <td>0.234208</td>\n",
       "      <td>45.076721</td>\n",
       "      <td>4.622800</td>\n",
       "    </tr>\n",
       "    <tr>\n",
       "      <th>25%</th>\n",
       "      <td>823.000000</td>\n",
       "      <td>72.115684</td>\n",
       "      <td>20.193680</td>\n",
       "      <td>95.135044</td>\n",
       "      <td>40.807002</td>\n",
       "      <td>15.132</td>\n",
       "      <td>25.053600</td>\n",
       "      <td>6.762756</td>\n",
       "      <td>46.094879</td>\n",
       "      <td>22.058401</td>\n",
       "    </tr>\n",
       "    <tr>\n",
       "      <th>50%</th>\n",
       "      <td>1619.000000</td>\n",
       "      <td>100.158234</td>\n",
       "      <td>40.142956</td>\n",
       "      <td>235.194977</td>\n",
       "      <td>45.234282</td>\n",
       "      <td>15.132</td>\n",
       "      <td>42.076324</td>\n",
       "      <td>9.017009</td>\n",
       "      <td>46.279999</td>\n",
       "      <td>30.066399</td>\n",
       "    </tr>\n",
       "    <tr>\n",
       "      <th>75%</th>\n",
       "      <td>2434.000000</td>\n",
       "      <td>126.060483</td>\n",
       "      <td>70.227558</td>\n",
       "      <td>276.252014</td>\n",
       "      <td>76.124619</td>\n",
       "      <td>15.132</td>\n",
       "      <td>64.212723</td>\n",
       "      <td>11.886057</td>\n",
       "      <td>48.089603</td>\n",
       "      <td>43.862003</td>\n",
       "    </tr>\n",
       "    <tr>\n",
       "      <th>max</th>\n",
       "      <td>3241.000000</td>\n",
       "      <td>330.314424</td>\n",
       "      <td>282.780152</td>\n",
       "      <td>385.008668</td>\n",
       "      <td>113.231044</td>\n",
       "      <td>15.132</td>\n",
       "      <td>180.454575</td>\n",
       "      <td>32.847674</td>\n",
       "      <td>102.762401</td>\n",
       "      <td>90.053604</td>\n",
       "    </tr>\n",
       "  </tbody>\n",
       "</table>\n",
       "</div>"
      ],
      "text/plain": [
       "               key       Wire 1       Wire 2      Wire 3      Wire 4  Wire 5  \\\n",
       "count  3081.000000  3055.000000  1079.000000   63.000000   14.000000   1.000   \n",
       "mean   1623.426485   100.895853    50.577323  189.482681   57.442841  15.132   \n",
       "std     932.996726    42.012518    39.320216   99.513444   28.824667     NaN   \n",
       "min       1.000000     1.918800     0.030160    0.144144   24.148801  15.132   \n",
       "25%     823.000000    72.115684    20.193680   95.135044   40.807002  15.132   \n",
       "50%    1619.000000   100.158234    40.142956  235.194977   45.234282  15.132   \n",
       "75%    2434.000000   126.060483    70.227558  276.252014   76.124619  15.132   \n",
       "max    3241.000000   330.314424   282.780152  385.008668  113.231044  15.132   \n",
       "\n",
       "           Wire 6     Wire 7      Wire 8     Wire 9  \n",
       "count   73.000000  11.000000   19.000000  29.000000  \n",
       "mean    48.016974  10.039007   53.625193  34.155752  \n",
       "std     33.919845   8.610584   16.881728  19.931616  \n",
       "min      0.034320   0.234208   45.076721   4.622800  \n",
       "25%     25.053600   6.762756   46.094879  22.058401  \n",
       "50%     42.076324   9.017009   46.279999  30.066399  \n",
       "75%     64.212723  11.886057   48.089603  43.862003  \n",
       "max    180.454575  32.847674  102.762401  90.053604  "
      ]
     },
     "metadata": {},
     "output_type": "display_data"
    },
    {
     "name": "stdout",
     "output_type": "stream",
     "text": [
      "Пропуски: key          0\n",
      "Wire 1      26\n",
      "Wire 2    2002\n",
      "Wire 3    3018\n",
      "Wire 4    3067\n",
      "Wire 5    3080\n",
      "Wire 6    3008\n",
      "Wire 7    3070\n",
      "Wire 8    3062\n",
      "Wire 9    3052\n",
      "dtype: int64\n",
      "Явные дубликаты: 0\n",
      "\n"
     ]
    },
    {
     "data": {
      "image/png": "[encoded data removed]",
      "text/plain": [
       "<Figure size 432x288 with 1 Axes>"
      ]
     },
     "metadata": {
      "needs_background": "light"
     },
     "output_type": "display_data"
    },
    {
     "data": {
      "image/png": "[encoded data removed]",
      "text/plain": [
       "<Figure size 432x288 with 1 Axes>"
      ]
     },
     "metadata": {
      "needs_background": "light"
     },
     "output_type": "display_data"
    },
    {
     "data": {
      "image/png": "[encoded data removed]",
      "text/plain": [
       "<Figure size 432x288 with 1 Axes>"
      ]
     },
     "metadata": {
      "needs_background": "light"
     },
     "output_type": "display_data"
    },
    {
     "data": {
      "image/png": "[encoded data removed]",
      "text/plain": [
       "<Figure size 432x288 with 1 Axes>"
      ]
     },
     "metadata": {
      "needs_background": "light"
     },
     "output_type": "display_data"
    },
    {
     "data": {
      "image/png": "[encoded data removed]",
      "text/plain": [
       "<Figure size 432x288 with 1 Axes>"
      ]
     },
     "metadata": {
      "needs_background": "light"
     },
     "output_type": "display_data"
    },
    {
     "data": {
      "image/png": "[encoded data removed]",
      "text/plain": [
       "<Figure size 432x288 with 1 Axes>"
      ]
     },
     "metadata": {
      "needs_background": "light"
     },
     "output_type": "display_data"
    },
    {
     "data": {
      "image/png": "[encoded data removed]",
      "text/plain": [
       "<Figure size 432x288 with 1 Axes>"
      ]
     },
     "metadata": {
      "needs_background": "light"
     },
     "output_type": "display_data"
    },
    {
     "data": {
      "image/png": "[encoded data removed]",
      "text/plain": [
       "<Figure size 432x288 with 1 Axes>"
      ]
     },
     "metadata": {
      "needs_background": "light"
     },
     "output_type": "display_data"
    },
    {
     "data": {
      "image/png": "[encoded data removed]",
      "text/plain": [
       "<Figure size 432x288 with 1 Axes>"
      ]
     },
     "metadata": {
      "needs_background": "light"
     },
     "output_type": "display_data"
    },
    {
     "data": {
      "image/png": "[encoded data removed]",
      "text/plain": [
       "<Figure size 432x288 with 1 Axes>"
      ]
     },
     "metadata": {
      "needs_background": "light"
     },
     "output_type": "display_data"
    }
   ],
   "source": [
    "data_overview(wire)"
   ]
  },
  {
   "cell_type": "code",
   "execution_count": 14,
   "id": "2132e631",
   "metadata": {},
   "outputs": [
    {
     "data": {
      "text/html": [
       "<div>\n",
       "<style scoped>\n",
       "    .dataframe tbody tr th:only-of-type {\n",
       "        vertical-align: middle;\n",
       "    }\n",
       "\n",
       "    .dataframe tbody tr th {\n",
       "        vertical-align: top;\n",
       "    }\n",
       "\n",
       "    .dataframe thead th {\n",
       "        text-align: right;\n",
       "    }\n",
       "</style>\n",
       "<table border=\"1\" class=\"dataframe\">\n",
       "  <thead>\n",
       "    <tr style=\"text-align: right;\">\n",
       "      <th></th>\n",
       "      <th>key</th>\n",
       "      <th>Wire 1</th>\n",
       "      <th>Wire 2</th>\n",
       "      <th>Wire 3</th>\n",
       "      <th>Wire 4</th>\n",
       "      <th>Wire 5</th>\n",
       "      <th>Wire 6</th>\n",
       "      <th>Wire 7</th>\n",
       "      <th>Wire 8</th>\n",
       "      <th>Wire 9</th>\n",
       "    </tr>\n",
       "  </thead>\n",
       "  <tbody>\n",
       "    <tr>\n",
       "      <th>0</th>\n",
       "      <td>1</td>\n",
       "      <td>2019-05-03 11:06:19</td>\n",
       "      <td>NaN</td>\n",
       "      <td>NaN</td>\n",
       "      <td>NaN</td>\n",
       "      <td>NaN</td>\n",
       "      <td>NaN</td>\n",
       "      <td>NaN</td>\n",
       "      <td>NaN</td>\n",
       "      <td>NaN</td>\n",
       "    </tr>\n",
       "    <tr>\n",
       "      <th>1</th>\n",
       "      <td>2</td>\n",
       "      <td>2019-05-03 11:36:50</td>\n",
       "      <td>NaN</td>\n",
       "      <td>NaN</td>\n",
       "      <td>NaN</td>\n",
       "      <td>NaN</td>\n",
       "      <td>NaN</td>\n",
       "      <td>NaN</td>\n",
       "      <td>NaN</td>\n",
       "      <td>NaN</td>\n",
       "    </tr>\n",
       "    <tr>\n",
       "      <th>2</th>\n",
       "      <td>3</td>\n",
       "      <td>2019-05-03 12:11:46</td>\n",
       "      <td>NaN</td>\n",
       "      <td>NaN</td>\n",
       "      <td>NaN</td>\n",
       "      <td>NaN</td>\n",
       "      <td>NaN</td>\n",
       "      <td>NaN</td>\n",
       "      <td>NaN</td>\n",
       "      <td>NaN</td>\n",
       "    </tr>\n",
       "    <tr>\n",
       "      <th>3</th>\n",
       "      <td>4</td>\n",
       "      <td>2019-05-03 12:43:22</td>\n",
       "      <td>NaN</td>\n",
       "      <td>NaN</td>\n",
       "      <td>NaN</td>\n",
       "      <td>NaN</td>\n",
       "      <td>NaN</td>\n",
       "      <td>NaN</td>\n",
       "      <td>NaN</td>\n",
       "      <td>NaN</td>\n",
       "    </tr>\n",
       "    <tr>\n",
       "      <th>4</th>\n",
       "      <td>5</td>\n",
       "      <td>2019-05-03 13:20:44</td>\n",
       "      <td>2019-05-03 13:15:34</td>\n",
       "      <td>NaN</td>\n",
       "      <td>NaN</td>\n",
       "      <td>NaN</td>\n",
       "      <td>NaN</td>\n",
       "      <td>NaN</td>\n",
       "      <td>NaN</td>\n",
       "      <td>NaN</td>\n",
       "    </tr>\n",
       "  </tbody>\n",
       "</table>\n",
       "</div>"
      ],
      "text/plain": [
       "   key               Wire 1               Wire 2 Wire 3 Wire 4 Wire 5 Wire 6  \\\n",
       "0    1  2019-05-03 11:06:19                  NaN    NaN    NaN    NaN    NaN   \n",
       "1    2  2019-05-03 11:36:50                  NaN    NaN    NaN    NaN    NaN   \n",
       "2    3  2019-05-03 12:11:46                  NaN    NaN    NaN    NaN    NaN   \n",
       "3    4  2019-05-03 12:43:22                  NaN    NaN    NaN    NaN    NaN   \n",
       "4    5  2019-05-03 13:20:44  2019-05-03 13:15:34    NaN    NaN    NaN    NaN   \n",
       "\n",
       "  Wire 7 Wire 8 Wire 9  \n",
       "0    NaN    NaN    NaN  \n",
       "1    NaN    NaN    NaN  \n",
       "2    NaN    NaN    NaN  \n",
       "3    NaN    NaN    NaN  \n",
       "4    NaN    NaN    NaN  "
      ]
     },
     "metadata": {},
     "output_type": "display_data"
    },
    {
     "name": "stdout",
     "output_type": "stream",
     "text": [
      "<class 'pandas.core.frame.DataFrame'>\n",
      "RangeIndex: 3081 entries, 0 to 3080\n",
      "Data columns (total 10 columns):\n",
      " #   Column  Non-Null Count  Dtype \n",
      "---  ------  --------------  ----- \n",
      " 0   key     3081 non-null   int64 \n",
      " 1   Wire 1  3055 non-null   object\n",
      " 2   Wire 2  1079 non-null   object\n",
      " 3   Wire 3  63 non-null     object\n",
      " 4   Wire 4  14 non-null     object\n",
      " 5   Wire 5  1 non-null      object\n",
      " 6   Wire 6  73 non-null     object\n",
      " 7   Wire 7  11 non-null     object\n",
      " 8   Wire 8  19 non-null     object\n",
      " 9   Wire 9  29 non-null     object\n",
      "dtypes: int64(1), object(9)\n",
      "memory usage: 240.8+ KB\n"
     ]
    },
    {
     "data": {
      "text/plain": [
       "None"
      ]
     },
     "metadata": {},
     "output_type": "display_data"
    },
    {
     "data": {
      "text/html": [
       "<div>\n",
       "<style scoped>\n",
       "    .dataframe tbody tr th:only-of-type {\n",
       "        vertical-align: middle;\n",
       "    }\n",
       "\n",
       "    .dataframe tbody tr th {\n",
       "        vertical-align: top;\n",
       "    }\n",
       "\n",
       "    .dataframe thead th {\n",
       "        text-align: right;\n",
       "    }\n",
       "</style>\n",
       "<table border=\"1\" class=\"dataframe\">\n",
       "  <thead>\n",
       "    <tr style=\"text-align: right;\">\n",
       "      <th></th>\n",
       "      <th>key</th>\n",
       "    </tr>\n",
       "  </thead>\n",
       "  <tbody>\n",
       "    <tr>\n",
       "      <th>count</th>\n",
       "      <td>3081.000000</td>\n",
       "    </tr>\n",
       "    <tr>\n",
       "      <th>mean</th>\n",
       "      <td>1623.426485</td>\n",
       "    </tr>\n",
       "    <tr>\n",
       "      <th>std</th>\n",
       "      <td>932.996726</td>\n",
       "    </tr>\n",
       "    <tr>\n",
       "      <th>min</th>\n",
       "      <td>1.000000</td>\n",
       "    </tr>\n",
       "    <tr>\n",
       "      <th>25%</th>\n",
       "      <td>823.000000</td>\n",
       "    </tr>\n",
       "    <tr>\n",
       "      <th>50%</th>\n",
       "      <td>1619.000000</td>\n",
       "    </tr>\n",
       "    <tr>\n",
       "      <th>75%</th>\n",
       "      <td>2434.000000</td>\n",
       "    </tr>\n",
       "    <tr>\n",
       "      <th>max</th>\n",
       "      <td>3241.000000</td>\n",
       "    </tr>\n",
       "  </tbody>\n",
       "</table>\n",
       "</div>"
      ],
      "text/plain": [
       "               key\n",
       "count  3081.000000\n",
       "mean   1623.426485\n",
       "std     932.996726\n",
       "min       1.000000\n",
       "25%     823.000000\n",
       "50%    1619.000000\n",
       "75%    2434.000000\n",
       "max    3241.000000"
      ]
     },
     "metadata": {},
     "output_type": "display_data"
    },
    {
     "name": "stdout",
     "output_type": "stream",
     "text": [
      "Пропуски: key          0\n",
      "Wire 1      26\n",
      "Wire 2    2002\n",
      "Wire 3    3018\n",
      "Wire 4    3067\n",
      "Wire 5    3080\n",
      "Wire 6    3008\n",
      "Wire 7    3070\n",
      "Wire 8    3062\n",
      "Wire 9    3052\n",
      "dtype: int64\n",
      "Явные дубликаты: 0\n",
      "\n"
     ]
    },
    {
     "data": {
      "image/png": "[encoded data removed]",
      "text/plain": [
       "<Figure size 432x288 with 1 Axes>"
      ]
     },
     "metadata": {
      "needs_background": "light"
     },
     "output_type": "display_data"
    }
   ],
   "source": [
    "data_overview(wire_time)"
   ]
  },
  {
   "cell_type": "markdown",
   "id": "024daddb",
   "metadata": {},
   "source": [
    "### Выводы по исследовательскому анализу данных:\n",
    "\n",
    "- В некоторых датасетах (в данных о подаче сыпучих материалов, в данных о проволочных материалах) мы видим много пропусков. Нужно будет принять решение о том, как их обработать и насколько важны эти признаки для дальнейшей работы.\n",
    "- В данных об электродах явно есть аномалии в столбце \"реактивная мощность\" (большое отрицательное значение) - нужно будет определить его природу и обработать. \n",
    "- Мы видим, что в датасете об электродах как будто больше данных, чем во всех остальных. Это связано с тем, что там ковш-ключ встречается несколько раз - после разных этапов нагрева дугой. Нужно будет принять решение о том, как аггрегировать эти данные для использования в итоговом датасете признаков.\n"
   ]
  },
  {
   "cell_type": "markdown",
   "id": "b3b1e6fe",
   "metadata": {},
   "source": [
    "### План работы:\n",
    "\n",
    "1) Объединить таблицы по столбцу key. Берем только те партии, которые присуствуют во все таблицах. Перед объединением аггрегировать данные в таблице данных с электродов. Исследовать полученный датасет\n",
    "\n",
    "2) Обработать пропуски и явные аномалии (не выбросы!) в полном датасете. Удалить признаки, где пропуски занимают больше 80% данных. По завершению исследования датасета удалить столбец key\n",
    "\n",
    "3) Разделить выборку на данные для обучения с использованием кросс-валидации (0.75) и теста (0.25)\n",
    "\n",
    "4) Обработать выбросы на обучающей выборке, провести масштабирование на обучающей выборке, удалить признаки с высокой кореляцией (для линейной регресси)\n",
    "\n",
    "5) Провести кросс-валидацию нескольких разных моделей, отобрать лучшую по метрике MAE\n",
    "\n",
    "6) Провести тестирование лучшей модели на тестовой выборке\n",
    "\n",
    "7) Написать отчет по работе\n"
   ]
  },
  {
   "cell_type": "markdown",
   "id": "08d1650e",
   "metadata": {},
   "source": [
    "**Уточняющие вопросы к заказчику:**\n",
    "- С чем может быть связано такое количество пропусков в данных о сыпучих и проволочных материалов? Насколько эти данные важны в процессе производства?"
   ]
  },
  {
   "cell_type": "markdown",
   "id": "c29adc3f",
   "metadata": {},
   "source": [
    "## Основная часть"
   ]
  },
  {
   "cell_type": "markdown",
   "id": "5c320536",
   "metadata": {},
   "source": [
    "### Объединение таблиц"
   ]
  },
  {
   "cell_type": "markdown",
   "id": "8fb43aa8",
   "metadata": {},
   "source": [
    "У нас есть таблицы: arc, gas, bulk, bulk_time, wire, wire_time, temp\n",
    "\n",
    "Таблицу по электродам (arc) нужно аггрегировать перед объединением. Возьмем средние значения по ковшу. Перед этим исключим ковш с отрицательным значением."
   ]
  },
  {
   "cell_type": "code",
   "execution_count": 15,
   "id": "5c855b96",
   "metadata": {},
   "outputs": [
    {
     "data": {
      "text/plain": [
       "9780    2116\n",
       "Name: key, dtype: int64"
      ]
     },
     "execution_count": 15,
     "metadata": {},
     "output_type": "execute_result"
    }
   ],
   "source": [
    "arc[arc['Реактивная мощность']< 0]['key']"
   ]
  },
  {
   "cell_type": "code",
   "execution_count": 16,
   "id": "0ad8ca89",
   "metadata": {},
   "outputs": [],
   "source": [
    "arc = arc[arc['key'] != 2116]"
   ]
  },
  {
   "cell_type": "code",
   "execution_count": 17,
   "id": "9b3f43e0",
   "metadata": {},
   "outputs": [
    {
     "data": {
      "text/html": [
       "<div>\n",
       "<style scoped>\n",
       "    .dataframe tbody tr th:only-of-type {\n",
       "        vertical-align: middle;\n",
       "    }\n",
       "\n",
       "    .dataframe tbody tr th {\n",
       "        vertical-align: top;\n",
       "    }\n",
       "\n",
       "    .dataframe thead th {\n",
       "        text-align: right;\n",
       "    }\n",
       "</style>\n",
       "<table border=\"1\" class=\"dataframe\">\n",
       "  <thead>\n",
       "    <tr style=\"text-align: right;\">\n",
       "      <th></th>\n",
       "      <th>key</th>\n",
       "      <th>Начало нагрева дугой</th>\n",
       "      <th>Конец нагрева дугой</th>\n",
       "      <th>Активная мощность</th>\n",
       "      <th>Реактивная мощность</th>\n",
       "    </tr>\n",
       "  </thead>\n",
       "  <tbody>\n",
       "    <tr>\n",
       "      <th>0</th>\n",
       "      <td>1</td>\n",
       "      <td>2019-05-03 11:02:14</td>\n",
       "      <td>2019-05-03 11:06:02</td>\n",
       "      <td>0.305130</td>\n",
       "      <td>0.211253</td>\n",
       "    </tr>\n",
       "    <tr>\n",
       "      <th>1</th>\n",
       "      <td>1</td>\n",
       "      <td>2019-05-03 11:07:28</td>\n",
       "      <td>2019-05-03 11:10:33</td>\n",
       "      <td>0.765658</td>\n",
       "      <td>0.477438</td>\n",
       "    </tr>\n",
       "    <tr>\n",
       "      <th>2</th>\n",
       "      <td>1</td>\n",
       "      <td>2019-05-03 11:11:44</td>\n",
       "      <td>2019-05-03 11:14:36</td>\n",
       "      <td>0.580313</td>\n",
       "      <td>0.430460</td>\n",
       "    </tr>\n",
       "    <tr>\n",
       "      <th>3</th>\n",
       "      <td>1</td>\n",
       "      <td>2019-05-03 11:18:14</td>\n",
       "      <td>2019-05-03 11:24:19</td>\n",
       "      <td>0.518496</td>\n",
       "      <td>0.379979</td>\n",
       "    </tr>\n",
       "    <tr>\n",
       "      <th>4</th>\n",
       "      <td>1</td>\n",
       "      <td>2019-05-03 11:26:09</td>\n",
       "      <td>2019-05-03 11:28:37</td>\n",
       "      <td>0.867133</td>\n",
       "      <td>0.643691</td>\n",
       "    </tr>\n",
       "  </tbody>\n",
       "</table>\n",
       "</div>"
      ],
      "text/plain": [
       "   key Начало нагрева дугой  Конец нагрева дугой  Активная мощность  \\\n",
       "0    1  2019-05-03 11:02:14  2019-05-03 11:06:02           0.305130   \n",
       "1    1  2019-05-03 11:07:28  2019-05-03 11:10:33           0.765658   \n",
       "2    1  2019-05-03 11:11:44  2019-05-03 11:14:36           0.580313   \n",
       "3    1  2019-05-03 11:18:14  2019-05-03 11:24:19           0.518496   \n",
       "4    1  2019-05-03 11:26:09  2019-05-03 11:28:37           0.867133   \n",
       "\n",
       "   Реактивная мощность  \n",
       "0             0.211253  \n",
       "1             0.477438  \n",
       "2             0.430460  \n",
       "3             0.379979  \n",
       "4             0.643691  "
      ]
     },
     "execution_count": 17,
     "metadata": {},
     "output_type": "execute_result"
    }
   ],
   "source": [
    "arc.head()"
   ]
  },
  {
   "cell_type": "markdown",
   "id": "798b3ed1",
   "metadata": {},
   "source": [
    "Сразу создадим здесь новые признаки:\n",
    "- Длительность нагрева дугой (разница между началом нагрева дугой и концом нагрева дугой в минутах)\n",
    "- Число циклов нагрева для каждого ковша (сколько раз ключ ковша встречается а таблице электродов)\n",
    "- Полная мощность (вычисляется как корень из суммы квадратов активной и реактивной мощности) "
   ]
  },
  {
   "cell_type": "code",
   "execution_count": 18,
   "id": "6b0f0053",
   "metadata": {},
   "outputs": [],
   "source": [
    "#Длительность нагрева дугой (средняя для ковша)\n",
    "#(разница между началом нагрева дугой и концом нагрева дугой в минутах)\n",
    "arc['Начало нагрева дугой'] = pd.to_datetime(arc['Начало нагрева дугой'])\n",
    "arc['Конец нагрева дугой'] = pd.to_datetime(arc['Конец нагрева дугой'])\n",
    "\n",
    "arc['heat_duration'] = \\\n",
    "(arc['Конец нагрева дугой'] - arc['Начало нагрева дугой']).dt.seconds / 60\n"
   ]
  },
  {
   "cell_type": "code",
   "execution_count": 19,
   "id": "fec68828",
   "metadata": {},
   "outputs": [],
   "source": [
    "arc_agg = pd.pivot_table(arc, index = 'key', \\\n",
    "                    values = ['Активная мощность', 'Реактивная мощность', 'heat_duration'],\\\n",
    "                    aggfunc = 'mean')\n",
    "arc_agg.columns = ['heat_duration','active_power', 'reactive_power']"
   ]
  },
  {
   "cell_type": "code",
   "execution_count": 20,
   "id": "c53fc5a0",
   "metadata": {},
   "outputs": [],
   "source": [
    "arc_agg['full_power'] = np.sqrt(arc_agg['active_power']**2\\\n",
    "                                + arc_agg['reactive_power']**2)"
   ]
  },
  {
   "cell_type": "code",
   "execution_count": 21,
   "id": "2b470a9e",
   "metadata": {},
   "outputs": [],
   "source": [
    "arc_agg['heated_count'] = arc.groupby(['key'])['key'].count()"
   ]
  },
  {
   "cell_type": "code",
   "execution_count": 22,
   "id": "fbf42878",
   "metadata": {},
   "outputs": [
    {
     "data": {
      "text/html": [
       "<div>\n",
       "<style scoped>\n",
       "    .dataframe tbody tr th:only-of-type {\n",
       "        vertical-align: middle;\n",
       "    }\n",
       "\n",
       "    .dataframe tbody tr th {\n",
       "        vertical-align: top;\n",
       "    }\n",
       "\n",
       "    .dataframe thead th {\n",
       "        text-align: right;\n",
       "    }\n",
       "</style>\n",
       "<table border=\"1\" class=\"dataframe\">\n",
       "  <thead>\n",
       "    <tr style=\"text-align: right;\">\n",
       "      <th></th>\n",
       "      <th>heat_duration</th>\n",
       "      <th>active_power</th>\n",
       "      <th>reactive_power</th>\n",
       "      <th>full_power</th>\n",
       "      <th>heated_count</th>\n",
       "    </tr>\n",
       "    <tr>\n",
       "      <th>key</th>\n",
       "      <th></th>\n",
       "      <th></th>\n",
       "      <th></th>\n",
       "      <th></th>\n",
       "      <th></th>\n",
       "    </tr>\n",
       "  </thead>\n",
       "  <tbody>\n",
       "    <tr>\n",
       "      <th>1</th>\n",
       "      <td>3.660000</td>\n",
       "      <td>0.607346</td>\n",
       "      <td>0.428564</td>\n",
       "      <td>0.743328</td>\n",
       "      <td>5</td>\n",
       "    </tr>\n",
       "    <tr>\n",
       "      <th>2</th>\n",
       "      <td>3.379167</td>\n",
       "      <td>0.534852</td>\n",
       "      <td>0.363339</td>\n",
       "      <td>0.646593</td>\n",
       "      <td>4</td>\n",
       "    </tr>\n",
       "    <tr>\n",
       "      <th>3</th>\n",
       "      <td>2.183333</td>\n",
       "      <td>0.812728</td>\n",
       "      <td>0.587491</td>\n",
       "      <td>1.002833</td>\n",
       "      <td>5</td>\n",
       "    </tr>\n",
       "    <tr>\n",
       "      <th>4</th>\n",
       "      <td>3.087500</td>\n",
       "      <td>0.676622</td>\n",
       "      <td>0.514248</td>\n",
       "      <td>0.849864</td>\n",
       "      <td>4</td>\n",
       "    </tr>\n",
       "    <tr>\n",
       "      <th>5</th>\n",
       "      <td>3.620833</td>\n",
       "      <td>0.563238</td>\n",
       "      <td>0.421998</td>\n",
       "      <td>0.703789</td>\n",
       "      <td>4</td>\n",
       "    </tr>\n",
       "  </tbody>\n",
       "</table>\n",
       "</div>"
      ],
      "text/plain": [
       "     heat_duration  active_power  reactive_power  full_power  heated_count\n",
       "key                                                                       \n",
       "1         3.660000      0.607346        0.428564    0.743328             5\n",
       "2         3.379167      0.534852        0.363339    0.646593             4\n",
       "3         2.183333      0.812728        0.587491    1.002833             5\n",
       "4         3.087500      0.676622        0.514248    0.849864             4\n",
       "5         3.620833      0.563238        0.421998    0.703789             4"
      ]
     },
     "execution_count": 22,
     "metadata": {},
     "output_type": "execute_result"
    }
   ],
   "source": [
    "arc_agg.head()"
   ]
  },
  {
   "cell_type": "markdown",
   "id": "4d0c7f59",
   "metadata": {},
   "source": [
    "Из таблицы температур нам нужно достать первую температуру (признак) и последнюю температуру (**целевой** признак) ковша"
   ]
  },
  {
   "cell_type": "code",
   "execution_count": 23,
   "id": "4ec8a37c",
   "metadata": {},
   "outputs": [
    {
     "data": {
      "text/html": [
       "<div>\n",
       "<style scoped>\n",
       "    .dataframe tbody tr th:only-of-type {\n",
       "        vertical-align: middle;\n",
       "    }\n",
       "\n",
       "    .dataframe tbody tr th {\n",
       "        vertical-align: top;\n",
       "    }\n",
       "\n",
       "    .dataframe thead th {\n",
       "        text-align: right;\n",
       "    }\n",
       "</style>\n",
       "<table border=\"1\" class=\"dataframe\">\n",
       "  <thead>\n",
       "    <tr style=\"text-align: right;\">\n",
       "      <th></th>\n",
       "      <th>key</th>\n",
       "      <th>Время замера</th>\n",
       "      <th>Температура</th>\n",
       "    </tr>\n",
       "  </thead>\n",
       "  <tbody>\n",
       "    <tr>\n",
       "      <th>0</th>\n",
       "      <td>1</td>\n",
       "      <td>2019-05-03 11:02:04</td>\n",
       "      <td>1571.0</td>\n",
       "    </tr>\n",
       "    <tr>\n",
       "      <th>1</th>\n",
       "      <td>1</td>\n",
       "      <td>2019-05-03 11:07:18</td>\n",
       "      <td>1604.0</td>\n",
       "    </tr>\n",
       "    <tr>\n",
       "      <th>2</th>\n",
       "      <td>1</td>\n",
       "      <td>2019-05-03 11:11:34</td>\n",
       "      <td>1618.0</td>\n",
       "    </tr>\n",
       "    <tr>\n",
       "      <th>3</th>\n",
       "      <td>1</td>\n",
       "      <td>2019-05-03 11:18:04</td>\n",
       "      <td>1601.0</td>\n",
       "    </tr>\n",
       "    <tr>\n",
       "      <th>4</th>\n",
       "      <td>1</td>\n",
       "      <td>2019-05-03 11:25:59</td>\n",
       "      <td>1606.0</td>\n",
       "    </tr>\n",
       "  </tbody>\n",
       "</table>\n",
       "</div>"
      ],
      "text/plain": [
       "   key         Время замера  Температура\n",
       "0    1  2019-05-03 11:02:04       1571.0\n",
       "1    1  2019-05-03 11:07:18       1604.0\n",
       "2    1  2019-05-03 11:11:34       1618.0\n",
       "3    1  2019-05-03 11:18:04       1601.0\n",
       "4    1  2019-05-03 11:25:59       1606.0"
      ]
     },
     "execution_count": 23,
     "metadata": {},
     "output_type": "execute_result"
    }
   ],
   "source": [
    "temp.head()\n",
    "#Датасет уже отсортирован по времени замера.\n",
    "#Возьмем первое появление ключа в датасете как первую температуру"
   ]
  },
  {
   "cell_type": "code",
   "execution_count": 24,
   "id": "8c3165b4",
   "metadata": {},
   "outputs": [],
   "source": [
    "first_temp_index = []\n",
    "first_temp_keys = []\n",
    "for i in range(temp.shape[0]):\n",
    "    key = temp['key'][i]\n",
    "    if key not in first_temp_keys:\n",
    "        first_temp_index.append(i)\n",
    "        first_temp_keys.append(key)"
   ]
  },
  {
   "cell_type": "code",
   "execution_count": 25,
   "id": "56d2864f",
   "metadata": {},
   "outputs": [
    {
     "name": "stdout",
     "output_type": "stream",
     "text": [
      "<class 'pandas.core.frame.DataFrame'>\n",
      "Int64Index: 3216 entries, 0 to 18086\n",
      "Data columns (total 3 columns):\n",
      " #   Column        Non-Null Count  Dtype         \n",
      "---  ------        --------------  -----         \n",
      " 0   key           3216 non-null   int64         \n",
      " 1   Время замера  3216 non-null   datetime64[ns]\n",
      " 2   Температура   3216 non-null   float64       \n",
      "dtypes: datetime64[ns](1), float64(1), int64(1)\n",
      "memory usage: 100.5 KB\n"
     ]
    },
    {
     "data": {
      "text/html": [
       "<div>\n",
       "<style scoped>\n",
       "    .dataframe tbody tr th:only-of-type {\n",
       "        vertical-align: middle;\n",
       "    }\n",
       "\n",
       "    .dataframe tbody tr th {\n",
       "        vertical-align: top;\n",
       "    }\n",
       "\n",
       "    .dataframe thead th {\n",
       "        text-align: right;\n",
       "    }\n",
       "</style>\n",
       "<table border=\"1\" class=\"dataframe\">\n",
       "  <thead>\n",
       "    <tr style=\"text-align: right;\">\n",
       "      <th></th>\n",
       "      <th>key</th>\n",
       "      <th>Время замера</th>\n",
       "      <th>Температура</th>\n",
       "    </tr>\n",
       "  </thead>\n",
       "  <tbody>\n",
       "    <tr>\n",
       "      <th>0</th>\n",
       "      <td>1</td>\n",
       "      <td>2019-05-03 11:02:04</td>\n",
       "      <td>1571.0</td>\n",
       "    </tr>\n",
       "    <tr>\n",
       "      <th>1</th>\n",
       "      <td>2</td>\n",
       "      <td>2019-05-03 11:34:04</td>\n",
       "      <td>1581.0</td>\n",
       "    </tr>\n",
       "    <tr>\n",
       "      <th>2</th>\n",
       "      <td>3</td>\n",
       "      <td>2019-05-03 12:06:44</td>\n",
       "      <td>1596.0</td>\n",
       "    </tr>\n",
       "    <tr>\n",
       "      <th>3</th>\n",
       "      <td>4</td>\n",
       "      <td>2019-05-03 12:39:27</td>\n",
       "      <td>1601.0</td>\n",
       "    </tr>\n",
       "    <tr>\n",
       "      <th>4</th>\n",
       "      <td>5</td>\n",
       "      <td>2019-05-03 13:11:03</td>\n",
       "      <td>1576.0</td>\n",
       "    </tr>\n",
       "  </tbody>\n",
       "</table>\n",
       "</div>"
      ],
      "text/plain": [
       "   key        Время замера  Температура\n",
       "0    1 2019-05-03 11:02:04       1571.0\n",
       "1    2 2019-05-03 11:34:04       1581.0\n",
       "2    3 2019-05-03 12:06:44       1596.0\n",
       "3    4 2019-05-03 12:39:27       1601.0\n",
       "4    5 2019-05-03 13:11:03       1576.0"
      ]
     },
     "metadata": {},
     "output_type": "display_data"
    }
   ],
   "source": [
    "first_temp = temp.loc[first_temp_index]\n",
    "first_temp['Время замера'] = pd.to_datetime(first_temp['Время замера'])\n",
    "first_temp.info()\n",
    "first_temp.reset_index(inplace = True, drop = True)\n",
    "display(first_temp.head())"
   ]
  },
  {
   "cell_type": "code",
   "execution_count": 26,
   "id": "8f69a9fc",
   "metadata": {},
   "outputs": [],
   "source": [
    "last_temp_index = []\n",
    "for i in range(1,temp.shape[0]):\n",
    "    key = temp['key'][i]\n",
    "    if key != temp['key'][i-1]:\n",
    "        last_temp_index.append(i-1)"
   ]
  },
  {
   "cell_type": "code",
   "execution_count": 27,
   "id": "46f340db",
   "metadata": {},
   "outputs": [
    {
     "name": "stdout",
     "output_type": "stream",
     "text": [
      "<class 'pandas.core.frame.DataFrame'>\n",
      "Int64Index: 3215 entries, 5 to 18085\n",
      "Data columns (total 3 columns):\n",
      " #   Column        Non-Null Count  Dtype         \n",
      "---  ------        --------------  -----         \n",
      " 0   key           3215 non-null   int64         \n",
      " 1   Время замера  3215 non-null   datetime64[ns]\n",
      " 2   Температура   2477 non-null   float64       \n",
      "dtypes: datetime64[ns](1), float64(1), int64(1)\n",
      "memory usage: 100.5 KB\n"
     ]
    },
    {
     "data": {
      "text/html": [
       "<div>\n",
       "<style scoped>\n",
       "    .dataframe tbody tr th:only-of-type {\n",
       "        vertical-align: middle;\n",
       "    }\n",
       "\n",
       "    .dataframe tbody tr th {\n",
       "        vertical-align: top;\n",
       "    }\n",
       "\n",
       "    .dataframe thead th {\n",
       "        text-align: right;\n",
       "    }\n",
       "</style>\n",
       "<table border=\"1\" class=\"dataframe\">\n",
       "  <thead>\n",
       "    <tr style=\"text-align: right;\">\n",
       "      <th></th>\n",
       "      <th>key</th>\n",
       "      <th>Время замера</th>\n",
       "      <th>Температура</th>\n",
       "    </tr>\n",
       "  </thead>\n",
       "  <tbody>\n",
       "    <tr>\n",
       "      <th>0</th>\n",
       "      <td>1</td>\n",
       "      <td>2019-05-03 11:30:38</td>\n",
       "      <td>1613.0</td>\n",
       "    </tr>\n",
       "    <tr>\n",
       "      <th>1</th>\n",
       "      <td>2</td>\n",
       "      <td>2019-05-03 11:55:09</td>\n",
       "      <td>1602.0</td>\n",
       "    </tr>\n",
       "    <tr>\n",
       "      <th>2</th>\n",
       "      <td>3</td>\n",
       "      <td>2019-05-03 12:35:57</td>\n",
       "      <td>1599.0</td>\n",
       "    </tr>\n",
       "    <tr>\n",
       "      <th>3</th>\n",
       "      <td>4</td>\n",
       "      <td>2019-05-03 12:59:47</td>\n",
       "      <td>1625.0</td>\n",
       "    </tr>\n",
       "    <tr>\n",
       "      <th>4</th>\n",
       "      <td>5</td>\n",
       "      <td>2019-05-03 13:36:39</td>\n",
       "      <td>1602.0</td>\n",
       "    </tr>\n",
       "  </tbody>\n",
       "</table>\n",
       "</div>"
      ],
      "text/plain": [
       "   key        Время замера  Температура\n",
       "0    1 2019-05-03 11:30:38       1613.0\n",
       "1    2 2019-05-03 11:55:09       1602.0\n",
       "2    3 2019-05-03 12:35:57       1599.0\n",
       "3    4 2019-05-03 12:59:47       1625.0\n",
       "4    5 2019-05-03 13:36:39       1602.0"
      ]
     },
     "metadata": {},
     "output_type": "display_data"
    }
   ],
   "source": [
    "last_temp = temp.loc[last_temp_index]\n",
    "last_temp['Время замера'] = pd.to_datetime(last_temp['Время замера'])\n",
    "last_temp.info()\n",
    "last_temp.reset_index(inplace = True, drop = True)\n",
    "display(last_temp.head())"
   ]
  },
  {
   "cell_type": "markdown",
   "id": "149aa7a6",
   "metadata": {},
   "source": [
    "Теперь создадим новый признак из по температуре:\n",
    "\n",
    "- Разницу между замерами первой и последней температуры (в минутах)"
   ]
  },
  {
   "cell_type": "code",
   "execution_count": 28,
   "id": "e8c0f95f",
   "metadata": {},
   "outputs": [
    {
     "data": {
      "text/html": [
       "<div>\n",
       "<style scoped>\n",
       "    .dataframe tbody tr th:only-of-type {\n",
       "        vertical-align: middle;\n",
       "    }\n",
       "\n",
       "    .dataframe tbody tr th {\n",
       "        vertical-align: top;\n",
       "    }\n",
       "\n",
       "    .dataframe thead th {\n",
       "        text-align: right;\n",
       "    }\n",
       "</style>\n",
       "<table border=\"1\" class=\"dataframe\">\n",
       "  <thead>\n",
       "    <tr style=\"text-align: right;\">\n",
       "      <th></th>\n",
       "      <th>key</th>\n",
       "      <th>time_temp_delta</th>\n",
       "    </tr>\n",
       "  </thead>\n",
       "  <tbody>\n",
       "    <tr>\n",
       "      <th>0</th>\n",
       "      <td>1.0</td>\n",
       "      <td>28.566667</td>\n",
       "    </tr>\n",
       "    <tr>\n",
       "      <th>1</th>\n",
       "      <td>2.0</td>\n",
       "      <td>21.083333</td>\n",
       "    </tr>\n",
       "    <tr>\n",
       "      <th>2</th>\n",
       "      <td>3.0</td>\n",
       "      <td>29.216667</td>\n",
       "    </tr>\n",
       "    <tr>\n",
       "      <th>3</th>\n",
       "      <td>4.0</td>\n",
       "      <td>20.333333</td>\n",
       "    </tr>\n",
       "    <tr>\n",
       "      <th>4</th>\n",
       "      <td>5.0</td>\n",
       "      <td>25.600000</td>\n",
       "    </tr>\n",
       "  </tbody>\n",
       "</table>\n",
       "</div>"
      ],
      "text/plain": [
       "   key  time_temp_delta\n",
       "0  1.0        28.566667\n",
       "1  2.0        21.083333\n",
       "2  3.0        29.216667\n",
       "3  4.0        20.333333\n",
       "4  5.0        25.600000"
      ]
     },
     "execution_count": 28,
     "metadata": {},
     "output_type": "execute_result"
    }
   ],
   "source": [
    "#Разница между замерами первой и последней температуры (в минутах)\n",
    "\n",
    "temp_delta = pd.DataFrame(last_temp['Время замера'] - first_temp['Время замера'])\n",
    "temp_delta['key'] = last_temp['key']\n",
    "temp_delta['time_temp_delta'] = temp_delta['Время замера'].dt.seconds / 60\n",
    "temp_delta.drop('Время замера', axis = 1, inplace = True)\n",
    "temp_delta.head()"
   ]
  },
  {
   "cell_type": "code",
   "execution_count": 29,
   "id": "0ec58b5b",
   "metadata": {},
   "outputs": [],
   "source": [
    "first_temp.drop('Время замера', axis = 1, inplace = True)\n",
    "last_temp.drop('Время замера', axis = 1, inplace = True)\n",
    "first_temp.columns = ['key', 'first_temp']\n",
    "last_temp.columns = ['key', 'last_temp']"
   ]
  },
  {
   "cell_type": "markdown",
   "id": "f307533b",
   "metadata": {},
   "source": [
    "------------------------------------\n",
    "Теперь можно объединять таблицы."
   ]
  },
  {
   "cell_type": "code",
   "execution_count": 30,
   "id": "262bd91b",
   "metadata": {},
   "outputs": [],
   "source": [
    "df = arc_agg.merge(gas, how = 'inner', on = 'key')\n",
    "df = df.merge(first_temp, how = 'inner', on = 'key')\n",
    "df = df.merge(last_temp, how = 'inner', on = 'key')\n",
    "df = df.merge(temp_delta, how = 'inner', on = 'key')\n",
    "df = df.merge(bulk, how = 'inner', on = 'key')\n",
    "df = df.merge(wire, how = 'inner', on = 'key')"
   ]
  },
  {
   "cell_type": "code",
   "execution_count": 31,
   "id": "09666698",
   "metadata": {},
   "outputs": [
    {
     "data": {
      "text/html": [
       "<div>\n",
       "<style scoped>\n",
       "    .dataframe tbody tr th:only-of-type {\n",
       "        vertical-align: middle;\n",
       "    }\n",
       "\n",
       "    .dataframe tbody tr th {\n",
       "        vertical-align: top;\n",
       "    }\n",
       "\n",
       "    .dataframe thead th {\n",
       "        text-align: right;\n",
       "    }\n",
       "</style>\n",
       "<table border=\"1\" class=\"dataframe\">\n",
       "  <thead>\n",
       "    <tr style=\"text-align: right;\">\n",
       "      <th></th>\n",
       "      <th>key</th>\n",
       "      <th>heat_duration</th>\n",
       "      <th>active_power</th>\n",
       "      <th>reactive_power</th>\n",
       "      <th>full_power</th>\n",
       "      <th>heated_count</th>\n",
       "      <th>gas</th>\n",
       "      <th>first_temp</th>\n",
       "      <th>last_temp</th>\n",
       "      <th>time_temp_delta</th>\n",
       "      <th>...</th>\n",
       "      <th>bulk_15</th>\n",
       "      <th>wire_1</th>\n",
       "      <th>wire_2</th>\n",
       "      <th>wire_3</th>\n",
       "      <th>wire_4</th>\n",
       "      <th>wire_5</th>\n",
       "      <th>wire_6</th>\n",
       "      <th>wire_7</th>\n",
       "      <th>wire_8</th>\n",
       "      <th>wire_9</th>\n",
       "    </tr>\n",
       "  </thead>\n",
       "  <tbody>\n",
       "    <tr>\n",
       "      <th>0</th>\n",
       "      <td>1</td>\n",
       "      <td>3.660000</td>\n",
       "      <td>0.607346</td>\n",
       "      <td>0.428564</td>\n",
       "      <td>0.743328</td>\n",
       "      <td>5</td>\n",
       "      <td>29.749986</td>\n",
       "      <td>1571.0</td>\n",
       "      <td>1613.0</td>\n",
       "      <td>28.566667</td>\n",
       "      <td>...</td>\n",
       "      <td>154.0</td>\n",
       "      <td>60.059998</td>\n",
       "      <td>NaN</td>\n",
       "      <td>NaN</td>\n",
       "      <td>NaN</td>\n",
       "      <td>NaN</td>\n",
       "      <td>NaN</td>\n",
       "      <td>NaN</td>\n",
       "      <td>NaN</td>\n",
       "      <td>NaN</td>\n",
       "    </tr>\n",
       "    <tr>\n",
       "      <th>1</th>\n",
       "      <td>2</td>\n",
       "      <td>3.379167</td>\n",
       "      <td>0.534852</td>\n",
       "      <td>0.363339</td>\n",
       "      <td>0.646593</td>\n",
       "      <td>4</td>\n",
       "      <td>12.555561</td>\n",
       "      <td>1581.0</td>\n",
       "      <td>1602.0</td>\n",
       "      <td>21.083333</td>\n",
       "      <td>...</td>\n",
       "      <td>154.0</td>\n",
       "      <td>96.052315</td>\n",
       "      <td>NaN</td>\n",
       "      <td>NaN</td>\n",
       "      <td>NaN</td>\n",
       "      <td>NaN</td>\n",
       "      <td>NaN</td>\n",
       "      <td>NaN</td>\n",
       "      <td>NaN</td>\n",
       "      <td>NaN</td>\n",
       "    </tr>\n",
       "    <tr>\n",
       "      <th>2</th>\n",
       "      <td>3</td>\n",
       "      <td>2.183333</td>\n",
       "      <td>0.812728</td>\n",
       "      <td>0.587491</td>\n",
       "      <td>1.002833</td>\n",
       "      <td>5</td>\n",
       "      <td>28.554793</td>\n",
       "      <td>1596.0</td>\n",
       "      <td>1599.0</td>\n",
       "      <td>29.216667</td>\n",
       "      <td>...</td>\n",
       "      <td>153.0</td>\n",
       "      <td>91.160157</td>\n",
       "      <td>NaN</td>\n",
       "      <td>NaN</td>\n",
       "      <td>NaN</td>\n",
       "      <td>NaN</td>\n",
       "      <td>NaN</td>\n",
       "      <td>NaN</td>\n",
       "      <td>NaN</td>\n",
       "      <td>NaN</td>\n",
       "    </tr>\n",
       "    <tr>\n",
       "      <th>3</th>\n",
       "      <td>4</td>\n",
       "      <td>3.087500</td>\n",
       "      <td>0.676622</td>\n",
       "      <td>0.514248</td>\n",
       "      <td>0.849864</td>\n",
       "      <td>4</td>\n",
       "      <td>18.841219</td>\n",
       "      <td>1601.0</td>\n",
       "      <td>1625.0</td>\n",
       "      <td>20.333333</td>\n",
       "      <td>...</td>\n",
       "      <td>154.0</td>\n",
       "      <td>89.063515</td>\n",
       "      <td>NaN</td>\n",
       "      <td>NaN</td>\n",
       "      <td>NaN</td>\n",
       "      <td>NaN</td>\n",
       "      <td>NaN</td>\n",
       "      <td>NaN</td>\n",
       "      <td>NaN</td>\n",
       "      <td>NaN</td>\n",
       "    </tr>\n",
       "    <tr>\n",
       "      <th>4</th>\n",
       "      <td>5</td>\n",
       "      <td>3.620833</td>\n",
       "      <td>0.563238</td>\n",
       "      <td>0.421998</td>\n",
       "      <td>0.703789</td>\n",
       "      <td>4</td>\n",
       "      <td>5.413692</td>\n",
       "      <td>1576.0</td>\n",
       "      <td>1602.0</td>\n",
       "      <td>25.600000</td>\n",
       "      <td>...</td>\n",
       "      <td>152.0</td>\n",
       "      <td>89.238236</td>\n",
       "      <td>9.11456</td>\n",
       "      <td>NaN</td>\n",
       "      <td>NaN</td>\n",
       "      <td>NaN</td>\n",
       "      <td>NaN</td>\n",
       "      <td>NaN</td>\n",
       "      <td>NaN</td>\n",
       "      <td>NaN</td>\n",
       "    </tr>\n",
       "  </tbody>\n",
       "</table>\n",
       "<p>5 rows × 34 columns</p>\n",
       "</div>"
      ],
      "text/plain": [
       "   key  heat_duration  active_power  reactive_power  full_power  heated_count  \\\n",
       "0    1       3.660000      0.607346        0.428564    0.743328             5   \n",
       "1    2       3.379167      0.534852        0.363339    0.646593             4   \n",
       "2    3       2.183333      0.812728        0.587491    1.002833             5   \n",
       "3    4       3.087500      0.676622        0.514248    0.849864             4   \n",
       "4    5       3.620833      0.563238        0.421998    0.703789             4   \n",
       "\n",
       "         gas  first_temp  last_temp  time_temp_delta  ...  bulk_15     wire_1  \\\n",
       "0  29.749986      1571.0     1613.0        28.566667  ...    154.0  60.059998   \n",
       "1  12.555561      1581.0     1602.0        21.083333  ...    154.0  96.052315   \n",
       "2  28.554793      1596.0     1599.0        29.216667  ...    153.0  91.160157   \n",
       "3  18.841219      1601.0     1625.0        20.333333  ...    154.0  89.063515   \n",
       "4   5.413692      1576.0     1602.0        25.600000  ...    152.0  89.238236   \n",
       "\n",
       "    wire_2  wire_3  wire_4  wire_5  wire_6  wire_7  wire_8  wire_9  \n",
       "0      NaN     NaN     NaN     NaN     NaN     NaN     NaN     NaN  \n",
       "1      NaN     NaN     NaN     NaN     NaN     NaN     NaN     NaN  \n",
       "2      NaN     NaN     NaN     NaN     NaN     NaN     NaN     NaN  \n",
       "3      NaN     NaN     NaN     NaN     NaN     NaN     NaN     NaN  \n",
       "4  9.11456     NaN     NaN     NaN     NaN     NaN     NaN     NaN  \n",
       "\n",
       "[5 rows x 34 columns]"
      ]
     },
     "metadata": {},
     "output_type": "display_data"
    },
    {
     "name": "stdout",
     "output_type": "stream",
     "text": [
      "<class 'pandas.core.frame.DataFrame'>\n",
      "Int64Index: 3020 entries, 0 to 3019\n",
      "Data columns (total 34 columns):\n",
      " #   Column           Non-Null Count  Dtype  \n",
      "---  ------           --------------  -----  \n",
      " 0   key              3020 non-null   int64  \n",
      " 1   heat_duration    3020 non-null   float64\n",
      " 2   active_power     3020 non-null   float64\n",
      " 3   reactive_power   3020 non-null   float64\n",
      " 4   full_power       3020 non-null   float64\n",
      " 5   heated_count     3020 non-null   int64  \n",
      " 6   gas              3020 non-null   float64\n",
      " 7   first_temp       3020 non-null   float64\n",
      " 8   last_temp        2328 non-null   float64\n",
      " 9   time_temp_delta  3020 non-null   float64\n",
      " 10  bulk_1           252 non-null    float64\n",
      " 11  bulk_2           22 non-null     float64\n",
      " 12  bulk_3           1293 non-null   float64\n",
      " 13  bulk_4           1012 non-null   float64\n",
      " 14  bulk_5           77 non-null     float64\n",
      " 15  bulk_6           569 non-null    float64\n",
      " 16  bulk_7           24 non-null     float64\n",
      " 17  bulk_8           1 non-null      float64\n",
      " 18  bulk_9           19 non-null     float64\n",
      " 19  bulk_10          176 non-null    float64\n",
      " 20  bulk_11          177 non-null    float64\n",
      " 21  bulk_12          2356 non-null   float64\n",
      " 22  bulk_13          18 non-null     float64\n",
      " 23  bulk_14          2707 non-null   float64\n",
      " 24  bulk_15          2233 non-null   float64\n",
      " 25  wire_1           2995 non-null   float64\n",
      " 26  wire_2           1051 non-null   float64\n",
      " 27  wire_3           63 non-null     float64\n",
      " 28  wire_4           14 non-null     float64\n",
      " 29  wire_5           1 non-null      float64\n",
      " 30  wire_6           73 non-null     float64\n",
      " 31  wire_7           11 non-null     float64\n",
      " 32  wire_8           19 non-null     float64\n",
      " 33  wire_9           25 non-null     float64\n",
      "dtypes: float64(32), int64(2)\n",
      "memory usage: 825.8 KB\n"
     ]
    }
   ],
   "source": [
    "#Стандартизируем названия признаков\n",
    "\n",
    "columns_names = df.columns\n",
    "new_columns_names = ['key', 'heat_duration', 'active_power', 'reactive_power', 'full_power',\n",
    "       'heated_count', 'gas', 'first_temp', 'last_temp', 'time_temp_delta',\n",
    "       'Bulk_1', 'Bulk_2', 'Bulk_3', 'Bulk_4', 'Bulk_5', 'Bulk_6', 'Bulk_7',\n",
    "       'Bulk_8', 'Bulk_9', 'Bulk_10', 'Bulk_11', 'Bulk_12', 'Bulk_13',\n",
    "       'Bulk_14', 'Bulk_15', 'Wire_1', 'Wire_2', 'Wire_3', 'Wire_4', 'Wire_5',\n",
    "       'Wire_6', 'Wire_7', 'Wire_8', 'Wire_9']\n",
    "df.columns = new_columns_names\n",
    "df.columns = df.columns.str.lower()\n",
    "display(df.head())\n",
    "df.info()"
   ]
  },
  {
   "cell_type": "markdown",
   "id": "0818133f",
   "metadata": {},
   "source": [
    "Единый датасет готов, займемся предобработкой."
   ]
  },
  {
   "cell_type": "markdown",
   "id": "31b72fe4",
   "metadata": {},
   "source": [
    "### Подготовка полного датасета"
   ]
  },
  {
   "cell_type": "markdown",
   "id": "9c1be3a5",
   "metadata": {},
   "source": [
    "Сразу можно выбросить ключи у которых пропуски в значении целевого признака (last_temp)"
   ]
  },
  {
   "cell_type": "code",
   "execution_count": 32,
   "id": "517f547e",
   "metadata": {},
   "outputs": [],
   "source": [
    "df = df.dropna(subset=['last_temp'])"
   ]
  },
  {
   "cell_type": "markdown",
   "id": "bc4ade51",
   "metadata": {},
   "source": [
    "Далее избавимся от признаков, в которых более 80% пропусков."
   ]
  },
  {
   "cell_type": "code",
   "execution_count": 33,
   "id": "d478b1ce",
   "metadata": {},
   "outputs": [],
   "source": [
    "bad_cols = []\n",
    "for col in df.columns:\n",
    "    if (df[col].isna().sum()/df.shape[0])*100 >=80:\n",
    "        bad_cols.append(col)\n",
    "df = df.drop(bad_cols, axis = 1)"
   ]
  },
  {
   "cell_type": "markdown",
   "id": "5994671e",
   "metadata": {},
   "source": [
    "В оставшихся признаках заменим пропуски на 0 и избавимся от колоники key."
   ]
  },
  {
   "cell_type": "code",
   "execution_count": 34,
   "id": "69f78a41",
   "metadata": {},
   "outputs": [],
   "source": [
    "df = df.fillna(value = 0)"
   ]
  },
  {
   "cell_type": "code",
   "execution_count": 35,
   "id": "94f1cb6f",
   "metadata": {},
   "outputs": [
    {
     "data": {
      "text/html": [
       "<div>\n",
       "<style scoped>\n",
       "    .dataframe tbody tr th:only-of-type {\n",
       "        vertical-align: middle;\n",
       "    }\n",
       "\n",
       "    .dataframe tbody tr th {\n",
       "        vertical-align: top;\n",
       "    }\n",
       "\n",
       "    .dataframe thead th {\n",
       "        text-align: right;\n",
       "    }\n",
       "</style>\n",
       "<table border=\"1\" class=\"dataframe\">\n",
       "  <thead>\n",
       "    <tr style=\"text-align: right;\">\n",
       "      <th></th>\n",
       "      <th>key</th>\n",
       "      <th>heat_duration</th>\n",
       "      <th>active_power</th>\n",
       "      <th>reactive_power</th>\n",
       "      <th>full_power</th>\n",
       "      <th>heated_count</th>\n",
       "      <th>gas</th>\n",
       "      <th>first_temp</th>\n",
       "      <th>last_temp</th>\n",
       "      <th>time_temp_delta</th>\n",
       "      <th>bulk_3</th>\n",
       "      <th>bulk_4</th>\n",
       "      <th>bulk_12</th>\n",
       "      <th>bulk_14</th>\n",
       "      <th>bulk_15</th>\n",
       "      <th>wire_1</th>\n",
       "      <th>wire_2</th>\n",
       "    </tr>\n",
       "  </thead>\n",
       "  <tbody>\n",
       "    <tr>\n",
       "      <th>2323</th>\n",
       "      <td>2495</td>\n",
       "      <td>3.012500</td>\n",
       "      <td>0.792033</td>\n",
       "      <td>0.552734</td>\n",
       "      <td>0.965832</td>\n",
       "      <td>4</td>\n",
       "      <td>7.125735</td>\n",
       "      <td>1570.0</td>\n",
       "      <td>1591.0</td>\n",
       "      <td>23.000000</td>\n",
       "      <td>21.0</td>\n",
       "      <td>0.0</td>\n",
       "      <td>256.0</td>\n",
       "      <td>129.0</td>\n",
       "      <td>223.0</td>\n",
       "      <td>89.150879</td>\n",
       "      <td>0.00000</td>\n",
       "    </tr>\n",
       "    <tr>\n",
       "      <th>2324</th>\n",
       "      <td>2496</td>\n",
       "      <td>2.611111</td>\n",
       "      <td>0.695820</td>\n",
       "      <td>0.478672</td>\n",
       "      <td>0.844566</td>\n",
       "      <td>6</td>\n",
       "      <td>9.412616</td>\n",
       "      <td>1554.0</td>\n",
       "      <td>1591.0</td>\n",
       "      <td>28.416667</td>\n",
       "      <td>0.0</td>\n",
       "      <td>63.0</td>\n",
       "      <td>256.0</td>\n",
       "      <td>129.0</td>\n",
       "      <td>226.0</td>\n",
       "      <td>114.179527</td>\n",
       "      <td>0.00000</td>\n",
       "    </tr>\n",
       "    <tr>\n",
       "      <th>2325</th>\n",
       "      <td>2497</td>\n",
       "      <td>3.161111</td>\n",
       "      <td>1.201746</td>\n",
       "      <td>0.817364</td>\n",
       "      <td>1.453368</td>\n",
       "      <td>3</td>\n",
       "      <td>6.271699</td>\n",
       "      <td>1571.0</td>\n",
       "      <td>1589.0</td>\n",
       "      <td>16.033333</td>\n",
       "      <td>0.0</td>\n",
       "      <td>85.0</td>\n",
       "      <td>230.0</td>\n",
       "      <td>124.0</td>\n",
       "      <td>226.0</td>\n",
       "      <td>94.086723</td>\n",
       "      <td>9.04800</td>\n",
       "    </tr>\n",
       "    <tr>\n",
       "      <th>2326</th>\n",
       "      <td>2498</td>\n",
       "      <td>2.500000</td>\n",
       "      <td>0.640462</td>\n",
       "      <td>0.447964</td>\n",
       "      <td>0.781577</td>\n",
       "      <td>5</td>\n",
       "      <td>14.953657</td>\n",
       "      <td>1591.0</td>\n",
       "      <td>1594.0</td>\n",
       "      <td>25.333333</td>\n",
       "      <td>90.0</td>\n",
       "      <td>0.0</td>\n",
       "      <td>206.0</td>\n",
       "      <td>129.0</td>\n",
       "      <td>207.0</td>\n",
       "      <td>118.110717</td>\n",
       "      <td>0.00000</td>\n",
       "    </tr>\n",
       "    <tr>\n",
       "      <th>2327</th>\n",
       "      <td>2499</td>\n",
       "      <td>3.679167</td>\n",
       "      <td>0.434271</td>\n",
       "      <td>0.324209</td>\n",
       "      <td>0.541944</td>\n",
       "      <td>4</td>\n",
       "      <td>11.336151</td>\n",
       "      <td>1569.0</td>\n",
       "      <td>1603.0</td>\n",
       "      <td>25.616667</td>\n",
       "      <td>47.0</td>\n",
       "      <td>0.0</td>\n",
       "      <td>233.0</td>\n",
       "      <td>126.0</td>\n",
       "      <td>227.0</td>\n",
       "      <td>110.160958</td>\n",
       "      <td>50.00528</td>\n",
       "    </tr>\n",
       "  </tbody>\n",
       "</table>\n",
       "</div>"
      ],
      "text/plain": [
       "       key  heat_duration  active_power  reactive_power  full_power  \\\n",
       "2323  2495       3.012500      0.792033        0.552734    0.965832   \n",
       "2324  2496       2.611111      0.695820        0.478672    0.844566   \n",
       "2325  2497       3.161111      1.201746        0.817364    1.453368   \n",
       "2326  2498       2.500000      0.640462        0.447964    0.781577   \n",
       "2327  2499       3.679167      0.434271        0.324209    0.541944   \n",
       "\n",
       "      heated_count        gas  first_temp  last_temp  time_temp_delta  bulk_3  \\\n",
       "2323             4   7.125735      1570.0     1591.0        23.000000    21.0   \n",
       "2324             6   9.412616      1554.0     1591.0        28.416667     0.0   \n",
       "2325             3   6.271699      1571.0     1589.0        16.033333     0.0   \n",
       "2326             5  14.953657      1591.0     1594.0        25.333333    90.0   \n",
       "2327             4  11.336151      1569.0     1603.0        25.616667    47.0   \n",
       "\n",
       "      bulk_4  bulk_12  bulk_14  bulk_15      wire_1    wire_2  \n",
       "2323     0.0    256.0    129.0    223.0   89.150879   0.00000  \n",
       "2324    63.0    256.0    129.0    226.0  114.179527   0.00000  \n",
       "2325    85.0    230.0    124.0    226.0   94.086723   9.04800  \n",
       "2326     0.0    206.0    129.0    207.0  118.110717   0.00000  \n",
       "2327     0.0    233.0    126.0    227.0  110.160958  50.00528  "
      ]
     },
     "execution_count": 35,
     "metadata": {},
     "output_type": "execute_result"
    }
   ],
   "source": [
    "df.tail()"
   ]
  },
  {
   "cell_type": "code",
   "execution_count": 36,
   "id": "a57ad451",
   "metadata": {},
   "outputs": [],
   "source": [
    "\n",
    "df = df.drop('key', axis = 1)"
   ]
  },
  {
   "cell_type": "markdown",
   "id": "73323ba9",
   "metadata": {},
   "source": [
    "-------------\n",
    "Посмотрим на датасет целиком."
   ]
  },
  {
   "cell_type": "code",
   "execution_count": 37,
   "id": "854c597d",
   "metadata": {},
   "outputs": [],
   "source": [
    "def data_overview_full(data):\n",
    "    display(data.head())\n",
    "    display(data.info())\n",
    "    print(\"Пропуски:\", data.isna().sum())\n",
    "    print(\"Явные дубликаты:\", data.duplicated().sum())\n",
    "    print('')\n",
    "    colnames = data.select_dtypes('number').columns\n",
    "    for name in colnames:\n",
    "            data[name].plot.hist(bins = 100)\n",
    "            plt.title(name)\n",
    "            plt.show()\n",
    "            \n",
    "    print(\"Таблица корреляций Пирсона для всех численных переменных\")\n",
    "    print(data.corr())\n",
    "    print('')"
   ]
  },
  {
   "cell_type": "code",
   "execution_count": 38,
   "id": "fd177601",
   "metadata": {},
   "outputs": [
    {
     "data": {
      "text/html": [
       "<div>\n",
       "<style scoped>\n",
       "    .dataframe tbody tr th:only-of-type {\n",
       "        vertical-align: middle;\n",
       "    }\n",
       "\n",
       "    .dataframe tbody tr th {\n",
       "        vertical-align: top;\n",
       "    }\n",
       "\n",
       "    .dataframe thead th {\n",
       "        text-align: right;\n",
       "    }\n",
       "</style>\n",
       "<table border=\"1\" class=\"dataframe\">\n",
       "  <thead>\n",
       "    <tr style=\"text-align: right;\">\n",
       "      <th></th>\n",
       "      <th>heat_duration</th>\n",
       "      <th>active_power</th>\n",
       "      <th>reactive_power</th>\n",
       "      <th>full_power</th>\n",
       "      <th>heated_count</th>\n",
       "      <th>gas</th>\n",
       "      <th>first_temp</th>\n",
       "      <th>last_temp</th>\n",
       "      <th>time_temp_delta</th>\n",
       "      <th>bulk_3</th>\n",
       "      <th>bulk_4</th>\n",
       "      <th>bulk_12</th>\n",
       "      <th>bulk_14</th>\n",
       "      <th>bulk_15</th>\n",
       "      <th>wire_1</th>\n",
       "      <th>wire_2</th>\n",
       "    </tr>\n",
       "  </thead>\n",
       "  <tbody>\n",
       "    <tr>\n",
       "      <th>0</th>\n",
       "      <td>3.660000</td>\n",
       "      <td>0.607346</td>\n",
       "      <td>0.428564</td>\n",
       "      <td>0.743328</td>\n",
       "      <td>5</td>\n",
       "      <td>29.749986</td>\n",
       "      <td>1571.0</td>\n",
       "      <td>1613.0</td>\n",
       "      <td>28.566667</td>\n",
       "      <td>0.0</td>\n",
       "      <td>43.0</td>\n",
       "      <td>206.0</td>\n",
       "      <td>150.0</td>\n",
       "      <td>154.0</td>\n",
       "      <td>60.059998</td>\n",
       "      <td>0.00000</td>\n",
       "    </tr>\n",
       "    <tr>\n",
       "      <th>1</th>\n",
       "      <td>3.379167</td>\n",
       "      <td>0.534852</td>\n",
       "      <td>0.363339</td>\n",
       "      <td>0.646593</td>\n",
       "      <td>4</td>\n",
       "      <td>12.555561</td>\n",
       "      <td>1581.0</td>\n",
       "      <td>1602.0</td>\n",
       "      <td>21.083333</td>\n",
       "      <td>0.0</td>\n",
       "      <td>73.0</td>\n",
       "      <td>206.0</td>\n",
       "      <td>149.0</td>\n",
       "      <td>154.0</td>\n",
       "      <td>96.052315</td>\n",
       "      <td>0.00000</td>\n",
       "    </tr>\n",
       "    <tr>\n",
       "      <th>2</th>\n",
       "      <td>2.183333</td>\n",
       "      <td>0.812728</td>\n",
       "      <td>0.587491</td>\n",
       "      <td>1.002833</td>\n",
       "      <td>5</td>\n",
       "      <td>28.554793</td>\n",
       "      <td>1596.0</td>\n",
       "      <td>1599.0</td>\n",
       "      <td>29.216667</td>\n",
       "      <td>0.0</td>\n",
       "      <td>34.0</td>\n",
       "      <td>205.0</td>\n",
       "      <td>152.0</td>\n",
       "      <td>153.0</td>\n",
       "      <td>91.160157</td>\n",
       "      <td>0.00000</td>\n",
       "    </tr>\n",
       "    <tr>\n",
       "      <th>3</th>\n",
       "      <td>3.087500</td>\n",
       "      <td>0.676622</td>\n",
       "      <td>0.514248</td>\n",
       "      <td>0.849864</td>\n",
       "      <td>4</td>\n",
       "      <td>18.841219</td>\n",
       "      <td>1601.0</td>\n",
       "      <td>1625.0</td>\n",
       "      <td>20.333333</td>\n",
       "      <td>0.0</td>\n",
       "      <td>81.0</td>\n",
       "      <td>207.0</td>\n",
       "      <td>153.0</td>\n",
       "      <td>154.0</td>\n",
       "      <td>89.063515</td>\n",
       "      <td>0.00000</td>\n",
       "    </tr>\n",
       "    <tr>\n",
       "      <th>4</th>\n",
       "      <td>3.620833</td>\n",
       "      <td>0.563238</td>\n",
       "      <td>0.421998</td>\n",
       "      <td>0.703789</td>\n",
       "      <td>4</td>\n",
       "      <td>5.413692</td>\n",
       "      <td>1576.0</td>\n",
       "      <td>1602.0</td>\n",
       "      <td>25.600000</td>\n",
       "      <td>0.0</td>\n",
       "      <td>78.0</td>\n",
       "      <td>203.0</td>\n",
       "      <td>151.0</td>\n",
       "      <td>152.0</td>\n",
       "      <td>89.238236</td>\n",
       "      <td>9.11456</td>\n",
       "    </tr>\n",
       "  </tbody>\n",
       "</table>\n",
       "</div>"
      ],
      "text/plain": [
       "   heat_duration  active_power  reactive_power  full_power  heated_count  \\\n",
       "0       3.660000      0.607346        0.428564    0.743328             5   \n",
       "1       3.379167      0.534852        0.363339    0.646593             4   \n",
       "2       2.183333      0.812728        0.587491    1.002833             5   \n",
       "3       3.087500      0.676622        0.514248    0.849864             4   \n",
       "4       3.620833      0.563238        0.421998    0.703789             4   \n",
       "\n",
       "         gas  first_temp  last_temp  time_temp_delta  bulk_3  bulk_4  bulk_12  \\\n",
       "0  29.749986      1571.0     1613.0        28.566667     0.0    43.0    206.0   \n",
       "1  12.555561      1581.0     1602.0        21.083333     0.0    73.0    206.0   \n",
       "2  28.554793      1596.0     1599.0        29.216667     0.0    34.0    205.0   \n",
       "3  18.841219      1601.0     1625.0        20.333333     0.0    81.0    207.0   \n",
       "4   5.413692      1576.0     1602.0        25.600000     0.0    78.0    203.0   \n",
       "\n",
       "   bulk_14  bulk_15     wire_1   wire_2  \n",
       "0    150.0    154.0  60.059998  0.00000  \n",
       "1    149.0    154.0  96.052315  0.00000  \n",
       "2    152.0    153.0  91.160157  0.00000  \n",
       "3    153.0    154.0  89.063515  0.00000  \n",
       "4    151.0    152.0  89.238236  9.11456  "
      ]
     },
     "metadata": {},
     "output_type": "display_data"
    },
    {
     "name": "stdout",
     "output_type": "stream",
     "text": [
      "<class 'pandas.core.frame.DataFrame'>\n",
      "Int64Index: 2328 entries, 0 to 2327\n",
      "Data columns (total 16 columns):\n",
      " #   Column           Non-Null Count  Dtype  \n",
      "---  ------           --------------  -----  \n",
      " 0   heat_duration    2328 non-null   float64\n",
      " 1   active_power     2328 non-null   float64\n",
      " 2   reactive_power   2328 non-null   float64\n",
      " 3   full_power       2328 non-null   float64\n",
      " 4   heated_count     2328 non-null   int64  \n",
      " 5   gas              2328 non-null   float64\n",
      " 6   first_temp       2328 non-null   float64\n",
      " 7   last_temp        2328 non-null   float64\n",
      " 8   time_temp_delta  2328 non-null   float64\n",
      " 9   bulk_3           2328 non-null   float64\n",
      " 10  bulk_4           2328 non-null   float64\n",
      " 11  bulk_12          2328 non-null   float64\n",
      " 12  bulk_14          2328 non-null   float64\n",
      " 13  bulk_15          2328 non-null   float64\n",
      " 14  wire_1           2328 non-null   float64\n",
      " 15  wire_2           2328 non-null   float64\n",
      "dtypes: float64(15), int64(1)\n",
      "memory usage: 309.2 KB\n"
     ]
    },
    {
     "data": {
      "text/plain": [
       "None"
      ]
     },
     "metadata": {},
     "output_type": "display_data"
    },
    {
     "name": "stdout",
     "output_type": "stream",
     "text": [
      "Пропуски: heat_duration      0\n",
      "active_power       0\n",
      "reactive_power     0\n",
      "full_power         0\n",
      "heated_count       0\n",
      "gas                0\n",
      "first_temp         0\n",
      "last_temp          0\n",
      "time_temp_delta    0\n",
      "bulk_3             0\n",
      "bulk_4             0\n",
      "bulk_12            0\n",
      "bulk_14            0\n",
      "bulk_15            0\n",
      "wire_1             0\n",
      "wire_2             0\n",
      "dtype: int64\n",
      "Явные дубликаты: 0\n",
      "\n"
     ]
    },
    {
     "data": {
      "image/png": "[encoded data removed]",
      "text/plain": [
       "<Figure size 432x288 with 1 Axes>"
      ]
     },
     "metadata": {
      "needs_background": "light"
     },
     "output_type": "display_data"
    },
    {
     "data": {
      "image/png": "[encoded data removed]",
      "text/plain": [
       "<Figure size 432x288 with 1 Axes>"
      ]
     },
     "metadata": {
      "needs_background": "light"
     },
     "output_type": "display_data"
    },
    {
     "data": {
      "image/png": "[encoded data removed]",
      "text/plain": [
       "<Figure size 432x288 with 1 Axes>"
      ]
     },
     "metadata": {
      "needs_background": "light"
     },
     "output_type": "display_data"
    },
    {
     "data": {
      "image/png": "[encoded data removed]",
      "text/plain": [
       "<Figure size 432x288 with 1 Axes>"
      ]
     },
     "metadata": {
      "needs_background": "light"
     },
     "output_type": "display_data"
    },
    {
     "data": {
      "image/png": "[encoded data removed]",
      "text/plain": [
       "<Figure size 432x288 with 1 Axes>"
      ]
     },
     "metadata": {
      "needs_background": "light"
     },
     "output_type": "display_data"
    },
    {
     "data": {
      "image/png": "[encoded data removed]",
      "text/plain": [
       "<Figure size 432x288 with 1 Axes>"
      ]
     },
     "metadata": {
      "needs_background": "light"
     },
     "output_type": "display_data"
    },
    {
     "data": {
      "image/png": "[encoded data removed]",
      "text/plain": [
       "<Figure size 432x288 with 1 Axes>"
      ]
     },
     "metadata": {
      "needs_background": "light"
     },
     "output_type": "display_data"
    },
    {
     "data": {
      "image/png": "[encoded data removed]",
      "text/plain": [
       "<Figure size 432x288 with 1 Axes>"
      ]
     },
     "metadata": {
      "needs_background": "light"
     },
     "output_type": "display_data"
    },
    {
     "data": {
      "image/png": "[encoded data removed]",
      "text/plain": [
       "<Figure size 432x288 with 1 Axes>"
      ]
     },
     "metadata": {
      "needs_background": "light"
     },
     "output_type": "display_data"
    },
    {
     "data": {
      "image/png": "[encoded data removed]",
      "text/plain": [
       "<Figure size 432x288 with 1 Axes>"
      ]
     },
     "metadata": {
      "needs_background": "light"
     },
     "output_type": "display_data"
    },
    {
     "data": {
      "image/png": "[encoded data removed]",
      "text/plain": [
       "<Figure size 432x288 with 1 Axes>"
      ]
     },
     "metadata": {
      "needs_background": "light"
     },
     "output_type": "display_data"
    },
    {
     "data": {
      "image/png": "[encoded data removed]",
      "text/plain": [
       "<Figure size 432x288 with 1 Axes>"
      ]
     },
     "metadata": {
      "needs_background": "light"
     },
     "output_type": "display_data"
    },
    {
     "data": {
      "image/png": "[encoded data removed]",
      "text/plain": [
       "<Figure size 432x288 with 1 Axes>"
      ]
     },
     "metadata": {
      "needs_background": "light"
     },
     "output_type": "display_data"
    },
    {
     "data": {
      "image/png": "[encoded data removed]",
      "text/plain": [
       "<Figure size 432x288 with 1 Axes>"
      ]
     },
     "metadata": {
      "needs_background": "light"
     },
     "output_type": "display_data"
    },
    {
     "data": {
      "image/png": "[encoded data removed]",
      "text/plain": [
       "<Figure size 432x288 with 1 Axes>"
      ]
     },
     "metadata": {
      "needs_background": "light"
     },
     "output_type": "display_data"
    },
    {
     "data": {
      "image/png": "[encoded data removed]",
      "text/plain": [
       "<Figure size 432x288 with 1 Axes>"
      ]
     },
     "metadata": {
      "needs_background": "light"
     },
     "output_type": "display_data"
    },
    {
     "name": "stdout",
     "output_type": "stream",
     "text": [
      "Таблица корреляций Пирсона для всех численных переменных\n",
      "                 heat_duration  active_power  reactive_power  full_power  \\\n",
      "heat_duration         1.000000      0.035033        0.023048    0.030897   \n",
      "active_power          0.035033      1.000000        0.965362    0.995471   \n",
      "reactive_power        0.023048      0.965362        1.000000    0.985787   \n",
      "full_power            0.030897      0.995471        0.985787    1.000000   \n",
      "heated_count         -0.002198      0.033926        0.032369    0.033032   \n",
      "gas                   0.102054      0.040258        0.041628    0.040870   \n",
      "first_temp           -0.347077      0.004226        0.001953    0.003541   \n",
      "last_temp             0.193440      0.040140        0.032878    0.037739   \n",
      "time_temp_delta       0.055850      0.025469        0.024668    0.025146   \n",
      "bulk_3                0.017792      0.027347        0.023217    0.026043   \n",
      "bulk_4               -0.038965      0.022380        0.022909    0.022711   \n",
      "bulk_12               0.370725      0.038908        0.042669    0.040382   \n",
      "bulk_14               0.337946      0.021454        0.016797    0.019707   \n",
      "bulk_15               0.280678      0.040505        0.038523    0.039917   \n",
      "wire_1               -0.105945      0.035695        0.042926    0.038552   \n",
      "wire_2               -0.018717     -0.014716       -0.014628   -0.014858   \n",
      "\n",
      "                 heated_count       gas  first_temp  last_temp  \\\n",
      "heat_duration       -0.002198  0.102054   -0.347077   0.193440   \n",
      "active_power         0.033926  0.040258    0.004226   0.040140   \n",
      "reactive_power       0.032369  0.041628    0.001953   0.032878   \n",
      "full_power           0.033032  0.040870    0.003541   0.037739   \n",
      "heated_count         1.000000  0.404058   -0.141537   0.180640   \n",
      "gas                  0.404058  1.000000    0.037345   0.059203   \n",
      "first_temp          -0.141537  0.037345    1.000000   0.252389   \n",
      "last_temp            0.180640  0.059203    0.252389   1.000000   \n",
      "time_temp_delta      0.595332  0.439364    0.180549   0.096288   \n",
      "bulk_3               0.108989  0.059641   -0.104478  -0.036365   \n",
      "bulk_4              -0.004527  0.017589    0.144715   0.187687   \n",
      "bulk_12              0.306818  0.217433   -0.058673   0.266851   \n",
      "bulk_14              0.334253  0.268898   -0.130971   0.114991   \n",
      "bulk_15              0.174521  0.043662   -0.040533   0.265801   \n",
      "wire_1               0.138041  0.117331    0.209392   0.317362   \n",
      "wire_2               0.078023  0.104261   -0.086157  -0.207076   \n",
      "\n",
      "                 time_temp_delta    bulk_3    bulk_4   bulk_12   bulk_14  \\\n",
      "heat_duration           0.055850  0.017792 -0.038965  0.370725  0.337946   \n",
      "active_power            0.025469  0.027347  0.022380  0.038908  0.021454   \n",
      "reactive_power          0.024668  0.023217  0.022909  0.042669  0.016797   \n",
      "full_power              0.025146  0.026043  0.022711  0.040382  0.019707   \n",
      "heated_count            0.595332  0.108989 -0.004527  0.306818  0.334253   \n",
      "gas                     0.439364  0.059641  0.017589  0.217433  0.268898   \n",
      "first_temp              0.180549 -0.104478  0.144715 -0.058673 -0.130971   \n",
      "last_temp               0.096288 -0.036365  0.187687  0.266851  0.114991   \n",
      "time_temp_delta         1.000000  0.023267  0.002232  0.210122  0.174627   \n",
      "bulk_3                  0.023267  1.000000 -0.295654  0.018021  0.010920   \n",
      "bulk_4                  0.002232 -0.295654  1.000000  0.105477 -0.090467   \n",
      "bulk_12                 0.210122  0.018021  0.105477  1.000000  0.482063   \n",
      "bulk_14                 0.174627  0.010920 -0.090467  0.482063  1.000000   \n",
      "bulk_15                 0.099741 -0.013250  0.101180  0.614169  0.265816   \n",
      "wire_1                  0.153461  0.039475  0.297471  0.169889 -0.053698   \n",
      "wire_2                  0.059942  0.095595 -0.268325 -0.098605  0.036436   \n",
      "\n",
      "                  bulk_15    wire_1    wire_2  \n",
      "heat_duration    0.280678 -0.105945 -0.018717  \n",
      "active_power     0.040505  0.035695 -0.014716  \n",
      "reactive_power   0.038523  0.042926 -0.014628  \n",
      "full_power       0.039917  0.038552 -0.014858  \n",
      "heated_count     0.174521  0.138041  0.078023  \n",
      "gas              0.043662  0.117331  0.104261  \n",
      "first_temp      -0.040533  0.209392 -0.086157  \n",
      "last_temp        0.265801  0.317362 -0.207076  \n",
      "time_temp_delta  0.099741  0.153461  0.059942  \n",
      "bulk_3          -0.013250  0.039475  0.095595  \n",
      "bulk_4           0.101180  0.297471 -0.268325  \n",
      "bulk_12          0.614169  0.169889 -0.098605  \n",
      "bulk_14          0.265816 -0.053698  0.036436  \n",
      "bulk_15          1.000000  0.118117 -0.096781  \n",
      "wire_1           0.118117  1.000000 -0.068451  \n",
      "wire_2          -0.096781 -0.068451  1.000000  \n",
      "\n"
     ]
    }
   ],
   "source": [
    "data_overview_full(df)"
   ]
  },
  {
   "cell_type": "markdown",
   "id": "cc69e44e",
   "metadata": {},
   "source": [
    "Между некоторыми переменными мы вижим довольно высокие корреляции, посмотрим на хитмап."
   ]
  },
  {
   "cell_type": "code",
   "execution_count": 39,
   "id": "81f32e5b",
   "metadata": {},
   "outputs": [
    {
     "data": {
      "image/png": "[encoded data removed]",
      "text/plain": [
       "<Figure size 432x288 with 2 Axes>"
      ]
     },
     "metadata": {
      "needs_background": "light"
     },
     "output_type": "display_data"
    }
   ],
   "source": [
    "corr = df.select_dtypes('number').corr()\n",
    "sns.heatmap(corr)\n",
    "plt.show()"
   ]
  },
  {
   "cell_type": "markdown",
   "id": "e3931831",
   "metadata": {},
   "source": [
    "Ага, видим высокие корреляции между признаками активная мощность, реактивная мощность и полная мощность, что логично. Удалим реактивную и активную мощность, так ка кинформация о них по сути содержится теперь в признаке полная мощность."
   ]
  },
  {
   "cell_type": "code",
   "execution_count": 40,
   "id": "a6b9dfb1",
   "metadata": {},
   "outputs": [],
   "source": [
    "df = df.drop(['active_power', 'reactive_power'], axis = 1)"
   ]
  },
  {
   "cell_type": "code",
   "execution_count": 41,
   "id": "6be990a6",
   "metadata": {},
   "outputs": [
    {
     "data": {
      "image/png": "[encoded data removed]",
      "text/plain": [
       "<Figure size 432x288 with 2 Axes>"
      ]
     },
     "metadata": {
      "needs_background": "light"
     },
     "output_type": "display_data"
    }
   ],
   "source": [
    "corr = df.select_dtypes('number').corr()\n",
    "sns.heatmap(corr)\n",
    "plt.show()"
   ]
  },
  {
   "cell_type": "markdown",
   "id": "f465a74e",
   "metadata": {},
   "source": [
    "### Обучение моделей"
   ]
  },
  {
   "cell_type": "markdown",
   "id": "05b0b6bd",
   "metadata": {},
   "source": [
    "Разделим датасеты на признаки и таргет, а затем на обучающую и тестовую выборку."
   ]
  },
  {
   "cell_type": "code",
   "execution_count": 42,
   "id": "176a1e52",
   "metadata": {},
   "outputs": [],
   "source": [
    "features = df.drop('last_temp', axis = 1)\n",
    "target = df['last_temp']"
   ]
  },
  {
   "cell_type": "code",
   "execution_count": 43,
   "id": "d7dc2fa9",
   "metadata": {},
   "outputs": [],
   "source": [
    "features_train, features_test,target_train, target_test  = train_test_split(\\\n",
    "                          features,target,test_size=0.25, random_state=random_state)"
   ]
  },
  {
   "cell_type": "code",
   "execution_count": 44,
   "id": "3607aa8d",
   "metadata": {},
   "outputs": [
    {
     "data": {
      "text/html": [
       "<div>\n",
       "<style scoped>\n",
       "    .dataframe tbody tr th:only-of-type {\n",
       "        vertical-align: middle;\n",
       "    }\n",
       "\n",
       "    .dataframe tbody tr th {\n",
       "        vertical-align: top;\n",
       "    }\n",
       "\n",
       "    .dataframe thead th {\n",
       "        text-align: right;\n",
       "    }\n",
       "</style>\n",
       "<table border=\"1\" class=\"dataframe\">\n",
       "  <thead>\n",
       "    <tr style=\"text-align: right;\">\n",
       "      <th></th>\n",
       "      <th>heat_duration</th>\n",
       "      <th>full_power</th>\n",
       "      <th>heated_count</th>\n",
       "      <th>gas</th>\n",
       "      <th>first_temp</th>\n",
       "      <th>time_temp_delta</th>\n",
       "      <th>bulk_3</th>\n",
       "      <th>bulk_4</th>\n",
       "      <th>bulk_12</th>\n",
       "      <th>bulk_14</th>\n",
       "      <th>bulk_15</th>\n",
       "      <th>wire_1</th>\n",
       "      <th>wire_2</th>\n",
       "    </tr>\n",
       "  </thead>\n",
       "  <tbody>\n",
       "    <tr>\n",
       "      <th>2129</th>\n",
       "      <td>1.986111</td>\n",
       "      <td>0.765591</td>\n",
       "      <td>6</td>\n",
       "      <td>15.619964</td>\n",
       "      <td>1628.0</td>\n",
       "      <td>48.583333</td>\n",
       "      <td>0.0</td>\n",
       "      <td>88.0</td>\n",
       "      <td>256.0</td>\n",
       "      <td>99.0</td>\n",
       "      <td>104.0</td>\n",
       "      <td>118.198082</td>\n",
       "      <td>9.16864</td>\n",
       "    </tr>\n",
       "    <tr>\n",
       "      <th>268</th>\n",
       "      <td>3.533333</td>\n",
       "      <td>0.882306</td>\n",
       "      <td>6</td>\n",
       "      <td>5.940925</td>\n",
       "      <td>1569.0</td>\n",
       "      <td>40.100000</td>\n",
       "      <td>89.0</td>\n",
       "      <td>0.0</td>\n",
       "      <td>521.0</td>\n",
       "      <td>330.0</td>\n",
       "      <td>202.0</td>\n",
       "      <td>45.077759</td>\n",
       "      <td>10.13376</td>\n",
       "    </tr>\n",
       "    <tr>\n",
       "      <th>980</th>\n",
       "      <td>3.564286</td>\n",
       "      <td>0.947466</td>\n",
       "      <td>7</td>\n",
       "      <td>4.814961</td>\n",
       "      <td>1574.0</td>\n",
       "      <td>59.900000</td>\n",
       "      <td>121.0</td>\n",
       "      <td>0.0</td>\n",
       "      <td>206.0</td>\n",
       "      <td>152.0</td>\n",
       "      <td>101.0</td>\n",
       "      <td>157.014000</td>\n",
       "      <td>0.00000</td>\n",
       "    </tr>\n",
       "    <tr>\n",
       "      <th>985</th>\n",
       "      <td>1.641667</td>\n",
       "      <td>0.970887</td>\n",
       "      <td>4</td>\n",
       "      <td>10.453137</td>\n",
       "      <td>1606.0</td>\n",
       "      <td>43.616667</td>\n",
       "      <td>163.0</td>\n",
       "      <td>0.0</td>\n",
       "      <td>177.0</td>\n",
       "      <td>131.0</td>\n",
       "      <td>0.0</td>\n",
       "      <td>112.881599</td>\n",
       "      <td>0.00000</td>\n",
       "    </tr>\n",
       "    <tr>\n",
       "      <th>1143</th>\n",
       "      <td>1.791667</td>\n",
       "      <td>0.841638</td>\n",
       "      <td>4</td>\n",
       "      <td>11.485524</td>\n",
       "      <td>1622.0</td>\n",
       "      <td>40.816667</td>\n",
       "      <td>66.0</td>\n",
       "      <td>64.0</td>\n",
       "      <td>106.0</td>\n",
       "      <td>103.0</td>\n",
       "      <td>101.0</td>\n",
       "      <td>157.107605</td>\n",
       "      <td>0.00000</td>\n",
       "    </tr>\n",
       "  </tbody>\n",
       "</table>\n",
       "</div>"
      ],
      "text/plain": [
       "      heat_duration  full_power  heated_count        gas  first_temp  \\\n",
       "2129       1.986111    0.765591             6  15.619964      1628.0   \n",
       "268        3.533333    0.882306             6   5.940925      1569.0   \n",
       "980        3.564286    0.947466             7   4.814961      1574.0   \n",
       "985        1.641667    0.970887             4  10.453137      1606.0   \n",
       "1143       1.791667    0.841638             4  11.485524      1622.0   \n",
       "\n",
       "      time_temp_delta  bulk_3  bulk_4  bulk_12  bulk_14  bulk_15      wire_1  \\\n",
       "2129        48.583333     0.0    88.0    256.0     99.0    104.0  118.198082   \n",
       "268         40.100000    89.0     0.0    521.0    330.0    202.0   45.077759   \n",
       "980         59.900000   121.0     0.0    206.0    152.0    101.0  157.014000   \n",
       "985         43.616667   163.0     0.0    177.0    131.0      0.0  112.881599   \n",
       "1143        40.816667    66.0    64.0    106.0    103.0    101.0  157.107605   \n",
       "\n",
       "        wire_2  \n",
       "2129   9.16864  \n",
       "268   10.13376  \n",
       "980    0.00000  \n",
       "985    0.00000  \n",
       "1143   0.00000  "
      ]
     },
     "metadata": {},
     "output_type": "display_data"
    },
    {
     "name": "stdout",
     "output_type": "stream",
     "text": [
      "(1746, 13)\n",
      "(582, 13)\n"
     ]
    }
   ],
   "source": [
    "display(features_train.head())\n",
    "print(features_train.shape)\n",
    "print(features_test.shape)"
   ]
  },
  {
   "cell_type": "markdown",
   "id": "420360e4",
   "metadata": {},
   "source": [
    "Масштабируем признаки для использования в линейных моделях."
   ]
  },
  {
   "cell_type": "code",
   "execution_count": 45,
   "id": "1036b694",
   "metadata": {},
   "outputs": [],
   "source": [
    "scaler = StandardScaler()\n",
    "scaler.fit(features_train) #fitting scaler\n",
    "features_train = pd.DataFrame(scaler.transform(features_train)) \n",
    "features_test = pd.DataFrame(scaler.transform(features_test))"
   ]
  },
  {
   "cell_type": "code",
   "execution_count": 46,
   "id": "55cce6ee",
   "metadata": {},
   "outputs": [
    {
     "data": {
      "text/html": [
       "<div>\n",
       "<style scoped>\n",
       "    .dataframe tbody tr th:only-of-type {\n",
       "        vertical-align: middle;\n",
       "    }\n",
       "\n",
       "    .dataframe tbody tr th {\n",
       "        vertical-align: top;\n",
       "    }\n",
       "\n",
       "    .dataframe thead th {\n",
       "        text-align: right;\n",
       "    }\n",
       "</style>\n",
       "<table border=\"1\" class=\"dataframe\">\n",
       "  <thead>\n",
       "    <tr style=\"text-align: right;\">\n",
       "      <th></th>\n",
       "      <th>0</th>\n",
       "      <th>1</th>\n",
       "      <th>2</th>\n",
       "      <th>3</th>\n",
       "      <th>4</th>\n",
       "      <th>5</th>\n",
       "      <th>6</th>\n",
       "      <th>7</th>\n",
       "      <th>8</th>\n",
       "      <th>9</th>\n",
       "      <th>10</th>\n",
       "      <th>11</th>\n",
       "      <th>12</th>\n",
       "    </tr>\n",
       "  </thead>\n",
       "  <tbody>\n",
       "    <tr>\n",
       "      <th>0</th>\n",
       "      <td>-1.223995</td>\n",
       "      <td>-0.374211</td>\n",
       "      <td>0.805414</td>\n",
       "      <td>0.677255</td>\n",
       "      <td>1.495352</td>\n",
       "      <td>0.418907</td>\n",
       "      <td>-0.632602</td>\n",
       "      <td>0.893040</td>\n",
       "      <td>0.301740</td>\n",
       "      <td>-0.699789</td>\n",
       "      <td>-0.199972</td>\n",
       "      <td>0.375867</td>\n",
       "      <td>-0.257172</td>\n",
       "    </tr>\n",
       "    <tr>\n",
       "      <th>1</th>\n",
       "      <td>0.880931</td>\n",
       "      <td>0.356897</td>\n",
       "      <td>0.805414</td>\n",
       "      <td>-0.858833</td>\n",
       "      <td>-0.607699</td>\n",
       "      <td>0.062730</td>\n",
       "      <td>0.565800</td>\n",
       "      <td>-0.622749</td>\n",
       "      <td>2.025579</td>\n",
       "      <td>2.179450</td>\n",
       "      <td>0.953742</td>\n",
       "      <td>-1.291261</td>\n",
       "      <td>-0.228820</td>\n",
       "    </tr>\n",
       "    <tr>\n",
       "      <th>2</th>\n",
       "      <td>0.923040</td>\n",
       "      <td>0.765058</td>\n",
       "      <td>1.425729</td>\n",
       "      <td>-1.037526</td>\n",
       "      <td>-0.429475</td>\n",
       "      <td>0.894043</td>\n",
       "      <td>0.996687</td>\n",
       "      <td>-0.622749</td>\n",
       "      <td>-0.023513</td>\n",
       "      <td>-0.039185</td>\n",
       "      <td>-0.235290</td>\n",
       "      <td>1.260862</td>\n",
       "      <td>-0.526525</td>\n",
       "    </tr>\n",
       "    <tr>\n",
       "      <th>3</th>\n",
       "      <td>-1.692597</td>\n",
       "      <td>0.911770</td>\n",
       "      <td>-0.435215</td>\n",
       "      <td>-0.142733</td>\n",
       "      <td>0.711164</td>\n",
       "      <td>0.210379</td>\n",
       "      <td>1.562225</td>\n",
       "      <td>-0.622749</td>\n",
       "      <td>-0.212159</td>\n",
       "      <td>-0.300934</td>\n",
       "      <td>-1.424323</td>\n",
       "      <td>0.254653</td>\n",
       "      <td>-0.526525</td>\n",
       "    </tr>\n",
       "    <tr>\n",
       "      <th>4</th>\n",
       "      <td>-1.488528</td>\n",
       "      <td>0.102149</td>\n",
       "      <td>-0.435215</td>\n",
       "      <td>0.021109</td>\n",
       "      <td>1.281483</td>\n",
       "      <td>0.092820</td>\n",
       "      <td>0.256101</td>\n",
       "      <td>0.479643</td>\n",
       "      <td>-0.674018</td>\n",
       "      <td>-0.649932</td>\n",
       "      <td>-0.235290</td>\n",
       "      <td>1.262996</td>\n",
       "      <td>-0.526525</td>\n",
       "    </tr>\n",
       "  </tbody>\n",
       "</table>\n",
       "</div>"
      ],
      "text/plain": [
       "         0         1         2         3         4         5         6   \\\n",
       "0 -1.223995 -0.374211  0.805414  0.677255  1.495352  0.418907 -0.632602   \n",
       "1  0.880931  0.356897  0.805414 -0.858833 -0.607699  0.062730  0.565800   \n",
       "2  0.923040  0.765058  1.425729 -1.037526 -0.429475  0.894043  0.996687   \n",
       "3 -1.692597  0.911770 -0.435215 -0.142733  0.711164  0.210379  1.562225   \n",
       "4 -1.488528  0.102149 -0.435215  0.021109  1.281483  0.092820  0.256101   \n",
       "\n",
       "         7         8         9         10        11        12  \n",
       "0  0.893040  0.301740 -0.699789 -0.199972  0.375867 -0.257172  \n",
       "1 -0.622749  2.025579  2.179450  0.953742 -1.291261 -0.228820  \n",
       "2 -0.622749 -0.023513 -0.039185 -0.235290  1.260862 -0.526525  \n",
       "3 -0.622749 -0.212159 -0.300934 -1.424323  0.254653 -0.526525  \n",
       "4  0.479643 -0.674018 -0.649932 -0.235290  1.262996 -0.526525  "
      ]
     },
     "execution_count": 46,
     "metadata": {},
     "output_type": "execute_result"
    }
   ],
   "source": [
    "features_train.head()"
   ]
  },
  {
   "cell_type": "code",
   "execution_count": 47,
   "id": "45a6800e",
   "metadata": {},
   "outputs": [],
   "source": [
    "#словари параметров для гридсерчей\n",
    "param_grid_dt = {'max_depth': range(1,15,5)}\n",
    "param_grid_gb = {\"max_depth\": range(1,15,5),\n",
    "    \"num_leaves\": range(10, 100, 10)}\n",
    "param_grid_lr = {\"fit_intercept\": [True] \n",
    "             }"
   ]
  },
  {
   "cell_type": "code",
   "execution_count": 48,
   "id": "75449ae7",
   "metadata": {},
   "outputs": [
    {
     "name": "stdout",
     "output_type": "stream",
     "text": [
      "MAE линейной регресии на кросс-валидации: -6.660885870223406\n",
      "Время обучения линейной регресии:\n",
      "CPU times: user 42.8 ms, sys: 66.4 ms, total: 109 ms\n",
      "Wall time: 68.7 ms\n"
     ]
    }
   ],
   "source": [
    "%%time\n",
    "lr_search = GridSearchCV(linear_model.LinearRegression(), cv = 5, \\\n",
    "                         param_grid = param_grid_lr, \\\n",
    "                         scoring = 'neg_mean_absolute_error')\n",
    "lr_search.fit(features_train, target_train)\n",
    "lr_search.cv_results_\n",
    "\n",
    "print('MAE линейной регресии на кросс-валидации:', lr_search.best_score_)\n",
    "\n",
    "print('Время обучения линейной регресии:')"
   ]
  },
  {
   "cell_type": "code",
   "execution_count": 49,
   "id": "435a97b2",
   "metadata": {},
   "outputs": [
    {
     "name": "stdout",
     "output_type": "stream",
     "text": [
      "MAE дерева решений на кросс-валидации: -7.386127593461613\n",
      "Время обучения дерева решений:\n",
      "CPU times: user 223 ms, sys: 34.9 ms, total: 258 ms\n",
      "Wall time: 271 ms\n"
     ]
    }
   ],
   "source": [
    "%%time\n",
    "dt_search = GridSearchCV(DecisionTreeRegressor(), cv = 5, \\\n",
    "             param_grid = param_grid_dt, scoring = 'neg_mean_absolute_error')\n",
    "dt_search.fit(features_train, target_train)\n",
    "dt_search.cv_results_\n",
    "print('MAE дерева решений на кросс-валидации:', dt_search.best_score_)\n",
    "\n",
    "print('Время обучения дерева решений:')"
   ]
  },
  {
   "cell_type": "code",
   "execution_count": 50,
   "id": "95fc1267",
   "metadata": {},
   "outputs": [
    {
     "name": "stdout",
     "output_type": "stream",
     "text": [
      "MAE градиентного бустинга на кросс-валидации: -6.213547288204251\n",
      "Время обучения градиентного бустинга:\n",
      "CPU times: user 7min 40s, sys: 3.91 s, total: 7min 44s\n",
      "Wall time: 7min 48s\n"
     ]
    }
   ],
   "source": [
    "%%time\n",
    "gb_search = GridSearchCV(lgbm.LGBMRegressor(random_seed=random_state), cv = 5, \\\n",
    "                         param_grid = param_grid_dt, scoring = 'neg_mean_absolute_error')\n",
    "gb_search.fit(features_train, target_train)\n",
    "gb_search.cv_results_\n",
    "print('MAE градиентного бустинга на кросс-валидации:', gb_search.best_score_)\n",
    "print('Время обучения градиентного бустинга:')"
   ]
  },
  {
   "cell_type": "markdown",
   "id": "cf98ef4d",
   "metadata": {},
   "source": [
    "Лучшая модель по кросс-валидации - Градиентный бустинг. Протестируем его на тестовой выборке и сравним с DummyRegressor"
   ]
  },
  {
   "cell_type": "markdown",
   "id": "e928c14e",
   "metadata": {},
   "source": [
    "### Тестирование лучшей модели и анализ признаков"
   ]
  },
  {
   "cell_type": "code",
   "execution_count": 55,
   "id": "b67b7959",
   "metadata": {},
   "outputs": [
    {
     "name": "stdout",
     "output_type": "stream",
     "text": [
      "MAE градиентного бустинга на тестовой выборке: 6.319847447399135\n",
      "CPU times: user 11.7 ms, sys: 2 µs, total: 11.7 ms\n",
      "Wall time: 6.7 ms\n"
     ]
    }
   ],
   "source": [
    "%%time\n",
    "gb_mae_test = mean_absolute_error(gb_search.best_estimator_.predict(features_test)\\\n",
    "                                  , target_test)\n",
    "print('MAE градиентного бустинга на тестовой выборке:', gb_mae_test)"
   ]
  },
  {
   "cell_type": "code",
   "execution_count": 56,
   "id": "a576bc4e",
   "metadata": {},
   "outputs": [
    {
     "name": "stdout",
     "output_type": "stream",
     "text": [
      "R-squared градиентного бустинга на тестовой выборке: 0.45111765390142033\n"
     ]
    }
   ],
   "source": [
    "gb_r2_test = r2_score(target_test, gb_search.best_estimator_.predict(features_test))\n",
    "print('R-squared градиентного бустинга на тестовой выборке:', gb_r2_test)"
   ]
  },
  {
   "cell_type": "markdown",
   "id": "13ff1541",
   "metadata": {},
   "source": [
    "Сравним с dummy regressor:"
   ]
  },
  {
   "cell_type": "code",
   "execution_count": 57,
   "id": "88eeaff7",
   "metadata": {},
   "outputs": [
    {
     "name": "stdout",
     "output_type": "stream",
     "text": [
      "MAE дамми-модели на тестовой выборке: 8.070806910641112\n",
      "R-squared дамми-модели на тестовой выборке: -0.0014015447949955462\n"
     ]
    }
   ],
   "source": [
    "dummy_regr = DummyRegressor(strategy=\"mean\")\n",
    "dummy_regr.fit(features_train, target_train)\n",
    "print('MAE дамми-модели на тестовой выборке:', \n",
    "      mean_absolute_error(dummy_regr.predict(features_test), target_test))\n",
    "print('R-squared дамми-модели на тестовой выборке:', \n",
    "      r2_score(target_test, dummy_regr.predict(features_test)))\n"
   ]
  },
  {
   "cell_type": "markdown",
   "id": "02b8be0b",
   "metadata": {},
   "source": [
    "Наша модель лучше дамми-модели, что не может не радовать. Метрика MAE меньше заданных заказчиков 6.8, однако метрика R-squared все же довольно низкая - всего 0.45.\n",
    "\n",
    "Посмотрим на значение признаков."
   ]
  },
  {
   "cell_type": "code",
   "execution_count": 58,
   "id": "9081326a",
   "metadata": {},
   "outputs": [
    {
     "data": {
      "image/png": "[encoded data removed]",
      "text/plain": [
       "<Figure size 864x432 with 2 Axes>"
      ]
     },
     "metadata": {
      "needs_background": "light"
     },
     "output_type": "display_data"
    }
   ],
   "source": [
    "feature_importance = gb_search.best_estimator_.feature_importances_\n",
    "sorted_idx = np.argsort(feature_importance)\n",
    "pos = np.arange(sorted_idx.shape[0]) + 0.5\n",
    "fig = plt.figure(figsize=(12, 6))\n",
    "plt.subplot(1, 2, 1)\n",
    "plt.barh(pos, feature_importance[sorted_idx], align=\"center\")\n",
    "plt.yticks(pos, np.array(features.columns)[sorted_idx])\n",
    "plt.title(\"Feature Importance (MDI)\")\n",
    "\n",
    "result = permutation_importance(\n",
    "    gb_search.best_estimator_, features_test, target_test, n_repeats=10, random_state=42, n_jobs=2\n",
    ")\n",
    "sorted_idx = result.importances_mean.argsort()\n",
    "plt.subplot(1, 2, 2)\n",
    "plt.boxplot(\n",
    "    result.importances[sorted_idx].T,\n",
    "    vert=False,\n",
    "    labels=np.array(features.columns)[sorted_idx],\n",
    ")\n",
    "plt.title(\"Permutation Importance (test set)\")\n",
    "fig.tight_layout()\n",
    "plt.show()"
   ]
  },
  {
   "cell_type": "markdown",
   "id": "4a1e1bad",
   "metadata": {},
   "source": [
    "**Анализ признаков:**\n",
    "\n",
    "Самыми важными признаками по оценке двух различных методов оказались первая температура и продолжительность нагрева.\n",
    "    "
   ]
  },
  {
   "cell_type": "markdown",
   "id": "9e8ae482",
   "metadata": {},
   "source": [
    "## Отчет по решению"
   ]
  },
  {
   "cell_type": "markdown",
   "id": "690ecf89",
   "metadata": {},
   "source": [
    "**Цель проекта:**\n",
    "\n",
    "Научиться предсказывать последнюю температуру по всей партии, чтобы снизить затраты на электричество и обслуживание. \n",
    "\n",
    "**Задача:**\n",
    "\n",
    "Объектом моделирования является один ковш (определяется по ключу key), целевой признак - последняя температура по ковшу. Задача: предсказание последней температуры ковша по остальным признакам."
   ]
  },
  {
   "cell_type": "markdown",
   "id": "8fbf6d81",
   "metadata": {},
   "source": [
    "### Сравнение плана и решения"
   ]
  },
  {
   "cell_type": "markdown",
   "id": "60f2fe30",
   "metadata": {},
   "source": [
    "**Первоначальный план:** \n",
    "\n",
    "1) Объединить таблицы по столбцу key. Берем только те партии, которые присуствуют во все таблицах. Перед объединением аггрегировать данные в таблице данных с электродов. Исследовать полученный датасет\n",
    "\n",
    "2) Обработать пропуски и явные аномалии (не выбросы!) в полном датасете. Удалить признаки, где пропуски занимают больше 80% данных. По завершению исследования датасета удалить столбец key\n",
    "\n",
    "3) Разделить выборку на данные для обучения с использованием кросс-валидации (0.75) и теста (0.25)\n",
    "\n",
    "4) Обработать выбросы на обучающей выборке, провести масштабирование на обучающей выборке, удалить признаки с высокой кореляцией (для линейной регрессии)\n",
    "\n",
    "5) Провести кросс-валидацию нескольких разных моделей, отобрать лучшую по метрике MAE\n",
    "\n",
    "6) Провести тестирование лучшей модели на тестовой выборке"
   ]
  },
  {
   "cell_type": "markdown",
   "id": "f829fa55",
   "metadata": {},
   "source": [
    "**Практически все пункты из плана выше были выполнены.**\n",
    "\n",
    "Объединили таблицы по столбцу key, взяв только те партии, которые присуствовали во всех датасетах. Перед объединением данные в таблице электродов были аггрегированы - взяли средние значения по ковшу. После объединения было проведено исследование датасета, после чего удалены явные аномалии и признаки с 80 и более процентов пропусков. Столбец key был удален после дополнительной проверки (не должно было остаться ключей выше 2499).\n",
    "\n",
    "Далее мы разделили датасет на таргет и признаки и разделили выборку на данные для обучения с использованием кросс-валидации (0.75) и теста (0.25). После разделения выборок дополнительно проверили размер получившихься датасетов.\n",
    "\n",
    "**Расхождение с планом**: Так как в ходе исследования датасета было обнаружено, что явных выбросов в признаках нет, их обработка не производилась на обучающей выборке. \n",
    "\n",
    "Мы провели масштабирование данных, настроив scaler на обучающей выборке и удалили признаки с высокой взаимной корреляцией. Мы взяли в качестве порога меру корреляции Пирсона > 0.8, этот порог попали признаки активная мощность, реактивная мощность и полная мощность. Активная мощность и реактивная мощность были удалены, так как информация о них содержится в признаке полная мощность (см. далее).\n",
    "\n",
    "Мы провели кросс-валидацию **трех** моделей: линейная регрессия, дерево решений и градиентный бустинг с подбором гиперпараметров. Лучшая модель по метрики MAE (градиентный бустинг) была протестирована на тестовой выборке и преодолела порог, выставленный клиентом. \n",
    "\n",
    "---\n",
    "**Помимо указанных в изначальном плане пунктов были выполнены следующие шаги:**\n",
    "\n",
    "- Перед объединением таблицы мы получили из таблицы данных с электродов три дополнительных признака: длительность нагрева дугой, число циклов нагрева для ковша и полную мощность (см. раздел 4.3). Также из таблицы данных о замере температур был получен целевой признак - Последняя температура замера - и два предсказательных признака: первая температура замера и разница между замерами первой и последней температуры. \n",
    "\n",
    "- После проведения тестирования итоговой модели также была подсчитана метрика R-squared для дополнительной интерпретации результатов модели. Помимо этого было проведено сравнение результатов модели с dummy моделью (предсказывавшей среднее) для оценки адекватности модели."
   ]
  },
  {
   "cell_type": "markdown",
   "id": "4137a43b",
   "metadata": {},
   "source": [
    "### Возникшие трудности и ключевые шаги решения\n",
    "\n",
    "Благодаря подробному разъяснению задачи и деталей проекта от тимлида, трудностей в решении практически не возникло :) "
   ]
  },
  {
   "cell_type": "markdown",
   "id": "1862a819",
   "metadata": {},
   "source": [
    "### Признаки итоговой модели"
   ]
  },
  {
   "cell_type": "markdown",
   "id": "e9ead0fe",
   "metadata": {},
   "source": [
    "Важно отметить, что в итоговый датасет попали только те ковши (по ключу key), у которых не было пропуска в целевом признаке - Последняя температура нагрева. Этот признак был получен из данных о замерах температур как последний замер температуры для ковша (по ключу key).\n",
    "\n",
    "В итоговой модели использовались следующие предсказательные признаки:\n",
    "\n",
    "- **first_temp**, Первая температура нагрева\n",
    "- **heat_duration**, Длительность нагрева дугой \n",
    "- **time_temp_delta**, Разница между замерами первой и последней температуры (в минутах)\n",
    "- **heated_cound**, Число циклов нагрева для каждого ковша\n",
    "- **gas**, Данные о продувке сплава газом\n",
    "- **full_power**, Полная мощность\n",
    "- **wire_1**, Добавлено проволочных материалов в 1-й итерации\n",
    "- **wire_2**, Добавлено проволочных материалов во 2-й итерации\n",
    "- **bulk_4**, Добавлено сыпучих материалов в 4-й итерации\n",
    "- **bulk_5**, Добавлено сыпучих материалов в 5-й итерации\n",
    "- **bulk_12**, Добавлено сыпучих материалов в 12-й итерации\n",
    "- **bulk_14**, Добавлено сыпучих материалов в 14-й итерации\n",
    "- **bulk_15**, Добавлено сыпучих материалов в 15-й итерации\n",
    "\n",
    "**Предобработка признаков**\n",
    "- Первая температура нагрева была получена из данных о замерах температур как первый замер температуры для ковша (по ключу key).\n",
    "- Длительность нагрева дугой была рассчитана по данным о замере электродов как усредненная по ковшу разница между началом нагрева дугой и концом нагрева дугой в минутах.\n",
    "- Разница между замерами первой и последней температуры в минутах была получена из данных о замере температур, время замера первой и последней температуры взяты как первый и последний замер по ковшу (по ключу key).\n",
    "- Число циклов нагрева для каждого ковша было рассчитано как число вхождения ключа ковша (key) в таблице данных с электродов.\n",
    "- Данные о продувке газом получены из таблицы gas, мы не обнарудили в этих данных пропуски и аномалии, поэтому дополнительная обработка не проводилась.\n",
    "- Полная мощность была получена из данных с электродов. Вычислялась как корень из суммы квадратов активной и реактивной мощности.\n",
    "- Признаки о добавлении проволочных и сыпучих материалов содержали значительное число пропусков. Мы удалили из итогового датасета для обучения и проверки модели те признаки, где пропуски составили 80% данных и более. В оставшихься признаках пропуски были заменены на 0. \n",
    "\n"
   ]
  },
  {
   "cell_type": "markdown",
   "id": "37a3ce7d",
   "metadata": {},
   "source": [
    "### Описание итоговой модели\n",
    "\n",
    "В качестве лучшей модели на кросс-валидации была отобрана модель градиентного бустинга, реализованная с помощью библиотеки lightgbm. Метрика MAE градиентного бустинга на тестовой выборке составила 6.32, а R-squared - 0.451. \n",
    "\n",
    "Мы перебрали различные значения максимальной глубины и числа \"листьев\" модели. Глубина итоговой модели = 6, а число \"листьев\" = 31. Везде использовался random_state = 110923.\n",
    "Полный список гиперпараметров модели представлен ниже:"
   ]
  },
  {
   "cell_type": "code",
   "execution_count": 56,
   "id": "1c639ff4",
   "metadata": {},
   "outputs": [
    {
     "data": {
      "text/plain": [
       "{'boosting_type': 'gbdt',\n",
       " 'class_weight': None,\n",
       " 'colsample_bytree': 1.0,\n",
       " 'importance_type': 'split',\n",
       " 'learning_rate': 0.1,\n",
       " 'max_depth': 6,\n",
       " 'min_child_samples': 20,\n",
       " 'min_child_weight': 0.001,\n",
       " 'min_split_gain': 0.0,\n",
       " 'n_estimators': 100,\n",
       " 'n_jobs': -1,\n",
       " 'num_leaves': 31,\n",
       " 'objective': None,\n",
       " 'random_state': None,\n",
       " 'reg_alpha': 0.0,\n",
       " 'reg_lambda': 0.0,\n",
       " 'silent': 'warn',\n",
       " 'subsample': 1.0,\n",
       " 'subsample_for_bin': 200000,\n",
       " 'subsample_freq': 0,\n",
       " 'random_seed': 110923}"
      ]
     },
     "execution_count": 56,
     "metadata": {},
     "output_type": "execute_result"
    }
   ],
   "source": [
    "gb_search.best_estimator_.get_params()"
   ]
  },
  {
   "cell_type": "markdown",
   "id": "fdef2541",
   "metadata": {},
   "source": [
    "При этом методы оценки важности признаков (среднее уменьшение точности и важность на основе перестановок) показали, что наибольшую роль в модели играют признаки первая температура и длительность нагрева дугой."
   ]
  }
 ],
 "metadata": {
  "ExecuteTimeLog": [
   {
    "duration": 5295,
    "start_time": "2023-09-21T10:40:00.702Z"
   },
   {
    "duration": 0,
    "start_time": "2023-09-21T10:40:06.012Z"
   },
   {
    "duration": 0,
    "start_time": "2023-09-21T10:40:06.014Z"
   },
   {
    "duration": 0,
    "start_time": "2023-09-21T10:40:06.015Z"
   },
   {
    "duration": 0,
    "start_time": "2023-09-21T10:40:06.016Z"
   },
   {
    "duration": 0,
    "start_time": "2023-09-21T10:40:06.017Z"
   },
   {
    "duration": 0,
    "start_time": "2023-09-21T10:40:06.018Z"
   },
   {
    "duration": 0,
    "start_time": "2023-09-21T10:40:06.019Z"
   },
   {
    "duration": 0,
    "start_time": "2023-09-21T10:40:06.025Z"
   },
   {
    "duration": 0,
    "start_time": "2023-09-21T10:40:06.026Z"
   },
   {
    "duration": 0,
    "start_time": "2023-09-21T10:40:06.027Z"
   },
   {
    "duration": 0,
    "start_time": "2023-09-21T10:40:06.028Z"
   },
   {
    "duration": 0,
    "start_time": "2023-09-21T10:40:06.031Z"
   },
   {
    "duration": 0,
    "start_time": "2023-09-21T10:40:06.032Z"
   },
   {
    "duration": 0,
    "start_time": "2023-09-21T10:40:06.033Z"
   },
   {
    "duration": 0,
    "start_time": "2023-09-21T10:40:06.034Z"
   },
   {
    "duration": 0,
    "start_time": "2023-09-21T10:40:06.035Z"
   },
   {
    "duration": 62,
    "start_time": "2023-09-21T14:07:53.448Z"
   },
   {
    "duration": 1451,
    "start_time": "2023-09-21T14:08:03.964Z"
   },
   {
    "duration": 420,
    "start_time": "2023-09-21T14:08:07.490Z"
   },
   {
    "duration": 24,
    "start_time": "2023-09-21T14:08:10.593Z"
   },
   {
    "duration": 3,
    "start_time": "2023-09-21T14:08:11.879Z"
   },
   {
    "duration": 586,
    "start_time": "2023-09-21T14:08:18.182Z"
   },
   {
    "duration": 4,
    "start_time": "2023-09-21T14:08:21.212Z"
   },
   {
    "duration": 1067,
    "start_time": "2023-09-21T14:08:22.652Z"
   },
   {
    "duration": 11,
    "start_time": "2023-09-21T14:08:54.232Z"
   },
   {
    "duration": 5,
    "start_time": "2023-09-21T14:09:00.992Z"
   },
   {
    "duration": 13,
    "start_time": "2023-09-21T14:09:04.245Z"
   },
   {
    "duration": 21,
    "start_time": "2023-09-21T14:09:09.044Z"
   },
   {
    "duration": 20,
    "start_time": "2023-09-21T14:09:12.512Z"
   },
   {
    "duration": 6,
    "start_time": "2023-09-21T14:09:16.106Z"
   },
   {
    "duration": 6,
    "start_time": "2023-09-21T14:09:18.317Z"
   },
   {
    "duration": 21,
    "start_time": "2023-09-21T14:09:19.915Z"
   },
   {
    "duration": 11,
    "start_time": "2023-09-21T14:09:22.547Z"
   },
   {
    "duration": 964,
    "start_time": "2023-09-21T14:09:25.123Z"
   },
   {
    "duration": 20,
    "start_time": "2023-09-21T14:09:27.277Z"
   },
   {
    "duration": 188,
    "start_time": "2023-09-21T14:09:30.881Z"
   },
   {
    "duration": 22,
    "start_time": "2023-09-21T14:09:33.202Z"
   },
   {
    "duration": 20,
    "start_time": "2023-09-21T14:09:36.065Z"
   },
   {
    "duration": 5,
    "start_time": "2023-09-21T14:09:38.874Z"
   },
   {
    "duration": 28,
    "start_time": "2023-09-21T14:09:41.152Z"
   },
   {
    "duration": 35,
    "start_time": "2023-09-21T14:09:43.383Z"
   },
   {
    "duration": 24,
    "start_time": "2023-09-21T14:09:47.881Z"
   },
   {
    "duration": 7,
    "start_time": "2023-09-21T14:13:05.500Z"
   },
   {
    "duration": 19,
    "start_time": "2023-09-21T14:13:07.417Z"
   },
   {
    "duration": 4,
    "start_time": "2023-09-21T14:13:10.035Z"
   },
   {
    "duration": 23,
    "start_time": "2023-09-21T14:13:11.437Z"
   },
   {
    "duration": 5,
    "start_time": "2023-09-21T14:14:52.518Z"
   },
   {
    "duration": 4,
    "start_time": "2023-09-21T14:14:59.572Z"
   },
   {
    "duration": 5289,
    "start_time": "2023-09-21T14:15:01.900Z"
   },
   {
    "duration": 4,
    "start_time": "2023-09-21T14:15:35.417Z"
   },
   {
    "duration": 4754,
    "start_time": "2023-09-21T14:15:37.101Z"
   },
   {
    "duration": 486,
    "start_time": "2023-09-21T14:16:02.348Z"
   },
   {
    "duration": 4,
    "start_time": "2023-09-21T14:16:06.273Z"
   },
   {
    "duration": 437,
    "start_time": "2023-09-21T14:16:08.163Z"
   },
   {
    "duration": 1291,
    "start_time": "2023-09-21T14:16:20.487Z"
   },
   {
    "duration": 338,
    "start_time": "2023-09-21T14:16:21.779Z"
   },
   {
    "duration": 30,
    "start_time": "2023-09-21T14:16:22.119Z"
   },
   {
    "duration": 3,
    "start_time": "2023-09-21T14:16:22.153Z"
   },
   {
    "duration": 107,
    "start_time": "2023-09-21T14:16:22.158Z"
   },
   {
    "duration": 184,
    "start_time": "2023-09-21T14:16:22.269Z"
   },
   {
    "duration": 5,
    "start_time": "2023-09-21T14:16:22.455Z"
   },
   {
    "duration": 967,
    "start_time": "2023-09-21T14:16:22.462Z"
   },
   {
    "duration": 4625,
    "start_time": "2023-09-21T14:16:23.431Z"
   },
   {
    "duration": 310,
    "start_time": "2023-09-21T14:16:28.059Z"
   },
   {
    "duration": 610,
    "start_time": "2023-09-21T14:16:28.370Z"
   },
   {
    "duration": 656,
    "start_time": "2023-09-21T14:16:28.983Z"
   },
   {
    "duration": 2849,
    "start_time": "2023-09-21T14:16:29.643Z"
   },
   {
    "duration": 465,
    "start_time": "2023-09-21T14:16:32.494Z"
   },
   {
    "duration": 8,
    "start_time": "2023-09-21T14:16:32.961Z"
   },
   {
    "duration": 7,
    "start_time": "2023-09-21T14:16:32.970Z"
   },
   {
    "duration": 14,
    "start_time": "2023-09-21T14:16:32.979Z"
   },
   {
    "duration": 32,
    "start_time": "2023-09-21T14:16:32.995Z"
   },
   {
    "duration": 16,
    "start_time": "2023-09-21T14:16:33.030Z"
   },
   {
    "duration": 6,
    "start_time": "2023-09-21T14:16:33.048Z"
   },
   {
    "duration": 20,
    "start_time": "2023-09-21T14:16:33.056Z"
   },
   {
    "duration": 34,
    "start_time": "2023-09-21T14:16:33.078Z"
   },
   {
    "duration": 24,
    "start_time": "2023-09-21T14:16:33.114Z"
   },
   {
    "duration": 833,
    "start_time": "2023-09-21T14:16:33.140Z"
   },
   {
    "duration": 20,
    "start_time": "2023-09-21T14:16:33.975Z"
   },
   {
    "duration": 186,
    "start_time": "2023-09-21T14:16:33.997Z"
   },
   {
    "duration": 19,
    "start_time": "2023-09-21T14:16:34.185Z"
   },
   {
    "duration": 35,
    "start_time": "2023-09-21T14:16:34.207Z"
   },
   {
    "duration": 9,
    "start_time": "2023-09-21T14:16:34.245Z"
   },
   {
    "duration": 78,
    "start_time": "2023-09-21T14:16:34.255Z"
   },
   {
    "duration": 40,
    "start_time": "2023-09-21T14:16:34.335Z"
   },
   {
    "duration": 6,
    "start_time": "2023-09-21T14:16:34.377Z"
   },
   {
    "duration": 37,
    "start_time": "2023-09-21T14:16:34.385Z"
   },
   {
    "duration": 15,
    "start_time": "2023-09-21T14:16:34.425Z"
   },
   {
    "duration": 41,
    "start_time": "2023-09-21T14:16:34.442Z"
   },
   {
    "duration": 12,
    "start_time": "2023-09-21T14:16:34.485Z"
   },
   {
    "duration": 16,
    "start_time": "2023-09-21T14:16:34.498Z"
   },
   {
    "duration": 4665,
    "start_time": "2023-09-21T14:16:34.515Z"
   },
   {
    "duration": 525,
    "start_time": "2023-09-21T14:16:39.182Z"
   },
   {
    "duration": 4,
    "start_time": "2023-09-21T14:16:39.709Z"
   },
   {
    "duration": 453,
    "start_time": "2023-09-21T14:16:39.714Z"
   },
   {
    "duration": 4,
    "start_time": "2023-09-21T14:16:40.169Z"
   },
   {
    "duration": 7,
    "start_time": "2023-09-21T14:16:40.175Z"
   },
   {
    "duration": 23,
    "start_time": "2023-09-21T14:16:40.184Z"
   },
   {
    "duration": 14,
    "start_time": "2023-09-21T14:16:40.223Z"
   },
   {
    "duration": 31,
    "start_time": "2023-09-21T14:16:40.239Z"
   },
   {
    "duration": 5,
    "start_time": "2023-09-21T14:16:40.272Z"
   },
   {
    "duration": 76,
    "start_time": "2023-09-21T14:16:40.279Z"
   },
   {
    "duration": 277,
    "start_time": "2023-09-21T14:16:40.424Z"
   },
   {
    "duration": 468522,
    "start_time": "2023-09-21T14:16:40.703Z"
   },
   {
    "duration": 26,
    "start_time": "2023-09-21T14:24:29.227Z"
   },
   {
    "duration": 90,
    "start_time": "2023-09-21T14:24:29.255Z"
   },
   {
    "duration": 51,
    "start_time": "2023-09-21T14:24:29.347Z"
   },
   {
    "duration": 5048,
    "start_time": "2023-09-21T14:24:29.400Z"
   },
   {
    "duration": 11,
    "start_time": "2023-09-21T14:24:37.309Z"
   },
   {
    "duration": 8,
    "start_time": "2023-09-21T14:24:41.875Z"
   },
   {
    "duration": 8,
    "start_time": "2023-09-21T14:24:45.461Z"
   },
   {
    "duration": 1988,
    "start_time": "2023-09-21T14:24:53.624Z"
   },
   {
    "duration": 163,
    "start_time": "2023-09-21T14:26:12.253Z"
   }
  ],
  "kernelspec": {
   "display_name": "Python 3 (ipykernel)",
   "language": "python",
   "name": "python3"
  },
  "language_info": {
   "codemirror_mode": {
    "name": "ipython",
    "version": 3
   },
   "file_extension": ".py",
   "mimetype": "text/x-python",
   "name": "python",
   "nbconvert_exporter": "python",
   "pygments_lexer": "ipython3",
   "version": "3.9.7"
  },
  "toc": {
   "base_numbering": 1,
   "nav_menu": {},
   "number_sections": true,
   "sideBar": true,
   "skip_h1_title": true,
   "title_cell": "Table of Contents",
   "title_sidebar": "Contents",
   "toc_cell": false,
   "toc_position": {
    "height": "calc(100% - 180px)",
    "left": "10px",
    "top": "150px",
    "width": "220.341px"
   },
   "toc_section_display": true,
   "toc_window_display": true
  }
 },
 "nbformat": 4,
 "nbformat_minor": 5
}
