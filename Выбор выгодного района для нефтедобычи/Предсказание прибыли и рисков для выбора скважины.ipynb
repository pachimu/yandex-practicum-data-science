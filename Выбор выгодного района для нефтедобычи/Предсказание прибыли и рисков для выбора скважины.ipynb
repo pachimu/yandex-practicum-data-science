{
 "cells": [
  {
   "cell_type": "markdown",
   "metadata": {},
   "source": [
    "# Выбор локации для скважины"
   ]
  },
  {
   "cell_type": "markdown",
   "metadata": {},
   "source": [
    "Допустим, вы работаете в добывающей компании «ГлавРосГосНефть». Нужно решить, где бурить новую скважину.\n",
    "\n",
    "Вам предоставлены пробы нефти в трёх регионах: в каждом 10 000 месторождений, где измерили качество нефти и объём её запасов. Постройте модель машинного обучения, которая поможет определить регион, где добыча принесёт наибольшую прибыль. Проанализируйте возможную прибыль и риски техникой *Bootstrap.*\n",
    "\n",
    "Шаги для выбора локации:\n",
    "\n",
    "- В избранном регионе ищут месторождения, для каждого определяют значения признаков;\n",
    "- Строят модель и оценивают объём запасов;\n",
    "- Выбирают месторождения с самым высокими оценками значений. Количество месторождений зависит от бюджета компании и стоимости разработки одной скважины;\n",
    "- Прибыль равна суммарной прибыли отобранных месторождений."
   ]
  },
  {
   "cell_type": "code",
   "execution_count": null,
   "metadata": {},
   "outputs": [],
   "source": [
    "import numpy as np\n",
    "import pandas as pd\n",
    "import matplotlib.pyplot as plt\n",
    "from sklearn.utils import shuffle\n",
    "from sklearn.model_selection import train_test_split\n",
    "from sklearn.preprocessing import StandardScaler\n",
    "\n",
    "from sklearn import linear_model\n",
    "from sklearn.metrics import mean_squared_error"
   ]
  },
  {
   "cell_type": "markdown",
   "metadata": {},
   "source": [
    "## Загрузка и подготовка данных"
   ]
  },
  {
   "cell_type": "markdown",
   "metadata": {},
   "source": [
    "Подготовка данных: \n",
    "- Загрузить данные\n",
    "- Проверить наличие дубликатов\n",
    "- Удалить NaN\n",
    "- Посмотреть на тип данных признаков - если есть качественные признаки, превратить их в количественные с помощью OHE\n",
    "- Отбросить id скважины - этот признак нам не понадобится в ходе обучения модели"
   ]
  },
  {
   "cell_type": "code",
   "execution_count": null,
   "metadata": {},
   "outputs": [],
   "source": [
    "df = pd.read_csv('/datasets/geo_data_0.csv')\n"
   ]
  },
  {
   "cell_type": "code",
   "execution_count": null,
   "metadata": {},
   "outputs": [],
   "source": [
    "df_1 = pd.read_csv('/datasets/geo_data_1.csv')\n"
   ]
  },
  {
   "cell_type": "code",
   "execution_count": null,
   "metadata": {},
   "outputs": [],
   "source": [
    "df_2 = pd.read_csv('/datasets/geo_data_2.csv')\n"
   ]
  },
  {
   "cell_type": "code",
   "execution_count": null,
   "metadata": {},
   "outputs": [],
   "source": [
    "def data_overview(data):\n",
    "    display(data.head())\n",
    "    display(data.info())\n",
    "    print(\"Пропуски:\", data.isna().sum())\n",
    "    print(\"Явные дубликаты:\", data.duplicated().sum())\n",
    "    print('')\n",
    "    colnames = df.select_dtypes('number').columns\n",
    "    print(\"Дубликаты по ID:\", data['id'].duplicated().sum())\n",
    "    print(data[data['id'].duplicated()])\n",
    "    for name in colnames:\n",
    "            data[name].plot.hist()\n",
    "            plt.title(name)\n",
    "            plt.show()\n",
    "            \n",
    "    print(\"Таблица корреляций Пирсона для всех численных переменных\")\n",
    "    print(data.corr())\n",
    "    print('')\n",
    "    print(\"Диаграммы рассеяния для всех численных переменных\")\n",
    "    \n",
    "    for i in range(0,4,1):\n",
    "        for j in reversed(range(0,4,1)):\n",
    "            if i != j:\n",
    "                data.plot.scatter(x = colnames[i], y = colnames[j])\n",
    "                plt.xlabel(colnames[i])\n",
    "                plt.ylabel(colnames[j])\n",
    "                plt.show()"
   ]
  },
  {
   "cell_type": "code",
   "execution_count": null,
   "metadata": {},
   "outputs": [],
   "source": [
    "datas = [df, df_1, df_2]\n"
   ]
  },
  {
   "cell_type": "code",
   "execution_count": null,
   "metadata": {},
   "outputs": [],
   "source": [
    "count = 0\n",
    "for data in datas:\n",
    "    print('Регион', count)\n",
    "    data_overview(data)\n",
    "    count+=1\n",
    "    print('--------------------------------------------')\n",
    "    print('')"
   ]
  },
  {
   "cell_type": "code",
   "execution_count": null,
   "metadata": {},
   "outputs": [],
   "source": [
    "#удаляем дубликаты по ИД скважины\n",
    "for data in datas:\n",
    "    data = data.drop_duplicates(subset = 'id', inplace = True)"
   ]
  },
  {
   "cell_type": "code",
   "execution_count": null,
   "metadata": {},
   "outputs": [],
   "source": [
    "df['id'].duplicated().sum()"
   ]
  },
  {
   "cell_type": "code",
   "execution_count": null,
   "metadata": {},
   "outputs": [],
   "source": [
    "df_0 = df.drop('id', axis = 1)\n",
    "df_1 = df_1.drop('id', axis = 1)\n",
    "df_2 = df_2.drop('id', axis = 1)"
   ]
  },
  {
   "cell_type": "markdown",
   "metadata": {},
   "source": [
    "**Выводы по подготовке данных:**\n",
    "\n",
    "- Все нужные признаки количественного типа\n",
    "- Судя по значениям признаков, они уже приведены к одному масштабу\n",
    "- Нет пропусков\n",
    "- Были обнаружены дубликаты по идентификатору скважины. Так как их оказалось мало (всего 4, 4 и 10 для трех датасетов) - мы их просто удалили\n",
    "\n",
    "После построения матрицы корреляций между признаками, мы обнаружили, что признаки не коррелируют между собой, а наибольший коэффициент корреляции с целевым признаком показывает признак f2, причем во втором датасете (Регион 1) значение Pearson's r равняется 0.99, в то время как в других двух других 0.44 и 0.48. Чтобы понять откуда взялать такая аномалия, мы построили диаграммы рассеяния для всех признаков всех трех датасетов. \n"
   ]
  },
  {
   "cell_type": "markdown",
   "metadata": {},
   "source": [
    "## Обучение и проверка модели"
   ]
  },
  {
   "cell_type": "markdown",
   "metadata": {},
   "source": [
    "### Регион 0"
   ]
  },
  {
   "cell_type": "markdown",
   "metadata": {},
   "source": [
    "Разбейте данные на обучающую и валидационную выборки в соотношении 75:25."
   ]
  },
  {
   "cell_type": "code",
   "execution_count": null,
   "metadata": {},
   "outputs": [],
   "source": [
    "features = df_0.drop(['product'], axis=1)\n",
    "target = df_0['product']"
   ]
  },
  {
   "cell_type": "code",
   "execution_count": null,
   "metadata": {},
   "outputs": [],
   "source": [
    "features_train, features_valid, target_train, target_valid = train_test_split(features,target, test_size=0.25, random_state=12345)"
   ]
  },
  {
   "cell_type": "markdown",
   "metadata": {},
   "source": [
    "Обучите модель и сделайте предсказания на валидационной выборке."
   ]
  },
  {
   "cell_type": "code",
   "execution_count": null,
   "metadata": {},
   "outputs": [],
   "source": [
    "model = linear_model.LinearRegression()"
   ]
  },
  {
   "cell_type": "code",
   "execution_count": null,
   "metadata": {},
   "outputs": [],
   "source": [
    "model.fit(features_train, target_train)"
   ]
  },
  {
   "cell_type": "code",
   "execution_count": null,
   "metadata": {},
   "outputs": [],
   "source": [
    "model.predict(features_valid)"
   ]
  },
  {
   "cell_type": "markdown",
   "metadata": {},
   "source": [
    "Сохраните предсказания и правильные ответы на валидационной выборке. Напечатайте на экране средний запас предсказанного сырья и RMSE модели."
   ]
  },
  {
   "cell_type": "code",
   "execution_count": null,
   "metadata": {},
   "outputs": [],
   "source": [
    "predict_d0 = model.predict(features_valid)\n",
    "true_d0 = target_valid.reset_index(drop = True)"
   ]
  },
  {
   "cell_type": "code",
   "execution_count": null,
   "metadata": {},
   "outputs": [],
   "source": [
    "#r2_0 = model.score(features_valid, target_valid)\n",
    "#print('R2 для региона 0 =', r2_0)\n",
    "rmse_0 = mean_squared_error(true_d0, predict_d0)**0.5\n",
    "print('RMSE для региона 0 =', rmse_0)\n",
    "mean_pred_0 = predict_d0.mean()\n",
    "print('Средний запас предсказанного сырья для региона 0 =', mean_pred_0)"
   ]
  },
  {
   "cell_type": "markdown",
   "metadata": {},
   "source": [
    "### Регион 1"
   ]
  },
  {
   "cell_type": "code",
   "execution_count": null,
   "metadata": {},
   "outputs": [],
   "source": [
    "features = df_1.drop(['product'], axis=1)\n",
    "target = df_1['product']\n",
    "\n",
    "features_train, features_valid, target_train, target_valid = train_test_split(features,target, test_size=0.25, random_state=12345)\n",
    "\n",
    "model = linear_model.LinearRegression()\n",
    "model.fit(features_train, target_train)\n",
    "\n",
    "predict_d1 = model.predict(features_valid)\n",
    "true_d1 = target_valid.reset_index(drop = True)\n",
    "\n",
    "#r2_1 = model.score(features_valid, target_valid)\n",
    "#print('R2 для региона 1 =', r2_1)\n",
    "\n",
    "rmse_1 = mean_squared_error(true_d1, predict_d1)**0.5\n",
    "print('RMSE для региона 1 =', rmse_1)\n",
    "mean_pred_1 = predict_d1.mean()\n",
    "print('Средний запас предсказанного сырья для региона 1 =', mean_pred_1)"
   ]
  },
  {
   "cell_type": "markdown",
   "metadata": {},
   "source": [
    "### Регион 2"
   ]
  },
  {
   "cell_type": "code",
   "execution_count": null,
   "metadata": {},
   "outputs": [],
   "source": [
    "features = df_2.drop(['product'], axis=1)\n",
    "target = df_2['product']\n",
    "\n",
    "features_train, features_valid, target_train, target_valid = train_test_split(features,target, test_size=0.25, random_state=12345)\n",
    "\n",
    "model = linear_model.LinearRegression()\n",
    "model.fit(features_train, target_train)\n",
    "\n",
    "predict_d2 = model.predict(features_valid)\n",
    "true_d2 = target_valid.reset_index(drop = True)\n",
    "\n",
    "#r2_2 = model.score(features_valid, target_valid)\n",
    "#print('R2 для региона 2 =', r2_2)\n",
    "\n",
    "rmse_2 = mean_squared_error(true_d2, predict_d2)**0.5\n",
    "print('RMSE для региона 2 =', rmse_2)\n",
    "mean_pred_2 = predict_d2.mean()\n",
    "print('Средний запас предсказанного сырья для региона 2 =', mean_pred_2)"
   ]
  },
  {
   "cell_type": "markdown",
   "metadata": {},
   "source": [
    "**Выводы после обучения моделей для каждого региона:**\n",
    "\n",
    "- У региона 0 высокие показатели среднего запаса предсказанного сырья (92), но зато и высокая метрика RMSE (37)\n",
    "- У региона 1 метрика RMSE почему-то аномально низкая (0.89!), средний запас предсказанного сырья при этом ниже, чем у регионов 0 и 2 (68)\n",
    "- У региона 2 метрика показатели среднего запаса предсказанного сырья выше всего (95), при этом RMSE также выше регионов 1 и 0 (40)"
   ]
  },
  {
   "cell_type": "markdown",
   "metadata": {},
   "source": [
    "## Подготовка к расчёту прибыли"
   ]
  },
  {
   "cell_type": "markdown",
   "metadata": {},
   "source": [
    "Все ключевые значения для расчётов сохраните в отдельных переменных."
   ]
  },
  {
   "cell_type": "code",
   "execution_count": null,
   "metadata": {},
   "outputs": [],
   "source": [
    "explored_n = 500 #\n",
    "best_n = 200 # выбирают 200 лучших для разработки.\n",
    "budget = 10000000000 # Бюджет на разработку скважин в регионе\n",
    "unit_price = 450000 #Доход с каждой единицы продукта составляет 450 тыс. р, объём указан в тыс баррелей.\n",
    "max_risk = 0.025 #После оценки рисков нужно оставить лишь те регионы, \n",
    "#в которых вероятность убытков меньше 2.5%. \n",
    "\n",
    "#Среди них выбирают регион с наибольшей средней прибылью."
   ]
  },
  {
   "cell_type": "markdown",
   "metadata": {},
   "source": [
    "Рассчитайте достаточный объём сырья для безубыточной разработки новой скважины. Сравните полученный объём сырья со средним запасом в каждом регионе. "
   ]
  },
  {
   "cell_type": "code",
   "execution_count": null,
   "metadata": {},
   "outputs": [],
   "source": [
    "#(enough_units * best_n * unit_price) - budget >= 0\n",
    "# enough_units * best_n * unit_price = budget\n",
    "# enough_units = budget/(best_n * unit_price)\n",
    "enough_units = budget/(best_n * unit_price) \n",
    "print(enough_units)"
   ]
  },
  {
   "cell_type": "code",
   "execution_count": null,
   "metadata": {},
   "outputs": [],
   "source": [
    "print(mean_pred_0 >= enough_units)\n",
    "print(mean_pred_1 >= enough_units)\n",
    "print(mean_pred_2 >= enough_units)"
   ]
  },
  {
   "cell_type": "markdown",
   "metadata": {},
   "source": [
    "**Выводы**: Средние предсказанные значения на валидационной выборке ниже необходимого для всех трех регионов.\n",
    "\n",
    "----"
   ]
  },
  {
   "cell_type": "markdown",
   "metadata": {},
   "source": [
    "Напишите функцию для расчёта прибыли по выбранным скважинам и предсказаниям модели:\n",
    "- Выберите скважины с максимальными значениями предсказаний.\n",
    "- Просуммируйте целевое значение объёма сырья, соответствующее этим предсказаниям.\n",
    "- Рассчитайте прибыль для полученного объёма сырья."
   ]
  },
  {
   "cell_type": "code",
   "execution_count": null,
   "metadata": {},
   "outputs": [],
   "source": [
    "def profits(predicted, true):\n",
    "    #случайно отберем 500 скважин по условию задачи (explored_n)\n",
    "    predicted = pd.Series(predicted)\n",
    "    true = pd.Series(true)\n",
    "    predicted = predicted.sample(n = explored_n, random_state = 12345, replace = False)\n",
    "    true = true[predicted.index]\n",
    "    \n",
    "    #сбросим индекс\n",
    "    predicted.reset_index(drop = True, inplace = True)\n",
    "    true.reset_index(drop = True, inplace = True)\n",
    "    \n",
    "    #отберем 200 лучших скважин (best_n) по предсказанию модели\n",
    "    best = predicted.sort_values(ascending = False)[:best_n]\n",
    "    #возьмем истинные значения объема этих скважин\n",
    "    best_true = true[best.index]\n",
    "    \n",
    "    profits = (sum(best_true)  * unit_price) - budget\n",
    "    return profits, best_true"
   ]
  },
  {
   "cell_type": "code",
   "execution_count": null,
   "metadata": {},
   "outputs": [],
   "source": [
    "profits_d0, best_true_d0 = profits(predict_d0, true_d0)\n",
    "print(\"Прогноз прибыли для региона 0 =\",profits_d0/1000000000, 'в миллиардах рублей')\n",
    "profits_d1, best_true_d1 = profits(predict_d1, true_d1)\n",
    "print(\"Прогноз прибыли для региона 1 =\",profits_d1/1000000000, 'в миллиардах рублей')\n",
    "profits_d2, best_true_d2 = profits(predict_d2, true_d2)\n",
    "print(\"Прогноз прибыли для региона 2 =\",profits_d2/1000000000, 'в миллиардах рублей')"
   ]
  },
  {
   "cell_type": "markdown",
   "metadata": {},
   "source": [
    "## Расчёт прибыли и рисков "
   ]
  },
  {
   "cell_type": "markdown",
   "metadata": {},
   "source": [
    "Примените технику Bootstrap с 1000 выборок, чтобы найти распределение прибыли."
   ]
  },
  {
   "cell_type": "code",
   "execution_count": null,
   "metadata": {},
   "outputs": [],
   "source": [
    "samples = 1000\n",
    "state = np.random.RandomState(12345)"
   ]
  },
  {
   "cell_type": "code",
   "execution_count": null,
   "metadata": {},
   "outputs": [],
   "source": [
    "def bootstrap_profits(predicted, true, sample_n):\n",
    "    profit_dist = []\n",
    "    current_profit = 0\n",
    "    for i in range(sample_n):\n",
    "        predicted = pd.Series(predicted)\n",
    "        true = pd.Series(true)\n",
    "        sampled_predicted = predicted.sample(n = 500, replace = True, random_state = state, ignore_index = False)\n",
    "        sampled_true = true[sampled_predicted.index]\n",
    "        sampled_predicted.reset_index(drop = True,inplace = True)\n",
    "        sampled_true.reset_index(drop = True,inplace = True)\n",
    "        current_profit = profits(sampled_predicted, sampled_true)[0]\n",
    "        profit_dist.append(current_profit)\n",
    "    \n",
    "    return pd.Series(profit_dist)"
   ]
  },
  {
   "cell_type": "markdown",
   "metadata": {},
   "source": [
    "------\n",
    "Найдите среднюю прибыль, 95%-й доверительный интервал и риск убытков. Убыток — это отрицательная прибыль.\n",
    "\n",
    "------"
   ]
  },
  {
   "cell_type": "code",
   "execution_count": null,
   "metadata": {},
   "outputs": [],
   "source": [
    "profits_d0_bstr = bootstrap_profits(predict_d0, true_d0, samples)"
   ]
  },
  {
   "cell_type": "code",
   "execution_count": null,
   "metadata": {},
   "outputs": [],
   "source": [
    "plt.hist(profits_d0_bstr)\n",
    "xcoords = [profits_d0_bstr.quantile(q = 0.025), profits_d0_bstr.quantile(q = 0.975), profits_d0_bstr.mean()]\n",
    "for xc in xcoords:\n",
    "    plt.axvline(x=xc)\n",
    "print(\"Средняя выручка региона 0 =\", profits_d0_bstr.mean()/1000000, 'миллионов рублей')\n",
    "print(\"Доверительный интервал 95% для региона 0: от\", \\\n",
    "      profits_d0_bstr.quantile(q = 0.025).round(2)/1000000, 'миллионов рублей',\\\n",
    "      \"до\",profits_d0_bstr.quantile(q = 0.975).round(2)/1000000, 'миллионов рублей')\n",
    "loss_risk_d0 = (len(profits_d0_bstr[profits_d0_bstr < 0]) / len(profits_d0_bstr))\n",
    "print(\"Вероятность убытков для региона 0 =\", loss_risk_d0*100, \"%\")"
   ]
  },
  {
   "cell_type": "code",
   "execution_count": null,
   "metadata": {},
   "outputs": [],
   "source": [
    "profits_d1_bstr = bootstrap_profits(predict_d1, true_d1, samples)"
   ]
  },
  {
   "cell_type": "code",
   "execution_count": null,
   "metadata": {},
   "outputs": [],
   "source": [
    "plt.hist(profits_d1_bstr)\n",
    "xcoords = [profits_d1_bstr.quantile(q = 0.025), profits_d1_bstr.quantile(q = 0.975), profits_d1_bstr.mean()]\n",
    "for xc in xcoords:\n",
    "    plt.axvline(x=xc)\n",
    "print(\"Средняя выручка региона 1 =\", profits_d1_bstr.mean()/1000000, 'миллионов рублей')\n",
    "print(\"Доверительный интервал 95% для региона 1: от\",\\\n",
    "      profits_d1_bstr.quantile(q = 0.025).round(2)/1000000, 'миллионов рублей',\\\n",
    "      \"до\",profits_d1_bstr.quantile(q = 0.975).round(2)/1000000, 'миллионов рублей')\n",
    "loss_risk_d1 = (len(profits_d1_bstr[profits_d1_bstr < 0]) / len(profits_d1_bstr))\n",
    "print(\"Вероятность убытков для региона 1 =\", loss_risk_d1*100, \"%\")"
   ]
  },
  {
   "cell_type": "code",
   "execution_count": null,
   "metadata": {},
   "outputs": [],
   "source": [
    "profits_d2_bstr = bootstrap_profits(predict_d2, true_d2, samples)"
   ]
  },
  {
   "cell_type": "code",
   "execution_count": null,
   "metadata": {},
   "outputs": [],
   "source": [
    "plt.hist(profits_d2_bstr)\n",
    "xcoords = [profits_d2_bstr.quantile(q = 0.025), profits_d2_bstr.quantile(q = 0.975), profits_d2_bstr.mean()]\n",
    "for xc in xcoords:\n",
    "    plt.axvline(x=xc)\n",
    "print(\"Средняя выручка региона 2 =\", profits_d2_bstr.mean()/1000000, 'миллионов рублей')\n",
    "print(\"Доверительный интервал 95% для региона 2: от\",\\\n",
    "      profits_d2_bstr.quantile(q = 0.025).round(2)/1000000, 'миллионов рублей',\\\n",
    "      \"до\",profits_d2_bstr.quantile(q = 0.975).round(2)/1000000, 'миллионов рублей')\n",
    "loss_risk_d2 = (len(profits_d2_bstr[profits_d2_bstr < 0]) / len(profits_d2_bstr))\n",
    "print(\"Вероятность убытков для региона 2 =\", loss_risk_d2*100, \"%\")"
   ]
  },
  {
   "cell_type": "markdown",
   "metadata": {},
   "source": [
    "**Напишите выводы: предложите регион для разработки скважин и обоснуйте выбор.**"
   ]
  },
  {
   "cell_type": "markdown",
   "metadata": {},
   "source": [
    "Мы предлагаем выбрать для разработки регион 1, так как риск убытков у него значительно ниже, чем у двух других регионов (0.89 %, против 8% у региона 0 и 8.7% у региона 2). При этом средняя и максимальная пронозируемая прибыль у него выше, чем у двух других регионов."
   ]
  }
 ],
 "metadata": {
  "ExecuteTimeLog": [
   {
    "duration": 1890,
    "start_time": "2023-04-27T20:56:23.888Z"
   },
   {
    "duration": 802,
    "start_time": "2023-04-27T20:56:25.780Z"
   },
   {
    "duration": 519,
    "start_time": "2023-04-27T20:56:26.584Z"
   },
   {
    "duration": 505,
    "start_time": "2023-04-27T20:56:27.105Z"
   },
   {
    "duration": 27,
    "start_time": "2023-04-27T20:56:27.611Z"
   },
   {
    "duration": 17,
    "start_time": "2023-04-27T20:56:27.639Z"
   },
   {
    "duration": 17,
    "start_time": "2023-04-27T20:56:27.658Z"
   },
   {
    "duration": 125,
    "start_time": "2023-04-27T20:56:27.676Z"
   },
   {
    "duration": 13,
    "start_time": "2023-04-27T20:56:27.803Z"
   },
   {
    "duration": 6,
    "start_time": "2023-04-27T20:56:27.818Z"
   },
   {
    "duration": 13,
    "start_time": "2023-04-27T20:56:27.825Z"
   },
   {
    "duration": 12,
    "start_time": "2023-04-27T20:56:27.840Z"
   },
   {
    "duration": 26,
    "start_time": "2023-04-27T20:56:27.853Z"
   },
   {
    "duration": 15,
    "start_time": "2023-04-27T20:56:27.881Z"
   },
   {
    "duration": 5,
    "start_time": "2023-04-27T20:56:27.898Z"
   },
   {
    "duration": 197,
    "start_time": "2023-04-27T20:56:27.904Z"
   },
   {
    "duration": 22,
    "start_time": "2023-04-27T20:56:28.103Z"
   },
   {
    "duration": 173,
    "start_time": "2023-04-27T20:56:28.127Z"
   },
   {
    "duration": 90,
    "start_time": "2023-04-27T20:56:28.304Z"
   },
   {
    "duration": 95,
    "start_time": "2023-04-27T20:56:28.398Z"
   },
   {
    "duration": 3,
    "start_time": "2023-04-27T20:56:28.495Z"
   },
   {
    "duration": 104,
    "start_time": "2023-04-27T20:56:28.500Z"
   },
   {
    "duration": 0,
    "start_time": "2023-04-27T20:56:28.606Z"
   },
   {
    "duration": 0,
    "start_time": "2023-04-27T20:56:28.607Z"
   },
   {
    "duration": 0,
    "start_time": "2023-04-27T20:56:28.608Z"
   },
   {
    "duration": 1,
    "start_time": "2023-04-27T20:56:28.609Z"
   },
   {
    "duration": 0,
    "start_time": "2023-04-27T20:56:28.611Z"
   },
   {
    "duration": 0,
    "start_time": "2023-04-27T20:56:28.611Z"
   },
   {
    "duration": 0,
    "start_time": "2023-04-27T20:56:28.612Z"
   },
   {
    "duration": 0,
    "start_time": "2023-04-27T20:56:28.613Z"
   },
   {
    "duration": 0,
    "start_time": "2023-04-27T20:56:28.614Z"
   },
   {
    "duration": 0,
    "start_time": "2023-04-27T20:56:28.615Z"
   },
   {
    "duration": 15,
    "start_time": "2023-04-27T20:58:54.886Z"
   },
   {
    "duration": 4,
    "start_time": "2023-04-27T20:59:18.927Z"
   },
   {
    "duration": 7449,
    "start_time": "2023-04-27T21:00:05.427Z"
   },
   {
    "duration": 4,
    "start_time": "2023-04-27T21:00:25.245Z"
   },
   {
    "duration": 17,
    "start_time": "2023-04-27T21:00:28.605Z"
   },
   {
    "duration": 3,
    "start_time": "2023-04-27T21:00:47.406Z"
   },
   {
    "duration": 1970,
    "start_time": "2023-04-27T21:02:26.195Z"
   },
   {
    "duration": 130,
    "start_time": "2023-04-27T21:02:28.167Z"
   },
   {
    "duration": 110,
    "start_time": "2023-04-27T21:02:28.298Z"
   },
   {
    "duration": 108,
    "start_time": "2023-04-27T21:02:28.410Z"
   },
   {
    "duration": 21,
    "start_time": "2023-04-27T21:02:28.519Z"
   },
   {
    "duration": 15,
    "start_time": "2023-04-27T21:02:28.541Z"
   },
   {
    "duration": 14,
    "start_time": "2023-04-27T21:02:28.558Z"
   },
   {
    "duration": 105,
    "start_time": "2023-04-27T21:02:28.594Z"
   },
   {
    "duration": 13,
    "start_time": "2023-04-27T21:02:28.700Z"
   },
   {
    "duration": 3,
    "start_time": "2023-04-27T21:02:28.716Z"
   },
   {
    "duration": 13,
    "start_time": "2023-04-27T21:02:28.721Z"
   },
   {
    "duration": 3,
    "start_time": "2023-04-27T21:02:28.736Z"
   },
   {
    "duration": 13,
    "start_time": "2023-04-27T21:02:28.741Z"
   },
   {
    "duration": 43,
    "start_time": "2023-04-27T21:02:28.756Z"
   },
   {
    "duration": 4,
    "start_time": "2023-04-27T21:02:28.801Z"
   },
   {
    "duration": 94,
    "start_time": "2023-04-27T21:02:28.807Z"
   },
   {
    "duration": 127,
    "start_time": "2023-04-27T21:02:28.902Z"
   },
   {
    "duration": 264,
    "start_time": "2023-04-27T21:02:29.031Z"
   },
   {
    "duration": 5,
    "start_time": "2023-04-27T21:02:29.297Z"
   },
   {
    "duration": 96,
    "start_time": "2023-04-27T21:02:29.304Z"
   },
   {
    "duration": 5,
    "start_time": "2023-04-27T21:02:29.401Z"
   },
   {
    "duration": 13,
    "start_time": "2023-04-27T21:02:29.407Z"
   },
   {
    "duration": 5,
    "start_time": "2023-04-27T21:02:29.422Z"
   },
   {
    "duration": 19,
    "start_time": "2023-04-27T21:02:29.429Z"
   },
   {
    "duration": 6,
    "start_time": "2023-04-27T21:02:29.449Z"
   },
   {
    "duration": 7,
    "start_time": "2023-04-27T21:02:29.457Z"
   },
   {
    "duration": 890,
    "start_time": "2023-04-27T21:02:29.466Z"
   },
   {
    "duration": 128,
    "start_time": "2023-04-27T21:02:30.358Z"
   },
   {
    "duration": 925,
    "start_time": "2023-04-27T21:02:30.489Z"
   },
   {
    "duration": 134,
    "start_time": "2023-04-27T21:02:31.416Z"
   },
   {
    "duration": 891,
    "start_time": "2023-04-27T21:02:31.551Z"
   },
   {
    "duration": 125,
    "start_time": "2023-04-27T21:02:32.444Z"
   },
   {
    "duration": 3,
    "start_time": "2023-04-27T21:03:06.330Z"
   },
   {
    "duration": 121,
    "start_time": "2023-04-27T21:03:08.981Z"
   },
   {
    "duration": 112,
    "start_time": "2023-04-27T21:03:09.411Z"
   },
   {
    "duration": 47,
    "start_time": "2023-04-27T21:03:16.009Z"
   },
   {
    "duration": 18,
    "start_time": "2023-04-27T21:03:16.535Z"
   },
   {
    "duration": 103,
    "start_time": "2023-04-27T21:03:17.054Z"
   },
   {
    "duration": 10,
    "start_time": "2023-04-27T21:03:17.572Z"
   },
   {
    "duration": 4,
    "start_time": "2023-04-27T21:03:20.152Z"
   },
   {
    "duration": 9,
    "start_time": "2023-04-27T21:03:20.670Z"
   },
   {
    "duration": 3,
    "start_time": "2023-04-27T21:03:21.724Z"
   },
   {
    "duration": 10,
    "start_time": "2023-04-27T21:03:22.259Z"
   },
   {
    "duration": 8,
    "start_time": "2023-04-27T21:03:22.774Z"
   },
   {
    "duration": 5,
    "start_time": "2023-04-27T21:03:23.798Z"
   },
   {
    "duration": 4,
    "start_time": "2023-04-27T21:03:24.319Z"
   },
   {
    "duration": 23,
    "start_time": "2023-04-27T21:03:25.349Z"
   },
   {
    "duration": 21,
    "start_time": "2023-04-27T21:03:26.350Z"
   },
   {
    "duration": 3,
    "start_time": "2023-04-27T21:03:28.439Z"
   },
   {
    "duration": 3,
    "start_time": "2023-04-27T21:03:29.472Z"
   },
   {
    "duration": 3,
    "start_time": "2023-04-27T21:03:30.015Z"
   },
   {
    "duration": 11,
    "start_time": "2023-04-27T21:03:31.548Z"
   },
   {
    "duration": 3,
    "start_time": "2023-04-27T21:03:32.592Z"
   },
   {
    "duration": 8,
    "start_time": "2023-04-27T21:03:33.106Z"
   },
   {
    "duration": 3,
    "start_time": "2023-04-27T21:03:34.628Z"
   },
   {
    "duration": 4,
    "start_time": "2023-04-27T21:03:35.161Z"
   },
   {
    "duration": 885,
    "start_time": "2023-04-27T21:03:36.232Z"
   },
   {
    "duration": 139,
    "start_time": "2023-04-27T21:03:37.119Z"
   },
   {
    "duration": 864,
    "start_time": "2023-04-27T21:03:37.283Z"
   },
   {
    "duration": 182,
    "start_time": "2023-04-27T21:03:38.149Z"
   },
   {
    "duration": 854,
    "start_time": "2023-04-27T21:03:38.333Z"
   },
   {
    "duration": 116,
    "start_time": "2023-04-27T21:03:39.188Z"
   },
   {
    "duration": 12,
    "start_time": "2023-04-27T21:04:50.627Z"
   },
   {
    "duration": 3,
    "start_time": "2023-04-27T21:07:37.739Z"
   },
   {
    "duration": 2069,
    "start_time": "2023-04-27T21:07:42.576Z"
   },
   {
    "duration": 3,
    "start_time": "2023-04-27T21:07:52.611Z"
   },
   {
    "duration": 881,
    "start_time": "2023-04-27T21:08:04.297Z"
   },
   {
    "duration": 1879,
    "start_time": "2023-04-27T21:08:37.107Z"
   },
   {
    "duration": 124,
    "start_time": "2023-04-27T21:08:38.988Z"
   },
   {
    "duration": 104,
    "start_time": "2023-04-27T21:08:39.114Z"
   },
   {
    "duration": 110,
    "start_time": "2023-04-27T21:08:39.220Z"
   },
   {
    "duration": 20,
    "start_time": "2023-04-27T21:08:39.332Z"
   },
   {
    "duration": 15,
    "start_time": "2023-04-27T21:08:39.353Z"
   },
   {
    "duration": 31,
    "start_time": "2023-04-27T21:08:39.369Z"
   },
   {
    "duration": 123,
    "start_time": "2023-04-27T21:08:39.401Z"
   },
   {
    "duration": 13,
    "start_time": "2023-04-27T21:08:39.527Z"
   },
   {
    "duration": 8,
    "start_time": "2023-04-27T21:08:39.542Z"
   },
   {
    "duration": 15,
    "start_time": "2023-04-27T21:08:39.552Z"
   },
   {
    "duration": 2,
    "start_time": "2023-04-27T21:08:39.568Z"
   },
   {
    "duration": 29,
    "start_time": "2023-04-27T21:08:39.572Z"
   },
   {
    "duration": 11,
    "start_time": "2023-04-27T21:08:39.603Z"
   },
   {
    "duration": 86,
    "start_time": "2023-04-27T21:08:39.615Z"
   },
   {
    "duration": 99,
    "start_time": "2023-04-27T21:08:39.703Z"
   },
   {
    "duration": 114,
    "start_time": "2023-04-27T21:08:39.803Z"
   },
   {
    "duration": 184,
    "start_time": "2023-04-27T21:08:39.921Z"
   },
   {
    "duration": 3,
    "start_time": "2023-04-27T21:08:40.107Z"
   },
   {
    "duration": 85,
    "start_time": "2023-04-27T21:08:40.111Z"
   },
   {
    "duration": 97,
    "start_time": "2023-04-27T21:08:40.198Z"
   },
   {
    "duration": 12,
    "start_time": "2023-04-27T21:08:40.296Z"
   },
   {
    "duration": 12,
    "start_time": "2023-04-27T21:08:40.309Z"
   },
   {
    "duration": 17,
    "start_time": "2023-04-27T21:08:40.323Z"
   },
   {
    "duration": 10,
    "start_time": "2023-04-27T21:08:40.341Z"
   },
   {
    "duration": 6,
    "start_time": "2023-04-27T21:08:40.353Z"
   },
   {
    "duration": 892,
    "start_time": "2023-04-27T21:08:40.360Z"
   },
   {
    "duration": 121,
    "start_time": "2023-04-27T21:08:41.253Z"
   },
   {
    "duration": 889,
    "start_time": "2023-04-27T21:08:41.376Z"
   },
   {
    "duration": 118,
    "start_time": "2023-04-27T21:08:42.267Z"
   },
   {
    "duration": 865,
    "start_time": "2023-04-27T21:08:42.395Z"
   },
   {
    "duration": 125,
    "start_time": "2023-04-27T21:08:43.261Z"
   },
   {
    "duration": 4,
    "start_time": "2023-04-27T21:09:05.450Z"
   },
   {
    "duration": 1955,
    "start_time": "2023-04-27T21:09:07.727Z"
   },
   {
    "duration": 5,
    "start_time": "2023-04-27T21:09:31.207Z"
   },
   {
    "duration": 2188,
    "start_time": "2023-04-27T21:11:34.467Z"
   },
   {
    "duration": 5,
    "start_time": "2023-04-27T21:12:05.713Z"
   },
   {
    "duration": 902,
    "start_time": "2023-04-27T21:12:07.332Z"
   }
  ],
  "kernelspec": {
   "display_name": "Python 3 (ipykernel)",
   "language": "python",
   "name": "python3"
  },
  "language_info": {
   "codemirror_mode": {
    "name": "ipython",
    "version": 3
   },
   "file_extension": ".py",
   "mimetype": "text/x-python",
   "name": "python",
   "nbconvert_exporter": "python",
   "pygments_lexer": "ipython3",
   "version": "3.9.7"
  },
  "toc": {
   "base_numbering": 1,
   "nav_menu": {},
   "number_sections": true,
   "sideBar": true,
   "skip_h1_title": true,
   "title_cell": "Table of Contents",
   "title_sidebar": "Contents",
   "toc_cell": false,
   "toc_position": {},
   "toc_section_display": true,
   "toc_window_display": false
  }
 },
 "nbformat": 4,
 "nbformat_minor": 2
}
